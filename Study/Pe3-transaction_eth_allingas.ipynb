{
 "cells": [
  {
   "cell_type": "markdown",
   "id": "87705347",
   "metadata": {},
   "source": [
    "# 같은기계에서 다른 계정으로 송금, 전송하기"
   ]
  },
  {
   "cell_type": "code",
   "execution_count": 145,
   "id": "3053011d",
   "metadata": {},
   "outputs": [
    {
     "name": "stdout",
     "output_type": "stream",
     "text": [
      "Overwriting src/e_testTran.js\n"
     ]
    }
   ],
   "source": [
    "%%writefile src/e_testTran.js\n",
    "miner.setEtherbase(eth.accounts[0]);\n",
    "console.log('coinbase',eth.coinbase);\n",
    "var bal1 = eth.getBalance(eth.coinbase);\n",
    "var bal2 = eth.getBalance(eth.accounts[1]);\n",
    "console.log('sender balance in ether: ',web3.fromWei(bal1,\"ether\"));\n",
    "console.log('receiver balance in ether: ',web3.fromWei(bal2,\"ether\"));\n",
    "console.log('median gas price: ',eth.gasPrice);\n",
    "console.log('block number: ',eth.blockNumber);\n",
    "console.log(\"nonce(Transaction): \", eth.getTransactionCount(eth.coinbase));\n",
    "\n",
    "eth.sendTransaction({from:eth.coinbase, to:eth.accounts[1],value:10000});\n",
    "console.log('...mining start');\n",
    "miner.start(1);admin.sleepBlocks(1);miner.stop();\n",
    "console.log('mining done...');\n",
    "\n",
    "var bal1new=eth.getBalance(eth.coinbase);\n",
    "var bal2new=eth.getBalance(eth.accounts[1]);\n",
    "console.log('- new sender balance in ether: ', web3.fromWei(bal1new,\"ether\"));\n",
    "console.log('- new receiver balance in ether: ', web3.fromWei(bal2new,\"ether\"));\n",
    "console.log('- block number: ', eth.blockNumber);\n",
    "console.log('- transaction count: ', eth.getTransactionCount(eth.coinbase));\n",
    "\n"
   ]
  },
  {
   "cell_type": "code",
   "execution_count": 146,
   "id": "52d5a0b2",
   "metadata": {},
   "outputs": [
    {
     "name": "stdout",
     "output_type": "stream",
     "text": [
      "coinbase 0x60c0ca8790e0177b4aedbd37a4079bca28e41375\n",
      "sender balance in ether:  769.8437499999996855\n",
      "receiver balance in ether:  285.000000000000291\n",
      "median gas price:  1000000000\n",
      "block number:  259\n",
      "nonce(Transaction):  22\n",
      "...mining start\n",
      "mining done...\n",
      "- new sender balance in ether:  774.8437499999996755\n",
      "- new receiver balance in ether:  285.000000000000301\n",
      "- block number:  260\n",
      "- transaction count:  23\n",
      "true\n"
     ]
    }
   ],
   "source": [
    "!geth --exec \"loadScript('src/e_testTran.js')\" attach http://localhost:8445"
   ]
  },
  {
   "cell_type": "code",
   "execution_count": null,
   "id": "c02c236d",
   "metadata": {},
   "outputs": [],
   "source": []
  }
 ],
 "metadata": {
  "kernelspec": {
   "display_name": "Python 3",
   "language": "python",
   "name": "python3"
  },
  "language_info": {
   "codemirror_mode": {
    "name": "ipython",
    "version": 3
   },
   "file_extension": ".py",
   "mimetype": "text/x-python",
   "name": "python",
   "nbconvert_exporter": "python",
   "pygments_lexer": "ipython3",
   "version": "3.8.8"
  }
 },
 "nbformat": 4,
 "nbformat_minor": 5
}
