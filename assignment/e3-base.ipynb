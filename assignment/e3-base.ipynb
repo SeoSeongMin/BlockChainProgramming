{
 "cells": [
  {
   "cell_type": "markdown",
   "id": "f5899f90",
   "metadata": {},
   "source": [
    "## 서버 연결"
   ]
  },
  {
   "cell_type": "code",
   "execution_count": 2,
   "id": "e2058ae6",
   "metadata": {},
   "outputs": [],
   "source": [
    "from web3 import Web3\n",
    "import json\n",
    "\n",
    "url = 'http://localhost:8445' \n",
    "web3 = Web3(Web3.HTTPProvider(url)) #해당 노드에 접속 "
   ]
  },
  {
   "cell_type": "markdown",
   "id": "de4ddb7c",
   "metadata": {},
   "source": [
    "## 1. 현재 블록번호를 출력"
   ]
  },
  {
   "cell_type": "code",
   "execution_count": 4,
   "id": "bbbbbb32",
   "metadata": {},
   "outputs": [
    {
     "data": {
      "text/plain": [
       "248"
      ]
     },
     "execution_count": 4,
     "metadata": {},
     "output_type": "execute_result"
    }
   ],
   "source": [
    "web3.eth.blockNumber"
   ]
  },
  {
   "cell_type": "markdown",
   "id": "a0bf9b96",
   "metadata": {},
   "source": [
    "## 2. 자신의 enode 값을 출력"
   ]
  },
  {
   "cell_type": "code",
   "execution_count": 5,
   "id": "8bd81b76",
   "metadata": {},
   "outputs": [
    {
     "name": "stdout",
     "output_type": "stream",
     "text": [
      "{\n",
      "  enode: \"enode://6a10dc58d69a6cd3ceadcb3fc7afe9ff1aaf473b81b5d870b1516846718f0fca12a23b940fb3eb492f1eca908c9a10e587123b0e7d48057d3343bb3f3582fbae@222.110.135.118:38445\",\n",
      "  enr: \"0xf89cb8402344ab82573a9d1976c08b85c22ded153e8d147d0b3ff4d1e6de22b67ef284c82a983f470012f7d7233843edf96f02a9e1662699204192a681f40582427495ef1983636170ccc5836574683ec5836574683f82696482763482697084de6e877689736563703235366b31a1026a10dc58d69a6cd3ceadcb3fc7afe9ff1aaf473b81b5d870b1516846718f0fca8374637082962d8375647082962d\",\n",
      "  id: \"775e937404733f82cda5e987e469fe9f6ca102ad04d90302d9474d0e202a79f3\",\n",
      "  ip: \"222.110.135.118\",\n",
      "  listenAddr: \"[::]:38445\",\n",
      "  name: \"Geth/tjtjd/v1.8.20-stable-24d727b6/windows-amd64/go1.11.2\",\n",
      "  ports: {\n",
      "    discovery: 38445,\n",
      "    listener: 38445\n",
      "  },\n",
      "  protocols: {\n",
      "    eth: {\n",
      "      config: {\n",
      "        chainId: 33,\n",
      "        eip150Block: 0,\n",
      "        eip150Hash: \"0x0000000000000000000000000000000000000000000000000000000000000000\",\n",
      "        eip155Block: 0,\n",
      "        eip158Block: 0,\n",
      "        homesteadBlock: 0\n",
      "      },\n",
      "      difficulty: 33131529,\n",
      "      genesis: \"0x5704d029fe80f4fb605c0cb5e31d591511f10a46a0cb8166f97d8d559f9bc5b0\",\n",
      "      head: \"0xc774b938c286e511045a9cd2d9132e6673b9f9f9f136df8d9b8c57b21d083e20\",\n",
      "      network: 33\n",
      "    }\n",
      "  }\n",
      "}\n"
     ]
    }
   ],
   "source": [
    "!geth --exec admin.nodeInfo attach http://localhost:8445"
   ]
  },
  {
   "cell_type": "markdown",
   "id": "dbcb8816",
   "metadata": {},
   "source": [
    "## 3. peer의 여부를 확인하고 출력"
   ]
  },
  {
   "cell_type": "code",
   "execution_count": 7,
   "id": "87ec5355",
   "metadata": {},
   "outputs": [
    {
     "name": "stdout",
     "output_type": "stream",
     "text": [
      "True\n",
      "0\n"
     ]
    }
   ],
   "source": [
    "print(web3.net.listening)\n",
    "print(web3.net.peerCount)"
   ]
  },
  {
   "cell_type": "markdown",
   "id": "97d8656a",
   "metadata": {},
   "source": [
    "## 4. 계정 목록을 출력"
   ]
  },
  {
   "cell_type": "code",
   "execution_count": 9,
   "id": "b2e85ecc",
   "metadata": {},
   "outputs": [
    {
     "data": {
      "text/plain": [
       "['0x60c0Ca8790e0177B4aEDbD37a4079bCa28e41375',\n",
       " '0x2c647C0376A1123D89D07a4FA494ACd44B3d2975',\n",
       " '0x474c4eFB8E4B7fBbf2642029F1825898A2C3Fa54',\n",
       " '0x1daD809E9812E5c4bF22445241cB6c434243C952',\n",
       " '0xD66E3Df975c2599b98f607E49c48954bF1Beb3d8',\n",
       " '0x227D23a7eD5097a77682D90bE8d551F8Be52B230']"
      ]
     },
     "execution_count": 9,
     "metadata": {},
     "output_type": "execute_result"
    }
   ],
   "source": [
    "web3.eth.accounts"
   ]
  },
  {
   "cell_type": "markdown",
   "id": "766b4789",
   "metadata": {},
   "source": [
    "## 5. 각 계정의 잔액을 ether로 출력"
   ]
  },
  {
   "cell_type": "code",
   "execution_count": 10,
   "id": "64fb4cf8",
   "metadata": {},
   "outputs": [
    {
     "name": "stdout",
     "output_type": "stream",
     "text": [
      "0x60c0Ca8790e0177B4aEDbD37a4079bCa28e41375 : 714.8437499999996855 ether\n",
      "0x2c647C0376A1123D89D07a4FA494ACd44B3d2975 : 285.000000000000291 ether\n",
      "0x474c4eFB8E4B7fBbf2642029F1825898A2C3Fa54 : 285.0000000000000233 ether\n",
      "0x1daD809E9812E5c4bF22445241cB6c434243C952 : 1E-16 ether\n",
      "0xD66E3Df975c2599b98f607E49c48954bF1Beb3d8 : 1E-16 ether\n",
      "0x227D23a7eD5097a77682D90bE8d551F8Be52B230 : 0 ether\n"
     ]
    }
   ],
   "source": [
    "for account in web3.eth.accounts:\n",
    "    amount = web3.eth.get_balance(account)\n",
    "    amount = web3.fromWei(amount, 'ether')\n",
    "    print(account, ':' , amount , 'ether')"
   ]
  },
  {
   "cell_type": "markdown",
   "id": "0f98d252",
   "metadata": {},
   "source": [
    "## 6. 코인베이스를 2번째로 변경하고, 변경전과 변경후의 coinbase를 출력"
   ]
  },
  {
   "cell_type": "code",
   "execution_count": 11,
   "id": "76245e12",
   "metadata": {},
   "outputs": [
    {
     "name": "stdout",
     "output_type": "stream",
     "text": [
      "원래 coinbase : \n",
      "\"0x60c0ca8790e0177b4aedbd37a4079bca28e41375\"\n",
      "바뀐 coinbase :\n",
      "true\n",
      "\"0x474c4efb8e4b7fbbf2642029f1825898a2c3fa54\"\n",
      "다시 원래대로\n",
      "true\n",
      "\"0x60c0ca8790e0177b4aedbd37a4079bca28e41375\"\n"
     ]
    }
   ],
   "source": [
    "print(\"원래 coinbase : \")\n",
    "!geth --exec \"eth.coinbase\" attach http://localhost:8445\n",
    "\n",
    "print(\"바뀐 coinbase :\")\n",
    "!geth --exec \"miner.setEtherbase(eth.accounts[2])\" attach http://localhost:8445\n",
    "!geth --exec \"eth.coinbase\" attach http://localhost:8445\n",
    "        \n",
    "print(\"다시 원래대로\")\n",
    "!geth --exec \"miner.setEtherbase(eth.accounts[0])\" attach http://localhost:8445\n",
    "!geth --exec \"eth.coinbase\" attach http://localhost:8445\n"
   ]
  },
  {
   "cell_type": "markdown",
   "id": "518d7c08",
   "metadata": {},
   "source": [
    "## 7. 현재 대기하는 트랙잭션 수를 출력"
   ]
  },
  {
   "cell_type": "code",
   "execution_count": 12,
   "id": "e0944e73",
   "metadata": {},
   "outputs": [
    {
     "name": "stdout",
     "output_type": "stream",
     "text": [
      "[]\n"
     ]
    }
   ],
   "source": [
    "!geth --exec \"eth.pendingTransactions\" attach http://localhost:8445"
   ]
  }
 ],
 "metadata": {
  "kernelspec": {
   "display_name": "Python 3",
   "language": "python",
   "name": "python3"
  },
  "language_info": {
   "codemirror_mode": {
    "name": "ipython",
    "version": 3
   },
   "file_extension": ".py",
   "mimetype": "text/x-python",
   "name": "python",
   "nbconvert_exporter": "python",
   "pygments_lexer": "ipython3",
   "version": "3.8.8"
  }
 },
 "nbformat": 4,
 "nbformat_minor": 5
}
