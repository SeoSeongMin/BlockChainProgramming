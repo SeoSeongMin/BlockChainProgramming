{
 "cells": [
  {
   "cell_type": "markdown",
   "id": "b24236cd",
   "metadata": {},
   "source": [
    "# 컨트랙 '학생'을 구현하세요.\n",
    "\n",
    "컨트랙의 이름은 'StudentsCrud.sol'로 명명하세요.\n",
    "\n",
    "학생들을 배열로 구성하고, 다음 기능이 제공되도록 하자.\n",
    "\n",
    "* 입력: '학번', '이름', '등록여부'를 입력한다.\n",
    "\n",
    "* 검색: 조건에 해당하는 항목을 찾기 위해서는 반복문이 필수적이다.\n",
    "\n",
    "그러나 gas비용이 급증할 수 있으므로, 배열의 인덱스로 검색하도록 하자.\n",
    "\n",
    "* 삭제: 배열에서는 어떤 항목의 데이터를 지우기 위해서는 검색이 필요하다.\n",
    "\n",
    "그러나 역시 gas비용이 급증할 수 있으므로, 배열의 인덱스에 해당하는 항목을 지우기로 한다.\n",
    "\n",
    "해당 항목을 지우고 나서는, 그 항목을 제거하고 배열의 크기도 같이 줄어야 한다."
   ]
  },
  {
   "cell_type": "markdown",
   "id": "ea7eeb79",
   "metadata": {},
   "source": [
    "함수의 시그니처는 다음과 같다.\n",
    "\n",
    "```\n",
    "\n",
    "* 입력함수 - function insert(uint n, string memory sn, bool e) public\n",
    "\n",
    "* 첫 데이터 조회 - function getFirstStudent() public view returns(uint, string memory, bool)\n",
    "\n",
    "* 검색함수 - function findBy(uint8 index) view public returns(uint, string memory, bool)\n",
    "\n",
    "* 삭제함수 - function remove(uint index) public\n",
    "\n",
    "* 배열크기 조회함수 - function getLength() view public returns(uint)\n",
    "\n",
    "* 삭제함수 - function pop() public\n",
    "```"
   ]
  },
  {
   "cell_type": "code",
   "execution_count": 1,
   "id": "2f00136b",
   "metadata": {},
   "outputs": [
    {
     "name": "stdout",
     "output_type": "stream",
     "text": [
      "Writing src/StudentsCrud.sol\n"
     ]
    }
   ],
   "source": [
    "%%writefile src/StudentsCrud.sol\n",
    "pragma solidity 0.4.25;\n",
    "\n",
    "contract Students {\n",
    "    struct Student {\n",
    "        uint num;\n",
    "        string name;\n",
    "        bool isEnrolled;\n",
    "    }\n",
    "    Student[] st;\n",
    "    \n",
    "    function insert(uint n, string memory sn, bool e) public {\n",
    "        Student memory s = Student(n, sn, e);\n",
    "        st.push(s);\n",
    "    }\n",
    "    function getFirstStudent() public view returns(uint, string memory, bool) {\n",
    "        return (st[0].num, st[0].name, st[0].isEnrolled);\n",
    "    }\n",
    "    function findBy(uint8 index) view public returns(uint, string memory, bool) {\n",
    "        return (st[index].num, st[index].name, st[index].isEnrolled);\n",
    "    }\n",
    "    function remove(uint index) public {\n",
    "        if (index < st.length) {\n",
    "            for (uint i = index;i < st.length-1;i++) {\n",
    "                st[i].num = st[i+1].num;\n",
    "                st[i].name = st[i+1].name;\n",
    "                st[i].isEnrolled = st[i+1].isEnrolled;\n",
    "            }\n",
    "            st.pop();\n",
    "        }\n",
    "    }\n",
    "    function getLength() view public returns(uint) {\n",
    "        return st.length;\n",
    "    }\n",
    "    function pop() public {\n",
    "        st.pop();\n",
    "    }\n",
    "}"
   ]
  },
  {
   "cell_type": "markdown",
   "id": "eb30160f",
   "metadata": {},
   "source": [
    "## 1) 아래 항목을 입력\n",
    "\n",
    "\n",
    "```\n",
    "\n",
    "201711111,\"kim\",false\n",
    "\n",
    "201711112, \"park\", true\n",
    "\n",
    "201711113, \"lee\", false\n",
    "\n",
    "201711114, \"lim\", false\n",
    "\n",
    "```"
   ]
  },
  {
   "cell_type": "markdown",
   "id": "4081d28c",
   "metadata": {},
   "source": [
    "```\n",
    "[vm]from: 0x5B3...eddC4to: Students.insert(uint256,string,bool) 0xd91...39138value: 0 weidata: 0xf07...00000logs: 0hash: 0x2ca...9def2\n",
    "call to Students.getFirstStudent\n",
    "```\n",
    "```\n",
    "[vm]from: 0x5B3...eddC4to: Students.insert(uint256,string,bool) 0xd91...39138value: 0 weidata: 0xf07...00000logs: 0hash: 0x4ed...e4ef9\n",
    "```\n",
    "```\n",
    "[vm]from: 0x5B3...eddC4to: Students.insert(uint256,string,bool) 0xd91...39138value: 0 weidata: 0xf07...00000logs: 0hash: 0xec5...7de52\n",
    "transact to Students.insert pending ... \n",
    "```\n",
    "```\n",
    "[vm]from: 0x5B3...eddC4to: Students.insert(uint256,string,bool) 0xd91...39138value: 0 weidata: 0xf07...00000logs: 0hash: 0x1e1...c3642\n",
    "```"
   ]
  },
  {
   "cell_type": "markdown",
   "id": "02276926",
   "metadata": {},
   "source": [
    "## 2) 2번째 데이터 20171112제거"
   ]
  },
  {
   "cell_type": "markdown",
   "id": "f923ea7c",
   "metadata": {},
   "source": [
    "```\n",
    "[vm]from: 0x5B3...eddC4to: Students.remove(uint256) 0xDA0...42B53value: 0 weidata: 0x4cc...00001logs: 0hash: 0x54f...eb9e7\n",
    "```\n",
    "```\n",
    "status\ttrue Transaction mined and execution succeed\n",
    "transaction hash\t0x54f43ae37e81196ccd4b07262dde3df7f266e851c3be1b39a0545355addeb9e7\n",
    "from\t0x5B38Da6a701c568545dCfcB03FcB875f56beddC4\n",
    "to\tStudents.remove(uint256) 0xDA0bab807633f07f013f94DD0E6A4F96F8742B53\n",
    "gas\t169815 gas\n",
    "transaction cost\t128465 gas \n",
    "execution cost\t128465 gas \n",
    "input\t0x4cc...00001\n",
    "decoded input\t{\n",
    "\t\"uint256 index\": \"1\"\n",
    "}\n",
    "decoded output\t{}\n",
    "logs\t[]\n",
    "val\t0 wei\n",
    "```"
   ]
  },
  {
   "cell_type": "markdown",
   "id": "7b02619a",
   "metadata": {},
   "source": [
    "## 3) 배열크기 조회 (4개 항목에서 1개가 제거되었으니 3이 출력)"
   ]
  },
  {
   "cell_type": "markdown",
   "id": "c4651f05",
   "metadata": {},
   "source": [
    "```\n",
    "[call]from: 0x5B38Da6a701c568545dCfcB03FcB875f56beddC4to: Students.getLength()data: 0xbe1...c766b\n",
    "from\t0x5B38Da6a701c568545dCfcB03FcB875f56beddC4\n",
    "```\n",
    "```\n",
    "to\tStudents.getLength() 0x406AB5033423Dcb6391Ac9eEEad73294FA82Cfbc\n",
    "execution cost\t23429 gas (Cost only applies when called by a contract)\n",
    "input\t0xbe1...c766b\n",
    "decoded input\t{}\n",
    "decoded output\t{\n",
    "\t\"0\": \"uint256: 3\"\n",
    "}\n",
    "logs\t[]\n",
    "```"
   ]
  },
  {
   "cell_type": "markdown",
   "id": "b68138cb",
   "metadata": {},
   "source": [
    "## 4) 2 번째 데이터조회를 조회한다. 20171112는 삭제되어서 출력할 수 없고, 다른 데이터 항목이 출력."
   ]
  },
  {
   "cell_type": "markdown",
   "id": "d4ebfe12",
   "metadata": {},
   "source": [
    "```\n",
    "[call]from: 0x5B38Da6a701c568545dCfcB03FcB875f56beddC4to: Students.findBy(uint8)data: 0xedf...00001\n",
    "```\n",
    "\n",
    "```\n",
    "from\t0x5B38Da6a701c568545dCfcB03FcB875f56beddC4\n",
    "to\tStudents.findBy(uint8) 0x406AB5033423Dcb6391Ac9eEEad73294FA82Cfbc\n",
    "execution cost\t31433 gas (Cost only applies when called by a contract)\n",
    "input\t0xedf...00001\n",
    "decoded input\t{\n",
    "\t\"uint8 index\": 1\n",
    "}\n",
    "decoded output\t{\n",
    "\t\"0\": \"uint256: 201711113\",\n",
    "\t\"1\": \"string: lee\",\n",
    "\t\"2\": \"bool: false\"\n",
    "}\n",
    "logs\t[]\n",
    "```"
   ]
  },
  {
   "cell_type": "markdown",
   "id": "a284968c",
   "metadata": {},
   "source": [
    "## 5) 첫 데이터 조회"
   ]
  },
  {
   "cell_type": "markdown",
   "id": "45c85a82",
   "metadata": {},
   "source": [
    "```\n",
    "[call]from: 0x5B38Da6a701c568545dCfcB03FcB875f56beddC4to: Students.getFirstStudent()data: 0xacb...e8cee\n",
    "```\n",
    "\n",
    "```\n",
    "from\t0x5B38Da6a701c568545dCfcB03FcB875f56beddC4\n",
    "to\tStudents.getFirstStudent() 0x406AB5033423Dcb6391Ac9eEEad73294FA82Cfbc\n",
    "execution cost\t31138 gas (Cost only applies when called by a contract)\n",
    "input\t0xacb...e8cee\n",
    "decoded input\t{}\n",
    "decoded output\t{\n",
    "\t\"0\": \"uint256: 201711111\",\n",
    "\t\"1\": \"string: kim\",\n",
    "\t\"2\": \"bool: false\"\n",
    "}\n",
    "logs\t[]\n",
    "```"
   ]
  },
  {
   "cell_type": "code",
   "execution_count": null,
   "id": "3b01f7fd",
   "metadata": {},
   "outputs": [],
   "source": []
  }
 ],
 "metadata": {
  "kernelspec": {
   "display_name": "Python 3",
   "language": "python",
   "name": "python3"
  },
  "language_info": {
   "codemirror_mode": {
    "name": "ipython",
    "version": 3
   },
   "file_extension": ".py",
   "mimetype": "text/x-python",
   "name": "python",
   "nbconvert_exporter": "python",
   "pygments_lexer": "ipython3",
   "version": "3.8.8"
  }
 },
 "nbformat": 4,
 "nbformat_minor": 5
}
