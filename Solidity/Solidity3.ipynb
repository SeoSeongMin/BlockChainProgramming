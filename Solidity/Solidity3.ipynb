{
 "cells": [
  {
   "cell_type": "markdown",
   "id": "70345864",
   "metadata": {},
   "source": [
    "# Solidity : Control, DataStruct"
   ]
  },
  {
   "cell_type": "markdown",
   "id": "f4ba99d3",
   "metadata": {},
   "source": [
    "### 반복의 비용\n",
    "\n",
    "횟수    |    sum을 로컬에   |    sum을 state variable에\n",
    "\n",
    "10회 반복 =  30,000 = 64,000\n",
    "\n",
    "100회 반복 =  78,000  = 368,000 "
   ]
  },
  {
   "cell_type": "markdown",
   "id": "4aef32ba",
   "metadata": {},
   "source": [
    "## -----------------------------------------------------------------------------"
   ]
  },
  {
   "cell_type": "markdown",
   "id": "4e50af04",
   "metadata": {},
   "source": [
    "## 실습: 반복문, 조건문 사용"
   ]
  },
  {
   "cell_type": "code",
   "execution_count": 4,
   "id": "1e12d0f3",
   "metadata": {},
   "outputs": [
    {
     "name": "stdout",
     "output_type": "stream",
     "text": [
      "Overwriting src/LoopTest.sol\n"
     ]
    }
   ],
   "source": [
    "%%writefile src/LoopTest.sol\n",
    "//SPDX-License-Identifier: GPL-3.0-or-later\n",
    "pragma solidity ^0.6.4;\n",
    "\n",
    "contract LoopTest {\n",
    "    uint sum;\n",
    "    constructor() public{\n",
    "        init();\n",
    "    }\n",
    "    function forLoop() public {\n",
    "        //init();\n",
    "        uint sumLocal = 0;\n",
    "        for(uint i = 0; i < 101; i++) {\n",
    "            sumLocal += i;\n",
    "        }\n",
    "        sum = sumLocal;\n",
    "    }\n",
    "    function forLoopCostly() public {\n",
    "        init();\n",
    "        //uint sumLocal = 0;\n",
    "        for(uint i = 0; i < 101; i++) {\n",
    "            //sumLocal += i;\n",
    "            sum += i;\n",
    "        }\n",
    "        //sum = sumLocal;\n",
    "    }\n",
    "    function whileLoop() public {\n",
    "        uint i = 0;\n",
    "        uint sumLocal = 0;\n",
    "        while(i <= 100) {\n",
    "            sumLocal += i;\n",
    "            i++;\n",
    "        }\n",
    "        sum = sumLocal;\n",
    "    }\n",
    "    function whileLoopBreak() public {\n",
    "        uint sumLocal = 0;\n",
    "        uint i = 0;\n",
    "        while(true) {\n",
    "            sumLocal += i;\n",
    "            if(i==100) break;\n",
    "            i++;\n",
    "        }\n",
    "        sum = sumLocal;\n",
    "    }   \n",
    "    function doWhileLoop() public {\n",
    "        uint i = 0;\n",
    "        uint sumLocal = 0;\n",
    "        do {\n",
    "            sumLocal += i;\n",
    "            i++;\n",
    "        } while(i <= 100);\n",
    "        sum = sumLocal;\n",
    "    }\n",
    "    function init() public { sum = 0; }\n",
    "    function getSum() view public returns(uint) { return sum; }\n",
    "}"
   ]
  },
  {
   "cell_type": "code",
   "execution_count": 5,
   "id": "705eee85",
   "metadata": {
    "scrolled": true
   },
   "outputs": [
    {
     "name": "stderr",
     "output_type": "stream",
     "text": [
      "Compiler run successful, no output requested.\n"
     ]
    }
   ],
   "source": [
    "!solc src/LoopTest.sol"
   ]
  },
  {
   "cell_type": "markdown",
   "id": "b6af065e",
   "metadata": {},
   "source": [
    "## -----------------------------------------------------------------------------"
   ]
  },
  {
   "cell_type": "markdown",
   "id": "791c031c",
   "metadata": {},
   "source": [
    "## 조건문"
   ]
  },
  {
   "cell_type": "code",
   "execution_count": 6,
   "id": "09e8fb9b",
   "metadata": {},
   "outputs": [
    {
     "name": "stdout",
     "output_type": "stream",
     "text": [
      "Writing src/ConditionalTest.sol\n"
     ]
    }
   ],
   "source": [
    "%%writefile src/ConditionalTest.sol\n",
    "//SPDX-License-Identifier: GPL-3.0-or-later\n",
    "pragma solidity ^0.6.4;\n",
    "\n",
    "contract ConditionalTest {\n",
    "    function toLowerCase(string memory str) pure public returns (string memory) {\n",
    "        bytes memory bIn = bytes(str);\n",
    "        bytes memory bOut = new bytes(bIn.length);\n",
    "        uint8 _iIn = 0;\n",
    "        for (uint i = 0; i < bIn.length; i++) {\n",
    "            _iIn = uint8(bIn[i]);\n",
    "            if (_iIn >= 65 && _iIn <= 90)    // ascii A:65 ~ Z:90                \n",
    "                bOut[i] = bytes1(_iIn + 32); // ascii a:97 ~ z:122\n",
    "            else \n",
    "                bOut[i] = bIn[i];\n",
    "        }\n",
    "        return string(bOut);\n",
    "    }\n",
    "    function abs(int i) pure public returns (int) {\n",
    "        return (i > 0) ? i : -i;\n",
    "    }\n",
    "}"
   ]
  },
  {
   "cell_type": "code",
   "execution_count": 7,
   "id": "3f8180b3",
   "metadata": {
    "scrolled": true
   },
   "outputs": [
    {
     "name": "stderr",
     "output_type": "stream",
     "text": [
      "Compiler run successful, no output requested.\n"
     ]
    }
   ],
   "source": [
    "!solc src/ConditionalTest.sol"
   ]
  },
  {
   "cell_type": "markdown",
   "id": "595eb721",
   "metadata": {},
   "source": [
    "## -----------------------------------------------------------------------------"
   ]
  },
  {
   "cell_type": "markdown",
   "id": "1afa677d",
   "metadata": {},
   "source": [
    "## 실습 : 인사하는 컨트랙\n",
    "modifier를 사용하면 조건문을 사용하지 않을 수 있다. 조건문에서 비교문을 사용하게 되는데, string은 참조타입이라 비교를 하면 주소를 비교하게 된다"
   ]
  },
  {
   "cell_type": "markdown",
   "id": "16f1c4a4",
   "metadata": {},
   "source": [
    "## 1단계 컨트랙 개발"
   ]
  },
  {
   "cell_type": "code",
   "execution_count": 8,
   "id": "6720b6dd",
   "metadata": {},
   "outputs": [
    {
     "name": "stdout",
     "output_type": "stream",
     "text": [
      "Writing src/Hello1.sol\n"
     ]
    }
   ],
   "source": [
    "%%writefile src/Hello1.sol\n",
    "//SPDX-License-Identifier: GPL-3.0-or-later\n",
    "pragma solidity ^0.6.4;\n",
    "\n",
    "contract Hello1 {\n",
    "    string private hello;\n",
    "    address private owner;\n",
    "    event PrintLog(address addr, string s);\n",
    "\n",
    "    constructor(string memory _hello) public {\n",
    "        hello = _hello;\n",
    "        owner = msg.sender;\n",
    "    }\n",
    "    function sayHello() view public returns(string memory) {\n",
    "        return hello;\n",
    "    }\n",
    "    modifier isOwner() {\n",
    "        if (msg.sender != owner) {\n",
    "            revert();\n",
    "        }\n",
    "        _; //insert here the calling function\n",
    "    }\n",
    "    function setHello() public {\n",
    "        string memory s = \"\";\n",
    "        if (msg.sender == owner) {\n",
    "            s = \"Hello\";\n",
    "        } else {\n",
    "            s = \"Olleh\";\n",
    "        }\n",
    "        emit PrintLog(msg.sender, s);\n",
    "        hello = s;\n",
    "    }\n",
    "    function compareTo(string memory _str) view public returns(bool) {\n",
    "        bool isEqual = false;\n",
    "        //if (hello == _str) {\n",
    "        if (keccak256(bytes(hello)) == keccak256(bytes(_str))) {\n",
    "            isEqual = true;\n",
    "        }\n",
    "        return isEqual;\n",
    "    }\n",
    "    function getBalance() view public isOwner returns(uint) {\n",
    "        return address(this).balance;\n",
    "    }\n",
    "}"
   ]
  },
  {
   "cell_type": "markdown",
   "id": "eea6fc45",
   "metadata": {},
   "source": [
    "## 2단계 컴파일"
   ]
  },
  {
   "cell_type": "code",
   "execution_count": 9,
   "id": "0226b13f",
   "metadata": {},
   "outputs": [],
   "source": [
    "!solc src/Hello1.sol --combined-json abi > src/Hello1ABI.json"
   ]
  },
  {
   "cell_type": "code",
   "execution_count": 10,
   "id": "5f73589f",
   "metadata": {},
   "outputs": [],
   "source": [
    "!solc src/Hello1.sol --combined-json bin > src/Hello1BIN.json"
   ]
  },
  {
   "cell_type": "markdown",
   "id": "ac3ee09b",
   "metadata": {},
   "source": [
    "## 3단계 배포"
   ]
  },
  {
   "cell_type": "code",
   "execution_count": 15,
   "id": "fb386803",
   "metadata": {},
   "outputs": [
    {
     "name": "stdout",
     "output_type": "stream",
     "text": [
      "Overwriting src/Hello1DeployFromFile.js\n"
     ]
    }
   ],
   "source": [
    "%%writefile src/Hello1DeployFromFile.js\n",
    "var Web3=require('web3');\n",
    "var _abiJson = require('./Hello1ABI.json');\n",
    "var _binJson = require('./Hello1BIN.json');\n",
    "\n",
    "var web3 = new Web3(new Web3.providers.HttpProvider(\"http://localhost:8345\"));\n",
    "\n",
    "contractName=Object.keys(_abiJson.contracts); // reading ['src/Hello1.sol:Hello1']\n",
    "\n",
    "_abiArray=JSON.parse(_abiJson.contracts[contractName].abi);    //JSON parsing needed!!\n",
    "_bin=\"0x\"+_binJson.contracts[contractName].bin;  // ok with \"0x\"\n",
    "\n",
    "async function deploy() {\n",
    "    const accounts = await web3.eth.getAccounts();\n",
    "    console.log(\"Deploying the contract from \" + accounts[0]);\n",
    "    var deployed = await new web3.eth.Contract(_abiArray)\n",
    "        .deploy({data: _bin, arguments: [\"Hello from web3\"]})\n",
    "        .send({from: accounts[0], gas: 1000000}, function(err, transactionHash) {\n",
    "                if(!err) console.log(\"hash: \" + transactionHash); \n",
    "        })\n",
    "    console.log(\"---> The contract deployed to: \" + deployed.options.address)\n",
    "}\n",
    "deploy()"
   ]
  },
  {
   "cell_type": "code",
   "execution_count": 16,
   "id": "7d14e500",
   "metadata": {},
   "outputs": [
    {
     "name": "stdout",
     "output_type": "stream",
     "text": [
      "Deploying the contract from 0x38B90A15f126760Ccd539D9A9fbb8c10bd37c02b\n",
      "hash: 0xfecb7cb7cfd4d1f027088cc7c11ce20f5e3077a24b8913ca4fa35bd2c9d75310\n",
      "---> The contract deployed to: 0x0F5a9529F1FcFd4342D81feD970C5ed855A99101\n"
     ]
    }
   ],
   "source": [
    "!node src/Hello1DeployFromFile.js"
   ]
  },
  {
   "cell_type": "markdown",
   "id": "ebc3e137",
   "metadata": {},
   "source": [
    "## 4단계 사용\n",
    "이벤트는 transaction log에 저장이 된다. 이벤트는 거래가 마이닝되어 블럭에 포함되어야만 발생된다. 트랙잭션이 pending되어 완료가 되지 않으면, 로그에 포함되지 않기 때문에 여기서 이벤트가 발생하는지 지켜보는 경우 대기하게 된다. 단 이벤트가 발생하는 순서는 지켜진다. 단순하게 블록체인의 transaction이 아닌 call()은 이벤트를 발생하지 않게 된다."
   ]
  },
  {
   "cell_type": "code",
   "execution_count": 21,
   "id": "84c37a84",
   "metadata": {},
   "outputs": [
    {
     "name": "stdout",
     "output_type": "stream",
     "text": [
      "Overwriting src/Hello1UseFromFile.js\n"
     ]
    }
   ],
   "source": [
    "%%writefile src/Hello1UseFromFile.js\n",
    "var Web3=require('web3');\n",
    "var _abiJson = require('./Hello1ABI.json');\n",
    "\n",
    "var web3 = new Web3(new Web3.providers.WebsocketProvider(\"ws://localhost:8345\"));  //ok\n",
    "\n",
    "contractName=Object.keys(_abiJson.contracts); // reading ['src/Hello1.sol:Hello1']\n",
    "console.log(\"- contract name: \", contractName[0]); //or console.log(contractName);\n",
    "_abiArray=JSON.parse(_abiJson.contracts[contractName].abi);    //JSON parsing needed!!\n",
    "\n",
    "async function doIt() {\n",
    "    var hello = new web3.eth.Contract(_abiArray, \"0x0F5a9529F1FcFd4342D81feD970C5ed855A99101\");\n",
    "    var event = hello.events.PrintLog(function (error, event) {\n",
    "        console.log(\">>> Event fired: \" + JSON.stringify(event.returnValues));\n",
    "    })\n",
    "    .on('>> data', function(event) {\n",
    "        console.log(event);\n",
    "    })\n",
    "    .on('>> changed', function(event) {\n",
    "        console.log(event);\n",
    "    })\n",
    "    .on('>> error', console.error);\n",
    "    const accounts = await web3.eth.getAccounts();\n",
    "    console.log(\"Account: \" + accounts[0]);\n",
    "    const balanceBefore = await web3.eth.getBalance(accounts[0]);\n",
    "    console.log(\"Balance before: \" + balanceBefore);\n",
    "    hello.methods.sayHello().call().then(console.log);  //null\n",
    "    await hello.methods.setHello().send({from: accounts[0]});\n",
    "    hello.methods.sayHello().call().then(console.log);\n",
    "    hello.methods.compareTo(\"Hello\").call().then(console.log);\n",
    "    const balanceAfter = await web3.eth.getBalance(accounts[0]);\n",
    "    console.log(\"Balance after: \" + balanceAfter);\n",
    "    console.log(\"Balance diff: \" + (balanceBefore - balanceAfter));\n",
    "    \n",
    "}\n",
    "doIt()"
   ]
  },
  {
   "cell_type": "markdown",
   "id": "2d8901b4",
   "metadata": {},
   "source": [
    "* 웹소켓을 사용하면, 프로세스가 계속되고 있다. 프로세스를 인위적으로 해제해주어야 한다."
   ]
  },
  {
   "cell_type": "code",
   "execution_count": 22,
   "id": "9c6db446",
   "metadata": {},
   "outputs": [
    {
     "name": "stdout",
     "output_type": "stream",
     "text": [
      "^C\n"
     ]
    }
   ],
   "source": [
    "!node src/Hello1UseFromFile.js"
   ]
  },
  {
   "cell_type": "markdown",
   "id": "3406b889",
   "metadata": {},
   "source": [
    "## -----------------------------------------------------------------------------"
   ]
  },
  {
   "cell_type": "markdown",
   "id": "ac235372",
   "metadata": {},
   "source": [
    "## 실습 : 블록체인에서 컨트랙 삭제\n",
    "블록체인에서는 영구히 남고 직접 삭제 할 수 없으므로 메모리에서 해체시켜야 한다.\n",
    "```\n",
    "selfdestruct()\n",
    "selfdestruct(payable(owner));\n",
    "```\n",
    "메모리 해제시 문제점이있다. 컨트랙에서 메모리를 해제하면 잔고의 처리 문제가 굉장히 중요해진다.\n",
    "\n",
    "그래서 selfdesturct()할 때는 계좌를 무조건 적어줘야한다. 즉, 잔고를 받을 수 있는 주소를 넣어줘야 한다."
   ]
  },
  {
   "cell_type": "markdown",
   "id": "74b7a4da",
   "metadata": {},
   "source": [
    "## 1단계 컨트랙 개발"
   ]
  },
  {
   "cell_type": "code",
   "execution_count": 25,
   "id": "e6f24c86",
   "metadata": {},
   "outputs": [
    {
     "name": "stdout",
     "output_type": "stream",
     "text": [
      "Overwriting src/Hello2.sol\n"
     ]
    }
   ],
   "source": [
    "%%writefile src/Hello2.sol\n",
    "//SPDX-License-Identifier: GPL-3.0-or-later\n",
    "pragma solidity ^0.6.4;\n",
    "\n",
    "contract Hello2 {\n",
    "    string hello;\n",
    "    address owner; //address payable owner;\n",
    "\n",
    "    event PrintLog(string _s);\n",
    "    constructor() public { \n",
    "        owner = msg.sender;\n",
    "    }\n",
    "    function sayHello() view public returns(string memory) {\n",
    "        return hello;\n",
    "    }\n",
    "    function setHello(string memory _hello) public payable {\n",
    "        hello = _hello;\n",
    "        emit PrintLog(_hello);\n",
    "    }\n",
    "    function getBalance() view public returns(uint) {\n",
    "        return address(this).balance;\n",
    "    }\n",
    "    function kill() public {\n",
    "        if (msg.sender == owner) selfdestruct(payable(owner));\n",
    "    }\n",
    "}"
   ]
  },
  {
   "cell_type": "markdown",
   "id": "d239ea10",
   "metadata": {},
   "source": [
    "* 23: 우리가 원하는(지우고자 하는) 함수, 지우는 권한을 최초의 주소가 같으면 자신한테 잔고를 전달한다. "
   ]
  },
  {
   "cell_type": "markdown",
   "id": "5aa6c283",
   "metadata": {},
   "source": [
    "## 2단계 컴파일"
   ]
  },
  {
   "cell_type": "code",
   "execution_count": 26,
   "id": "1627ed4f",
   "metadata": {},
   "outputs": [],
   "source": [
    "!solc src/Hello2.sol --combined-json abi > src/Hello2ABI.json"
   ]
  },
  {
   "cell_type": "code",
   "execution_count": 27,
   "id": "c12ec402",
   "metadata": {},
   "outputs": [
    {
     "name": "stdout",
     "output_type": "stream",
     "text": [
      "{\"contracts\":{\"src/Hello2.sol:Hello2\":{\"abi\":\"[{\\\"inputs\\\":[],\\\"stateMutability\\\":\\\"nonpayable\\\",\\\"type\\\":\\\"constructor\\\"},{\\\"anonymous\\\":false,\\\"inputs\\\":[{\\\"indexed\\\":false,\\\"internalType\\\":\\\"string\\\",\\\"name\\\":\\\"_s\\\",\\\"type\\\":\\\"string\\\"}],\\\"name\\\":\\\"PrintLog\\\",\\\"type\\\":\\\"event\\\"},{\\\"inputs\\\":[],\\\"name\\\":\\\"getBalance\\\",\\\"outputs\\\":[{\\\"internalType\\\":\\\"uint256\\\",\\\"name\\\":\\\"\\\",\\\"type\\\":\\\"uint256\\\"}],\\\"stateMutability\\\":\\\"view\\\",\\\"type\\\":\\\"function\\\"},{\\\"inputs\\\":[],\\\"name\\\":\\\"kill\\\",\\\"outputs\\\":[],\\\"stateMutability\\\":\\\"nonpayable\\\",\\\"type\\\":\\\"function\\\"},{\\\"inputs\\\":[],\\\"name\\\":\\\"sayHello\\\",\\\"outputs\\\":[{\\\"internalType\\\":\\\"string\\\",\\\"name\\\":\\\"\\\",\\\"type\\\":\\\"string\\\"}],\\\"stateMutability\\\":\\\"view\\\",\\\"type\\\":\\\"function\\\"},{\\\"inputs\\\":[{\\\"internalType\\\":\\\"string\\\",\\\"name\\\":\\\"_hello\\\",\\\"type\\\":\\\"string\\\"}],\\\"name\\\":\\\"setHello\\\",\\\"outputs\\\":[],\\\"stateMutability\\\":\\\"payable\\\",\\\"type\\\":\\\"function\\\"}]\"}},\"version\":\"0.6.4+commit.1dca32f3.Windows.msvc\"}\n"
     ]
    }
   ],
   "source": [
    "!type src\\Hello2ABI.json"
   ]
  },
  {
   "cell_type": "code",
   "execution_count": 28,
   "id": "13e6fb59",
   "metadata": {},
   "outputs": [],
   "source": [
    "!solc src/Hello2.sol --combined-json bin > src/Hello2BIN.json"
   ]
  },
  {
   "cell_type": "markdown",
   "id": "9e822717",
   "metadata": {},
   "source": [
    "## 3단계 배포\n"
   ]
  },
  {
   "cell_type": "code",
   "execution_count": 29,
   "id": "045e89dc",
   "metadata": {},
   "outputs": [
    {
     "name": "stdout",
     "output_type": "stream",
     "text": [
      "Writing src/Hello2DeployFromFile.js\n"
     ]
    }
   ],
   "source": [
    "%%writefile src/Hello2DeployFromFile.js\n",
    "var Web3=require('web3');\n",
    "var _abiJson = require('./Hello2ABI.json');\n",
    "var _binJson = require('./Hello2BIN.json');\n",
    "var web3=new Web3(new Web3.providers.HttpProvider(\"http://localhost:8345\"));\n",
    "\n",
    "contractName=Object.keys(_abiJson.contracts); // reading ['src/Hello2.sol:Hello2']\n",
    "console.log(\"- contract name: \", contractName[0]); //or console.log(contractName);\n",
    "//_abiArray=_abiJson.contracts[contractName].abi;\n",
    "_abiArray=JSON.parse(_abiJson.contracts[contractName].abi);    //JSON parsing needed!!\n",
    "_bin=\"0x\"+_binJson.contracts[contractName].bin; //ok without \"0x\"\n",
    "\n",
    "async function deploy() {\n",
    "    const accounts = await web3.eth.getAccounts();\n",
    "    console.log(\"Deploying the contract from \" + accounts[0]);\n",
    "    var deployed = await new web3.eth.Contract(_abiArray)\n",
    "        .deploy({data: _bin})\n",
    "        .send({from: accounts[0], gas: 1000000}, function(err, transactionHash) {\n",
    "                if(!err) console.log(\"hash: \" + transactionHash); \n",
    "        })\n",
    "    console.log(\"---> The contract deployed to: \" + deployed.options.address)\n",
    "}\n",
    "deploy()"
   ]
  },
  {
   "cell_type": "code",
   "execution_count": 30,
   "id": "1e004f06",
   "metadata": {},
   "outputs": [
    {
     "name": "stdout",
     "output_type": "stream",
     "text": [
      "- contract name:  src/Hello2.sol:Hello2\n",
      "Deploying the contract from 0x38B90A15f126760Ccd539D9A9fbb8c10bd37c02b\n",
      "hash: 0x2ecc73be97d478a725ec9233dc630e86bf828885e17e2c66664f8c35cea06180\n",
      "---> The contract deployed to: 0xbb780C8053a37F9dC38bE9DeE61463757C88dD71\n"
     ]
    }
   ],
   "source": [
    "!node src/Hello2DeployFromFile.js"
   ]
  },
  {
   "cell_type": "markdown",
   "id": "e897c8ec",
   "metadata": {},
   "source": [
    "## 4단계 사용"
   ]
  },
  {
   "cell_type": "code",
   "execution_count": 37,
   "id": "ee2c9d6f",
   "metadata": {},
   "outputs": [
    {
     "name": "stdout",
     "output_type": "stream",
     "text": [
      "Overwriting src/Hello2UseFromFile.js\n"
     ]
    }
   ],
   "source": [
    "%%writefile src/Hello2UseFromFile.js\n",
    "var Web3=require('web3');\n",
    "var _abiJson = require('./Hello2ABI.json');\n",
    "var web3 = new Web3(new Web3.providers.WebsocketProvider(\"ws://localhost:8345\"));  //ok\n",
    "\n",
    "contractName=Object.keys(_abiJson.contracts); // reading ['src/Hello2.sol:Hello2']\n",
    "console.log(\"- contract name: \", contractName[0]); //or console.log(contractName);\n",
    "_abiArray=JSON.parse(_abiJson.contracts[contractName].abi);    //JSON parsing needed!!\n",
    "\n",
    "async function doIt() {\n",
    "    var hello = new web3.eth.Contract(_abiArray, \"0xbb780C8053a37F9dC38bE9DeE61463757C88dD71\");\n",
    "    var event = hello.events.PrintLog(function (error, result) {\n",
    "        if (!error) {\n",
    "            console.log(\"Event fired: \" + JSON.stringify(result.returnValues));\n",
    "        }\n",
    "    });\n",
    "    const accounts = await web3.eth.getAccounts();\n",
    "    console.log(\"Account: \" + accounts[0]);\n",
    "    const balanceBefore = await web3.eth.getBalance(accounts[0]);\n",
    "    console.log(\"Balance before: \" + balanceBefore);\n",
    "    hello.methods.sayHello().call().then(console.log);  //null\n",
    "    await hello.methods.setHello(\"Hello World!\").send({from: accounts[0], value: 1111});\n",
    "    hello.methods.sayHello().call().then(console.log);\n",
    "    hello.methods.getBalance().call(function(err, bal) { console.log(\"Contract Balance: \"+bal) });\n",
    "    const balanceAfter = await web3.eth.getBalance(accounts[0]);\n",
    "    console.log(\"Balance after: \" + balanceAfter);\n",
    "    console.log(\"Balance diff: \" + (balanceBefore - balanceAfter));\n",
    "    process.exit(1);  //force exit\n",
    "    hello.methods.kill().send({from: accounts[0]})\n",
    "}\n",
    "\n",
    "doIt()"
   ]
  },
  {
   "cell_type": "code",
   "execution_count": 38,
   "id": "202863ee",
   "metadata": {
    "scrolled": false
   },
   "outputs": [
    {
     "name": "stdout",
     "output_type": "stream",
     "text": [
      "- contract name:  src/Hello2.sol:Hello2\n",
      "Account: 0x38B90A15f126760Ccd539D9A9fbb8c10bd37c02b\n",
      "Balance before: 999996376887999995356\n",
      "Hello World!\n",
      "Event fired: {\"0\":\"Hello World!\",\"_s\":\"Hello World!\"}\n",
      "Balance after: 999996319093999994245\n",
      "Balance diff: 57793999929344\n"
     ]
    }
   ],
   "source": [
    "!node src/Hello2UseFromFile.js"
   ]
  },
  {
   "cell_type": "markdown",
   "id": "b595724d",
   "metadata": {},
   "source": [
    "# --------------------------------------------------------------"
   ]
  },
  {
   "cell_type": "markdown",
   "id": "eccb4f58",
   "metadata": {},
   "source": [
    "# 1.4 무작위 수의 생성\n",
    "1. 블록체인에서는 무작위 수를 생성하는 것은 어렵다. 라이브러리가 내장되어 있지 않고 불러다 쓰면 매우 불편하다. 즉, 라이브러리가 있지 않다. (단점)\n",
    "\n",
    "2. seed번호를 다르게 선언해주면 무작위 생성이 가능하다. 그렇다면 seed번호를 무엇을 쓸까? 블록체인은 바이트코드로 되어 있기 때문에 쉽지가 않다.\n",
    "\n",
    "3. 약간의 트릭을 써서 카운터 값을 더해주도록 한다."
   ]
  },
  {
   "cell_type": "code",
   "execution_count": 41,
   "id": "221b5f65",
   "metadata": {},
   "outputs": [
    {
     "name": "stdout",
     "output_type": "stream",
     "text": [
      "Writing src/Random.sol\n"
     ]
    }
   ],
   "source": [
    "%%writefile src/Random.sol\n",
    "//SPDX-License-Identifier: GPL-3.0-or-later\n",
    "pragma solidity ^0.6.4;\n",
    "\n",
    "contract Random {\n",
    "    function rand() public view returns(bytes32) {\n",
    "        return keccak256(abi.encodePacked(block.timestamp, block.difficulty));\n",
    "    }\n",
    "    function rand0and250() public view returns(uint8) {\n",
    "        return uint8(uint256(keccak256(abi.encodePacked(block.timestamp, block.difficulty)))%251);\n",
    "    }\n",
    "    function rand0and9() public view returns(uint8) {\n",
    "        return uint8(uint256(keccak256(abi.encodePacked(block.timestamp, block.difficulty)))%10);\n",
    "    }\n",
    "    function rand0and2() public view returns(uint8) {\n",
    "        return uint8(uint256(keccak256(abi.encodePacked(block.timestamp, block.difficulty)))%3);\n",
    "    }\n",
    "    function genRandomInteger() view public returns(uint8[] memory) {\n",
    "        uint8[] memory r = new uint8[](10);\n",
    "        for(uint i = 0; i<r.length; i++)\n",
    "            r[i] = uint8(uint256(keccak256(abi.encodePacked(block.timestamp + i, block.difficulty)))%10);\n",
    "        return r;\n",
    "    }\n",
    "}"
   ]
  },
  {
   "cell_type": "markdown",
   "id": "54607fa0",
   "metadata": {},
   "source": [
    "* 7: abi.encodePacked ~~는 컴퓨터의 시간을 가져온다.(timestamp), difficulty도 매번 변동이 가능하다. 다른것으로 시드를 써도 되는데 매번 변동을 하는 이 시드 2개를 이용한다. keccak256: 256비트로 해쉬코드를 만든다. 이건 길이가 굉장이 큰 경우다. 저 해쉬를 정수로 형변환하고 범위를 modul로 나눠주면 원하는 범위로 랜덤값을 구할 수 있다.\n",
    "* 10 : 0~250, uint 8비트로 나눠주고 251로 모듈러스를 만들어 나눠준다.\n",
    "* 16 : 0~2까지면 모듈러스를 %3을 해준다.\n",
    "* 19 : 시드를 변경해주지 않으면 매번 똑같은 랜덤숫자가 나온다. 난스 nouce를 매번 만들어준다. 즉, i라는 넌스를 계속 더해줘서 만들어주면 (23 : + i 부분).. \n",
    "* 배열 형식 저장은 메모리를 사용하므로 memory를 사용한다. 그래서 memory를 적어준다.\n",
    "* 함수는 메모리에 만들어지므로 메모리를 쓴다."
   ]
  },
  {
   "cell_type": "code",
   "execution_count": 42,
   "id": "5669318b",
   "metadata": {
    "scrolled": true
   },
   "outputs": [
    {
     "name": "stderr",
     "output_type": "stream",
     "text": [
      "Compiler run successful, no output requested.\n"
     ]
    }
   ],
   "source": [
    "!solc src/Random.sol"
   ]
  },
  {
   "cell_type": "markdown",
   "id": "3f681532",
   "metadata": {},
   "source": [
    "# --------------------------------------------------------------"
   ]
  },
  {
   "cell_type": "markdown",
   "id": "edf75616",
   "metadata": {},
   "source": [
    "# 2. 데이터구조\n",
    "## 2.1 배열\n",
    "### 2.1.1 고정배열\n",
    "함수 내의 모든 것은 메모리를 쓴다.\n",
    "```\n",
    "매개변수로 넘겨주는 것 (참조일 때)\n",
    "선언 하는 것\n",
    "반환할 때 (참조)\n",
    "```\n",
    "함수 밖에서는 스토리지를 쓴다.\n",
    "\n",
    "고정배열에서는 push를 사용할 수 없다.\n",
    "\n",
    "#### 데이터타입의 범위를 벗어나는 값을 지정하지 않는다\n",
    "```\n",
    "uint8[5] balance = [255, 255, 95, 50, -1];  //오류: -1이 음수 이경우 uint8은 0~255이므로 오류 발 생\n",
    "uint8[5] balance = [255, 256, 95, 50, 1];  //오류: 256이 8비트 범위 밖 -> uint16\n",
    "uint16[5] balance = [255, 65536, 95, 50, 1];  //오류: 65536이 16비트 범위 밖 -> uint24\n",
    "```\n",
    "#### 함수에서 고정배열을 초기화\n",
    "```\n",
    "mathMarks=[100,60,95,50,80]; //오류: 함수 내 우측 배열은 uint8 memory -> mathMarks의 int로 변환 오류\n",
    "우측은 매모리, 좌측은 스토리지, 따라서 안된다. (다른 언어는 가능) \n",
    "mathMarks=uint8([100,60,95,50,80]); //오류: 우측 배열 uint8 memory -> uint8() 형변환 오류\n",
    "```\n",
    "따라서\n",
    "```\n",
    "반복문으로 하나씩 읽어서 uint8 -> int8 -> int로 변환해 주어야 한다\n",
    "contrat ArrayTest2 {\n",
    "  int[5] mathMarks;  //storage 변수\n",
    "  function setMathMarks() public {\n",
    "      uint8[5] memory temp = [100, 60, 95, 50, 80];\n",
    "      for (uint i = 0; i < temp.length; i++)\n",
    "          mathMarks[i] = int(int8(temp[i])); //ok: uint8 -> int8 -> int256\n",
    "  }\n",
    "}\n",
    "uint8 [] -> uint 256 -> int 256 이런 방식으로 바꿔줘야한다. 메모리 하나하나가 돈이기 때문에 이렇게 한다.\n",
    "또 한거번에 못 넣어준다. for문으로 하나하나씩 넣어줘야 한다.\n",
    "```\n",
    "#### 배열 storage의 읽기\n",
    "```\n",
    "storage 배열을 리턴하는 것이 안된다. 왜? 반환할때 배열은 메모리가 된다. 즉, 스토리지 -> 메모리가 불가능하므로 형변환이 필요하다.\n",
    "```\n",
    "## 동적배열\n",
    "함수 내에서 사용할 수 없다. 메모리만 가능.\n",
    "```\n",
    "contract my { \n",
    "    uint[] myArr; //동적배열 가능.\n",
    "    function setArr() public {\n",
    "       myArr.push(11); //동적배열에 대해 push 함수를 사용한다.\n",
    "    }\n",
    "}\n",
    "contract my { \n",
    "    function setArr() public {\n",
    "       uint[] myArr; //오류. 로컬에서 동적배열 사용할 수 없다.\n",
    "    }\n",
    "}\n",
    "```\n",
    "아래는 아무것도 안적으면 스토리지 이므로 아래는 오류.\n",
    "\n",
    "push는 storage 배열에만 사용하고 (즉 상태변수의 배열), memory 배열에는 사용할 수 없다.\n",
    "### 동적배열을 memory에서 사용할 때 new, 괄호 안에 개수 적는다.\n",
    "```\n",
    "function setLocalDynamicArr() view public returns(uint) {\n",
    "    //uint[] myArr; //오류. storage 또는 memory 선언 필요 (안적으면 스토리지)\n",
    "    //uint[] storage myArr; //오류. uninitialized storage (그렇다고 적어주면 함수 내에선 못씀)\n",
    "    //uint[] memory myArr; //오류. 동적배열 선언 가능. 그러나 push 못함. (메모리니까 선언이 가능, 메모리는 push 불가능)\n",
    "    //uint[] myArr = new uint[](3); //오류. storage 또는 memory 필요. 먼갈 안적어줌\n",
    "    //uint[] storage myArr = new uint[](3); //오류. 좌측은 memory. 우측 stoarge로 변환 오류\n",
    "    uint[] memory myArr = new uint[](3); //정상. memory 동적배열은 크기를 할당해야 한다. 우측에서 이렇게 만들면 무조건 메모리다. 함수내에서 선언하는 것은 무조건 메모리 이므로! 이 경우는 맞다.\n",
    "    //myArr.push(11); //오류. myArr 크기가 정해져서, 고정배열에 push 사용하지 못함.\n",
    "    myArr[0]=11; //정상. 인덱스를 사용해서 입력\n",
    "    myArr[1]=12; //정상.\n",
    "    //myArr.push(13); //오류.\n",
    "    //myArr[5]=15; //오류.\n",
    "    return myArr.length; //반환 3\n",
    "}\n",
    "```\n",
    "\n",
    "### 다차원 배열\n",
    "```\n",
    "uint[3][] marks=[[100, 80, 95],[20,30,40]];\n",
    "```"
   ]
  },
  {
   "cell_type": "markdown",
   "id": "877d4036",
   "metadata": {},
   "source": [
    "# 배열 실습\n",
    "## 1단계 컨트랙 개발"
   ]
  },
  {
   "cell_type": "code",
   "execution_count": 48,
   "id": "12c4d559",
   "metadata": {},
   "outputs": [
    {
     "name": "stdout",
     "output_type": "stream",
     "text": [
      "Overwriting src/ArrayTest2.sol\n"
     ]
    }
   ],
   "source": [
    "%%writefile src/ArrayTest2.sol\n",
    "//SPDX-License-Identifier: GPL-3.0-or-later\n",
    "pragma solidity ^0.6.4;\n",
    "pragma experimental ABIEncoderV2;\n",
    "\n",
    "contract ArrayTest2 {\n",
    "    string[3] cities1=[\"Seoul\", \"Sydney\", \"Tokyo\"];\n",
    "    string[] cities2 = new string[](2);\n",
    "    string[] cities3;\n",
    "    uint24[5] balance = [255, 65536, 95, 50, 1];\n",
    "    int[5] mathMarks;\n",
    "    uint[3][] marks=[[100, 80, 95],[20,30,40]];\n",
    "\n",
    "    function setLocalDynamicArr() pure public returns(uint) {\n",
    "        uint[] memory myArr = new uint[](3);\n",
    "        myArr[0]=11;\n",
    "        myArr[1]=12;\n",
    "        return myArr.length;\n",
    "    }\n",
    "    function getDynamicArrMemory() pure public returns(uint[] memory) {\n",
    "        uint[] memory num=new uint[](3);  //dynamic\n",
    "        for (uint i=0; i<num.length; i++)\n",
    "            num[i]=i;       //push() not allowed for array memeory\n",
    "        return num;\n",
    "    }\n",
    "    function getStringDynamicArrMemory() pure public {\n",
    "        string[2] memory places = [\"9000\", \"Sydney\"];\n",
    "        places[0]=\"Seoul\";\n",
    "    }\n",
    "    \n",
    "    /*returning 'string[] storage' is not allowed\n",
    "    function getCities1_() view public returns(string[] memory) {\n",
    "        return cities1;  //can not return stoarge var. \n",
    "    }*/\n",
    "    \n",
    "    function getCities1() view public returns(string memory) {\n",
    "        return cities1[0];\n",
    "    }\n",
    "    function getCities1Length() view public returns(uint) { return cities1.length; }\n",
    "    function setCities23() public {\n",
    "        string memory my = \"seoul\";\n",
    "        cities2[0]=\"New York\";\n",
    "        cities2.push(my);\n",
    "        cities2.push(\"Busan\");\n",
    "        cities3.push(\"New York\");\n",
    "        cities3.push(\"Beijing\");\n",
    "    }\n",
    "\n",
    "    function getCities2() view public returns(string[] memory){\n",
    "        return cities2;\n",
    "    }\n",
    "    function setMathMarks() public {\n",
    "        uint8[5] memory temp = [100, 60, 95, 50, 80];\n",
    "        for (uint i = 0; i < temp.length; i++) {\n",
    "            mathMarks[i] = int(int8(temp[i])); //ok: uint8 -> int8 -> int256\n",
    "        }\n",
    "    }\n",
    "    function getMathMarks() view public returns (int[] memory) {\n",
    "        int[] memory _arr256 = new int[](mathMarks.length);\n",
    "        for (uint i = 0; i < mathMarks.length; i++) {\n",
    "            _arr256[i] = int256(mathMarks[i]);\n",
    "        }\n",
    "        return _arr256;\n",
    "    }\n",
    "    function getMathAbove70_() view public returns(int[] memory) {\n",
    "        int[] memory mathAbove70;\n",
    "        uint counter = 0;\n",
    "        for(uint8 i=0;i<mathMarks.length;i++)\n",
    "            if(mathMarks[i]>70) {\n",
    "                mathAbove70[counter] = mathMarks[i];\n",
    "                counter++;\n",
    "            }\n",
    "        return mathAbove70;\n",
    "    }\n",
    "    //run setMathMarks() beforehand\n",
    "    function getMathAbove70() view public returns(int[] memory) {\n",
    "        uint8 counter=0;\n",
    "        uint8 lengthOfMathAbove70=0;\n",
    "        for(uint8 i=0;i<mathMarks.length;i++)\n",
    "            if(mathMarks[i]>70) counter++;\n",
    "        lengthOfMathAbove70=counter;\n",
    "        int[] memory mathAbove70=new int[](lengthOfMathAbove70);\n",
    "        counter=0;\n",
    "        for(uint i=0;i<mathMarks.length;i++) {\n",
    "            if(mathMarks[i]>70) {\n",
    "                mathAbove70[counter]=mathMarks[i];\n",
    "                counter++;\n",
    "            }\n",
    "        }\n",
    "        return mathAbove70;\n",
    "    }\n",
    "    function updateMarks() public returns(uint[3][] memory){\n",
    "        marks[0][0]=90;\n",
    "        return marks;\n",
    "    }\n",
    "    function getMarksArr() view public returns(uint[3][] memory) {\n",
    "        return marks;\n",
    "    }\n",
    "    function getMarksLength() view public returns(uint) {\n",
    "        return marks.length;\n",
    "    }\n",
    "}"
   ]
  },
  {
   "cell_type": "markdown",
   "id": "f5dd2bab",
   "metadata": {},
   "source": [
    "## 2단계 컴파일"
   ]
  },
  {
   "cell_type": "code",
   "execution_count": 49,
   "id": "590358ab",
   "metadata": {},
   "outputs": [],
   "source": [
    "!solc src/ArrayTest2.sol --combined-json abi > src/ArrayTest2ABI.json"
   ]
  },
  {
   "cell_type": "code",
   "execution_count": 50,
   "id": "7bfd1289",
   "metadata": {},
   "outputs": [],
   "source": [
    "!solc src/ArrayTest2.sol --combined-json bin > src/ArrayTest2BIN.json"
   ]
  },
  {
   "cell_type": "markdown",
   "id": "82203f4e",
   "metadata": {},
   "source": [
    "## 3단계 컨트랙 배포\n",
    "* estimateGas"
   ]
  },
  {
   "cell_type": "code",
   "execution_count": 51,
   "id": "bc10e2eb",
   "metadata": {},
   "outputs": [
    {
     "name": "stdout",
     "output_type": "stream",
     "text": [
      "Overwriting src/ArrayTest2Deploy.js\n"
     ]
    }
   ],
   "source": [
    "%%writefile src/ArrayTest2Deploy.js\n",
    "var Web3=require('web3');\n",
    "var _abiJson = require('./ArrayTest2ABI.json');\n",
    "var _binJson = require('./ArrayTest2BIN.json');\n",
    "\n",
    "var web3 = new Web3(new Web3.providers.HttpProvider(\"http://localhost:8345\"));\n",
    "contractName=Object.keys(_abiJson.contracts); // reading ['src/ArrayTest2.sol:ArrayTest2']\n",
    "console.log(\"- contract name: \", contractName[0]); //or console.log(contractName);\n",
    "\n",
    "_abiArray=JSON.parse(_abiJson.contracts[contractName].abi);    //JSON parsing needed!!\n",
    "_bin=\"0x\"+_binJson.contracts[contractName].bin; //ok without \"0x\"\n",
    "\n",
    "async function deploy() {\n",
    "    const accounts = await web3.eth.getAccounts();\n",
    "    console.log(\"Deploying the contract from \" + accounts[0]);\n",
    "\n",
    "    new web3.eth.Contract(_abiArray).deploy({data: _bin}).estimateGas(function(err, gas) {\n",
    "        if(!err) console.log(\">> gas: \"+ gas);\n",
    "    });\n",
    "\n",
    "    var deployed = await new web3.eth.Contract(_abiArray)\n",
    "        .deploy({data: _bin})\n",
    "        .send({from: accounts[0], gas: 1621137}, function(err, transactionHash) {\n",
    "                if(!err) console.log(\"hash: \" + transactionHash); \n",
    "        })\n",
    "    console.log(\"---> The contract deployed to: \" + deployed.options.address);\n",
    "}\n",
    "\n",
    "deploy()"
   ]
  },
  {
   "cell_type": "code",
   "execution_count": 52,
   "id": "2369267e",
   "metadata": {},
   "outputs": [
    {
     "name": "stdout",
     "output_type": "stream",
     "text": [
      "- contract name:  src/ArrayTest2.sol:ArrayTest2\n",
      "Deploying the contract from 0x38B90A15f126760Ccd539D9A9fbb8c10bd37c02b\n",
      "hash: 0xe6c6fbe33900f880e11ad6bbaae8ef34c11886fe74cf2fa68d5bd28621b27334\n",
      "---> The contract deployed to: 0x2eB3932BfA9471873Aa07250fCC3CaD81c8b7997\n",
      ">> gas: 1353625\n"
     ]
    }
   ],
   "source": [
    "!node src/ArrayTest2Deploy.js"
   ]
  },
  {
   "cell_type": "markdown",
   "id": "3def6826",
   "metadata": {},
   "source": [
    "## 4단계 사용 "
   ]
  },
  {
   "cell_type": "code",
   "execution_count": 54,
   "id": "dfc109c0",
   "metadata": {},
   "outputs": [
    {
     "name": "stdout",
     "output_type": "stream",
     "text": [
      "Overwriting src/ArrayTest2Use.js\n"
     ]
    }
   ],
   "source": [
    "%%writefile src/ArrayTest2Use.js\n",
    "var Web3=require('web3');\n",
    "var _abiJson = require('./ArrayTest2ABI.json');\n",
    "var web3=new Web3(new Web3.providers.HttpProvider(\"http://localhost:8345\"));       //ok\n",
    "\n",
    "contractName=Object.keys(_abiJson.contracts); // reading ['src/ArrayTest2.sol:ArrayTest2']\n",
    "console.log(\"- contract name: \", contractName[0]); //or console.log(contractName);\n",
    "//_abiArray=_abiJson.contracts[contractName].abi;\n",
    "_abiArray=JSON.parse(_abiJson.contracts[contractName].abi);    //JSON parsing needed!!\n",
    "\n",
    "async function doIt() {\n",
    "    var arr = new web3.eth.Contract(_abiArray, \"0x2eB3932BfA9471873Aa07250fCC3CaD81c8b7997\");\n",
    "    const accounts = await web3.eth.getAccounts();\n",
    "    console.log(\"Account: \" + accounts[0]);\n",
    "    const balanceBefore = await web3.eth.getBalance(accounts[0]);\n",
    "    console.log(\"Balance before: \" + balanceBefore);\n",
    "    \n",
    "    arr.methods.setCities23().estimateGas(function(err, gas) {\n",
    "        if(!err) console.log(\">> gas: \"+ gas);\n",
    "    });\n",
    "\n",
    "    //await arr.methods.setCities23().send({from: accounts[0]});   //out of gas error\n",
    "    await arr.methods.setCities23().send({from: accounts[0], gas:1353625});\n",
    "    arr.methods.getCities2().call().then(console.log);\n",
    "\n",
    "    arr.methods.setMathMarks().estimateGas(function(err, gas) {\n",
    "        if(!err) console.log(\">> gas: \"+ gas);\n",
    "    });\n",
    "\n",
    "    await arr.methods.setMathMarks().send({from: accounts[0], gas: 162354});\n",
    "    //ERROR invalid opcode arr.methods.getMathAbove70().call().then(console.log);\n",
    "    arr.methods.getMarksArr().call().then(console.log);\n",
    "\n",
    "    const balanceAfter = await web3.eth.getBalance(accounts[0]);\n",
    "    console.log(\"Balance after: \" + balanceAfter);\n",
    "    console.log(\"Balance diff: \" + (balanceBefore - balanceAfter));\n",
    "}\n",
    "\n",
    "doIt()"
   ]
  },
  {
   "cell_type": "markdown",
   "id": "38ab230b",
   "metadata": {},
   "source": [
    "* 7: 나중에 컨트랙이 여러개 일때 더 넣어줄 수 있다."
   ]
  },
  {
   "cell_type": "code",
   "execution_count": 55,
   "id": "d4f48abe",
   "metadata": {},
   "outputs": [
    {
     "name": "stdout",
     "output_type": "stream",
     "text": [
      "- contract name:  src/ArrayTest2.sol:ArrayTest2\n",
      "Account: 0x38B90A15f126760Ccd539D9A9fbb8c10bd37c02b\n",
      "Balance before: 999993496255999992023\n",
      ">> gas: 161934\n",
      "[ 'New York', '', 'seoul', 'Busan' ]\n",
      ">> gas: 132832\n",
      "Balance after: 999992906723999992023\n",
      "Balance diff: 589532000026624\n",
      "[ [ '100', '80', '95' ], [ '20', '30', '40' ] ]\n"
     ]
    }
   ],
   "source": [
    "!node src/ArrayTest2Use.js"
   ]
  },
  {
   "cell_type": "markdown",
   "id": "78f4679c",
   "metadata": {},
   "source": [
    "## 실습: Members 배열\n",
    "```\n",
    "배열을 검색하는 것은 비용이 많이 발생한다. mapping을 사용하거나, 클라이언트 측에서 배열 데이터를 검색하는 편으로 하자.\n",
    "\n",
    "문자열비교는keccak256() 해싱을 한 후 비교해야 한다. 아래와 같이 문자열을 해싱한후 ==로 비교를 해야 한다.\n",
    "\n",
    "keccak256(abi.encodePacked(문자열))==keccak256(abi.encodePacked(찾는 문자열))\n",
    "```\n",
    "### 원하는 데이터 찾기\n"
   ]
  },
  {
   "cell_type": "code",
   "execution_count": 56,
   "id": "fcfd1f5c",
   "metadata": {},
   "outputs": [
    {
     "name": "stdout",
     "output_type": "stream",
     "text": [
      "Writing src/Members.sol\n"
     ]
    }
   ],
   "source": [
    "%%writefile src/Members.sol\n",
    "//SPDX-License-Identifier: GPL-3.0-or-later\n",
    "pragma solidity ^0.6.4;\n",
    "\n",
    "contract Members{\n",
    "    address owner;\n",
    "    event printAddr(address arg);\n",
    "    struct Member{\n",
    "        uint id;\n",
    "        string name;\n",
    "    }\n",
    "    Member[] public memberArr;\n",
    "    constructor() public { \n",
    "        owner=msg.sender;\n",
    "    }\n",
    "    function del() public {\n",
    "        delete memberArr;\n",
    "    }\n",
    "    function delOne(uint i) public{\n",
    "        delete memberArr[i];  //try pop()\n",
    "    }\n",
    "    function add(uint id,string memory name) public {\n",
    "        memberArr.push(Member(id,name));\n",
    "    }\n",
    "    //return Member\n",
    "    function getMember(string memory who) view public returns(uint, string memory) {\n",
    "        uint _id;\n",
    "        string memory _name;\n",
    "        for(uint i=0;i<memberArr.length;i++) {\n",
    "            _name=memberArr[i].name;\n",
    "            if(keccak256(abi.encodePacked(_name))==keccak256(abi.encodePacked(who))) {\n",
    "                _id=memberArr[i].id;\n",
    "                _name=memberArr[i].name;\n",
    "            }\n",
    "        }\n",
    "        return (_id,_name);\n",
    "    }\n",
    "    function compareStr(string memory s1, string memory s2) pure public returns(bool) {\n",
    "        return keccak256(abi.encodePacked(s1))==keccak256(abi.encodePacked(s2));\n",
    "    }\n",
    "    function compareBytes(bytes memory b1, bytes memory b2) pure public returns(bool) {\n",
    "        return keccak256(b1) == keccak256(b2);\n",
    "    }\n",
    "    function getLength() view public returns(uint) {\n",
    "        return memberArr.length;\n",
    "    }\n",
    "}"
   ]
  },
  {
   "cell_type": "markdown",
   "id": "c60eb77c",
   "metadata": {},
   "source": [
    "* 31: 인코딩하고 비교하는 과정\n",
    "* 36: web3에서 받으므로 값 2개를 리턴해야한다.\n",
    "* 38: 비교함수 만들어보기"
   ]
  },
  {
   "cell_type": "code",
   "execution_count": 57,
   "id": "26b15bee",
   "metadata": {},
   "outputs": [
    {
     "name": "stderr",
     "output_type": "stream",
     "text": [
      "Compiler run successful, no output requested.\n"
     ]
    }
   ],
   "source": [
    "!solc src/Members.sol"
   ]
  },
  {
   "cell_type": "markdown",
   "id": "add5d872",
   "metadata": {},
   "source": [
    "# --------------------------------------------------------------"
   ]
  },
  {
   "cell_type": "markdown",
   "id": "e788c897",
   "metadata": {},
   "source": [
    "# 2.2 mapping\n",
    "\n",
    "## 2.2.1 키와 값 쌍으로 저장\n",
    "\n",
    "## 실습: 은행 잔고의 mapping"
   ]
  },
  {
   "cell_type": "code",
   "execution_count": 60,
   "id": "eb151940",
   "metadata": {},
   "outputs": [
    {
     "name": "stdout",
     "output_type": "stream",
     "text": [
      "Overwriting src/BankV4.sol\n"
     ]
    }
   ],
   "source": [
    "%%writefile src/BankV4.sol\n",
    "//SPDX-License-Identifier: GPL-3.0-or-later\n",
    "pragma solidity ^0.6.4;\n",
    "\n",
    "//check for Coin.sol (ch12) and BankV3.sol 201906\n",
    "contract BankV4 {\n",
    "    address owner;\n",
    "    mapping (address => uint) balanceOf;\n",
    "    constructor() public {\n",
    "        owner = msg.sender;\n",
    "    }\n",
    "    // save to individual addresses\n",
    "    function deposit(uint amount) payable public onlyOwner {\n",
    "        require(msg.value == amount);\n",
    "        balanceOf[msg.sender] += amount;\n",
    "    }\n",
    "    // forward from owner to another\n",
    "    function forwardTo(address receiver, uint amount) payable public onlyOwner {\n",
    "        require(balanceOf[msg.sender] >= amount);\n",
    "        balanceOf[msg.sender] -= amount; // Subtract from the sender\n",
    "        balanceOf[receiver] += amount;   // Add the same to the recipient\n",
    "    }\n",
    "    function withdraw(address payable receiver, uint amount) public onlyOwner {\n",
    "        require(balanceOf[receiver] >= amount && address(this).balance >= amount);\n",
    "        balanceOf[receiver] -= amount;\n",
    "        receiver.transfer(amount);\n",
    "    }\n",
    "    function getBalance() public view returns(uint, uint) {\n",
    "        return (address(this).balance, balanceOf[owner]);\n",
    "    }\n",
    "    function getBalanceOf(address addr) public view returns (uint) {\n",
    "        return balanceOf[addr];\n",
    "    }\n",
    "    modifier onlyOwner {\n",
    "        require(msg.sender == owner);\n",
    "        _;\n",
    "    }\n",
    "}"
   ]
  },
  {
   "cell_type": "markdown",
   "id": "9f36a72d",
   "metadata": {},
   "source": [
    "* 잔고 2가지를 추적하고 있다. 수동적, 자동적\n",
    "* 8: 없어도 되지만 갑돌이 갑순이 따로따로 계좌를 알려면 선언해줘야한다.\n",
    "* 9: constructor() 가시성의 종류는 1.public , 2.private, 3.internal, 4.external \n",
    "* internal : 블로게인 내에서만 쓰므로 web3에서 부를 수 없다.\n",
    "* 10: msg. 전역변수 즉, 어디서나 쓸 수 있다. owner은 하느님 신급\n",
    "* 26: 실제 잔고   \n",
    "* 29: 수동잔고, 자동잔고 2개"
   ]
  },
  {
   "cell_type": "code",
   "execution_count": 61,
   "id": "0828319b",
   "metadata": {},
   "outputs": [
    {
     "name": "stderr",
     "output_type": "stream",
     "text": [
      "Compiler run successful, no output requested.\n"
     ]
    }
   ],
   "source": [
    "!solc src/BankV4.sol"
   ]
  },
  {
   "cell_type": "markdown",
   "id": "6aa14399",
   "metadata": {},
   "source": [
    "# --------------------------------------------------------------"
   ]
  },
  {
   "cell_type": "markdown",
   "id": "3d655e0a",
   "metadata": {},
   "source": [
    "## 2.2.2 중복키 확인\n",
    "맵은 그 특성상 중복키는 허용되지 않는다.\n",
    "```\n",
    "mapping(address=>Member) memberMap;\n",
    "struct Member {\n",
    "    uint id;\n",
    "    string name;\n",
    "    bool isMember;\n",
    "}\n",
    "if (memberMap(<address>).isMember) 중복키 존재함\n",
    "```\n",
    "호출 방식은 if~~ \n",
    "##### 삭제\n",
    "키삭제는 쉽지 않다. 다른 언어에서는 remove()함수가 지원되어, 간편하게 키를 지울 수 있는 것과 비교된다.\n",
    "\n",
    "delete pendingAccessRequest[key];"
   ]
  },
  {
   "cell_type": "markdown",
   "id": "0c772091",
   "metadata": {},
   "source": [
    "## 2.2.3 bidirectional map\n",
    "주소에 대해 회원(아이디, 이름)을 저장하는 map이다. 이 경우 'id' 또는 '이름'으로 '주소'를 검색하는 기능은 bidiretional map으로 구현하였다. 이렇게 하면, 반복문을 사용하지 않고 검색하는 기능이 가능해 진다. 특정 id에 해당하는 주소를 찾고, 그 주소에 해당하는 값을 읽어올 수 있게 된다."
   ]
  },
  {
   "cell_type": "code",
   "execution_count": 62,
   "id": "322d57f7",
   "metadata": {},
   "outputs": [
    {
     "name": "stdout",
     "output_type": "stream",
     "text": [
      "Writing src/MembersMap.sol\n"
     ]
    }
   ],
   "source": [
    "%%writefile src/MembersMap.sol\n",
    "//SPDX-License-Identifier: GPL-3.0-or-later\n",
    "pragma solidity ^0.6.4;\n",
    "\n",
    "contract MembersMap {\n",
    "    struct Member {\n",
    "        uint id;\n",
    "        string name;\n",
    "    }\n",
    "    //bidrectional map\n",
    "    mapping(address=>Member) memberMap;\n",
    "    mapping(uint=>address) addressById;\n",
    "    mapping(string=>address) addressByName;\n",
    "    function addMember (uint _id, string memory _name) public {\n",
    "       Member memory m=Member(_id, _name);\n",
    "       memberMap[msg.sender]=m;\n",
    "       //saving into a bidiretional map to get address by id\n",
    "       addressById[_id]=msg.sender;\n",
    "       //saving into a bidiretional map to get address by name\n",
    "       addressByName[_name]=msg.sender;\n",
    "    }\n",
    "    //get Member by id\n",
    "    function getMemberById(uint _id) view public returns(uint, string memory) {\n",
    "        Member memory my = memberMap[addressById[_id]];\n",
    "        return (my.id, my.name);\n",
    "    }\n",
    "    // get address (not Member) by name\n",
    "    function getMemberAddressByName(string memory _name) public view returns(address) {\n",
    "        return addressByName[_name];\n",
    "    }\n",
    "    function getMember(address addr) view public returns (uint, string memory) {\n",
    "        Member memory m=memberMap[addr];\n",
    "        return (m.id, m.name);\n",
    "    }\n",
    "}"
   ]
  },
  {
   "cell_type": "markdown",
   "id": "27472156",
   "metadata": {},
   "source": [
    "* 11: 주소의 Member struct를 조회하는 map\n",
    "* 12: 이름의 주소를 조회하는 map\n",
    "* 13~21: Member struct을 추가하고 getMemberByName() 함수에서 이름을 입력하면 주소를 조회할 수 있도록 저장. name이 중복되는 경우, 엎어쓰기 때문에 문제가 될 수 있다. 실제는 중복이 없는 id를 사용하여 bidirectional map을 구현해야 한다.\n",
    "* 22~24: bidirectional map에서 id에 해당하는 주소를 조회하고, 그 주소키를 이용 Member를 조회\n",
    "* 27~30: bidirectional map에서 name에 해당하는 주소를 조회\n",
    "+ 31~34: 주소에 해당하는 Member struct을 조회. (1) addressById[정수]를 하면 주소를 얻을 수 있다. (2) 그러면 memberMap[주소]는 Member라는 값을 얻을 수 있다."
   ]
  },
  {
   "cell_type": "code",
   "execution_count": 63,
   "id": "29b88cd9",
   "metadata": {},
   "outputs": [
    {
     "name": "stderr",
     "output_type": "stream",
     "text": [
      "Compiler run successful, no output requested.\n"
     ]
    }
   ],
   "source": [
    "!solc src/MembersMap.sol"
   ]
  },
  {
   "cell_type": "markdown",
   "id": "2e306408",
   "metadata": {},
   "source": [
    "## 예외"
   ]
  },
  {
   "cell_type": "code",
   "execution_count": 64,
   "id": "0589344e",
   "metadata": {},
   "outputs": [
    {
     "name": "stdout",
     "output_type": "stream",
     "text": [
      "Writing src/ExceptionTest.sol\n"
     ]
    }
   ],
   "source": [
    "%%writefile src/ExceptionTest.sol\n",
    "//SPDX-License-Identifier: GPL-3.0-or-later\n",
    "pragma solidity ^0.6.4;\n",
    "\n",
    "contract ExceptionTest {\n",
    "    address owner;\n",
    "    constructor() public {\n",
    "        owner=msg.sender;\n",
    "    }\n",
    "    function requireException() view public returns(string memory) {\n",
    "        //if (msg.sender != owner) { throw; } // not this way to throw an exception\n",
    "        require(msg.sender != owner, \"Sorry! You are owner. Require failed...\");\n",
    "        return \"require condition met\";\n",
    "    }\n",
    "    function assertException() view public returns(string memory) {\n",
    "        assert(msg.sender == owner);\n",
    "        return \"asserted\";  //do this line only 'assert' is succeeded\n",
    "    }\n",
    "    function revertException() view public returns(string memory) {\n",
    "        if(msg.sender != owner) {\n",
    "            revert(\"Sorry! You are NOT owner. Reverted...\");\n",
    "            //return \"reverted\";  // this line can't be reached if revert is executed \n",
    "        } else {\n",
    "            return \"not reverted\";\n",
    "        }\n",
    "    }\n",
    "    function raiseException() pure public {\n",
    "        int x=0;\n",
    "        int y=0;\n",
    "        x/y;    //divide by zero\n",
    "    }\n",
    "}"
   ]
  },
  {
   "cell_type": "code",
   "execution_count": 65,
   "id": "47af5684",
   "metadata": {},
   "outputs": [
    {
     "name": "stderr",
     "output_type": "stream",
     "text": [
      "Compiler run successful, no output requested.\n"
     ]
    }
   ],
   "source": [
    "!solc src/ExceptionTest.sol"
   ]
  },
  {
   "cell_type": "markdown",
   "id": "55a7d2c3",
   "metadata": {},
   "source": [
    "### REMIX 에서\n",
    "* assertException(누를 때) = 제대로 실행되면 asserted가 실행\n",
    "* asserted안되게하려면 위에서 다른 계정을 누르고 다시 눌러본다. exception 발생!\n",
    "* 실제로 보면 잔고가 그대로다.\n",
    "* raiseException() 누르면 안된다. 막으려면 require해준다. 계정을 바꿔줘야 출력이 안된다. "
   ]
  },
  {
   "cell_type": "code",
   "execution_count": null,
   "id": "a3a71cda",
   "metadata": {},
   "outputs": [],
   "source": []
  }
 ],
 "metadata": {
  "kernelspec": {
   "display_name": "Python 3",
   "language": "python",
   "name": "python3"
  },
  "language_info": {
   "codemirror_mode": {
    "name": "ipython",
    "version": 3
   },
   "file_extension": ".py",
   "mimetype": "text/x-python",
   "name": "python",
   "nbconvert_exporter": "python",
   "pygments_lexer": "ipython3",
   "version": "3.8.8"
  }
 },
 "nbformat": 4,
 "nbformat_minor": 5
}
