{
 "cells": [
  {
   "cell_type": "markdown",
   "id": "cfbe237d",
   "metadata": {},
   "source": [
    "## 준비작업 - 8445 노드에 접속"
   ]
  },
  {
   "cell_type": "code",
   "execution_count": 2,
   "id": "054bf3c7",
   "metadata": {},
   "outputs": [],
   "source": [
    "from web3 import Web3\n",
    "import json\n",
    "\n",
    "url = 'http://localhost:8445' \n",
    "web3 = Web3(Web3.HTTPProvider(url)) #해당 노드에 접속 "
   ]
  },
  {
   "cell_type": "markdown",
   "id": "adcae748",
   "metadata": {},
   "source": [
    "## 계좌발급"
   ]
  },
  {
   "cell_type": "code",
   "execution_count": 28,
   "id": "5d585a57",
   "metadata": {},
   "outputs": [
    {
     "name": "stdout",
     "output_type": "stream",
     "text": [
      "Overwriting src/SnowmangetMyAddr.js\n"
     ]
    }
   ],
   "source": [
    "%%writefile src/SnowmangetMyAddr.js\n",
    "var Web3=require('web3');\n",
    "var web3 = new Web3(new Web3.providers.HttpProvider(\"http://localhost:8345\"))\n",
    "var myAddr0;\n",
    "web3.eth.getAccounts().then(console.log);"
   ]
  },
  {
   "cell_type": "code",
   "execution_count": 29,
   "id": "23008495",
   "metadata": {
    "scrolled": true
   },
   "outputs": [
    {
     "name": "stdout",
     "output_type": "stream",
     "text": [
      "[\n",
      "  '0x6D58A7ba1b9285ED2c464718A805169E25EA71D5',\n",
      "  '0xE0e31b279248EeE80edB8a4E952D683caBa3695c',\n",
      "  '0x252130965d94aB86708A992FB65418fD6C52A041',\n",
      "  '0x2867DD4431D0CadC212A58e737D4EB187b9daf54',\n",
      "  '0x4589704Ea6647ac86f49AF973edc6F770d74A397',\n",
      "  '0x084CdDe7b65aaE09b291A7f6ea9dA705EcEd294e',\n",
      "  '0x2F26C6aF9791a4Ba06b7059190F78Cd10C44AF2f',\n",
      "  '0x6956803eC16fDEbC62ef4Fe301FF8D767E502ab2',\n",
      "  '0x51befc06bbeb5d7f92ea3CA1434368FF6849ac27',\n",
      "  '0xA2a4Ee352594Ad36f93adBEb1E22Bf89fb7defb4'\n",
      "]\n"
     ]
    }
   ],
   "source": [
    "!node src/SnowmangetMyAddr.js"
   ]
  },
  {
   "cell_type": "markdown",
   "id": "990dac56",
   "metadata": {},
   "source": [
    "# --------------------------시작 ----------------------------"
   ]
  },
  {
   "cell_type": "markdown",
   "id": "df2783b6",
   "metadata": {},
   "source": [
    "## 1. Solidiy로 Hello.sol을 코딩하라"
   ]
  },
  {
   "cell_type": "code",
   "execution_count": 30,
   "id": "46268643",
   "metadata": {},
   "outputs": [
    {
     "name": "stdout",
     "output_type": "stream",
     "text": [
      "Overwriting src/HelloSnowman.sol\n"
     ]
    }
   ],
   "source": [
    "%%writefile src/HelloSnowman.sol\n",
    "pragma solidity 0.4.25;\n",
    "\n",
    "contract Hello{\n",
    "    function sayHello() pure public returns(string memory){\n",
    "        return \"Hello, Snowman\";\n",
    "    }\n",
    "}"
   ]
  },
  {
   "cell_type": "markdown",
   "id": "6fae2cfc",
   "metadata": {},
   "source": [
    "## 2. solc로 컴파일하라"
   ]
  },
  {
   "cell_type": "code",
   "execution_count": 31,
   "id": "f11a39a7",
   "metadata": {},
   "outputs": [
    {
     "name": "stdout",
     "output_type": "stream",
     "text": [
      "\n",
      "======= src/HelloSnowman.sol:Hello =======\n",
      "Gas estimation:\n",
      "construction:\n",
      "   111 + 63800 = 63911\n",
      "external:\n",
      "   sayHello():\tinfinite\n",
      "Binary: \n",
      "608060405234801561001057600080fd5b5061013f806100206000396000f300608060405260043610610041576000357c0100000000000000000000000000000000000000000000000000000000900463ffffffff168063ef5fb05b14610046575b600080fd5b34801561005257600080fd5b5061005b6100d6565b6040518080602001828103825283818151815260200191508051906020019080838360005b8381101561009b578082015181840152602081019050610080565b50505050905090810190601f1680156100c85780820380516001836020036101000a031916815260200191505b509250505060405180910390f35b60606040805190810160405280600e81526020017f48656c6c6f2c20536e6f776d616e0000000000000000000000000000000000008152509050905600a165627a7a72305820d4ef180a1f576372f46e879826ebd5450555d33e63e90e906c17b3dd5a5fcaef0029\n",
      "Contract JSON ABI \n",
      "[{\"constant\":true,\"inputs\":[],\"name\":\"sayHello\",\"outputs\":[{\"name\":\"\",\"type\":\"string\"}],\"payable\":false,\"stateMutability\":\"pure\",\"type\":\"function\"}]\n"
     ]
    }
   ],
   "source": [
    "!solc --abi --bin --gas src/HelloSnowman.sol"
   ]
  },
  {
   "cell_type": "markdown",
   "id": "c28ee6e9",
   "metadata": {},
   "source": [
    "## 3. web.js를 사용하여 node로 프로그램해서 배포"
   ]
  },
  {
   "cell_type": "code",
   "execution_count": 36,
   "id": "7b92364c",
   "metadata": {},
   "outputs": [
    {
     "name": "stdout",
     "output_type": "stream",
     "text": [
      "Overwriting src/HelloSnowmanDeploy.js\n"
     ]
    }
   ],
   "source": [
    "%%writefile src/HelloSnowmanDeploy.js\n",
    "var Web3=require('web3');\n",
    "var web3 = new Web3(new Web3.providers.HttpProvider(\"http://localhost:8345\"));\n",
    "\n",
    "var shelloContract = new web3.eth.Contract([{\"inputs\":[],\"name\":\"sayHello\",\"outputs\":[{\"internalType\":\"string\",\"name\":\"\",\"type\":\"string\"}],\"stateMutability\":\"pure\",\"type\":\"function\"}]);\n",
    "shelloContract\n",
    "    .deploy({\n",
    "            data: '0x608060405234801561001057600080fd5b5061013f806100206000396000f300608060405260043610610041576000357c0100000000000000000000000000000000000000000000000000000000900463ffffffff168063ef5fb05b14610046575b600080fd5b34801561005257600080fd5b5061005b6100d6565b6040518080602001828103825283818151815260200191508051906020019080838360005b8381101561009b578082015181840152602081019050610080565b50505050905090810190601f1680156100c85780820380516001836020036101000a031916815260200191505b509250505060405180910390f35b60606040805190810160405280600e81526020017f48656c6c6f2c20536e6f776d616e0000000000000000000000000000000000008152509050905600a165627a7a72305820d4ef180a1f576372f46e879826ebd5450555d33e63e90e906c17b3dd5a5fcaef0029', \n",
    "    })\n",
    "    .send({\n",
    "     from: \"0x6D58A7ba1b9285ED2c464718A805169E25EA71D5\",\n",
    "     gas: '4700000'\n",
    "    }, function (error, transactionHash){ \n",
    "            console.log(error, transactionHash); \n",
    "    })\n",
    "    .then(function(newContractInstance){\n",
    "        console.log(\"Contract Address = \" + newContractInstance.options.address)\n",
    "    });"
   ]
  },
  {
   "cell_type": "code",
   "execution_count": 37,
   "id": "9004ae61",
   "metadata": {},
   "outputs": [
    {
     "name": "stdout",
     "output_type": "stream",
     "text": [
      "null 0x70cc61257aa418bf0878a14d1a2cecd1c0bc0dd8d3f497872e14a0d149e06700\n",
      "Contract Address = 0xe4a599409246D473958AAe8E88517E24f157c38f\n"
     ]
    }
   ],
   "source": [
    "!node src/HelloSnowmanDeploy.js"
   ]
  },
  {
   "cell_type": "markdown",
   "id": "9794cd9e",
   "metadata": {},
   "source": [
    "## 4.web.js를 사용하여 node로 sayHello() 출력"
   ]
  },
  {
   "cell_type": "code",
   "execution_count": 38,
   "id": "a9e0fb06",
   "metadata": {},
   "outputs": [
    {
     "name": "stdout",
     "output_type": "stream",
     "text": [
      "Overwriting src/HelloSnowmanUse.js\n"
     ]
    }
   ],
   "source": [
    "%%writefile src/HelloSnowmanUse.js\n",
    "var Web3=require('web3');\n",
    "var web3 = new Web3(new Web3.providers.HttpProvider(\"http://localhost:8345\"));\n",
    "\n",
    "var shelloContract = new web3.eth.Contract([{\"constant\":true,\"inputs\":[],\"name\":\"sayHello\",\"outputs\":[{\"name\":\"\",\"type\":\"string\"}],\"payable\":false,\"stateMutability\":\"pure\",\"type\":\"function\"}],\n",
    "                                      \"0xe4a599409246D473958AAe8E88517E24f157c38f\");\n",
    "shelloContract.methods.sayHello().call().then(function(str) {console.log(str);});"
   ]
  },
  {
   "cell_type": "code",
   "execution_count": 39,
   "id": "fc8ace0e",
   "metadata": {},
   "outputs": [
    {
     "name": "stdout",
     "output_type": "stream",
     "text": [
      "Hello, Snowman\n"
     ]
    }
   ],
   "source": [
    "!node src/HelloSnowmanUse.js"
   ]
  }
 ],
 "metadata": {
  "kernelspec": {
   "display_name": "Python 3",
   "language": "python",
   "name": "python3"
  },
  "language_info": {
   "codemirror_mode": {
    "name": "ipython",
    "version": 3
   },
   "file_extension": ".py",
   "mimetype": "text/x-python",
   "name": "python",
   "nbconvert_exporter": "python",
   "pygments_lexer": "ipython3",
   "version": "3.8.8"
  }
 },
 "nbformat": 4,
 "nbformat_minor": 5
}
