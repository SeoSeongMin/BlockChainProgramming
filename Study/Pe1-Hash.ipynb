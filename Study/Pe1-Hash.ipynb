{
 "cells": [
  {
   "cell_type": "markdown",
   "id": "88c4b976",
   "metadata": {},
   "source": [
    "### 1) 원본과 위조본을 해싱하고 출력"
   ]
  },
  {
   "cell_type": "code",
   "execution_count": 79,
   "id": "b2989a3b",
   "metadata": {},
   "outputs": [
    {
     "name": "stdout",
     "output_type": "stream",
     "text": [
      "origin:  b'/\\x0e\\xf8\\x19H)7f\\xbaN`[tL8\"\\xec\\x9e\\xbd\\x8a|\\x9c+\\x13\\xe4\\x1b\\xb4\\xac\\x82\\xbf\\x81\\x99'\n",
      "change:  b'@\\x9c\\x10\\x10\\x04,\\xc0\\xc4\\x18\\xb4\\xc5B\\x1d\\x8e\\xe0\\xb1\\xfd\\xb38\\x98/I\\xcf\\xa1\\xd7E\\x80\\xb8\\x85\\xa7\\xd5_'\n"
     ]
    }
   ],
   "source": [
    "import hashlib\n",
    "import codecs\n",
    "\n",
    "origin_msg = \"The Japanese acted without the consent of his Majesty the Emperor of Korea.\"\n",
    "origin = hashlib.sha3_256(origin_msg.encode(\"utf-8\")).digest()\n",
    "\n",
    "change_msg = \"The Japanese acted with the consent of his Majesty the Emperor of Korea.\"\n",
    "change = hashlib.sha3_256(change_msg.encode(\"utf-8\")).digest()\n",
    "\n",
    "print(\"origin: \",origin)\n",
    "print(\"change: \",change)"
   ]
  },
  {
   "cell_type": "markdown",
   "id": "95ba37ff",
   "metadata": {},
   "source": [
    "### 2) 원본과 위조에서 구한 해시의 바이트 수, 차이를 출력"
   ]
  },
  {
   "cell_type": "code",
   "execution_count": 80,
   "id": "dcc390e7",
   "metadata": {},
   "outputs": [
    {
     "name": "stdout",
     "output_type": "stream",
     "text": [
      "원본바이트 수 :  32  위조바이트 수 :  32\n",
      "해시의 차이는  0\n"
     ]
    }
   ],
   "source": [
    "origin_byte = hashlib.sha3_256(origin_msg.encode()).digest_size\n",
    "change_byte = hashlib.sha3_256(change_msg.encode()).digest_size\n",
    "\n",
    "print(\"원본바이트 수 : \",origin_byte,\" 위조바이트 수 : \",change_byte) \n",
    "print(\"해시의 차이는 \", origin_byte - change_byte)"
   ]
  },
  {
   "cell_type": "markdown",
   "id": "05bc48e3",
   "metadata": {},
   "source": [
    "### 3) 원본을 사인해라"
   ]
  },
  {
   "cell_type": "code",
   "execution_count": 83,
   "id": "b2e00f14",
   "metadata": {},
   "outputs": [
    {
     "name": "stdout",
     "output_type": "stream",
     "text": [
      "origin_signature:  (35777563396495374092526457448940938146819318670921830717358461449330584697098, 3026399395245307323143741050645271797917476271163319218969497744913800372121)\n"
     ]
    }
   ],
   "source": [
    "import secrets\n",
    "import pycoin.ecdsa as ecdsa\n",
    "import hashlib\n",
    "import codecs\n",
    "\n",
    "origin_privKey = secrets.randbelow(ecdsa.generator_secp256k1.order()) #개인키 생성\n",
    "origin_pubKey = (ecdsa.generator_secp256k1 * origin_privKey).pair() #공중키 생성\n",
    "\n",
    "origin_Hash = int.from_bytes(origin, byteorder=\"big\")\n",
    "origin_signature = ecdsa.sign(ecdsa.generator_secp256k1,origin_privKey,origin_Hash)\n",
    "print(\"origin_signature: \",origin_signature)\n"
   ]
  },
  {
   "cell_type": "markdown",
   "id": "47a4a15c",
   "metadata": {},
   "source": [
    "### 4) 원본을 인증해라"
   ]
  },
  {
   "cell_type": "code",
   "execution_count": 84,
   "id": "b1002a03",
   "metadata": {},
   "outputs": [
    {
     "name": "stdout",
     "output_type": "stream",
     "text": [
      "origin_valid:  True\n"
     ]
    }
   ],
   "source": [
    "origin_valid = ecdsa.verify(ecdsa.generator_secp256k1, origin_pubKey, origin_Hash,origin_signature)\n",
    "print(\"origin_valid: \", origin_valid)"
   ]
  },
  {
   "cell_type": "markdown",
   "id": "fa54b102",
   "metadata": {},
   "source": [
    "### 5) 위본을 사인해라"
   ]
  },
  {
   "cell_type": "code",
   "execution_count": 85,
   "id": "4fc6cb7f",
   "metadata": {},
   "outputs": [
    {
     "name": "stdout",
     "output_type": "stream",
     "text": [
      "change_signature:  (59207891360627242895752575755706113986352122188432686657095704278391041873507, 65393101334077431604771433585169892055989042155981843721781525304611094342276)\n"
     ]
    }
   ],
   "source": [
    "import secrets\n",
    "import pycoin.ecdsa as ecdsa\n",
    "import hashlib\n",
    "import codecs\n",
    "\n",
    "change_privKey = secrets.randbelow(ecdsa.generator_secp256k1.order()) #개인키 생성\n",
    "change_pubKey = (ecdsa.generator_secp256k1 * change_privKey).pair() #공중키 생성\n",
    "\n",
    "change_Hash = int.from_bytes(change, byteorder=\"big\")\n",
    "change_signature = ecdsa.sign(ecdsa.generator_secp256k1,change_privKey,change_Hash)\n",
    "print(\"change_signature: \",change_signature)"
   ]
  },
  {
   "cell_type": "markdown",
   "id": "2d2a0fb3",
   "metadata": {},
   "source": [
    "### 6) 원본 사인본과 위본 사인본과 비교하라"
   ]
  },
  {
   "cell_type": "code",
   "execution_count": 88,
   "id": "0f242864",
   "metadata": {},
   "outputs": [
    {
     "data": {
      "text/plain": [
       "False"
      ]
     },
     "execution_count": 88,
     "metadata": {},
     "output_type": "execute_result"
    }
   ],
   "source": [
    "origin_signature ==change_signature"
   ]
  },
  {
   "cell_type": "markdown",
   "id": "f612d277",
   "metadata": {},
   "source": [
    "### 7) 위본을 인증해라"
   ]
  },
  {
   "cell_type": "code",
   "execution_count": 89,
   "id": "b1e27770",
   "metadata": {},
   "outputs": [
    {
     "name": "stdout",
     "output_type": "stream",
     "text": [
      "change_valid:  True\n"
     ]
    }
   ],
   "source": [
    "change_valid = ecdsa.verify(ecdsa.generator_secp256k1, change_pubKey, change_Hash,change_signature)\n",
    "print(\"change_valid: \", change_valid)"
   ]
  }
 ],
 "metadata": {
  "kernelspec": {
   "display_name": "Python 3",
   "language": "python",
   "name": "python3"
  },
  "language_info": {
   "codemirror_mode": {
    "name": "ipython",
    "version": 3
   },
   "file_extension": ".py",
   "mimetype": "text/x-python",
   "name": "python",
   "nbconvert_exporter": "python",
   "pygments_lexer": "ipython3",
   "version": "3.8.8"
  }
 },
 "nbformat": 4,
 "nbformat_minor": 5
}
