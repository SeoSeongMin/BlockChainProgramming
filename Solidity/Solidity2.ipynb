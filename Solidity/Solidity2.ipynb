{
 "cells": [
  {
   "cell_type": "markdown",
   "id": "359926c1",
   "metadata": {},
   "source": [
    "## 1. 함수의 선언\n",
    "#### 1) 내장함수 (built-in)\n",
    "* web3.eth.getAccounts()\n",
    "* keccak256()\n",
    "* sha256()\n",
    "\n",
    "#### 2) 사용자 정의 함수 (user-defined)\n",
    "```\n",
    "function (param types) {internal|external} [pure|view|payable] [returns (return types)] varName;\n",
    "```\n",
    "\n",
    "## 2. 생성자\n",
    "* constructor()\n",
    " * 자바와 같이 굳이 구현하지 않아도 됨\n",
    " * 하지만 overloading 불가능\n",
    " * return 값 없음\n",
    " \n",
    "## 3. 수식어\n",
    "* solidity에서 함수를 실행하면, 그 결과로 인해 블록체인의 변화 유무에 따라 구분한다.\n",
    " #### view\n",
    " * 블록체인의 상태를 변경하지 않는 함수\n",
    " * 읽기 전용(read only)\n",
    " \n",
    " #### pure\n",
    " * 블록체인의 상태를 변경하지 않는 함수\n",
    " * 읽지도 않는 경우\n",
    " \n",
    "이 외에는 transaction이 발생하므로 transaction hash가 반환된다.\n",
    "\n",
    "view와 pure의 경우는 결과 값을 확인 하는 방법은 event를 사용해서만 가능하다.\n",
    "\n",
    "#### view 불가능\n",
    " * 상태변수 state variables를 읽는 경우,\n",
    " * 잔고 this.balance 또는 address.balance를 읽는 경우,\n",
    " * 전역변수 block, tx, msg (msg.sig, msg.data 제외)를 읽는 경우,\n",
    " * pure로 표기되지 않은 함수를 호출하는 경우,\n",
    " * opcodes로 작성된 인라인 코드\n",
    " \n",
    "#### pure 불가능\n",
    " * 상태변수를 저장하는 경우 (당연히 블록체인에 쓰는 경우이다)\n",
    " * 이벤트 발생 (이벤트가 발생하면 로그에 기록이 남겨진다.)\n",
    " * 다른 컨트랙 생성\n",
    " * selfdestruct 컨트랙을 삭제하는 경우\n",
    " * call 함수로 송금하는 경우\n",
    " * view 또는 pure 아닌 함수를 호출하는 경우\n",
    " * low-level calls을 호출하는 경우\n",
    " * opcodes로 작성된 인라인 코드"
   ]
  },
  {
   "cell_type": "markdown",
   "id": "9d119718",
   "metadata": {},
   "source": [
    "## 함수통해 살펴보기"
   ]
  },
  {
   "cell_type": "code",
   "execution_count": 65,
   "id": "48f7b7e1",
   "metadata": {},
   "outputs": [
    {
     "name": "stdout",
     "output_type": "stream",
     "text": [
      "Overwriting src/FuctionTest.sol\n"
     ]
    }
   ],
   "source": [
    "%%writefile src/FuctionTest.sol\n",
    "//SPDX-License-Identifier: GPL-3.0-or-later\n",
    "pragma solidity ^0.6.4;\n",
    "\n",
    "contract FunctionTest {\n",
    "    int x;\n",
    "    //constructor\n",
    "    constructor() public {\n",
    "        x = 0;\n",
    "    }\n",
    "    // updating state var x\n",
    "    function incrementX() public {\n",
    "        x += 1;\n",
    "    }\n",
    "    // call when x = 0\n",
    "    function doubleX() public {\n",
    "        X2();\n",
    "    }\n",
    "    // float not supported. try 0, 1/3...\n",
    "    function divideBy(int by) view public returns(int) {\n",
    "        return x/by;\n",
    "    }\n",
    "    // actually NONE returned\n",
    "    function getX_() view public returns(int) {\n",
    "        return x;        \n",
    "    }\n",
    "    // try pure\n",
    "    function getX() view public returns(int) {\n",
    "        return x;\n",
    "    }\n",
    "    function getBalance() view public returns(uint) {\n",
    "        return(address(this).balance);\n",
    "    }\n",
    "    // 'payable' means that msg.value can be deposited\n",
    "    function deposit() public payable {\n",
    "    }\n",
    "    // can not be used in public\n",
    "    function X2() internal {\n",
    "        x *= 2;\n",
    "    }\n",
    "    function getBlockNumber() view public returns(uint) {\n",
    "        return block.number;\n",
    "    }\n",
    "}"
   ]
  },
  {
   "cell_type": "code",
   "execution_count": 66,
   "id": "15eddd0b",
   "metadata": {},
   "outputs": [
    {
     "name": "stderr",
     "output_type": "stream",
     "text": [
      "Compiler run successful, no output requested.\n"
     ]
    }
   ],
   "source": [
    "!solc src/FuctionTest.sol"
   ]
  },
  {
   "cell_type": "markdown",
   "id": "b76cb88b",
   "metadata": {},
   "source": [
    "* constructor()\t생성자는 앞에 위치시킨다.\n",
    "* increatementX()\tstate var를 수정하므로 view, pure가 아님.\n",
    "* doubleX()\t내부함수 internal X2()를 호출함. state var 수정하므로 view, pure 아님.\n",
    "* divideBy(int by)\t0으로 나누어도 오류를 발생하지 않는다. 아직 소수는 지원하지 않으므로 필요한 경우 라이브러리를 사용한다.\n",
    "* getX_()\tview, pure가 아니므로returns(int)해도 반환 값을 받지 못함. 해시값을 돌려줌.\n",
    "* getX()\tstate var를 읽으므로 view를 사용한다. pure를 사용하지 않는다.\n",
    "* getBalance()\t잔고 조회는 view도 가능함.\n",
    "* deposit()\tpayable로 선언해야 입금이 가능. 함수가 비워있어도 msg.value를 입금.\n",
    "* X2()\tinternal로 선언되어서 내부에서만 사용가능.\n",
    "* getBlockNumber()\t전역변수를 읽을 경우 view"
   ]
  },
  {
   "cell_type": "markdown",
   "id": "b431b17b",
   "metadata": {},
   "source": [
    "# -------------------------------------------------------------------------"
   ]
  },
  {
   "cell_type": "markdown",
   "id": "4c3d1693",
   "metadata": {},
   "source": [
    "## modifier\n",
    "##### 함수의 제약조건을 지정\n",
    "* modifier를 적용하면 if문을 제거하는 효과"
   ]
  },
  {
   "cell_type": "markdown",
   "id": "05eaf3f9",
   "metadata": {},
   "source": [
    "# 실습문제: 밑줄 명령어 적용\n",
    "modifier를 사용할 때 밑줄 underscore _ 명령어를 통해 어디에 호출 소스코드가 포함되는지 분명히 할 수 있다. 아래 코드에서 포함되는 시점을 전 또는 후로 정할 수 있다."
   ]
  },
  {
   "cell_type": "code",
   "execution_count": 67,
   "id": "071ff48f",
   "metadata": {},
   "outputs": [
    {
     "name": "stdout",
     "output_type": "stream",
     "text": [
      "Writing src/UnderscoreTest.sol\n"
     ]
    }
   ],
   "source": [
    "%%writefile src/UnderscoreTest.sol\n",
    "//SPDX-License-Identifier: GPL-3.0-or-later\n",
    "pragma solidity ^0.6.4;\n",
    "\n",
    "contract UnderscoreTest {\n",
    "    string season = \"\";\n",
    "    function getSeason() view public returns(string memory) {\n",
    "        return season;\n",
    "    }\n",
    "    function setWinter() public setSummerAfter {\n",
    "        season = \"winter\";\n",
    "    }\n",
    "    function setSpring() public setSummerBefore {\n",
    "        season = \"spring\";\n",
    "    }\n",
    "    modifier setSummerAfter() {\n",
    "        season = \"summer\";\n",
    "        _;\n",
    "    }\n",
    "    modifier setSummerBefore() {\n",
    "        _;\n",
    "        season = \"summer\";\n",
    "    }\n",
    "}"
   ]
  },
  {
   "cell_type": "markdown",
   "id": "5cc23f8a",
   "metadata": {},
   "source": [
    "* 10: setSummerAfter(이게 modifier) .. 아래 15번째를 재약조건으로 하고 출력\n",
    "* 출력은 윈터가 된다 왜?? _; 이 문법 때문이다.\n",
    "* 즉 17: season = summer은 _에 들어가고 11의 winter가 나온다.\n",
    "* 정리하면 10 하면 17의 summer지만 _에 11의 winter가 들어간다.\n",
    "* 13을 실행하면 20번에 _에 spring이 들어가고 아래 summer가 호출된다."
   ]
  },
  {
   "cell_type": "code",
   "execution_count": 68,
   "id": "6e9e986a",
   "metadata": {},
   "outputs": [
    {
     "name": "stderr",
     "output_type": "stream",
     "text": [
      "Compiler run successful, no output requested.\n"
     ]
    }
   ],
   "source": [
    "!solc src/UnderscoreTest.sol"
   ]
  },
  {
   "cell_type": "markdown",
   "id": "0e23bb01",
   "metadata": {},
   "source": [
    "# -------------------------------------------------------------------------"
   ]
  },
  {
   "cell_type": "markdown",
   "id": "06f40516",
   "metadata": {},
   "source": [
    "## 실습문제: 은행 BankV3\n",
    "앞의 은행 코드에 fallabck, modifier를 넣어서 수정한다."
   ]
  },
  {
   "cell_type": "markdown",
   "id": "fb52fd15",
   "metadata": {},
   "source": [
    "## 1단계 컨트랙 개발"
   ]
  },
  {
   "cell_type": "code",
   "execution_count": 69,
   "id": "e5d5e34c",
   "metadata": {},
   "outputs": [
    {
     "name": "stdout",
     "output_type": "stream",
     "text": [
      "Writing src/BankV3.sol\n"
     ]
    }
   ],
   "source": [
    "%%writefile src/BankV3.sol\n",
    "//SPDX-License-Identifier: GPL-3.0-or-later\n",
    "pragma solidity ^0.6.4; \n",
    "\n",
    "contract BankV3 {\n",
    "    address owner;\n",
    "    uint balance;\n",
    "    uint256 timeToDeposit;\n",
    "    \n",
    "    event PrintLog(string);\n",
    "    event Sent(address from, address to, uint amount );\n",
    "    constructor() public {\n",
    "        owner = msg.sender;\n",
    "        balance = 0;\n",
    "    }\n",
    "    fallback() external  {\n",
    "        emit PrintLog(\"Fallback called\");\n",
    "    }\n",
    "    function forwardTo(address payable _receiver) public payable onlyOwner {\n",
    "        _receiver.transfer(msg.value);\n",
    "        emit Sent(msg.sender, _receiver, msg.value);\n",
    "    }\n",
    "    function getBalance() public view returns(uint, uint) {\n",
    "        return (balance, address(this).balance);\n",
    "    }\n",
    "    function deposit(uint amount) public payable onlyAfter {\n",
    "        timeToDeposit = block.timestamp + 10 seconds;\n",
    "        require(msg.value == amount);\n",
    "        balance += amount;\n",
    "    }\n",
    "    function withdrawAll() public onlyOwner minBalance {\n",
    "        balance -= address(this).balance;\n",
    "        payable(msg.sender).transfer(address(this).balance); \n",
    "    }\n",
    "    modifier onlyOwner {\n",
    "        require(msg.sender == owner);\n",
    "        _;\n",
    "    }\n",
    "    modifier onlyAfter {\n",
    "        require(block.timestamp >= timeToDeposit);\n",
    "        _;\n",
    "    }\n",
    "    modifier minBalance {\n",
    "        require(address(this).balance>101 wei);\n",
    "        _;\n",
    "    }\n",
    "}"
   ]
  },
  {
   "cell_type": "markdown",
   "id": "ce7c72a9",
   "metadata": {},
   "source": [
    "## 2단계 컴파일"
   ]
  },
  {
   "cell_type": "code",
   "execution_count": 70,
   "id": "00a5257c",
   "metadata": {},
   "outputs": [],
   "source": [
    "!solc --optimize --combined-json abi,bin src/BankV3.sol > src/BankV3.json"
   ]
  },
  {
   "cell_type": "markdown",
   "id": "407e08d6",
   "metadata": {},
   "source": [
    "## 3단계 컨트랙 배포\n",
    "이번에는 async, await로 변경하여 코드를 작성해보자. 배포함수를 async function deploy()로 선언한다. 그리고 그 안에 await web3.eth.getAccounts()로 계정을 구해서 이를 활용한다. 컨트랙을 생성하기 위해 블록체인에 전송하는 await send() 함수도 비동기적으로 처리하여, 주소를 출력"
   ]
  },
  {
   "cell_type": "code",
   "execution_count": 71,
   "id": "ecf78472",
   "metadata": {},
   "outputs": [
    {
     "name": "stdout",
     "output_type": "stream",
     "text": [
      "Writing src/BankV3DeployFromFile.js\n"
     ]
    }
   ],
   "source": [
    "%%writefile src/BankV3DeployFromFile.js\n",
    "var Web3 = require('web3');\n",
    "var _abiBinJson = require('./BankV3.json');      //importing a javascript file\n",
    "\n",
    "var web3 = new Web3(new Web3.providers.HttpProvider(\"http://localhost:8345\"));\n",
    "\n",
    "contractName=Object.keys(_abiBinJson.contracts); // reading ['src/BankV3.sol:BankV3']\n",
    "console.log(\"- contract name: \", contractName);\n",
    "_abi=_abiBinJson.contracts[contractName].abi;\n",
    "_abiArray=JSON.parse(_abi);      //JSON parsing needed!!\n",
    "_bin=_abiBinJson.contracts[contractName].bin;\n",
    "\n",
    "//console.log(\"- ABI: \" + _abiArray);\n",
    "//console.log(\"- Bytecode: \" + _bin);\n",
    "\n",
    "async function deploy() {\n",
    "    const accounts = await web3.eth.getAccounts();\n",
    "    console.log(\"Deploying the contract from \" + accounts[0]);\n",
    "    var deployed = await new web3.eth.Contract(_abiArray)\n",
    "        .deploy({data: \"0x\"+_bin})\n",
    "        .send({from: accounts[0], gas: 259210}, function(err, transactionHash) {\n",
    "                if(!err) console.log(\"hash: \" + transactionHash); \n",
    "        })\n",
    "        //.then(function(newContractInstance){\n",
    "        //    console.log(newContractInstance)\n",
    "        //});\n",
    "    console.log(\"---> The contract deployed to: \" + deployed.options.address)\n",
    "}\n",
    "deploy()"
   ]
  },
  {
   "cell_type": "code",
   "execution_count": 72,
   "id": "d98bb84f",
   "metadata": {},
   "outputs": [
    {
     "name": "stdout",
     "output_type": "stream",
     "text": [
      "- contract name:  [ 'src/BankV3.sol:BankV3' ]\n",
      "Deploying the contract from 0xfcd386EABDd83dD20c6845BF9d3FA1d26AFf8454\n",
      "hash: 0x19fa4752cbeb40298b81e936eb1dff4d1890ace7eadf22e5a1a5a2641d6c5373\n",
      "---> The contract deployed to: 0x5Cf87e5EF217eF60C5bf3175DBb0848CC94829c7\n"
     ]
    }
   ],
   "source": [
    "!node src/BankV3DeployFromFile.js"
   ]
  },
  {
   "cell_type": "markdown",
   "id": "10f8f3ae",
   "metadata": {},
   "source": [
    "## 4단계 사용\n",
    "10초 이내 저축\n",
    "\n",
    "잔고 101보다 적은데 출금\n",
    "```\n",
    "블록체인에 send()가 필요한 함수는 비동기적으로 처리하기 위해 await로 처리한다. 비동기적으로 처리하면, 예를 들어 입금 deposit()하고 getBalance()하면 잔고에 입금분만큼 반영이 되어있는 것을 알 수 있다.\n",
    "```"
   ]
  },
  {
   "cell_type": "code",
   "execution_count": 77,
   "id": "c9f7e20d",
   "metadata": {},
   "outputs": [
    {
     "name": "stdout",
     "output_type": "stream",
     "text": [
      "Overwriting src/BankV3Use.js\n"
     ]
    }
   ],
   "source": [
    "%%writefile src/BankV3Use.js\n",
    "var Web3=require('web3');\n",
    "var _abiBinJson = require('./BankV3.json');      //importing a javascript file\n",
    "\n",
    "var web3 = new Web3(new Web3.providers.HttpProvider(\"http://localhost:8345\"));\n",
    "contractName=Object.keys(_abiBinJson.contracts); // reading ['src/BankV3.sol:BankV3']\n",
    "_abi=_abiBinJson.contracts[contractName].abi; //use just as read from file\n",
    "_abiArray=JSON.parse(_abi);      //JSON parsing needed!!\n",
    "\n",
    "console.log(\"- ABI: \" + _abiArray);\n",
    "\n",
    "var bank = new web3.eth.Contract(_abiArray,\"0x5Cf87e5EF217eF60C5bf3175DBb0848CC94829c7\");\n",
    "\n",
    "async function doIt() {\n",
    "    const accounts = await web3.eth.getAccounts();\n",
    "    console.log(\"Account: \" + accounts[0]);\n",
    "    const balanceBefore = await web3.eth.getBalance(accounts[0]);\n",
    "    console.log(\"Balance before: \" + balanceBefore);\n",
    "    bank.methods.getBalance().call().then(console.log);\n",
    "    await bank.methods.deposit(111).send({from: accounts[0], value:111});\n",
    "    bank.methods.getBalance().call().then(console.log);\n",
    "    await bank.methods.withdrawAll().send({from: accounts[0]});    //greater than 101\n",
    "    bank.methods.getBalance().call().then(console.log);\n",
    "    const balanceAfter = await web3.eth.getBalance(accounts[0]);\n",
    "    console.log(\"Balance after: \" + balanceAfter);\n",
    "    console.log(\"Balance diff: \" + (balanceBefore - balanceAfter));    \n",
    "}\n",
    "doIt()"
   ]
  },
  {
   "cell_type": "code",
   "execution_count": 78,
   "id": "4a97f18d",
   "metadata": {},
   "outputs": [
    {
     "name": "stdout",
     "output_type": "stream",
     "text": [
      "- ABI: [object Object],[object Object],[object Object],[object Object],[object Object],[object Object],[object Object],[object Object]\n",
      "Account: 0xfcd386EABDd83dD20c6845BF9d3FA1d26AFf8454\n",
      "Balance before: 999997930375999986113\n",
      "Result { '0': '0', '1': '0' }\n",
      "Result { '0': '111', '1': '111' }\n",
      "Balance after: 999997772193999986113\n",
      "Balance diff: 158182000033792\n",
      "Result { '0': '0', '1': '0' }\n"
     ]
    }
   ],
   "source": [
    "!node src/BankV3Use.js"
   ]
  },
  {
   "cell_type": "markdown",
   "id": "164cec89",
   "metadata": {},
   "source": [
    "# -------------------------------------------------------------------------"
   ]
  },
  {
   "cell_type": "markdown",
   "id": "d3b86f71",
   "metadata": {},
   "source": [
    "# 이벤트\n",
    "* 프로그램에 의해 감지될 수 있는 동작을 의미한다. 키보드에서 어떤 키를 누르거나, 마우스로 클릭하거나 하는 것이 모두 이벤트에 해당\n",
    "* 블록체인에서의 이벤트는 이벤트는 로그에 기록이 된다. 그 로그를 계속 듣고 있다가, 자신이 원하는 것이 포착되면 그 것이 이벤트로 인식"
   ]
  },
  {
   "cell_type": "markdown",
   "id": "28cbe64a",
   "metadata": {},
   "source": [
    "## 단계 1. 이벤트 설정\n",
    "event PrintLog()\n",
    "## 단계 2. 함수를 호출할 때 이벤트가 발생하도록 연결한다.\n",
    "함수를 호출되고 emit 명령어를 만나게 되면 이벤트가 발생하는데 이를 binding이라고 한다.\n",
    "```\n",
    "funcion fireEvent(){\n",
    "    emit PrintLog() //이 시점에 이벤트가 발생한다. 즉, 로그에 PrintLog()가 적힌다.\n",
    "}\n",
    "```\n",
    "## 단계 3. 이벤트 발생을 callback 함수로 리스닝한다.\n",
    "events.PrintLog() 이런식으로 events.이벤트명으로 접근한다.\n",
    "1) 이벤트를 생성하고 리스닝한다.\n",
    "```\n",
    "> var myEvent = myInstance.events.PrintLog({from: web3.eth.accounts[0]}, {\n",
    "    fromBlock: 0,     //시작 블록 수\n",
    "    toBlock: 'latest' //끝 블록 수\n",
    "  });\n",
    "> myEvent.watch(function (error, result) {\n",
    "    if (!error) {\n",
    "        console.log(\"Event triggered ===> \",result);\n",
    "        process.exit(1);\n",
    "    }\n",
    "});\n",
    "```\n",
    "\n",
    "2) 또는 한 명령어로 합쳐서 다음과 같이 리스닝할 수 있다.\n",
    "```\n",
    "var myEvent = myInstance.events.PrintLog({fromBlock: 0}, fromfunction(error, event) {\n",
    "    if (!error)\n",
    "        console.log(event);\n",
    "});\n",
    "```\n",
    "대부분 (2)를 사용한다.\n",
    "## 단계 4. 함수호출로 이벤트 발생.\n",
    "> myInstance.fireEvent();\n",
    "## 단계 5. 이벤트 watch 중기\n",
    "> myEvent.stopWatching();"
   ]
  },
  {
   "cell_type": "markdown",
   "id": "88285f85",
   "metadata": {},
   "source": [
    "### event indexing\n",
    "### event overloading"
   ]
  },
  {
   "cell_type": "markdown",
   "id": "dad77566",
   "metadata": {},
   "source": [
    "# -------------------------------------------------------------------------"
   ]
  },
  {
   "cell_type": "markdown",
   "id": "e2e6db5e",
   "metadata": {},
   "source": [
    "## 웹소켓 연결과 해제\n"
   ]
  },
  {
   "cell_type": "code",
   "execution_count": 79,
   "id": "8f65ab98",
   "metadata": {},
   "outputs": [
    {
     "name": "stdout",
     "output_type": "stream",
     "text": [
      "Overwriting src/webSocketTest.js\n"
     ]
    }
   ],
   "source": [
    "%%writefile src/webSocketTest.js\n",
    "var Web3 = require('web3');\n",
    "const myProvider = new Web3.providers.WebsocketProvider(\"ws://localhost:8345\", {\n",
    "    clientConfig: {\n",
    "        keepalive:true, keepaliveInterval:10000\n",
    "    } \n",
    "  });\n",
    "var web3 = new Web3(myProvider);\n",
    "console.log(\"(1) websocket url: \", myProvider.connection.url); //web3.currentProvider.connection.url\n",
    "myProvider.on('connect', function() {\n",
    "    console.log(\"(2) connecting websocket: \"+web3.currentProvider.connected);\n",
    "    //myProvider.disconnect();\n",
    "    web3.currentProvider.connection.close();\n",
    "    console.log(\"(3) disconnecting Websocket: \"+web3.currentProvider.connected);\n",
    "});\n",
    "myProvider.on('close', function() { console.log(\"--> Websocket closed\"); });\n",
    "myProvider.on('end', function() { console.log(\"--> Websocket ended\"); });\n",
    "myProvider.on('error', function(error) { console.error(error); });"
   ]
  },
  {
   "cell_type": "code",
   "execution_count": 80,
   "id": "e7b3e28e",
   "metadata": {},
   "outputs": [
    {
     "name": "stdout",
     "output_type": "stream",
     "text": [
      "(1) websocket url:  ws://localhost:8345\n",
      "(2) connecting websocket: true\n",
      "(3) disconnecting Websocket: false\n",
      "--> Websocket ended\n"
     ]
    }
   ],
   "source": [
    "!node src/webSocketTest.js"
   ]
  },
  {
   "cell_type": "markdown",
   "id": "4c94c306",
   "metadata": {},
   "source": [
    "# -------------------------------------------------------------------------"
   ]
  },
  {
   "cell_type": "markdown",
   "id": "49d8e563",
   "metadata": {},
   "source": [
    "## 간단한 이벤트 발생\n",
    "이벤트를 만들고 함수가 호출되는 시점에 발생하도록 해보자. 이벤트는 발생하는 시점에 \"Hello World!\" 문자열이 출력되도록 한다. 이벤트가 발생하는지는 클라이언트에서 리스닝해서 알아 낸다. 이벤트가 발생하면 로그에 기록이 되고, 리스닝한다는 것은 이런 로그의 기록에 이벤트가 발생했는지를 확인하는 것"
   ]
  },
  {
   "cell_type": "markdown",
   "id": "40d2f336",
   "metadata": {},
   "source": [
    "## 1단계 컨트랙 개발"
   ]
  },
  {
   "cell_type": "code",
   "execution_count": 81,
   "id": "287a5a21",
   "metadata": {},
   "outputs": [
    {
     "name": "stdout",
     "output_type": "stream",
     "text": [
      "Overwriting src/EventTest.sol\n"
     ]
    }
   ],
   "source": [
    "%%writefile src/EventTest.sol\n",
    "//SPDX-License-Identifier: GPL-3.0-or-later\n",
    "pragma solidity ^0.6.4;\n",
    "\n",
    "contract EventTest {\n",
    "    event MyLog(string my);\n",
    "    function myFunction() public {\n",
    "        emit MyLog(\"Hello World!\");\n",
    "    }\n",
    "}"
   ]
  },
  {
   "cell_type": "markdown",
   "id": "c821cbdb",
   "metadata": {},
   "source": [
    "## 2단계 컴파일"
   ]
  },
  {
   "cell_type": "code",
   "execution_count": 82,
   "id": "a7528622",
   "metadata": {},
   "outputs": [],
   "source": [
    "!solc --optimize --combined-json abi,bin src/EventTest.sol > src/EventTest.json"
   ]
  },
  {
   "cell_type": "markdown",
   "id": "be61128a",
   "metadata": {},
   "source": [
    "## 3단계 컨트랙 배포"
   ]
  },
  {
   "cell_type": "code",
   "execution_count": 83,
   "id": "24d77866",
   "metadata": {},
   "outputs": [
    {
     "name": "stdout",
     "output_type": "stream",
     "text": [
      "Overwriting src/EventTestDeployFromFile.js\n"
     ]
    }
   ],
   "source": [
    "%%writefile src/EventTestDeployFromFile.js\n",
    "var Web3 = require('web3');\n",
    "var _abiBinJson = require('./EventTest.json');      //importing a javascript file\n",
    "\n",
    "var web3 = new Web3(new Web3.providers.HttpProvider(\"http://localhost:8345\"));\n",
    "\n",
    "contractName=Object.keys(_abiBinJson.contracts); // reading ['src/EventTest.sol:EventTest']\n",
    "console.log(\"- contract name: \", contractName);\n",
    "_abi=_abiBinJson.contracts[contractName].abi;\n",
    "_abiArray=JSON.parse(_abi);      //JSON parsing needed!!\n",
    "_bin=_abiBinJson.contracts[contractName].bin;\n",
    "\n",
    "//console.log(\"- ABI: \" + _abiArray);\n",
    "//console.log(\"- Bytecode: \" + _bin);\n",
    "\n",
    "async function deploy() {\n",
    "    const accounts = await web3.eth.getAccounts();\n",
    "    console.log(\"Deploying the contract from \" + accounts[0]);\n",
    "    var deployed = await new web3.eth.Contract(_abiArray)\n",
    "        .deploy({data: \"0x\"+_bin})\n",
    "        .send({from: accounts[0], gas: 259210}, function(err, transactionHash) {\n",
    "                if(!err) console.log(\"hash: \" + transactionHash); \n",
    "        })\n",
    "        //.then(function(newContractInstance){\n",
    "        //    console.log(newContractInstance)\n",
    "        //});\n",
    "    console.log(\"---> The contract deployed to: \" + deployed.options.address)\n",
    "}\n",
    "deploy()"
   ]
  },
  {
   "cell_type": "code",
   "execution_count": 84,
   "id": "fe813e2c",
   "metadata": {},
   "outputs": [
    {
     "name": "stdout",
     "output_type": "stream",
     "text": [
      "- contract name:  [ 'src/EventTest.sol:EventTest' ]\n",
      "Deploying the contract from 0xfcd386EABDd83dD20c6845BF9d3FA1d26AFf8454\n",
      "hash: 0x6646ba7b610d3d1750701f94bed76c62b9564cad7d3f26317ef919ccd27d1dd9\n",
      "---> The contract deployed to: 0xaF210FA55a6AcB051fB6E927654a1E32cdAE7324\n"
     ]
    }
   ],
   "source": [
    "!node src/EventTestDeployFromFile.js"
   ]
  },
  {
   "cell_type": "markdown",
   "id": "cb1b103a",
   "metadata": {},
   "source": [
    "* 위에서 주어진 transactionHash를 가지고 처리결과를 알 수 있다. gas 사용량, contractAddress도 찾을 수 있다."
   ]
  },
  {
   "cell_type": "code",
   "execution_count": 88,
   "id": "427ba896",
   "metadata": {},
   "outputs": [
    {
     "name": "stdout",
     "output_type": "stream",
     "text": [
      "{\n",
      "  blockHash: \"0xd46d715907817c3c3c3f1b2574be9ebb4cf78545afba5d74d8dc36ff9e0b2076\",\n",
      "  blockNumber: 23,\n",
      "  contractAddress: \"0xaf210fa55a6acb051fb6e927654a1e32cdae7324\",\n",
      "  cumulativeGasUsed: 94043,\n",
      "  effectiveGasPrice: \"0x77359400\",\n",
      "  from: \"0xfcd386eabdd83dd20c6845bf9d3fa1d26aff8454\",\n",
      "  gasUsed: 94043,\n",
      "  logs: [],\n",
      "  logsBloom: \"0x00000000000000000000000000000000000000000000000000000000000000000000000000000000000000000000000000000000000000000000000000000000000000000000000000000000000000000000000000000000000000000000000000000000000000000000000000000000000000000000000000000000000000000000000000000000000000000000000000000000000000000000000000000000000000000000000000000000000000000000000000000000000000000000000000000000000000000000000000000000000000000000000000000000000000000000000000000000000000000000000000000000000000000000000000000000\",\n",
      "  status: \"0x1\",\n",
      "  to: null,\n",
      "  transactionHash: \"0x6646ba7b610d3d1750701f94bed76c62b9564cad7d3f26317ef919ccd27d1dd9\",\n",
      "  transactionIndex: 0,\n",
      "  type: \"0x0\"\n",
      "}\n"
     ]
    }
   ],
   "source": [
    "!geth --exec \"eth.getTransactionReceipt('0x6646ba7b610d3d1750701f94bed76c62b9564cad7d3f26317ef919ccd27d1dd9');\" attach http://localhost:8345"
   ]
  },
  {
   "cell_type": "markdown",
   "id": "3ad37c60",
   "metadata": {},
   "source": [
    "## 4단계 사용"
   ]
  },
  {
   "cell_type": "code",
   "execution_count": 93,
   "id": "3a25d522",
   "metadata": {},
   "outputs": [
    {
     "name": "stdout",
     "output_type": "stream",
     "text": [
      "Overwriting src/EventTestHttpNoEventFiredUse.js\n"
     ]
    }
   ],
   "source": [
    "%%writefile src/EventTestHttpNoEventFiredUse.js\n",
    "var Web3=require('web3');\n",
    "var _abiBinJson = require('./EventTest.json');      //importing a javascript file\n",
    "\n",
    "var web3 = new Web3(new Web3.providers.HttpProvider(\"http://localhost:8345\"));\n",
    "contractName=Object.keys(_abiBinJson.contracts); // reading ['src/EventTest.sol:EventTest']\n",
    "\n",
    "_abi=_abiBinJson.contracts[contractName].abi;\n",
    "\n",
    "_abiArray=JSON.parse(_abi);      //JSON parsing needed!!\n",
    "//_bin=_abiBinJson.contracts[contractName].bin;\n",
    "console.log(\"- ABI: \" + _abiArray);\n",
    "//console.log(\"- Bytecode: \" + _bin);\n",
    "var _test = new web3.eth.Contract(_abiArray,\"0xaF210FA55a6AcB051fB6E927654a1E32cdAE7324\");\n",
    "var event = _test.events.MyLog({fromBlock: 0}, function (error, result) {\n",
    "    if (!error) {\n",
    "        console.log(\"Event fired: \" + JSON.stringify(result.returnValues));\n",
    "    }\n",
    "});\n",
    "\n",
    "async function doIt() {\n",
    "    const accounts = await web3.eth.getAccounts();\n",
    "    console.log(\"Account: \" + accounts[0]);\n",
    "    const balanceBefore = await web3.eth.getBalance(accounts[0]);\n",
    "    console.log(\"Balance before: \" + balanceBefore);\n",
    "    const value = await _test.methods.myFunction()\n",
    "        .send({from: accounts[0], gas: 364124, gasPrice: '1000000000'})\n",
    "        //.then(function(value) {console.log(\"---> myFunction called \" + JSON.stringify(value.events.MyLog.returnValues));});\n",
    "    console.log(\"---> myFunction called \" + JSON.stringify(value.events.MyLog.returnValues));\n",
    "    const balanceAfter = await web3.eth.getBalance(accounts[0]);\n",
    "    console.log(\"Balance after: \" + balanceAfter);\n",
    "    console.log(\"Balance diff: \" + (balanceBefore - balanceAfter));\n",
    "}\n",
    "doIt()"
   ]
  },
  {
   "cell_type": "code",
   "execution_count": 94,
   "id": "5b74a11c",
   "metadata": {},
   "outputs": [
    {
     "name": "stdout",
     "output_type": "stream",
     "text": [
      "- ABI: [object Object],[object Object]\n",
      "Account: 0xfcd386EABDd83dD20c6845BF9d3FA1d26AFf8454\n",
      "Balance before: 999997563043999986113\n",
      "---> myFunction called {\"0\":\"Hello World!\",\"my\":\"Hello World!\"}\n",
      "Balance after: 999997540240999986113\n",
      "Balance diff: 22803000066048\n"
     ]
    }
   ],
   "source": [
    "!node src/EventTestHttpNoEventFiredUse.js"
   ]
  },
  {
   "cell_type": "markdown",
   "id": "ec7bacf9",
   "metadata": {},
   "source": [
    "## WebSocketProvider\n",
    "파일에 로그 쓰기\n",
    "이벤트가 발생하면 다음 시나리오를 생각해보자. 로컬에 다른 프로세스를 호출하는 작업을 할 수 있다. 다른 함수, 예를 들면, 로컬에서 주문상품을 배송하게 할 수 있다. 파일에 쓰는 시나리오도 가능하다.\n",
    "\n",
    "fs.writeFile(파일명, 데이터, 인코딩방식, callback함수)함수를 사용하여 이벤트 발생 로그를 로컬 파일에 써보자. fs.appendFile()은 파일에 추가하는 기능이다."
   ]
  },
  {
   "cell_type": "code",
   "execution_count": 99,
   "id": "d9dabd32",
   "metadata": {},
   "outputs": [
    {
     "name": "stdout",
     "output_type": "stream",
     "text": [
      "Overwriting src/EventTestWsUse.js\n"
     ]
    }
   ],
   "source": [
    "%%writefile src/EventTestWsUse.js\n",
    "var Web3=require('web3');\n",
    "var fs = require('fs');\n",
    "var _abiBinJson = require('./EventTest.json');      //importing a javascript file\n",
    "\n",
    "var web3 = new Web3(new Web3.providers.WebsocketProvider(\"ws://localhost:8345\"));\n",
    "contractName=Object.keys(_abiBinJson.contracts); // reading ['src/EventTest.sol:EventTest']\n",
    "\n",
    "_abi=_abiBinJson.contracts[contractName].abi; //use just as read from file\n",
    "\n",
    "_abiArray=JSON.parse(_abi);      //JSON parsing needed!!\n",
    "\n",
    "console.log(\"- ABI: \" + _abiArray);\n",
    "\n",
    "\n",
    "async function doIt() {\n",
    "    var _test = new web3.eth.Contract(_abiArray, '0xaF210FA55a6AcB051fB6E927654a1E32cdAE7324');\n",
    "    var event = _test.events.MyLog({fromBlock: 0}, function (error, result) {\n",
    "        if (!error) {\n",
    "            log = JSON.stringify(result.returnValues);\n",
    "            console.log(\"Event fired: \" + log);\n",
    "            //fs.writeFile(\"src/EventTestLog.txt\", log, \"utf-8\", function(e) {\n",
    "            fs.appendFile(\"src/EventTestLog.txt\", log, \"utf-8\", function(e) {\n",
    "                if(!e) {\n",
    "                    console.log(\">> Writing to file\");\n",
    "                }\n",
    "            });\n",
    "        }\n",
    "    });\n",
    "    const accounts = await web3.eth.getAccounts();\n",
    "    console.log(\"Account: \" + accounts[0]);\n",
    "    const balanceBefore = await web3.eth.getBalance(accounts[0]);\n",
    "    console.log(\"Balance before: \" + balanceBefore);\n",
    "    const value = await _test.methods.myFunction()\n",
    "        .send({from: accounts[0], gas: 364124, gasPrice: '1000000000'})\n",
    "        //.then(function(value) {console.log(\"---> myFunction called \" + JSON.stringify(value.events.MyLog.returnValues));});\n",
    "    console.log(\"---> myFunction called \" + JSON.stringify(value.events.MyLog.returnValues));\n",
    "    const balanceAfter = await web3.eth.getBalance(accounts[0]);\n",
    "    console.log(\"Balance after: \" + balanceAfter);\n",
    "    console.log(\"Balance diff: \" + (balanceBefore - balanceAfter));\n",
    "    process.exit(1); //force exit to disconnect websocket\n",
    "}\n",
    "\n",
    "doIt()"
   ]
  },
  {
   "cell_type": "code",
   "execution_count": 100,
   "id": "fa802d8f",
   "metadata": {},
   "outputs": [
    {
     "name": "stdout",
     "output_type": "stream",
     "text": [
      "- ABI: [object Object],[object Object]\n",
      "Account: 0xfcd386EABDd83dD20c6845BF9d3FA1d26AFf8454\n",
      "Balance before: 999997498112999986113\n",
      "Event fired: {\"0\":\"Hello World!\",\"my\":\"Hello World!\"}\n",
      "---> myFunction called {\"0\":\"Hello World!\",\"my\":\"Hello World!\"}\n",
      ">> Writing to file\n",
      "Balance after: 999997475309999986113\n",
      "Balance diff: 22802999934976\n"
     ]
    }
   ],
   "source": [
    "!node src/EventTestWsUse.js"
   ]
  },
  {
   "cell_type": "code",
   "execution_count": 101,
   "id": "5c59469a",
   "metadata": {},
   "outputs": [
    {
     "name": "stdout",
     "output_type": "stream",
     "text": [
      "{\"0\":\"Hello World!\",\"my\":\"Hello World!\"}{\"0\":\"Hello World!\",\"my\":\"Hello World!\"}{\"0\":\"Hello World!\",\"my\":\"Hello World!\"}\n"
     ]
    }
   ],
   "source": [
    "!type src\\EventTestLog.txt"
   ]
  },
  {
   "cell_type": "markdown",
   "id": "ef0b21be",
   "metadata": {},
   "source": [
    "# -------------------------------------------------------------------------"
   ]
  },
  {
   "cell_type": "markdown",
   "id": "d4d3e0d1",
   "metadata": {},
   "source": [
    "# 실습문제: 주문하면서 복수의 이벤트 사용"
   ]
  },
  {
   "cell_type": "markdown",
   "id": "fed3dfef",
   "metadata": {},
   "source": [
    "## 1단계 컨트랙 개발"
   ]
  },
  {
   "cell_type": "code",
   "execution_count": 102,
   "id": "d8441cf0",
   "metadata": {},
   "outputs": [
    {
     "name": "stdout",
     "output_type": "stream",
     "text": [
      "Overwriting src/OrderEvent.sol\n"
     ]
    }
   ],
   "source": [
    "%%writefile src/OrderEvent.sol\n",
    "//SPDX-License-Identifier: GPL-3.0-or-later\n",
    "pragma solidity ^0.6.4;\n",
    "\n",
    "contract OrderEvent {\n",
    "    uint unitPrice = 10;\n",
    "    event OrderLog(string);\n",
    "    event OrderLog(bytes2 _itemId, uint _value);\n",
    "    event OrderLog(uint256 timestamp);\n",
    "    event OrderLog(address indexed _from, bytes2 _itemId, uint indexed _value);\n",
    "\n",
    "    function order(bytes2 _itemId, uint quantity) public payable {\n",
    "        //uint256 orderTime = now;\n",
    "        uint256 orderTime = block.timestamp;\n",
    "        uint256 orderAmount = quantity * unitPrice;\n",
    "        require(msg.value == orderAmount);\n",
    "        emit OrderLog(\"Ordered\");\n",
    "        emit OrderLog(orderTime);\n",
    "        emit OrderLog(msg.sender, _itemId, msg.value);\n",
    "    }\n",
    "}"
   ]
  },
  {
   "cell_type": "markdown",
   "id": "3e0f7e3f",
   "metadata": {},
   "source": [
    "## 2단계 컴파일"
   ]
  },
  {
   "cell_type": "code",
   "execution_count": 103,
   "id": "c3ba1ba4",
   "metadata": {},
   "outputs": [],
   "source": [
    "!solc --optimize --combined-json abi,bin src/OrderEvent.sol > src/OrderEvent.json"
   ]
  },
  {
   "cell_type": "markdown",
   "id": "74af4d36",
   "metadata": {},
   "source": [
    "## 3단계 컨트랙 배포\n",
    "```\n",
    "컴파일하고 출력되는 abi, bin을 복사해서 배포 프로그램에 넣어주자. 사설망에 배포하려면, 계정을 unlock하는 것을 잊지 말자.\n",
    "\n",
    "> personal.unlockAccount(eth.accounts[0]);\n",
    "Unlock account 0x21c704354d07f804bab01894e8b4eb4e0eba7451\n",
    "Passphrase:\n",
    "```"
   ]
  },
  {
   "cell_type": "code",
   "execution_count": 104,
   "id": "87f02289",
   "metadata": {},
   "outputs": [
    {
     "name": "stdout",
     "output_type": "stream",
     "text": [
      "Writing src/OrderEventDeploy.js\n"
     ]
    }
   ],
   "source": [
    "%%writefile src/OrderEventDeploy.js\n",
    "var Web3 = require('web3');\n",
    "var _abiBinJson = require('./OrderEvent.json');      //importing a javascript file\n",
    "\n",
    "var web3 = new Web3(new Web3.providers.HttpProvider(\"http://localhost:8345\"));\n",
    "\n",
    "contractName=Object.keys(_abiBinJson.contracts); // reading ['src/OrderEvent.sol:OrderEvent']\n",
    "console.log(\"- contract name: \", contractName);\n",
    "_abi=_abiBinJson.contracts[contractName].abi;\n",
    "_abiArray=JSON.parse(_abi);      //JSON parsing needed!! o\n",
    "_bin=_abiBinJson.contracts[contractName].bin;\n",
    "\n",
    "async function deploy() {\n",
    "    const accounts = await web3.eth.getAccounts();\n",
    "    console.log(\"Deploying the contract from \" + accounts[0]);\n",
    "    var deployed = await new web3.eth.Contract(_abiArray)\n",
    "        .deploy({data: \"0x\"+_bin})\n",
    "        .send({from: accounts[0], gas: 259210}, function(err, transactionHash) {\n",
    "                if(!err) console.log(\"hash: \" + transactionHash); \n",
    "        })\n",
    "        //.then(function(newContractInstance){\n",
    "        //    console.log(newContractInstance)\n",
    "        //});\n",
    "    console.log(\"---> The contract deployed to: \" + deployed.options.address)\n",
    "}\n",
    "deploy()"
   ]
  },
  {
   "cell_type": "code",
   "execution_count": 105,
   "id": "318e0152",
   "metadata": {
    "scrolled": true
   },
   "outputs": [
    {
     "name": "stdout",
     "output_type": "stream",
     "text": [
      "- contract name:  [ 'src/OrderEvent.sol:OrderEvent' ]\n",
      "Deploying the contract from 0xfcd386EABDd83dD20c6845BF9d3FA1d26AFf8454\n",
      "hash: 0xc518112c9c47b56c3422293d6035c08282e4bfc361bf813acb6414c96861c494\n",
      "---> The contract deployed to: 0x0130339B4Fd0817f6DDf0F2d6C271D134BA16b05\n"
     ]
    }
   ],
   "source": [
    "!node src/OrderEventDeploy.js"
   ]
  },
  {
   "cell_type": "markdown",
   "id": "64b54ec8",
   "metadata": {},
   "source": [
    "* 해쉬 넣어 확인"
   ]
  },
  {
   "cell_type": "code",
   "execution_count": 106,
   "id": "c8a8c536",
   "metadata": {},
   "outputs": [
    {
     "name": "stdout",
     "output_type": "stream",
     "text": [
      "{\n",
      "  blockHash: \"0x060391a9c797ea7e193056a0814e250e2d8781a700d5ba645aec65946161910d\",\n",
      "  blockNumber: 29,\n",
      "  contractAddress: \"0x0130339b4fd0817f6ddf0f2d6c271d134ba16b05\",\n",
      "  cumulativeGasUsed: 151387,\n",
      "  effectiveGasPrice: \"0x77359400\",\n",
      "  from: \"0xfcd386eabdd83dd20c6845bf9d3fa1d26aff8454\",\n",
      "  gasUsed: 151387,\n",
      "  logs: [],\n",
      "  logsBloom: \"0x00000000000000000000000000000000000000000000000000000000000000000000000000000000000000000000000000000000000000000000000000000000000000000000000000000000000000000000000000000000000000000000000000000000000000000000000000000000000000000000000000000000000000000000000000000000000000000000000000000000000000000000000000000000000000000000000000000000000000000000000000000000000000000000000000000000000000000000000000000000000000000000000000000000000000000000000000000000000000000000000000000000000000000000000000000000\",\n",
      "  status: \"0x1\",\n",
      "  to: null,\n",
      "  transactionHash: \"0xc518112c9c47b56c3422293d6035c08282e4bfc361bf813acb6414c96861c494\",\n",
      "  transactionIndex: 0,\n",
      "  type: \"0x0\"\n",
      "}\n"
     ]
    }
   ],
   "source": [
    "\n",
    "!geth --exec \"eth.getTransactionReceipt('0xc518112c9c47b56c3422293d6035c08282e4bfc361bf813acb6414c96861c494')\" attach http://localhost:8345"
   ]
  },
  {
   "cell_type": "markdown",
   "id": "e2aa290e",
   "metadata": {},
   "source": [
    "## 4단계 사용\n",
    "```\n",
    "event는 async방식으로 order()함수가 호출되면 실행된다. Order에 넘겨주는 매개변수는 바이트는 2바이트를 채워서 \"0x1234\", 주문량은 정수 3으로 맞추어 준다. 호출한 클라이언트에 event의 argument를 받아볼 수 있다 (예: result.args._from은 주소)\n",
    "\n",
    "currentProvider는 MetaMask, Mist와 같은 Wallet을 사용하는 경우 자동으로 설정된다.\n",
    "```"
   ]
  },
  {
   "cell_type": "code",
   "execution_count": 109,
   "id": "bf444298",
   "metadata": {},
   "outputs": [
    {
     "name": "stdout",
     "output_type": "stream",
     "text": [
      "Overwriting src/OrderEventUse.js\n"
     ]
    }
   ],
   "source": [
    "%%writefile src/OrderEventUse.js\n",
    "var Web3=require('web3');\n",
    "var _abiBinJson = require('./OrderEvent.json');      //importing a javascript file\n",
    "\n",
    "\n",
    "var web3 = new Web3(new Web3.providers.WebsocketProvider(\"ws://localhost:8345\"));\n",
    "contractName=Object.keys(_abiBinJson.contracts); // reading ['src/OrderEvent.sol:OrderEvent']\n",
    "\n",
    "_abi=_abiBinJson.contracts[contractName].abi;\n",
    "\n",
    "_abiArray=JSON.parse(_abi);      //JSON parsing needed!!\n",
    "console.log(\"- ABI: \" + _abiArray);\n",
    "\n",
    "\n",
    "async function doIt() {\n",
    "    var _order = new web3.eth.Contract(_abiArray, '0x0130339B4Fd0817f6DDf0F2d6C271D134BA16b05');\n",
    "    const accounts = await web3.eth.getAccounts();\n",
    "    console.log(\"Account: \" + accounts[0]);\n",
    "    var event = _order.events.OrderLog({\n",
    "            filter: {_from: accounts[0], _value: 30},\n",
    "            fromBlock: 'latest', toBlock: 'pending'\n",
    "        }, function (error, result) {\n",
    "        if (!error) {\n",
    "            console.log(\"Event fired: \" + JSON.stringify(result.returnValues));\n",
    "        }\n",
    "    });\n",
    "    var value;\n",
    "    const balanceBefore = await web3.eth.getBalance(accounts[0]);\n",
    "    console.log(\"Balance before: \" + balanceBefore);\n",
    "    // this will fire an event\n",
    "    my = await _order.methods.order(\"0x1234\", 3)\n",
    "        .send({from: accounts[0], gas: 100000, value:30})\n",
    "        //.then(function(my) {console.log(\"---> MyFunction called \" + JSON.stringify(my.events.OrderLog.returnValues));});\n",
    "    console.log(\"---> MyFunction called \" + JSON.stringify(my.events.OrderLog.returnValues));\n",
    "    // this will fire another event\n",
    "    my = await _order.methods.order(\"0x1234\", 4).send({from: accounts[0], gas: 100000, value:40});\n",
    "    console.log(\"---> MyFunction called \" + JSON.stringify(my.events.OrderLog.returnValues));\n",
    "    // this will NOT fire another eventㅣ\n",
    "    my = await _order.methods.order(\"0x1234\", 10).send({from: accounts[0], gas: 100000, value:100});\n",
    "    console.log(\"---> MyFunction called \" + JSON.stringify(my.events.OrderLog.returnValues));\n",
    "    const balanceAfter = await web3.eth.getBalance(accounts[0]);\n",
    "    console.log(\"Balance after: \" + balanceAfter);\n",
    "    console.log(\"Balance diff: \" + (balanceBefore - balanceAfter));    \n",
    "    process.exit(1); //force exit to disconnect websocket\n",
    "}\n",
    "\n",
    "doIt()"
   ]
  },
  {
   "cell_type": "code",
   "execution_count": 110,
   "id": "945d0b4f",
   "metadata": {},
   "outputs": [
    {
     "name": "stdout",
     "output_type": "stream",
     "text": [
      "- ABI: [object Object],[object Object],[object Object],[object Object],[object Object]\n",
      "Account: 0xfcd386EABDd83dD20c6845BF9d3FA1d26AFf8454\n",
      "Balance before: 999997129823999986083\n",
      "Event fired: {\"0\":\"0xfcd386EABDd83dD20c6845BF9d3FA1d26AFf8454\",\"1\":\"0x1234\",\"2\":\"30\",\"_from\":\"0xfcd386EABDd83dD20c6845BF9d3FA1d26AFf8454\",\"_itemId\":\"0x1234\",\"_value\":\"30\"}\n",
      "---> MyFunction called undefined\n",
      "---> MyFunction called undefined\n",
      "---> MyFunction called undefined\n",
      "Balance after: 999996960719999985913\n",
      "Balance diff: 169104000024576\n"
     ]
    }
   ],
   "source": [
    "!node src/OrderEventUse.js"
   ]
  },
  {
   "cell_type": "markdown",
   "id": "ae8271f3",
   "metadata": {},
   "source": [
    "# -------------------------------------------------------------------------"
   ]
  },
  {
   "cell_type": "markdown",
   "id": "c1261cc9",
   "metadata": {},
   "source": [
    "## 실습문제 - 주문하면서 복수의 이벤트 사용"
   ]
  },
  {
   "cell_type": "markdown",
   "id": "66d14c2a",
   "metadata": {},
   "source": [
    "## 1단계 컨트랙 개발"
   ]
  },
  {
   "cell_type": "code",
   "execution_count": 1,
   "id": "e4ab3674",
   "metadata": {},
   "outputs": [
    {
     "name": "stdout",
     "output_type": "stream",
     "text": [
      "Overwriting src/OrderEvent.sol\n"
     ]
    }
   ],
   "source": [
    "%%writefile src/OrderEvent.sol\n",
    "//SPDX-License-Identifier: GPL-3.0-or-later\n",
    "pragma solidity ^0.6.4;\n",
    "\n",
    "contract OrderEvent {\n",
    "    uint unitPrice = 10;\n",
    "    event OrderLog(string);\n",
    "    event OrderLog(bytes2 _itemId, uint _value);\n",
    "    event OrderLog(uint256 timestamp);\n",
    "    event OrderLog(address indexed _from, bytes2 _itemId, uint indexed _value);\n",
    "\n",
    "    function order(bytes2 _itemId, uint quantity) public payable {\n",
    "        //uint256 orderTime = now;\n",
    "        uint256 orderTime = block.timestamp;\n",
    "        uint256 orderAmount = quantity * unitPrice;\n",
    "        require(msg.value == orderAmount);\n",
    "        emit OrderLog(\"Ordered\");\n",
    "        emit OrderLog(orderTime);\n",
    "        emit OrderLog(msg.sender, _itemId, msg.value);\n",
    "    }\n",
    "}"
   ]
  },
  {
   "cell_type": "markdown",
   "id": "148881f1",
   "metadata": {},
   "source": [
    "## 2단계 컴파일"
   ]
  },
  {
   "cell_type": "code",
   "execution_count": 2,
   "id": "0038ccae",
   "metadata": {},
   "outputs": [],
   "source": [
    "!solc --optimize --combined-json abi,bin src/OrderEvent.sol > src/OrderEvent.json"
   ]
  },
  {
   "cell_type": "markdown",
   "id": "391f6942",
   "metadata": {},
   "source": [
    "## 3단계 컨트랙 배포"
   ]
  },
  {
   "cell_type": "code",
   "execution_count": 3,
   "id": "e0f876b8",
   "metadata": {},
   "outputs": [
    {
     "name": "stdout",
     "output_type": "stream",
     "text": [
      "Overwriting src/OrderEventDeploy.js\n"
     ]
    }
   ],
   "source": [
    "%%writefile src/OrderEventDeploy.js\n",
    "var Web3 = require('web3');\n",
    "var _abiBinJson = require('./OrderEvent.json');      //importing a javascript file\n",
    "\n",
    "var web3 = new Web3(new Web3.providers.HttpProvider(\"http://localhost:8345\"));\n",
    "\n",
    "contractName=Object.keys(_abiBinJson.contracts); // reading ['src/OrderEvent.sol:OrderEvent']\n",
    "console.log(\"- contract name: \", contractName);\n",
    "_abi=_abiBinJson.contracts[contractName].abi;\n",
    "\n",
    "_abiArray=JSON.parse(_abi);      //JSON parsing needed!!\n",
    "_bin=_abiBinJson.contracts[contractName].bin;\n",
    "\n",
    "\n",
    "\n",
    "async function deploy() {\n",
    "    const accounts = await web3.eth.getAccounts();\n",
    "    console.log(\"Deploying the contract from \" + accounts[0]);\n",
    "    var deployed = await new web3.eth.Contract(_abiArray)\n",
    "        .deploy({data: \"0x\"+_bin})\n",
    "        .send({from: accounts[0], gas: 259210}, function(err, transactionHash) {\n",
    "                if(!err) console.log(\"hash: \" + transactionHash); \n",
    "        })\n",
    "        //.then(function(newContractInstance){\n",
    "        //    console.log(newContractInstance)\n",
    "        //});\n",
    "    console.log(\"---> The contract deployed to: \" + deployed.options.address)\n",
    "}\n",
    "deploy()"
   ]
  },
  {
   "cell_type": "code",
   "execution_count": 4,
   "id": "c12e987a",
   "metadata": {},
   "outputs": [
    {
     "name": "stdout",
     "output_type": "stream",
     "text": [
      "- contract name:  [ 'src/OrderEvent.sol:OrderEvent' ]\n",
      "Deploying the contract from 0x38B90A15f126760Ccd539D9A9fbb8c10bd37c02b\n",
      "hash: 0xe16b08737c3dd20d4d9c761fb65e1c9bd48809abf7b39bad1c9e6d59b614d5d6\n",
      "---> The contract deployed to: 0xd4d3b0b5d6C03C815187C6b75D1672063A1Dc95C\n"
     ]
    }
   ],
   "source": [
    "!node src/OrderEventDeploy.js"
   ]
  },
  {
   "cell_type": "code",
   "execution_count": 5,
   "id": "9ba8ad0f",
   "metadata": {},
   "outputs": [
    {
     "name": "stdout",
     "output_type": "stream",
     "text": [
      "{\n",
      "  blockHash: \"0x256dc5951d2a435bb2a977d4801b47a3448ab5d1a5f3e09a040d4ca21ee27c68\",\n",
      "  blockNumber: 1,\n",
      "  contractAddress: \"0xd4d3b0b5d6c03c815187c6b75d1672063a1dc95c\",\n",
      "  cumulativeGasUsed: 151387,\n",
      "  effectiveGasPrice: \"0x77359400\",\n",
      "  from: \"0x38b90a15f126760ccd539d9a9fbb8c10bd37c02b\",\n",
      "  gasUsed: 151387,\n",
      "  logs: [],\n",
      "  logsBloom: \"0x00000000000000000000000000000000000000000000000000000000000000000000000000000000000000000000000000000000000000000000000000000000000000000000000000000000000000000000000000000000000000000000000000000000000000000000000000000000000000000000000000000000000000000000000000000000000000000000000000000000000000000000000000000000000000000000000000000000000000000000000000000000000000000000000000000000000000000000000000000000000000000000000000000000000000000000000000000000000000000000000000000000000000000000000000000000\",\n",
      "  status: \"0x1\",\n",
      "  to: null,\n",
      "  transactionHash: \"0xe16b08737c3dd20d4d9c761fb65e1c9bd48809abf7b39bad1c9e6d59b614d5d6\",\n",
      "  transactionIndex: 0,\n",
      "  type: \"0x0\"\n",
      "}\n"
     ]
    }
   ],
   "source": [
    "!geth --exec \"eth.getTransactionReceipt('0xe16b08737c3dd20d4d9c761fb65e1c9bd48809abf7b39bad1c9e6d59b614d5d6')\" attach http://localhost:8345"
   ]
  },
  {
   "cell_type": "markdown",
   "id": "d645512e",
   "metadata": {},
   "source": [
    "## 4단계 사용\n",
    "event는 async방식으로 order()함수가 호출되면 실행된다.\n",
    "\n",
    "currentProvider는 MetaMask, Mist와 같은 Wallet을 사용하는 경우 자동으로 설정된다."
   ]
  },
  {
   "cell_type": "code",
   "execution_count": 8,
   "id": "71b20863",
   "metadata": {},
   "outputs": [
    {
     "name": "stdout",
     "output_type": "stream",
     "text": [
      "Overwriting src/OrderEventUse.js\n"
     ]
    }
   ],
   "source": [
    "%%writefile src/OrderEventUse.js\n",
    "var Web3=require('web3');\n",
    "var _abiBinJson = require('./OrderEvent.json');      //importing a javascript file\n",
    "\n",
    "var web3 = new Web3(new Web3.providers.WebsocketProvider(\"ws://localhost:8345\"));\n",
    "contractName=Object.keys(_abiBinJson.contracts); // reading ['src/OrderEvent.sol:OrderEvent']\n",
    "\n",
    "_abi=_abiBinJson.contracts[contractName].abi; //use just as read from file\n",
    "_abiArray=JSON.parse(_abi);      //JSON parsing needed!!\n",
    "\n",
    "console.log(\"- ABI: \" + _abiArray);\n",
    "\n",
    "async function doIt() {\n",
    "    var _order = new web3.eth.Contract(_abiArray, '0xd4d3b0b5d6C03C815187C6b75D1672063A1Dc95C');\n",
    "    const accounts = await web3.eth.getAccounts();\n",
    "    console.log(\"Account: \" + accounts[0]);\n",
    "    var event = _order.events.OrderLog({\n",
    "            filter: {_from: accounts[0], _value: 30},\n",
    "            fromBlock: 'latest', toBlock: 'pending'\n",
    "        }, function (error, result) {\n",
    "        if (!error) {\n",
    "            console.log(\"Event fired: \" + JSON.stringify(result.returnValues));\n",
    "        }\n",
    "    });\n",
    "    var value;\n",
    "    const balanceBefore = await web3.eth.getBalance(accounts[0]);\n",
    "    console.log(\"Balance before: \" + balanceBefore);\n",
    "    // this will fire an event\n",
    "    my = await _order.methods.order(\"0x1234\", 3)\n",
    "        .send({from: accounts[0], gas: 100000, value:30})\n",
    "        //.then(function(my) {console.log(\"---> MyFunction called \" + JSON.stringify(my.events.OrderLog.returnValues));});\n",
    "    console.log(\"---> MyFunction called \" + JSON.stringify(my.events.OrderLog.returnValues));\n",
    "    // this will fire another event\n",
    "    my = await _order.methods.order(\"0x1234\", 4).send({from: accounts[0], gas: 100000, value:40});\n",
    "    console.log(\"---> MyFunction called \" + JSON.stringify(my.events.OrderLog.returnValues));\n",
    "    // this will NOT fire another event\n",
    "    my = await _order.methods.order(\"0x1234\", 10).send({from: accounts[0], gas: 100000, value:100});\n",
    "    console.log(\"---> MyFunction called \" + JSON.stringify(my.events.OrderLog.returnValues));\n",
    "    const balanceAfter = await web3.eth.getBalance(accounts[0]);\n",
    "    console.log(\"Balance after: \" + balanceAfter);\n",
    "    console.log(\"Balance diff: \" + (balanceBefore - balanceAfter));    \n",
    "    process.exit(1); //force exit to disconnect websocket\n",
    "}\n",
    "\n",
    "doIt()"
   ]
  },
  {
   "cell_type": "code",
   "execution_count": 9,
   "id": "5d06b314",
   "metadata": {
    "scrolled": true
   },
   "outputs": [
    {
     "name": "stdout",
     "output_type": "stream",
     "text": [
      "- ABI: [object Object],[object Object],[object Object],[object Object],[object Object]\n",
      "Account: 0x38B90A15f126760Ccd539D9A9fbb8c10bd37c02b\n",
      "Balance before: 999999654513999999970\n",
      "Event fired: {\"0\":\"0x38B90A15f126760Ccd539D9A9fbb8c10bd37c02b\",\"1\":\"0x1234\",\"2\":\"30\",\"_from\":\"0x38B90A15f126760Ccd539D9A9fbb8c10bd37c02b\",\"_itemId\":\"0x1234\",\"_value\":\"30\"}\n",
      "---> MyFunction called undefined\n",
      "---> MyFunction called undefined\n",
      "---> MyFunction called undefined\n",
      "Balance after: 999999485409999999800\n",
      "Balance diff: 169104000024576\n"
     ]
    }
   ],
   "source": [
    "!node src/OrderEventUse.js"
   ]
  },
  {
   "cell_type": "markdown",
   "id": "019ea4c2",
   "metadata": {},
   "source": [
    "# -------------------------------------------------------------------------"
   ]
  },
  {
   "cell_type": "markdown",
   "id": "69903d65",
   "metadata": {},
   "source": [
    "# Fallback 함수\n",
    "* 어떤 함수를 호출했는데, 그 함수가 없는 경우 fallback을 실행한다.\n",
    "* 송금함수 호출시 없을 경우는 fallback() payable로 선언한다.\n",
    "```\n",
    "fallback() external payable {} //정상. 송금있는 경우 사용.\n",
    "fallback() external {} //정상. 송금없는 경우 사용.\n",
    "fallback() external payable { emit PrintLog(\"fallback\");} //정상\n",
    "fallback(bytes calldata _input) external returns(bytes memory _output) {} //정상. 그러나 최신버전에서만.\n",
    "```"
   ]
  },
  {
   "cell_type": "markdown",
   "id": "77a94aa1",
   "metadata": {},
   "source": [
    "## 실습 - 존재하지 않는 함수를 호출해서 fallback함수를 실행"
   ]
  },
  {
   "cell_type": "markdown",
   "id": "eb310408",
   "metadata": {},
   "source": [
    "## 1단계 컨트랙 개발"
   ]
  },
  {
   "cell_type": "code",
   "execution_count": 10,
   "id": "84298df5",
   "metadata": {},
   "outputs": [
    {
     "name": "stdout",
     "output_type": "stream",
     "text": [
      "Overwriting src/FallbackTest.sol\n"
     ]
    }
   ],
   "source": [
    "%%writefile src/FallbackTest.sol\n",
    "//SPDX-License-Identifier: GPL-3.0-or-later\n",
    "pragma solidity ^0.6.4;\n",
    "\n",
    "contract FallbackTest {\n",
    "    event PrintLog(string);\n",
    "    function callA () pure public returns(string memory){\n",
    "        return \"doing callA\";\n",
    "    }\n",
    "    fallback () external {\n",
    "        emit PrintLog(\"fallback called\");\n",
    "    }\n",
    "}"
   ]
  },
  {
   "cell_type": "markdown",
   "id": "8ef96271",
   "metadata": {},
   "source": [
    "## 2단계 컴파일"
   ]
  },
  {
   "cell_type": "code",
   "execution_count": 11,
   "id": "81972960",
   "metadata": {},
   "outputs": [],
   "source": [
    "!solc --optimize --combined-json abi,bin src/FallbackTest.sol > src/FallbackTest.json"
   ]
  },
  {
   "cell_type": "markdown",
   "id": "abfd6528",
   "metadata": {},
   "source": [
    "## 3단계 컨트랙 배포"
   ]
  },
  {
   "cell_type": "code",
   "execution_count": 14,
   "id": "71629fd2",
   "metadata": {},
   "outputs": [
    {
     "name": "stdout",
     "output_type": "stream",
     "text": [
      "Overwriting src/FallbackTestDeployFromFile.js\n"
     ]
    }
   ],
   "source": [
    "%%writefile src/FallbackTestDeployFromFile.js\n",
    "var Web3 = require('web3');\n",
    "var _abiBinJson = require('./FallbackTest.json');      //importing a javascript file\n",
    "\n",
    "var web3 = new Web3(new Web3.providers.HttpProvider(\"http://localhost:8345\"));\n",
    "\n",
    "contractName=Object.keys(_abiBinJson.contracts); // reading ['src/FallbackTest.sol:FallbackTest']\n",
    "console.log(\"- contract name: \", contractName);\n",
    "_abi=_abiBinJson.contracts[contractName].abi;\n",
    "_abiArray=JSON.parse(_abi);      //JSON parsing needed!\n",
    "_bin=_abiBinJson.contracts[contractName].bin;\n",
    "\n",
    "async function deploy() {\n",
    "    const accounts = await web3.eth.getAccounts();\n",
    "    console.log(\"Deploying the contract from \" + accounts[0]);\n",
    "    var deployed = await new web3.eth.Contract(_abiArray)\n",
    "        .deploy({data: \"0x\"+_bin})\n",
    "        .send({from: accounts[0], gas: 1000000}, function(err, transactionHash) {\n",
    "                if(!err) console.log(\"hash: \" + transactionHash); \n",
    "        })\n",
    "        //.then(function(newContractInstance){\n",
    "        //    console.log(newContractInstance)\n",
    "        //});\n",
    "    console.log(\"---> The contract deployed to: \" + deployed.options.address)\n",
    "}\n",
    "deploy()"
   ]
  },
  {
   "cell_type": "code",
   "execution_count": 15,
   "id": "f460dff6",
   "metadata": {},
   "outputs": [
    {
     "name": "stdout",
     "output_type": "stream",
     "text": [
      "- contract name:  [ 'src/FallbackTest.sol:FallbackTest' ]\n",
      "Deploying the contract from 0x38B90A15f126760Ccd539D9A9fbb8c10bd37c02b\n",
      "hash: 0xcc94b943b46266c605c81f7928f9080eeac6f3ff45be7dddf91f9870f1a078a6\n",
      "---> The contract deployed to: 0xb73e3836e3A3b4833516a8ea297c9A9D0E05E420\n"
     ]
    }
   ],
   "source": [
    "!node src/FallbackTestDeployFromFile.js"
   ]
  },
  {
   "cell_type": "markdown",
   "id": "35fae52e",
   "metadata": {},
   "source": [
    "## 4단계 사용"
   ]
  },
  {
   "cell_type": "code",
   "execution_count": 17,
   "id": "05f89df1",
   "metadata": {},
   "outputs": [
    {
     "name": "stdout",
     "output_type": "stream",
     "text": [
      "Overwriting src/FallbackTestUseFromFile.js\n"
     ]
    }
   ],
   "source": [
    "%%writefile src/FallbackTestUseFromFile.js\n",
    "var Web3=require('web3');\n",
    "var _abiBinJson = require('./FallbackTest.json');      //importing a javascript file\n",
    "\n",
    "var web3 = new Web3(new Web3.providers.WebsocketProvider(\"ws://localhost:8345\"));\n",
    "contractName=Object.keys(_abiBinJson.contracts); // reading ['src/FallbackTest.sol:FallbackTest']\n",
    "console.log(\"- contract name: \", contractName); //or console.log(contractName[0]);\n",
    "_abi=_abiBinJson.contracts[contractName].abi; //use just as read from file\n",
    "_abiArray=JSON.parse(_abi);      //JSON parsing needed!!\n",
    "//_bin=_abiBinJson.contracts[contractName].bin;\n",
    "console.log(\"- ABI: \" + _abiArray);\n",
    "//console.log(\"- Bytecode: \" + _bin);\n",
    "//The above ABI from file does not work. So ABI was copied and pasted as below -> It worked!\n",
    "_abiArray=[{\"anonymous\":false,\"inputs\":[{\"indexed\":false,\"internalType\":\"string\",\"name\":\"\",\"type\":\"string\"}],\"name\":\"PrintLog\",\"type\":\"event\"},{\"stateMutability\":\"nonpayable\",\"type\":\"fallback\"},{\"inputs\":[],\"name\":\"callA\",\"outputs\":[{\"internalType\":\"string\",\"name\":\"\",\"type\":\"string\"}],\"stateMutability\":\"pure\",\"type\":\"function\"}];\n",
    "async function doIt() {\n",
    "    const accounts = await web3.eth.getAccounts();\n",
    "    console.log(\"Account: \" + accounts[0]);\n",
    "    const balanceBefore = await web3.eth.getBalance(accounts[0]);\n",
    "    console.log(\"Balance before: \" + balanceBefore);\n",
    "    var _instance = new web3.eth.Contract(_abiArray, \"0xb73e3836e3A3b4833516a8ea297c9A9D0E05E420\");\n",
    "    var event = _instance.events.PrintLog({fromBlock: 0}, function (error, result) {\n",
    "        if (!error) {\n",
    "            console.log(\"Event fired: \" + JSON.stringify(result) + \"\\n---> \" + JSON.stringify(result.returnValues));\n",
    "        }\n",
    "    });\n",
    "\n",
    "    _instance.methods.callA().call().then(function(res) { console.log(res); });  //null\n",
    "    //call without calling any method\n",
    "    //await _instance.methods.callB().send({from:accounts[0], to: \"0x3991e87b71cBFf94aA0718F341d8Ad4bCF969f36\"}); //fail\n",
    "    //await _instance.methods.callA().send({from:accounts[0], data:\"0x1234\"});  //empty calldata to call fallback -> fail\n",
    "    web3.eth.sendTransaction({from:accounts[0], to:\"0x305F89e9b9C91B0b242874d77Ef675b0eBAD437C\"}); //fallback called\n",
    "    const balanceAfter = await web3.eth.getBalance(accounts[0]);\n",
    "    console.log(\"Balance after: \" + balanceAfter);\n",
    "    console.log(\"Balance diff: \" + (balanceBefore - balanceAfter));\n",
    "    process.exit(1); //force exit\n",
    "}\n",
    "doIt()"
   ]
  },
  {
   "cell_type": "code",
   "execution_count": 18,
   "id": "37bcecf4",
   "metadata": {
    "scrolled": true
   },
   "outputs": [
    {
     "name": "stdout",
     "output_type": "stream",
     "text": [
      "- contract name:  [ 'src/FallbackTest.sol:FallbackTest' ]\n",
      "- ABI: [object Object],[object Object],[object Object]\n",
      "Account: 0x38B90A15f126760Ccd539D9A9fbb8c10bd37c02b\n",
      "Balance before: 999999230479999999800\n",
      "Balance after: 999999230479999999800\n",
      "Balance diff: 0\n"
     ]
    }
   ],
   "source": [
    "!node src/FallbackTestUseFromFile.js"
   ]
  },
  {
   "cell_type": "markdown",
   "id": "d4e38065",
   "metadata": {},
   "source": [
    "# -------------------------------------------------------------------------"
   ]
  }
 ],
 "metadata": {
  "kernelspec": {
   "display_name": "Python 3",
   "language": "python",
   "name": "python3"
  },
  "language_info": {
   "codemirror_mode": {
    "name": "ipython",
    "version": 3
   },
   "file_extension": ".py",
   "mimetype": "text/x-python",
   "name": "python",
   "nbconvert_exporter": "python",
   "pygments_lexer": "ipython3",
   "version": "3.8.8"
  }
 },
 "nbformat": 4,
 "nbformat_minor": 5
}
