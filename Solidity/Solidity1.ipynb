{
 "cells": [
  {
   "cell_type": "markdown",
   "id": "72d7f63d",
   "metadata": {},
   "source": [
    "# 9. Solidity"
   ]
  },
  {
   "cell_type": "markdown",
   "id": "995b7e52",
   "metadata": {},
   "source": [
    "## 소수 사용\n",
    "### int, boolean 사용"
   ]
  },
  {
   "cell_type": "code",
   "execution_count": 5,
   "id": "077cd947",
   "metadata": {},
   "outputs": [
    {
     "name": "stdout",
     "output_type": "stream",
     "text": [
      "Overwriting src/IntBool.sol\n"
     ]
    }
   ],
   "source": [
    "%%writefile src/IntBool.sol\n",
    "//SPDX-License-Identifier: GPL-3.0-or-later\n",
    "pragma solidity ^0.6.4;\n",
    "\n",
    "contract IntBoolTest{\n",
    "    bool married = true;\n",
    "    uint256 xAge = 22;\n",
    "    uint256 yAge = 25;\n",
    "    \n",
    "    function update() public{\n",
    "        xAge = yAge;\n",
    "        yAge = 33;\n",
    "    }\n",
    "    function setXAge(int age) public{\n",
    "        xAge = uint(age);\n",
    "    }\n",
    "    function getXAge() public view returns(uint){\n",
    "        return xAge;\n",
    "    }\n",
    "    function getYAge() public view returns(uint){\n",
    "        return yAge;\n",
    "    }\n",
    "    function testInt() public view returns(bool){\n",
    "        assert(xAge >= 20 && yAge >= 20);\n",
    "        return true;\n",
    "    }\n",
    "    function isMarried() public view returns(bool){\n",
    "        return married;\n",
    "    }\n",
    "}"
   ]
  },
  {
   "cell_type": "code",
   "execution_count": 6,
   "id": "ca883588",
   "metadata": {},
   "outputs": [
    {
     "name": "stderr",
     "output_type": "stream",
     "text": [
      "Compiler run successful, no output requested.\n"
     ]
    }
   ],
   "source": [
    "!solc src/IntBool.sol"
   ]
  },
  {
   "cell_type": "markdown",
   "id": "8eda0c10",
   "metadata": {},
   "source": [
    "* 3: ^(caret)은 메이저 버전으로 시작하는 최신버전을 선택, 메이저 버전 6, 마이너 버전 4\n",
    "* 10: 멤버변수값 갱신\n",
    "* 14: int형에서 uint형으로 받기 위해서는 형변환이 필요\n",
    "* 23: assert() 값이 거짓이면 Exception발생하며 다음 줄이 실행되지 않는다. "
   ]
  },
  {
   "cell_type": "markdown",
   "id": "2c69a591",
   "metadata": {},
   "source": [
    "# -----------------------------------------------------------------------------"
   ]
  },
  {
   "cell_type": "markdown",
   "id": "f5cca944",
   "metadata": {},
   "source": [
    "## 고정크기 바이트 문자열\n",
    "### bytes(숫자)\n",
    "* bytes1 ~ bytes32 어떤 크기로도 선언이 가능하다.\n",
    "* bytes1, bytes32는 hex, 정수, 문자, 문자열을 가질 수 있다."
   ]
  },
  {
   "cell_type": "markdown",
   "id": "1ebeb793",
   "metadata": {},
   "source": [
    "# -----------------------------------------------------------------------------"
   ]
  },
  {
   "cell_type": "markdown",
   "id": "082abde9",
   "metadata": {},
   "source": [
    "## 변동크기 바이트 문자열\n",
    "### bytes(공백)\n",
    "* 숫자가 없는 bytes의 경우 가변적, 길이 제한이 없는 경우 사용\n",
    "* string은UTF8 형식의 문자열을 저장\n",
    "* 상수는 constant로 표현한다.\n",
    "```\n",
    "string s = \"hello\";\n",
    "string constant name = \"jsl\";\n",
    "```"
   ]
  },
  {
   "cell_type": "code",
   "execution_count": 11,
   "id": "bc5c6dfe",
   "metadata": {},
   "outputs": [
    {
     "name": "stdout",
     "output_type": "stream",
     "text": [
      "Overwriting src/ByteStringTest.sol\n"
     ]
    }
   ],
   "source": [
    "%%writefile src/ByteStringTest.sol\n",
    "//SPDX-License-Identifier: GPL-3.0-or-later\n",
    "pragma solidity ^0.6.4;\n",
    "\n",
    "contract ByteStringTest{\n",
    "    bytes1 b1 = 0xFF;\n",
    "    bytes2 b2 = 0xFFAA;\n",
    "    bytes8 place8 = \"7 hongji\";\n",
    "    bytes23 place23 = \"7 hongji-dong jongro-gu\";\n",
    "    bytes place = \"7 hongji-dong jongro-gu Seoul\";\n",
    "    bytes myBytes = new bytes(3);\n",
    "    string constant name = \"jsl\";\n",
    "    \n",
    "    function getB1() public view returns(bytes1){\n",
    "        return b1;\n",
    "    }\n",
    "    function getB2() public view returns(bytes2){\n",
    "        return b2;\n",
    "    }\n",
    "    function getplace8() public view returns(bytes8){\n",
    "        return place8;\n",
    "    }\n",
    "    \n",
    "    /**@return hex bytes. reference type should be set as memory*/\n",
    "    function getBytes() public view returns(bytes memory){\n",
    "        return myBytes;\n",
    "    }\n",
    "    function getLenOfBytes23() view public returns(uint){\n",
    "        return place23.length;\n",
    "    }\n",
    "    function getLenOfBytes() pure public returns(uint){\n",
    "        bytes memory bm = \"7 hongji-dong jongro-gu\";\n",
    "        return bm.length;\n",
    "    }\n",
    "    \n",
    "    function setB2(bytes2 _b2) public{\n",
    "        b2 = _b2;\n",
    "    }\n",
    "    function setBytes() public{\n",
    "        myBytes = \"smu\";\n",
    "    }\n",
    "    function getLenOfString() pure public returns(uint){\n",
    "        string memory nameLocal = \"jslLocal\";\n",
    "        return bytes(nameLocal).length;\n",
    "    }\n",
    "    function getString() pure public returns(string memory){\n",
    "        string memory s = \"\\xec\\x95\\x88\\xeb\\x85\\x95\"; //\"한글\";\n",
    "        return s;\n",
    "    }\n",
    "}"
   ]
  },
  {
   "cell_type": "code",
   "execution_count": 12,
   "id": "4921558c",
   "metadata": {},
   "outputs": [
    {
     "name": "stderr",
     "output_type": "stream",
     "text": [
      "Compiler run successful, no output requested.\n"
     ]
    }
   ],
   "source": [
    "!solc src/ByteStringTest.sol"
   ]
  },
  {
   "cell_type": "markdown",
   "id": "c0a7ad6e",
   "metadata": {},
   "source": [
    "* 9: 정해진 bytes이상의 수를 입력하면 오류발생\n",
    "* 11: myBytes의 기본값은 0이고, 3바이트이므로 0x000000\n",
    "* 13: bytes1 => bytes는 형변환이 필요없다.\n",
    "* 25: bytes(숫자)처럼 길이가 정해진 경우는 memory를 사용하지 않지만 그 반대 ref type은 사용한다.\n",
    "* 42: string에서 length를 사용하지 못하므로 (bytes)로 형변환해서 length를 구한다."
   ]
  },
  {
   "cell_type": "markdown",
   "id": "13e281a1",
   "metadata": {},
   "source": [
    "# -----------------------------------------------------------------------------"
   ]
  },
  {
   "cell_type": "markdown",
   "id": "d6cb3ec5",
   "metadata": {},
   "source": [
    "## Struct"
   ]
  },
  {
   "cell_type": "code",
   "execution_count": 19,
   "id": "21c31973",
   "metadata": {},
   "outputs": [
    {
     "name": "stdout",
     "output_type": "stream",
     "text": [
      "Overwriting src/StructTest.sol\n"
     ]
    }
   ],
   "source": [
    "%%writefile src/StructTest.sol\n",
    "//SPDX-License-Identifier: GPL-3.0-or-later\n",
    "pragma solidity ^0.6.4;\n",
    "\n",
    "contract StructTest{\n",
    "    struct Student{\n",
    "        uint num;\n",
    "        string name;\n",
    "        bool isEnrolled;\n",
    "    }\n",
    "    Student s1 = Student(201710933,\"seo\",true);\n",
    "    Student s2;\n",
    "    \n",
    "    function setStudent2(uint number, string memory n, bool e) public{\n",
    "        s2.num = number;\n",
    "        s2.name = n;\n",
    "        s2.isEnrolled = e;\n",
    "    }\n",
    "    function getStudent1() public view returns(uint, string memory, bool){\n",
    "        return (s1.num, s1.name, s1.isEnrolled);\n",
    "    }\n",
    "    function getStudent2() public view returns(uint, string memory, bool){\n",
    "        return (s2.num, s2.name, s2.isEnrolled);\n",
    "    }\n",
    "}"
   ]
  },
  {
   "cell_type": "code",
   "execution_count": 20,
   "id": "f761cfcd",
   "metadata": {},
   "outputs": [
    {
     "name": "stderr",
     "output_type": "stream",
     "text": [
      "Compiler run successful, no output requested.\n"
     ]
    }
   ],
   "source": [
    "!solc src/StructTest.sol"
   ]
  },
  {
   "cell_type": "markdown",
   "id": "79268559",
   "metadata": {},
   "source": [
    "* 14: 참조타입, string은 꼭 memory를 붙여주자"
   ]
  },
  {
   "cell_type": "markdown",
   "id": "e9007a6d",
   "metadata": {},
   "source": [
    "# -----------------------------------------------------------------------------"
   ]
  },
  {
   "cell_type": "markdown",
   "id": "6e5be018",
   "metadata": {},
   "source": [
    "## 열거형 enum"
   ]
  },
  {
   "cell_type": "code",
   "execution_count": 21,
   "id": "65391782",
   "metadata": {},
   "outputs": [
    {
     "name": "stdout",
     "output_type": "stream",
     "text": [
      "Overwriting src/EnumTest.sol\n"
     ]
    }
   ],
   "source": [
    "%%writefile src/EnumTest.sol\n",
    "//SPDX-License-Identifier: GPL-3.0-or-later\n",
    "pragma solidity ^0.6.4;\n",
    "\n",
    "contract EnumTest{\n",
    "    enum Day {MONDAY,TUESDAY,WEDNESDAY,THURSDAY,FRIDAY,SATURDAY,SUNDAY}\n",
    "    Day myDay = Day.FRIDAY; //index int4\n",
    "    \n",
    "    function getmyDay() public view returns(Day){\n",
    "        return myDay; //index\n",
    "    }\n",
    "    function setmyDay(Day d) public{\n",
    "        myDay = d;\n",
    "    }\n",
    "    function setmyDayInt(uint i) public{\n",
    "        myDay = Day(i);\n",
    "    }\n",
    "}"
   ]
  },
  {
   "cell_type": "code",
   "execution_count": 22,
   "id": "eb3d0e50",
   "metadata": {
    "scrolled": true
   },
   "outputs": [
    {
     "name": "stderr",
     "output_type": "stream",
     "text": [
      "Compiler run successful, no output requested.\n"
     ]
    }
   ],
   "source": [
    "!solc src/EnumTest.sol"
   ]
  },
  {
   "cell_type": "markdown",
   "id": "ef227000",
   "metadata": {},
   "source": [
    "# -----------------------------------------------------------------------------"
   ]
  },
  {
   "cell_type": "markdown",
   "id": "b58e535f",
   "metadata": {},
   "source": [
    "## 배열\n",
    "* 동적배열한에서(bytes 가능, string은 불가) pop, push 사용가능"
   ]
  },
  {
   "cell_type": "code",
   "execution_count": 28,
   "id": "46f85147",
   "metadata": {},
   "outputs": [
    {
     "name": "stdout",
     "output_type": "stream",
     "text": [
      "Overwriting src/ArrayTest.sol\n"
     ]
    }
   ],
   "source": [
    "%%writefile src/ArrayTest.sol\n",
    "//SPDX-License-Identifier: GPL-3.0-or-later\n",
    "pragma solidity ^0.6.4;\n",
    "\n",
    "contract ArrayTest{\n",
    "    uint[3] ages = [15, 25, 35];\n",
    "    int[] marks;\n",
    "    \n",
    "    function updateAges(uint index, uint val) public{\n",
    "        if(index >= 0 && index <= 2){\n",
    "            ages[index] = val;\n",
    "        }\n",
    "    }\n",
    "    function initMarks() public{\n",
    "        marks = new int[](5);\n",
    "    }\n",
    "    function pushMarks(int i) public{\n",
    "        marks.push(i);\n",
    "    }\n",
    "    function popMarks() public{\n",
    "        marks.pop();\n",
    "    }\n",
    "    \n",
    "    function get_Dynamic_Marks() public view returns(int[] memory){\n",
    "        return marks;\n",
    "    }\n",
    "    function get_Static_ages() public view returns(uint[3] memory){\n",
    "        return ages;\n",
    "    }\n",
    "    function LenOfArr() pure public returns(uint){\n",
    "        uint8[3] memory arr1 = [0,1,2];\n",
    "        return arr1.length;\n",
    "    }\n",
    "}"
   ]
  },
  {
   "cell_type": "code",
   "execution_count": 29,
   "id": "cce88ffd",
   "metadata": {},
   "outputs": [
    {
     "name": "stderr",
     "output_type": "stream",
     "text": [
      "Compiler run successful, no output requested.\n"
     ]
    }
   ],
   "source": [
    "!solc src/ArrayTest.sol"
   ]
  },
  {
   "cell_type": "markdown",
   "id": "4d3395fe",
   "metadata": {},
   "source": [
    "# -----------------------------------------------------------------------------"
   ]
  },
  {
   "cell_type": "markdown",
   "id": "3cebbb17",
   "metadata": {},
   "source": [
    "## 계정주소\n",
    "* address는 20바이트 길이를 가진 address 객체로서 잔고를 조회 및 입 출금이 가능\n",
    "* 입금이 되는 계정은 address payable로 선언\n",
    "```\n",
    "```\n",
    "### 잔고조회\n",
    "* 잔고는 누구나 읽을 수 있고 \"address(this).balance\"를 이용한다.\n",
    "```\n",
    "```\n",
    "### 송금\n",
    "* 출금은 자신의 주소에서만 가능하며 단위는 wei\n",
    "```\n",
    "```\n",
    "### transfer()\n",
    "* 실패하는 이유는 1. 잔고없거나 2. 수신측의 거절\n",
    "* \"address.transfer(amount);\", 송금이 실패하면 gas는 환급불가\n",
    "```\n",
    "```\n",
    "### send()\n",
    "* 송금 성공or실패를 boolean으로 반환\n",
    "* transfer과 차이는 원래의 상태로 복귀하지 않는다.\n",
    "* 예외처리가 필수!\n",
    "```\n",
    "```\n",
    "### call()\n",
    "* 수신측에 지급되는 gas가 transfer과 send에 비해 적다.\n",
    "* gas를 정해서 처리할 수 있다."
   ]
  },
  {
   "cell_type": "markdown",
   "id": "daf6f20b",
   "metadata": {},
   "source": [
    "## 송금\n",
    "* send(), transfer, callValue()를 호출하기 위해서는 deposit()호출이 필요하다."
   ]
  },
  {
   "cell_type": "code",
   "execution_count": 34,
   "id": "a6709415",
   "metadata": {},
   "outputs": [
    {
     "name": "stdout",
     "output_type": "stream",
     "text": [
      "Overwriting src/ArrayTest.sol\n"
     ]
    }
   ],
   "source": [
    "%%writefile src/ArrayTest.sol\n",
    "//SPDX-License-Identifier: GPL-3.0-or-later\n",
    "pragma solidity ^0.6.4;\n",
    "\n",
    "contract ArrayTest{\n",
    "    address owner;\n",
    "    address payable receiver;\n",
    "    uint balanceOfOwner;\n",
    "    \n",
    "    constructor() public {\n",
    "        owner = msg.sender;\n",
    "        balanceOfOwner = owner.balance;\n",
    "    }\n",
    "    \n",
    "    function deposit() payable public{\n",
    "    }\n",
    "\n",
    "    function setReceiver(address payable addr) public {\n",
    "        receiver=addr;\n",
    "    }\n",
    "    function getReceiver() view public returns(address) {\n",
    "        return receiver;\n",
    "    }\n",
    "    function getBalanceOfThis() public view returns(uint) {\n",
    "        return address(this).balance;  \n",
    "    }\n",
    "    function getBalanceOfOwner() public view returns(uint) {\n",
    "        return owner.balance;\n",
    "    }\n",
    "    function getBalanceOfReceiver() public view returns(uint) {\n",
    "        return receiver.balance;\n",
    "    }\n",
    "    function send() public payable {\n",
    "        require(receiver.send(111)); \n",
    "    }\n",
    "    function transfer() public payable {\n",
    "        receiver.transfer(11111);\n",
    "    }\n",
    "    function callValue() public payable {\n",
    "        (bool success, ) = receiver.call{value: 11111}(\"\");\n",
    "        require(success, \"transfer call failed.\");\n",
    "        (success, ) = receiver.call{gas: 10, value: 11111}(\"\");\n",
    "        require(success, \"transfer call failed.\");\n",
    "    }\n",
    "}"
   ]
  },
  {
   "cell_type": "code",
   "execution_count": 35,
   "id": "53da6d02",
   "metadata": {},
   "outputs": [
    {
     "name": "stderr",
     "output_type": "stream",
     "text": [
      "Compiler run successful, no output requested.\n"
     ]
    }
   ],
   "source": [
    "!solc src/ArrayTest.sol"
   ]
  },
  {
   "cell_type": "markdown",
   "id": "ac32f76f",
   "metadata": {},
   "source": [
    "* 7: owner은 지급할 수 없는 변수이므로 돈을 받을 수 있는 변수로 receiver를 만들겠다.\n",
    "* 11: 내 주소가 transaction에 담겨가는데 이때 msg에 담는다.\n",
    "* 15: deposit()에는 코드가 없지만 돈을 보내면 이 함수가 받는다. 생성자체에 의미를 둔다.\n",
    "* 18: 외부에서 주소를 받고 reciver를 설정\n",
    "* 24: 현재 컨트랙이 가지고 있는 잔고를 반환\n",
    "* 28: owner의 잔고 확인\n",
    "* 33: 전송은 payable로 진행한다.\n",
    "* 33: send()로 입금주소, 보낼 wei량\n",
    "* 36: transfer()로, send()와 차이는 require여부\n",
    "```\n",
    "```\n",
    "##### Remix\n",
    "* deposit(빨간색 버튼) : \n",
    "* getBalanceOfOwner : 배포한 사람. ACCOUNT계좌의 맨 첫번째 꺼 잔고가 나온다. (왼쪽 좌측 위)\n",
    "* getBalanceOfReciver : 안정했으니 0\n",
    "* Dspoist성공 했으면 0이 나오면 안된다.\n",
    "\n",
    "* 그냥 deposit누르지말고 좌측 위에 [GAS LIMIT] 바로 아래 [VALUE] 부분에 '222222' wei를 적어본다.\n",
    "* 다 적고 deposit클릭\n",
    "* 리시브 없고 3번째 버튼은 돈이 들어가 있다.\n",
    "\n",
    "* 리시브 설정해보자\n",
    "* 4번째 버튼은 0이 나온다\n",
    "* 좌측 위 [ACCOUNT]를 눌러 2번째 100 eher로 클릭한다. 그리고 주소 copy를 한다.\n",
    "* 그리고 다시 [AACOUNT]를 첫 번째 주소로 바꿔놓는다. \n",
    "* 주황색 setReciver : 에 복사한 주소를 입력한다.\n",
    "* 그리고 클릭한 후 4번째 getReceiver을 눌러본다.\n",
    "\n",
    "* transfer send callvalue 나머지는 해봐라\n",
    "\n",
    "* ---transfer---\n",
    "* 37: 11111만큼 보낸다. receiver(받는 주소) (set recieve해놓은 곳) 돈은 어디서 빠저나가나? \n",
    "* contract에서 !\n",
    "* 그냥 transfer을 눌러본다.\n",
    "* 1,2,3번 쨰를 눌러보면 2번째 버튼에는 뒤에 11111로추가되어있고\n",
    "* 3번째 버턴도 변경되어 있다. \n",
    "\n",
    "* ---send---\n",
    "* 함수안에 111이 적혀있으니까 바로 버튼만 눌러도 실행된다.\n",
    "\n",
    "* ---callvalue---\n",
    "* 이것도 누르면 마찬가지!"
   ]
  },
  {
   "cell_type": "markdown",
   "id": "79cc10e8",
   "metadata": {},
   "source": [
    "# -----------------------------------------------------------------------------"
   ]
  },
  {
   "cell_type": "markdown",
   "id": "061af39c",
   "metadata": {},
   "source": [
    "## 리터널\n",
    "* 변수가 값을 가지려면 literals를 적야애 한다."
   ]
  },
  {
   "cell_type": "markdown",
   "id": "20639aab",
   "metadata": {},
   "source": [
    "# -----------------------------------------------------------------------------"
   ]
  },
  {
   "cell_type": "markdown",
   "id": "e80d6071",
   "metadata": {},
   "source": [
    "# 데이터의 저장\n",
    "## 타입 구분\n",
    "### 1) value type\n",
    "* 값을 지닌다.\n",
    "```\n",
    "bool, int/uint, address, bytes(숫자), enum\n",
    "```\n",
    "\n",
    "### 2) reference type\n",
    "* 참조를 가지고 있다.\n",
    "```\n",
    "bytes(공백), string, struct, mapping\n",
    "```"
   ]
  },
  {
   "cell_type": "markdown",
   "id": "f9964fa9",
   "metadata": {},
   "source": [
    "# -----------------------------------------------------------------------------"
   ]
  },
  {
   "cell_type": "markdown",
   "id": "997af3a4",
   "metadata": {},
   "source": [
    "# Solidity의 데이터를 저장하는 장소\n",
    "### 1) storage(하드디스크)\n",
    "* 영원히 저장되며 모든 함수에서 값을 볼 수 있다.\n",
    "* 함수호출때 생기며 없어지지 않는다.\n",
    "* key-value형식으로 유지되므로 비싼편\n",
    "```\n",
    "contract IntBoolTest {\n",
    "    bool married = true;  storage에 저장된다. bool storage married = true;라고 하지 않는다.\n",
    "    uint256 xAge = 22;    storage에 저장된다. uint256 storage xAge = 22;라고 하지 않는다.\n",
    "}\n",
    "```\n",
    "* 멤버변수 이므로 storage에 저장되며 아무것도 적어주지 않는다. 그러면 자동으로 storage에 저장\n",
    "\n",
    "### 2) momory(램)\n",
    "* 함수를 벗어나면 변수 값이 지워진다.\n",
    "* value type은 memory를 붙여주지 않아도 된다.\n",
    "* struct, array, mapping 등 refernece type은 memory 수식어를 붙여준다.\n",
    "```\n",
    "function getLenOfString() pure public returns(uint) { \n",
    "    int i;  지역변수 i는 메모리에 저장이 된다.\n",
    "    string memory nameLocal=\"jslLocal\"; 저장구분을 안 적거나, storage라고 하면 오류\n",
    "}\n",
    "```"
   ]
  },
  {
   "cell_type": "markdown",
   "id": "a4e3025e",
   "metadata": {},
   "source": [
    "# -----------------------------------------------------------------------------"
   ]
  },
  {
   "cell_type": "markdown",
   "id": "c4e4ae23",
   "metadata": {},
   "source": [
    "## 가시성\n",
    "* public = 외부에서 누구나 사용\n",
    "* private = 컨트랙 자신만 사용\n",
    "* internal = 컨트랙 내부 or 상속의 경우\n",
    "* external = 외부에서 호출하는 경우"
   ]
  },
  {
   "cell_type": "markdown",
   "id": "c2246926",
   "metadata": {},
   "source": [
    "# -----------------------------------------------------------------------------"
   ]
  },
  {
   "cell_type": "markdown",
   "id": "e427a85b",
   "metadata": {},
   "source": [
    "# 주소 계정에서 입출금\n",
    "* 컨트랙에서 송금하는 프로그램\n",
    "* 은행을 경유하지 않고 송금"
   ]
  },
  {
   "cell_type": "markdown",
   "id": "b2a33878",
   "metadata": {},
   "source": [
    "## 1단계 컨트랙 개발"
   ]
  },
  {
   "cell_type": "code",
   "execution_count": 38,
   "id": "906eda48",
   "metadata": {},
   "outputs": [
    {
     "name": "stdout",
     "output_type": "stream",
     "text": [
      "Overwriting src/MyBank.sol\n"
     ]
    }
   ],
   "source": [
    "%%writefile src/MyBank.sol\n",
    "//SPDX-License-Identifier: GPL-3.0-or-later\n",
    "pragma solidity ^0.6.4;\n",
    "\n",
    "contract MyBank {\n",
    "    address owner; //address payable owner;\n",
    "    uint balance;\n",
    "    constructor() public {\n",
    "        owner = msg.sender;\n",
    "        balance = address(this).balance;\n",
    "    }\n",
    "    function deposit(uint amount) public payable {\n",
    "        require(msg.value == amount);\n",
    "        balance += amount;\n",
    "    }\n",
    "    function withdraw(uint amount) public payable {\n",
    "        balance -= amount;   // deduct before transfer\n",
    "        payable(owner).transfer(amount); //owner.transfer(amount);\n",
    "    }\n",
    "    function transferTo(address payable receiver, uint amount) public payable {\n",
    "        balance -= amount;   // deduct before transfer\n",
    "        receiver.transfer(amount);\n",
    "    }\n",
    "    function getBalance() public view returns (uint) {\n",
    "        return balance;\n",
    "    }\n",
    "    function getBalanceOfThis() public view returns (uint) {\n",
    "        return address(this).balance;\n",
    "    }\n",
    "    function getBalanceOfOwner() public view returns (uint) {\n",
    "        return owner.balance;\n",
    "    }\n",
    "}"
   ]
  },
  {
   "cell_type": "markdown",
   "id": "09523ea8",
   "metadata": {},
   "source": [
    "* 12: 컨트랙주소는 address(this).balance 위의 uint balance랑 다르다. 필드이기 때문이다.\n",
    "* 즉, 이는 자동으로 올라가지만 uint balance는 수동으로 올려줘야 한다.\n",
    "* a라는 사람이 컨트랙을 거쳐 c라는 사람에게 전달하는 과정이다.\n",
    "* 20: 컨트랙을 통해 계좌이체하는 과정"
   ]
  },
  {
   "cell_type": "markdown",
   "id": "ea7d26a3",
   "metadata": {},
   "source": [
    "## 2단계 컴파일"
   ]
  },
  {
   "cell_type": "code",
   "execution_count": 39,
   "id": "183a41eb",
   "metadata": {},
   "outputs": [],
   "source": [
    "!solc --optimize --combined-json abi,bin src/MyBank.sol > src/MyBank.json"
   ]
  },
  {
   "cell_type": "markdown",
   "id": "3d6ddcf7",
   "metadata": {},
   "source": [
    "## 3단계 컨트랙 배포"
   ]
  },
  {
   "cell_type": "code",
   "execution_count": 42,
   "id": "890c79d8",
   "metadata": {},
   "outputs": [
    {
     "name": "stdout",
     "output_type": "stream",
     "text": [
      "Overwriting src/MyBankDeployAbiBinFromFile.js\n"
     ]
    }
   ],
   "source": [
    "%%writefile src/MyBankDeployAbiBinFromFile.js\n",
    "var Web3 = require('web3');\n",
    "var _abiBinJson = require('./MyBank.json');      //importing a javascript file\n",
    "\n",
    "var web3 = new Web3(new Web3.providers.HttpProvider(\"http://localhost:8345\"));\n",
    "\n",
    "contractName=Object.keys(_abiBinJson.contracts); // reading ['src/MyBank.sol:MyBank']\n",
    "console.log(\"- contract name: \", contractName);\n",
    "_abi=_abiBinJson.contracts[contractName].abi;\n",
    "_abiArray=JSON.parse(_abi);      //JSON parsing needed!!\n",
    "_bin=_abiBinJson.contracts[contractName].bin;\n",
    "\n",
    "//console.log(\"- ABI: \" + _abiArray);\n",
    "//console.log(\"- Bytecode: \" + _bin);\n",
    "\n",
    "async function deploy() {\n",
    "    const accounts = await web3.eth.getAccounts();\n",
    "    console.log(\"Deploying the contract from \" + accounts[0]);\n",
    "    var deployed = await new web3.eth.Contract(_abiArray)\n",
    "        .deploy({data: \"0x\"+_bin})\n",
    "        .send({from: accounts[0], gas: 364124}, function(err, transactionHash) {\n",
    "                if(!err) console.log(\"hash: \" + transactionHash); \n",
    "        })\n",
    "        //.then(function(newContractInstance){\n",
    "        //    console.log(newContractInstance)\n",
    "        //});\n",
    "    console.log(\"---> The contract deployed to: \" + deployed.options.address)\n",
    "}\n",
    "deploy()"
   ]
  },
  {
   "cell_type": "code",
   "execution_count": 43,
   "id": "9841eb4a",
   "metadata": {},
   "outputs": [
    {
     "name": "stdout",
     "output_type": "stream",
     "text": [
      "- contract name:  [ 'src/MyBank.sol:MyBank' ]\n",
      "Deploying the contract from 0xfcd386EABDd83dD20c6845BF9d3FA1d26AFf8454\n",
      "hash: 0x4192c51fb30714aec7e9cff6f41b05138be656deb7fa17f202bc7768327db6bc\n",
      "---> The contract deployed to: 0x5Fd7F170054801a4924Eea49c20601024e06737C\n"
     ]
    }
   ],
   "source": [
    "!node src/MyBankDeployAbiBinFromFile.js"
   ]
  },
  {
   "cell_type": "markdown",
   "id": "67173eb9",
   "metadata": {},
   "source": [
    "## 4단계 사용"
   ]
  },
  {
   "cell_type": "code",
   "execution_count": 46,
   "id": "550790f1",
   "metadata": {},
   "outputs": [
    {
     "name": "stdout",
     "output_type": "stream",
     "text": [
      "Overwriting src/MyBankUse.js\n"
     ]
    }
   ],
   "source": [
    "%%writefile src/MyBankUse.js\n",
    "var Web3=require('web3');\n",
    "var _abiBinJson = require('./MyBank.json');      //importing a javascript file\n",
    "\n",
    "var web3 = new Web3(new Web3.providers.HttpProvider(\"http://localhost:8345\"));\n",
    "contractName=Object.keys(_abiBinJson.contracts); // reading ['src/MyBank.sol:MyBank']\n",
    "//console.log(\"- contract name: \", contractName); //or console.log(contractName[0]);\n",
    "_abi=_abiBinJson.contracts[contractName].abi;\n",
    "_abiArray=JSON.parse(_abi);      //JSON parsing needed!!\n",
    "//_bin=_abiBinJson.contracts[contractName].bin;\n",
    "//console.log(\"- ABI: \" + _abiArray);\n",
    "//console.log(\"- Bytecode: \" + _bin);\n",
    "\n",
    "var myBank = new web3.eth.Contract(_abiArray,\"0x5Fd7F170054801a4924Eea49c20601024e06737C\");\n",
    "\n",
    "async function doIt() {\n",
    "    const accounts = await web3.eth.getAccounts();\n",
    "    console.log(\"Call from: \" + accounts[0]);\n",
    "    myBank.methods.getBalance().call().then(console.log);\n",
    "    myBank.methods.deposit(1111).send({from:accounts[0],gas:80000,value:1111});\n",
    "    myBank.methods.getBalance().call().then(console.log);\n",
    "}\n",
    "\n",
    "doIt()"
   ]
  },
  {
   "cell_type": "code",
   "execution_count": 48,
   "id": "55069727",
   "metadata": {
    "scrolled": false
   },
   "outputs": [
    {
     "name": "stdout",
     "output_type": "stream",
     "text": [
      "Call from: 0xfcd386EABDd83dD20c6845BF9d3FA1d26AFf8454\n",
      "1111\n",
      "1111\n"
     ]
    }
   ],
   "source": [
    "!node src/MyBankUse.js"
   ]
  },
  {
   "cell_type": "markdown",
   "id": "a87b52cf",
   "metadata": {},
   "source": [
    "# -----------------------------------------------------------------------------"
   ]
  },
  {
   "cell_type": "markdown",
   "id": "f9cb7013",
   "metadata": {},
   "source": [
    "## 형변환\n",
    "#### int(숫자) -> int\n",
    "```\n",
    "int8 i8=20;\n",
    "uint i256=int(i8);\n",
    "```\n",
    "\n",
    "#### unit -> bytes32 (반대는 불가능)\n",
    "```\n",
    "bytes4 b4=0x68656c6c;\n",
    "int32(b4);  //크기가 같더라도  int로 형변환 오류\n",
    "uint32(b4); //크기가 같은 uint로 형변환 가능\n",
    "```\n",
    "\n",
    "#### string -> bytes\n",
    "```\n",
    "string s = \"hello\";\n",
    "bytes b = bytes(s); //0x68656c6c6f\n",
    "```\n",
    "\n",
    "#### payable\n",
    "```\n",
    "address payable에서 address\n",
    "```"
   ]
  },
  {
   "cell_type": "code",
   "execution_count": 49,
   "id": "545b3599",
   "metadata": {},
   "outputs": [
    {
     "name": "stdout",
     "output_type": "stream",
     "text": [
      "Writing src/DataConversionTest.sol\n"
     ]
    }
   ],
   "source": [
    "%%writefile src/DataConversionTest.sol\n",
    "//SPDX-License-Identifier: GPL-3.0-or-later\n",
    "pragma solidity ^0.6.4;\n",
    "\n",
    "contract DataConversionTest {\n",
    "    function convertInt8ToInt() pure public returns(int) {\n",
    "        int8 i8=20;\n",
    "        return int(i8);  //20\n",
    "    }\n",
    "    function convertIntToBytes32() pure public returns(bytes32) {\n",
    "        uint x=20;\n",
    "        //0x0000000000000000000000000000000000000000000000000000000000000014\n",
    "        return bytes32(x);\n",
    "    }\n",
    "    function convertInt64ToBytes8() pure public returns(bytes8) {\n",
    "        uint64 x=10;\n",
    "        return bytes8(x); //0x000000000000000a\n",
    "    }\n",
    "    function convertIntToBytes() pure public returns(bytes memory) {\n",
    "        // can not convert uint -> bytes\n",
    "        // convert uint -> bytes32 -> bytes\n",
    "        uint x = 20;\n",
    "        bytes32 y = bytes32(x); //uint=uint256\n",
    "        // can not convert from bytes32 -> bytes;\n",
    "        bytes memory z = new bytes(32);\n",
    "        for (uint i=0; i < 32; i++) {\n",
    "            z[i] = y[i];\n",
    "        }\n",
    "        //0x0000000000000000000000000000000000000000000000000000000000000014\n",
    "        return z;\n",
    "    }\n",
    "    function convertStringToBytes() pure public returns(bytes memory) {\n",
    "        string memory s=\"hello\";\n",
    "        return bytes(s);  //0x68656c6c6f\n",
    "    }\n",
    "    function convertBytes4ToBytes2() pure public returns(bytes2) {\n",
    "        bytes4 b4=0x68656c6c;\n",
    "        return bytes2(b4);  //0x6865\n",
    "    }\n",
    "    function convertBytes4ToInt32() pure public returns(uint32) {    \n",
    "        bytes4 b4=0x68656c6c;\n",
    "        //1751477356 = 68656C6C hex = (6 × 16^7) + (8 × 16^6) + ... + (6 × 16^1) + (12 × 16^0) \n",
    "        return uint32(b4); //1751477356\n",
    "    }\n",
    "}"
   ]
  },
  {
   "cell_type": "code",
   "execution_count": 50,
   "id": "ad742e66",
   "metadata": {
    "scrolled": true
   },
   "outputs": [
    {
     "name": "stderr",
     "output_type": "stream",
     "text": [
      "Compiler run successful, no output requested.\n"
     ]
    }
   ],
   "source": [
    "!solc src/DataConversionTest.sol"
   ]
  },
  {
   "cell_type": "markdown",
   "id": "ad49e512",
   "metadata": {},
   "source": [
    "# -----------------------------------------------------------------------------"
   ]
  },
  {
   "cell_type": "markdown",
   "id": "cdc3d15a",
   "metadata": {},
   "source": [
    "## 전역변수\n",
    "* tx 컨트랙을 호출하는 트랜잭션 관련 정보\n",
    " * tx.origin 트랜잭션에 사인한 계정\n",
    " * tx.gasprice 트랜잭션 호출자가 명시한 gas price\n",
    " ```\n",
    " ```\n",
    " \n",
    "* msg 컨트랙의 함수를 호출한 전송 관련 정보\n",
    " * msg.data: call 데이터 (bytes 값으로 표현)\n",
    " * msg.gas: gas 잔여분\n",
    " * msg.sender: 현재 함수를 호출하는 측의 주소\n",
    " * msg.value: 컨트랙에 지급되는 ether (단위는 wei)\n",
    " ```\n",
    " ```\n",
    "\n",
    "* tx.origin과 msg.sender 구분해보자. 거래가 호출자U1 -> 컨트랙C1 -> 컨트랙C2의 순서대로 완성이 될 경우:\n",
    " * C2에서 msg.sender는 바로 직전의 호출자C1을 말한다. 즉 컨트랙도 msg.sender가 될 수 있다.\n",
    " * 반면에 tx.origin은 U1의 주소를 말한다. 최초로 메시지를 발생한 측을 말한다.\n",
    " * 아래 프로그램을 보자. 주소 0x69e9a...0c102에서 Order의 getTxOriginMsgSender() 함수를 호출하면:\n",
    "  * Customer의 tx.origin 은 0x69e9a...0c102 (Order 컨트랙 함수호출자인 msg.sender의 주소와 동일)\n",
    "  * Customer의 msg.sender는 0x0b878...E7cD4, 즉 Order 컨트랙 배포주소와 동일하다.\n",
    "  ```\n",
    "  ```\n",
    "* block\n",
    " * block.coinbase: 현재 블록 마이너의 주소\n",
    " * block.difficulty: 현재 블록의 난이도\n",
    " * block.gaslimit: 현재 블록의 gaslimit\n",
    " * block.number: 현재 블록 수\n",
    " * block.blockhash: 현재 블록 해쉬 값\n",
    " * block.timestamp: 현재 블록 타임스탬프 epoch (1970년 1월 1일 0시) 이후 지나간 초, uint256"
   ]
  },
  {
   "cell_type": "code",
   "execution_count": 53,
   "id": "2699faa4",
   "metadata": {},
   "outputs": [
    {
     "name": "stdout",
     "output_type": "stream",
     "text": [
      "Overwriting src/TxOriginMsgSenderTest.sol\n"
     ]
    }
   ],
   "source": [
    "%%writefile src/TxOriginMsgSenderTest.sol\n",
    "//SPDX-License-Identifier: GPL-3.0-or-later\n",
    "pragma solidity ^0.6.4;\n",
    "\n",
    "contract Customer {\n",
    "    function getTxOriginMsgSender() view public returns(address, address) {\n",
    "        return(tx.origin, msg.sender);\n",
    "    }\n",
    "}\n",
    "\n",
    "contract Order {\n",
    "    Customer c;\n",
    "    constructor() public {\n",
    "        c = new Customer();\n",
    "    }\n",
    "    function getTxOriginMsgSender() view public returns(address, address) {\n",
    "        return c.getTxOriginMsgSender();\n",
    "    }\n",
    "}"
   ]
  },
  {
   "cell_type": "code",
   "execution_count": 54,
   "id": "d6d59e70",
   "metadata": {},
   "outputs": [
    {
     "name": "stderr",
     "output_type": "stream",
     "text": [
      "Compiler run successful, no output requested.\n"
     ]
    }
   ],
   "source": [
    "!solc src/TxOriginMsgSenderTest.sol"
   ]
  },
  {
   "cell_type": "markdown",
   "id": "4f0e76cf",
   "metadata": {},
   "source": [
    "# -----------------------------------------------------------------------------"
   ]
  },
  {
   "cell_type": "markdown",
   "id": "05b81eea",
   "metadata": {},
   "source": [
    "## OPcode\n",
    "* 오류를 찾는 어셈블리언어"
   ]
  },
  {
   "cell_type": "markdown",
   "id": "5dcb7bab",
   "metadata": {},
   "source": [
    "# -----------------------------------------------------------------------------"
   ]
  },
  {
   "cell_type": "markdown",
   "id": "f39cd5bc",
   "metadata": {},
   "source": [
    "# 송금 심화 버전\n",
    "### 조건\n",
    "* 입금액을 정해서 입금 function deposit(uint amount) public payable\n",
    "* 전액 인출 함수 function widthdrawAll() public\n",
    "* 컨트랙 잔고확인 함수 (this를 이용한 잔고, 상태변수 잔고 (this 잔고가 맞는지 확인하는 용도) function getBalance() public view returns(uint, uint)\n",
    "* 다른 계정으로 계좌이체 함수 function forwardTo(address payable _receiver) public payable"
   ]
  },
  {
   "cell_type": "markdown",
   "id": "6ddfebbb",
   "metadata": {},
   "source": [
    "## 1단계 컨트랙 개발"
   ]
  },
  {
   "cell_type": "code",
   "execution_count": 55,
   "id": "45d79e23",
   "metadata": {},
   "outputs": [
    {
     "name": "stdout",
     "output_type": "stream",
     "text": [
      "Writing src/BankV2.sol\n"
     ]
    }
   ],
   "source": [
    "%%writefile src/BankV2.sol\n",
    "//SPDX-License-Identifier: UNLICENSED\n",
    "pragma solidity ^0.6.4;\n",
    "\n",
    "contract BankV2 {\n",
    "    address owner; //from 0.8.0 no need to declare the address as payable explicitly\n",
    "    uint balance; \n",
    "    constructor() public payable { // warning: from 0.7? remove public -> constructor() payable\n",
    "        owner = msg.sender;\n",
    "        balance = 0;\n",
    "    }\n",
    "    event Sent(address from, address to, uint amount );  // to learn next week\n",
    "    //function send(address payable _receiver, uint _amount) public payable {\n",
    "    function forwardTo(address payable _receiver) public payable {\n",
    "        //balance -= msg.value;\n",
    "        require(msg.sender == owner);\n",
    "        _receiver.transfer(msg.value);\n",
    "        emit Sent(msg.sender, _receiver, msg.value);  // event\n",
    "    }\n",
    "    function getBalance() public view returns(uint, uint) {\n",
    "        return (balance, address(this).balance);\n",
    "    }\n",
    "    function deposit(uint amount) public payable {\n",
    "        require(msg.value == amount);\n",
    "        balance += amount;\n",
    "    }\n",
    "    function widthdrawAll() public {\n",
    "        balance -= address(this).balance;\n",
    "        require(msg.sender == owner);\n",
    "        payable(owner).transfer(address(this).balance); \n",
    "    }\n",
    "}"
   ]
  },
  {
   "cell_type": "markdown",
   "id": "6d793ccf",
   "metadata": {},
   "source": [
    "## 2단계 컴파일 "
   ]
  },
  {
   "cell_type": "code",
   "execution_count": 56,
   "id": "ae368926",
   "metadata": {},
   "outputs": [],
   "source": [
    "!solc --optimize --combined-json abi,bin src/BankV2.sol > src/BankV2.json"
   ]
  },
  {
   "cell_type": "markdown",
   "id": "45e6c1cd",
   "metadata": {},
   "source": [
    "## 3단계 컨트랙 배포\n",
    "async, await(await는 deposit(), forwardTo(), withdrawAll() 등 거래에만 적어준다.)\n",
    "를 사용하면, 비동기로 인한 문제가 해결"
   ]
  },
  {
   "cell_type": "code",
   "execution_count": 57,
   "id": "7c1f1a75",
   "metadata": {},
   "outputs": [
    {
     "name": "stdout",
     "output_type": "stream",
     "text": [
      "Writing src/BankV2Deploy.js\n"
     ]
    }
   ],
   "source": [
    "%%writefile src/BankV2Deploy.js\n",
    "var Web3=require('web3');\n",
    "var web3;\n",
    "if (typeof web3 !== 'undefined') {\n",
    "    web3 = new Web3(web3.currentProvider);\n",
    "} else {\n",
    "    //web3 = new Web3(new Web3.providers.WebsocketProvider('ws://localhost:8345'));\n",
    "    web3 = new Web3(new Web3.providers.HttpProvider('http://localhost:8345'));\n",
    "}\n",
    "var _abiArray=[{\"constant\":true,\"inputs\":[],\"name\":\"getBalance\",\"outputs\":[{\"name\":\"\",\"type\":\"uint256\"},{\"name\":\"\",\"type\":\"uint256\"}],\"payable\":false,\"stateMutability\":\"view\",\"type\":\"function\"},{\"constant\":false,\"inputs\":[{\"name\":\"_receiver\",\"type\":\"address\"}],\"name\":\"forwardTo\",\"outputs\":[],\"payable\":true,\"stateMutability\":\"payable\",\"type\":\"function\"},{\"constant\":false,\"inputs\":[],\"name\":\"widthdrawAll\",\"outputs\":[],\"payable\":false,\"stateMutability\":\"nonpayable\",\"type\":\"function\"},{\"constant\":false,\"inputs\":[{\"name\":\"amount\",\"type\":\"uint256\"}],\"name\":\"deposit\",\"outputs\":[],\"payable\":true,\"stateMutability\":\"payable\",\"type\":\"function\"},{\"inputs\":[],\"payable\":false,\"stateMutability\":\"nonpayable\",\"type\":\"constructor\"},{\"anonymous\":false,\"inputs\":[{\"indexed\":false,\"name\":\"from\",\"type\":\"address\"},{\"indexed\":false,\"name\":\"to\",\"type\":\"address\"},{\"indexed\":false,\"name\":\"amount\",\"type\":\"uint256\"}],\"name\":\"Sent\",\"type\":\"event\"}];\n",
    "var _bin=\"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\";\n",
    "\n",
    "//unlock the account with a password provided\n",
    "//web3.personal.unlockAccount(web3.eth.accounts[0],'password');\n",
    "async function deploy() {\n",
    "    const accounts = await web3.eth.getAccounts();\n",
    "    console.log(\"Deploying the contract from \" + accounts[0]);\n",
    "    var deployed = await new web3.eth.Contract(_abiArray)\n",
    "        .deploy({data: \"0x\"+_bin})\n",
    "        .send({from: accounts[0], gas: 1000000, gasPrice: '1000000000'}, function(err, transactionHash) {\n",
    "                if(!err) console.log(\"hash: \" + transactionHash); \n",
    "        })\n",
    "        //.then(function(newContractInstance) {\n",
    "        //    console.log(newContractInstance.options.address)\n",
    "        //});\n",
    "    console.log(\"---> The contract deployed to: \" + deployed.options.address)\n",
    "}\n",
    "deploy()"
   ]
  },
  {
   "cell_type": "code",
   "execution_count": 58,
   "id": "583a81ba",
   "metadata": {},
   "outputs": [
    {
     "name": "stdout",
     "output_type": "stream",
     "text": [
      "Deploying the contract from 0xfcd386EABDd83dD20c6845BF9d3FA1d26AFf8454\n",
      "hash: 0xcea23f1834ed98f905a8d34dbe007ab0552b2c9d4c72d81d25098eabe7d5fea7\n",
      "---> The contract deployed to: 0x5638661c22e9248FaE6441dc92F155a5CFF72bA6\n"
     ]
    }
   ],
   "source": [
    "!node src/BankV2Deploy.js"
   ]
  },
  {
   "cell_type": "markdown",
   "id": "1f41ae20",
   "metadata": {},
   "source": [
    "## 4단계 사용\n",
    "##### 1) HttpProvider(8345) 배포"
   ]
  },
  {
   "cell_type": "code",
   "execution_count": 59,
   "id": "355a53c6",
   "metadata": {},
   "outputs": [
    {
     "name": "stdout",
     "output_type": "stream",
     "text": [
      "Writing src/BankV2NoEventUse.js\n"
     ]
    }
   ],
   "source": [
    "%%writefile src/BankV2NoEventUse.js\n",
    "var Web3=require('web3');\n",
    "var _abiBinJson = require('./MyBank.json');      //importing a javascript file\n",
    "\n",
    "var web3 = new Web3(new Web3.providers.HttpProvider(\"http://localhost:8345\"));\n",
    "contractName=Object.keys(_abiBinJson.contracts); // reading ['src/MyBank.sol:MyBank']\n",
    "_abi=_abiBinJson.contracts[contractName].abi;\n",
    "_abiArray=JSON.parse(_abi); \n",
    "\n",
    "var _abiArray=[{\"constant\":true,\"inputs\":[],\"name\":\"getBalance\",\"outputs\":[{\"name\":\"\",\"type\":\"uint256\"},{\"name\":\"\",\"type\":\"uint256\"}],\"payable\":false,\"stateMutability\":\"view\",\"type\":\"function\"},{\"constant\":false,\"inputs\":[{\"name\":\"_receiver\",\"type\":\"address\"}],\"name\":\"forwardTo\",\"outputs\":[],\"payable\":true,\"stateMutability\":\"payable\",\"type\":\"function\"},{\"constant\":false,\"inputs\":[],\"name\":\"widthdrawAll\",\"outputs\":[],\"payable\":false,\"stateMutability\":\"nonpayable\",\"type\":\"function\"},{\"constant\":false,\"inputs\":[{\"name\":\"amount\",\"type\":\"uint256\"}],\"name\":\"deposit\",\"outputs\":[],\"payable\":true,\"stateMutability\":\"payable\",\"type\":\"function\"},{\"inputs\":[],\"payable\":false,\"stateMutability\":\"nonpayable\",\"type\":\"constructor\"},{\"anonymous\":false,\"inputs\":[{\"indexed\":false,\"name\":\"from\",\"type\":\"address\"},{\"indexed\":false,\"name\":\"to\",\"type\":\"address\"},{\"indexed\":false,\"name\":\"amount\",\"type\":\"uint256\"}],\"name\":\"Sent\",\"type\":\"event\"}];\n",
    "\n",
    "var bank = new web3.eth.Contract(_abiArray,\"0x5638661c22e9248FaE6441dc92F155a5CFF72bA6\");\n",
    "var event = bank.events.Sent(function (error, result) {\n",
    "    if (!error) {\n",
    "        console.log(\"Event fired: \" + JSON.stringify(result.returnValues));\n",
    "    }\n",
    "});\n",
    "\n",
    "async function doIt() {\n",
    "    const accounts = await web3.eth.getAccounts();\n",
    "    console.log(\"Account0: \" + accounts[0]);\n",
    "    const balance0Before = await web3.eth.getBalance(accounts[0]);\n",
    "    console.log(\"Balance0 before: \" + balance0Before);\n",
    "    const balance1Before = await web3.eth.getBalance(accounts[1]);\n",
    "    console.log(\"Balance1 before: \" + balance1Before);\n",
    "\n",
    "    bank.methods.getBalance().call().then(function(bal) {\n",
    "        console.log(\"Contract bal before deposit: \" + bal[0] + \" this.bal:\" + bal[1]);\n",
    "    });\n",
    "    await bank.methods.deposit(1111).send({from: accounts[0],gas:80000,value:1111});\n",
    "    bank.methods.getBalance().call().then(function(bal) {\n",
    "        console.log(\"Contract bal after deposit: \" + bal[0] + \" this.bal:\" + bal[1]);\n",
    "    });\n",
    "    const forward = await bank.methods.forwardTo(accounts[1]).send({from: accounts[0],gas:100000,value:555});\n",
    "  \n",
    "    console.log(\"---> forwardTo called \" + JSON.stringify(forward.events.Sent.returnValues));\n",
    "    bank.methods.getBalance().call().then(function(bal) {\n",
    "        console.log(\"Contract balance after forwardTo: \" + bal[0] + \" this.bal:\" + bal[1]);\n",
    "    });\n",
    "    const balance0After = await web3.eth.getBalance(accounts[0]);\n",
    "    console.log(\"Balance0 after: \" + balance0After);\n",
    "    console.log(\"Balance0 diff: \" + (balance0After - balance0Before));\n",
    "    const balance1After = await web3.eth.getBalance(accounts[1]);\n",
    "    console.log(\"Balance1 after: \" + balance1After);\n",
    "    console.log(\"Balance1 diff: \" + (balance1After - balance1Before));\n",
    "\n",
    "    const withdraw = await bank.methods.widthdrawAll().send({from: accounts[0],gas:100000});\n",
    "    bank.methods.getBalance().call().then(function(bal) {\n",
    "        console.log(\"Contract balance after withdrawAll: \" + bal[0] + \" this.bal:\" + bal[1]);\n",
    "    });\n",
    "    const balance0AfterWithdrawAll = await web3.eth.getBalance(accounts[0]);\n",
    "    console.log(\"Balance0 after withdrawAll: \" + balance0AfterWithdrawAll);\n",
    "    console.log(\"Balance0 diff after withdrawAll: \" + (balance0After - balance0AfterWithdrawAll));\n",
    "}\n",
    "doIt()"
   ]
  },
  {
   "cell_type": "code",
   "execution_count": 60,
   "id": "97b1eb82",
   "metadata": {
    "scrolled": true
   },
   "outputs": [
    {
     "name": "stdout",
     "output_type": "stream",
     "text": [
      "Account0: 0xfcd386EABDd83dD20c6845BF9d3FA1d26AFf8454\n",
      "Balance0 before: 999998776151999986668\n",
      "Balance1 before: 1000000000000000009999\n",
      "Contract bal before deposit: 0 this.bal:0\n",
      "Contract bal after deposit: 1111 this.bal:1111\n",
      "---> forwardTo called {\"0\":\"0xfcd386EABDd83dD20c6845BF9d3FA1d26AFf8454\",\"1\":\"0xA5FdD9252E8ccB4F7F2524eEF53B3958a33Fea99\",\"2\":\"555\",\"from\":\"0xfcd386EABDd83dD20c6845BF9d3FA1d26AFf8454\",\"to\":\"0xA5FdD9252E8ccB4F7F2524eEF53B3958a33Fea99\",\"amount\":\"555\"}\n",
      "Balance0 after: 999998619121999985002\n",
      "Balance0 diff: -157030000099328\n",
      "Contract balance after forwardTo: 1111 this.bal:1111\n",
      "Balance1 after: 1000000000000000010554\n",
      "Balance1 diff: 0\n",
      "Balance0 after withdrawAll: 999998557595999986113\n",
      "Balance0 diff after withdrawAll: 61526000009216\n",
      "Contract balance after withdrawAll: 0 this.bal:0\n"
     ]
    }
   ],
   "source": [
    "!node src/BankV2NoEventUse.js"
   ]
  },
  {
   "cell_type": "markdown",
   "id": "946a7b52",
   "metadata": {},
   "source": [
    "* Contract bal after deposit: 1111 this.bal:1111 <--- 컨트랙의 잔고가 desposit한 금액만큼 증가\n",
    "* Contract balance after forwardTo: 1111 this.bal:1111  <--- 단순 전달이므로 컨트랙의 잔고는 변동이 없다.\n",
    "* Balance0 diff: -1487500000002048                      <--- gas비, 마이닝보상 등으로 잔고의 변동이 정확히 산정되기 어렵다.\n",
    "* Balance1 after: 100000000000000005550                 <--- 555만큼 증가\n",
    "* Balance1 diff: 0   <--- 미세한 차액이 정밀도로 인해 0으로 출력\n",
    "* Contract balance after withdrawAll: 0 this.bal:0      <--- 컨트랙에서 전액출금한 후 잔고가 0\n",
    "* Balance0 after withdrawAll: 99977655707999988341      <--- gas비, 마이닝보상 등으로 잔고의 변동을 정확히 산정하기 어렵다."
   ]
  },
  {
   "cell_type": "markdown",
   "id": "ea318669",
   "metadata": {},
   "source": [
    "## 웹소켓으로 Event 발생시켜 보기\n",
    "##### 5) 웹소켓 배포\n",
    "* httpProvider는 이벤트 subscribe, 리스닝을 지원하지 않는다.\n",
    "* WebsocketProvider를 이용\n",
    "* WebsocketProvider는 웹소켓을 열기 때문에 프로세스가 지속된다.\n",
    "* 하지만 HttpProvider는 프로세스가 지속되는 문제는 발생하지 않는다."
   ]
  },
  {
   "cell_type": "code",
   "execution_count": null,
   "id": "c0fdb114",
   "metadata": {},
   "outputs": [],
   "source": [
    "%%writefile src/BankV2Use.js\n",
    "var Web3=require('web3');\n",
    "var web3 = new Web3(new Web3.providers.WebsocketProvider('ws://117.16.44.45:8345'));\n",
    "var _abiArray=[{\"constant\":true,\"inputs\":[],\"name\":\"getBalance\",\"outputs\":[{\"name\":\"\",\"type\":\"uint256\"},{\"name\":\"\",\"type\":\"uint256\"}],\"payable\":false,\"stateMutability\":\"view\",\"type\":\"function\"},{\"constant\":false,\"inputs\":[{\"name\":\"_receiver\",\"type\":\"address\"}],\"name\":\"forwardTo\",\"outputs\":[],\"payable\":true,\"stateMutability\":\"payable\",\"type\":\"function\"},{\"constant\":false,\"inputs\":[],\"name\":\"widthdrawAll\",\"outputs\":[],\"payable\":false,\"stateMutability\":\"nonpayable\",\"type\":\"function\"},{\"constant\":false,\"inputs\":[{\"name\":\"amount\",\"type\":\"uint256\"}],\"name\":\"deposit\",\"outputs\":[],\"payable\":true,\"stateMutability\":\"payable\",\"type\":\"function\"},{\"inputs\":[],\"payable\":false,\"stateMutability\":\"nonpayable\",\"type\":\"constructor\"},{\"anonymous\":false,\"inputs\":[{\"indexed\":false,\"name\":\"from\",\"type\":\"address\"},{\"indexed\":false,\"name\":\"to\",\"type\":\"address\"},{\"indexed\":false,\"name\":\"amount\",\"type\":\"uint256\"}],\"name\":\"Sent\",\"type\":\"event\"}];\n",
    "var bank = new web3.eth.Contract(_abiArray, '0x8f87B1A38380a474f7cdfE2fb3A16e1F856C5A1A');\n",
    "var event = bank.events.Sent({fromBlock: 0}, function (error, result) {\n",
    "    if (!error) {\n",
    "        console.log(\"Event fired: \" + JSON.stringify(result.returnValues));\n",
    "    }\n",
    "});\n",
    "\n",
    "async function doIt() {\n",
    "    const accounts = await web3.eth.getAccounts();\n",
    "    console.log(\"Account0: \" + accounts[0]);\n",
    "    const balance0Before = await web3.eth.getBalance(accounts[0]);\n",
    "    console.log(\"Balance0 before: \" + balance0Before);\n",
    "    const balance1Before = await web3.eth.getBalance(accounts[1]);\n",
    "    console.log(\"Balance1 before: \" + balance1Before);\n",
    "\n",
    "    bank.methods.getBalance().call().then(function(bal) {\n",
    "        console.log(\"Contract bal before deposit: \" + bal[0] + \" this.bal:\" + bal[1]);\n",
    "    });\n",
    "    await bank.methods.deposit(1111).send({from: accounts[0],gas:80000,value:1111});\n",
    "    bank.methods.getBalance().call().then(function(bal) {\n",
    "        console.log(\"Contract bal after deposit: \" + bal[0] + \" this.bal:\" + bal[1]);\n",
    "    });\n",
    "    const forward = await bank.methods.forwardTo(accounts[1]).send({from: accounts[0],gas:100000,value:555});\n",
    "    //const forward = await _test.methods.forwardTo().send({from: accounts[0], gas: 364124, gasPrice: '1000000000'})\n",
    "        //.then(function(value) {console.log(\"---> myFunction called \" + JSON.stringify(forward.events.Sent.returnValues));});\n",
    "  \n",
    "    console.log(\"---> forwardTo called \" + JSON.stringify(forward.events.Sent.returnValues));\n",
    "    bank.methods.getBalance().call().then(function(bal) {\n",
    "        console.log(\"Contract balance after forwardTo: \" + bal[0] + \" this.bal:\" + bal[1]);\n",
    "    });\n",
    "    const balance0After = await web3.eth.getBalance(accounts[0]);\n",
    "    console.log(\"Balance0 after: \" + balance0After);\n",
    "    console.log(\"Balance0 diff: \" + (balance0After - balance0Before));\n",
    "    const balance1After = await web3.eth.getBalance(accounts[1]);\n",
    "    console.log(\"Balance1 after: \" + balance1After);\n",
    "    console.log(\"Balance1 diff: \" + (balance1After - balance1Before));\n",
    "\n",
    "    const withdraw = await bank.methods.widthdrawAll().send({from: accounts[0],gas:100000});\n",
    "    bank.methods.getBalance().call().then(function(bal) {\n",
    "        console.log(\"Contract balance after withdrawAll: \" + bal[0] + \" this.bal:\" + bal[1]);\n",
    "    });\n",
    "    const balance0AfterWithdrawAll = await web3.eth.getBalance(accounts[0]);\n",
    "    console.log(\"Balance0 after withdrawAll: \" + balance0AfterWithdrawAll);\n",
    "    console.log(\"Balance0 diff after withdrawAll: \" + (balance0After - balance0AfterWithdrawAll));\n",
    "}\n",
    "doIt()"
   ]
  },
  {
   "cell_type": "markdown",
   "id": "64ba6356",
   "metadata": {},
   "source": [
    "## geth@8445로 배포\n",
    "##### 3) 8445배포"
   ]
  },
  {
   "cell_type": "code",
   "execution_count": 61,
   "id": "b88be628",
   "metadata": {},
   "outputs": [
    {
     "name": "stdout",
     "output_type": "stream",
     "text": [
      "Overwriting src/BankV2Deploy.js\n"
     ]
    }
   ],
   "source": [
    "%%writefile src/BankV2Deploy.js\n",
    "var Web3=require('web3');\n",
    "var web3;\n",
    "if (typeof web3 !== 'undefined') {\n",
    "    web3 = new Web3(web3.currentProvider);\n",
    "} else {\n",
    "    //web3 = new Web3(new Web3.providers.WebsocketProvider('ws://117.16.44.45:8345'));\n",
    "    web3 = new Web3(new Web3.providers.HttpProvider('http://117.16.44.45:8445'));\n",
    "}\n",
    "var _abiArray=[{\"constant\":true,\"inputs\":[],\"name\":\"getBalance\",\"outputs\":[{\"name\":\"\",\"type\":\"uint256\"},{\"name\":\"\",\"type\":\"uint256\"}],\"payable\":false,\"stateMutability\":\"view\",\"type\":\"function\"},{\"constant\":false,\"inputs\":[{\"name\":\"_receiver\",\"type\":\"address\"}],\"name\":\"forwardTo\",\"outputs\":[],\"payable\":true,\"stateMutability\":\"payable\",\"type\":\"function\"},{\"constant\":false,\"inputs\":[],\"name\":\"widthdrawAll\",\"outputs\":[],\"payable\":false,\"stateMutability\":\"nonpayable\",\"type\":\"function\"},{\"constant\":false,\"inputs\":[{\"name\":\"amount\",\"type\":\"uint256\"}],\"name\":\"deposit\",\"outputs\":[],\"payable\":true,\"stateMutability\":\"payable\",\"type\":\"function\"},{\"inputs\":[],\"payable\":false,\"stateMutability\":\"nonpayable\",\"type\":\"constructor\"},{\"anonymous\":false,\"inputs\":[{\"indexed\":false,\"name\":\"from\",\"type\":\"address\"},{\"indexed\":false,\"name\":\"to\",\"type\":\"address\"},{\"indexed\":false,\"name\":\"amount\",\"type\":\"uint256\"}],\"name\":\"Sent\",\"type\":\"event\"}];\n",
    "var _bin=\"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\";\n",
    "\n",
    "async function deploy() {\n",
    "    const accounts = await web3.eth.getAccounts();\n",
    "    console.log(\"Deploying the contract from \" + accounts[0]);\n",
    "    var deployed = await new web3.eth.Contract(_abiArray)\n",
    "        .deploy({data: \"0x\"+_bin})\n",
    "        .send({from: accounts[0], gas: 1000000, gasPrice: '1000000000'}, function(err, transactionHash) {\n",
    "                if(!err) console.log(\"hash: \" + transactionHash); \n",
    "        })\n",
    "        //.then(function(newContractInstance) {\n",
    "        //    console.log(newContractInstance.options.address)\n",
    "        //});\n",
    "    console.log(\"---> The contract deployed to: \" + deployed.options.address)\n",
    "}\n",
    "deploy()"
   ]
  }
 ],
 "metadata": {
  "kernelspec": {
   "display_name": "Python 3",
   "language": "python",
   "name": "python3"
  },
  "language_info": {
   "codemirror_mode": {
    "name": "ipython",
    "version": 3
   },
   "file_extension": ".py",
   "mimetype": "text/x-python",
   "name": "python",
   "nbconvert_exporter": "python",
   "pygments_lexer": "ipython3",
   "version": "3.8.8"
  }
 },
 "nbformat": 4,
 "nbformat_minor": 5
}
