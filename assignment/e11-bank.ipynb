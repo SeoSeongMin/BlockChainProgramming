{
 "cells": [
  {
   "cell_type": "markdown",
   "id": "00c50194",
   "metadata": {},
   "source": [
    "## 은행 컨트랙을 프로그램하여 아래 기능을 실행하도록 하세요.\n",
    "* 입금액을 매개변수로 넣어서 입금하세요. amount가 실제 입금액과 일치하지 않으면 오류.\n",
    "\n",
    "\tfunction deposit(uint amount)\n",
    "\n",
    "* 전액 인출 함수를 구현하세요. 인출 금액을 정하지 않아도 되므로 함수의 인자가 없다.\n",
    "\n",
    "\tfunction widthdrawAll()\n",
    "\n",
    "* 컨트랙 잔고확인 함수 (this를 이용한 잔고, 상태변수 잔고 (this 잔고가 맞는지 확인하는 용도)\n",
    "\n",
    "\tfunction getBalance() public view returns(uint, uint)\n",
    "\n",
    "* 다른 계정으로 계좌이체 함수\n",
    "\n",
    "\tfunction forwardTo(address payable _receiver) public payable\n",
    "\n",
    "* fallback()을 입금가능하도록 구현하세요. fallback이 호출되면 이벤트가 발생하여 전송자와 금액을 출력하세요.\n",
    "\n",
    "이벤트 함수명은 PrintLog(address from, uint amount)\n",
    "\n",
    "\n",
    "\n",
    "주피터 노트북에서 컴파일, 배포한 후, 아래 기능을 실행하여 그 결과를 출력하세요.\n",
    "\n",
    "ganache 8345 띄우고, 노드로 하세요.\n",
    "\n",
    "- 1. 입금 11111 wei, 222 wei를 하고 컨트랙잔고 11333 wei 출력\n",
    "\n",
    "- 2. 자신의 2번째 계정으로 계좌이체 333 wei하고 컨트랙잔고 11000 wei 출력, 자신의 2번째 계정 잔고 증가분 (+333 wei) 출력\n",
    "\n",
    "- 3. 전액 인출하고 11000 wei, 자신의 잔고 증가분 출력 (+11000 wei)"
   ]
  },
  {
   "cell_type": "markdown",
   "id": "5319617e",
   "metadata": {},
   "source": [
    "## ganache"
   ]
  },
  {
   "cell_type": "markdown",
   "id": "dcca17fe",
   "metadata": {},
   "source": [
    "## 1. 개발"
   ]
  },
  {
   "cell_type": "code",
   "execution_count": 7,
   "id": "f2bbde38",
   "metadata": {},
   "outputs": [
    {
     "name": "stdout",
     "output_type": "stream",
     "text": [
      "Overwriting src/MyBank.sol\n"
     ]
    }
   ],
   "source": [
    "%%writefile src/MyBank.sol\n",
    "pragma solidity 0.6.4;\n",
    "\n",
    "contract MyBank {\n",
    "    address payable owner;\n",
    "    uint balance;\n",
    "    constructor() public {\n",
    "        owner = msg.sender;\n",
    "        balance = address(this).balance;\n",
    "    }\n",
    "    \n",
    "    function deposit(uint amount) public payable {\n",
    "        require(msg.value == amount);\n",
    "        balance += amount;\n",
    "    }\n",
    "    function withdrawAll() public {\n",
    "        uint amount = balance;\n",
    "        balance -= amount;\n",
    "        owner.transfer(amount);\n",
    "    }\n",
    "    function getBalance() public view returns(uint, uint) {\n",
    "        return (address(this).balance, balance);\n",
    "    }\n",
    "    function forwardTo(address payable _receiver) public payable {\n",
    "        uint amount = 333;\n",
    "        balance -= amount;\n",
    "        _receiver.transfer(amount);\n",
    "    }\n",
    "}"
   ]
  },
  {
   "cell_type": "markdown",
   "id": "9c56f3f3",
   "metadata": {},
   "source": [
    "## 2.컴파일"
   ]
  },
  {
   "cell_type": "code",
   "execution_count": 8,
   "id": "0abac6bf",
   "metadata": {
    "scrolled": true
   },
   "outputs": [
    {
     "name": "stdout",
     "output_type": "stream",
     "text": [
      "\n",
      "======= src/MyBank.sol:MyBank =======\n",
      "Gas estimation:\n",
      "construction:\n",
      "   41047 + 116600 = 157647\n",
      "external:\n",
      "   deposit(uint256):\t21103\n",
      "   forwardTo(address):\tinfinite\n",
      "   getBalance():\t1027\n",
      "   withdrawAll():\tinfinite\n",
      "Binary:\n",
      "608060405234801561001057600080fd5b50336000806101000a81548173ffffffffffffffffffffffffffffffffffffffff021916908373ffffffffffffffffffffffffffffffffffffffff16021790555047600181905550610247806100676000396000f3fe60806040526004361061003f5760003560e01c806312065fe01461004457806327d8ad8814610076578063853828b6146100ba578063b6b55f25146100d1575b600080fd5b34801561005057600080fd5b506100596100ff565b604051808381526020018281526020019250505060405180910390f35b6100b86004803603602081101561008c57600080fd5b81019080803573ffffffffffffffffffffffffffffffffffffffff16906020019092919050505061010e565b005b3480156100c657600080fd5b506100cf610170565b005b6100fd600480360360208110156100e757600080fd5b81019080803590602001909291905050506101f2565b005b60008047600154915091509091565b600061014d9050806001600082825403925050819055508173ffffffffffffffffffffffffffffffffffffffff166108fc829081150290604051600060405180830381858888f1935050505015801561016b573d6000803e3d6000fd5b505050565b60006001549050806001600082825403925050819055506000809054906101000a900473ffffffffffffffffffffffffffffffffffffffff1673ffffffffffffffffffffffffffffffffffffffff166108fc829081150290604051600060405180830381858888f193505050501580156101ee573d6000803e3d6000fd5b5050565b8034146101fe57600080fd5b806001600082825401925050819055505056fea264697066735822122039009b4f1f622ac28bb0f72f7543f30f04991eb9df2008362d5162ad93d2256364736f6c63430006040033\n",
      "Contract JSON ABI\n",
      "[{\"inputs\":[],\"stateMutability\":\"nonpayable\",\"type\":\"constructor\"},{\"inputs\":[{\"internalType\":\"uint256\",\"name\":\"amount\",\"type\":\"uint256\"}],\"name\":\"deposit\",\"outputs\":[],\"stateMutability\":\"payable\",\"type\":\"function\"},{\"inputs\":[{\"internalType\":\"address payable\",\"name\":\"_receiver\",\"type\":\"address\"}],\"name\":\"forwardTo\",\"outputs\":[],\"stateMutability\":\"payable\",\"type\":\"function\"},{\"inputs\":[],\"name\":\"getBalance\",\"outputs\":[{\"internalType\":\"uint256\",\"name\":\"\",\"type\":\"uint256\"},{\"internalType\":\"uint256\",\"name\":\"\",\"type\":\"uint256\"}],\"stateMutability\":\"view\",\"type\":\"function\"},{\"inputs\":[],\"name\":\"withdrawAll\",\"outputs\":[],\"stateMutability\":\"nonpayable\",\"type\":\"function\"}]\n"
     ]
    }
   ],
   "source": [
    "!solc --abi --bin --gas src/MyBank.sol"
   ]
  },
  {
   "cell_type": "markdown",
   "id": "dabd694a",
   "metadata": {},
   "source": [
    "## 3.배포"
   ]
  },
  {
   "cell_type": "code",
   "execution_count": 13,
   "id": "538bc0ba",
   "metadata": {
    "scrolled": true
   },
   "outputs": [
    {
     "name": "stdout",
     "output_type": "stream",
     "text": [
      "[\n",
      "  '0x5723A0c574E487d8DA6FDAf9F66b65f7fe7D8a42',\n",
      "  '0x27DEf991DE494718AEFCBFc829FA001643E48765',\n",
      "  '0x3254D17544E9136FD903578d6836c9a924b0722B',\n",
      "  '0xc81d5Dd8F9Fb8F5140dEda82977102A76a5beDb1',\n",
      "  '0x056f31bE115b0886A9607F773b81438c68f5a6c6',\n",
      "  '0xd9f57b3d8d613456aDD91Ba3A767f1f5dFF92574',\n",
      "  '0xEA22778AF5c5cBCe793082E5Af43A870bEFf9445',\n",
      "  '0x1A2b6337ef60eb9CFEadb66aD736A68d194CEBf4',\n",
      "  '0xDc9BEeB1C8a1e791E6cecc44c434ec3972413CA0',\n",
      "  '0xdE4438C8E3cEB131d2B0c212Ac4A371ef80D066A'\n",
      "]\n"
     ]
    }
   ],
   "source": [
    "!node src/getMyAddr.js"
   ]
  },
  {
   "cell_type": "code",
   "execution_count": 14,
   "id": "480187c3",
   "metadata": {},
   "outputs": [
    {
     "name": "stdout",
     "output_type": "stream",
     "text": [
      "Overwriting src/MyBankDeploy.js\n"
     ]
    }
   ],
   "source": [
    "%%writefile src/MyBankDeploy.js\n",
    "var Web3 = require('web3');\n",
    "var web3;\n",
    "if (typeof web3 !== 'undefined') {\n",
    "    web3 = new Web3(web3.currentProvider);\n",
    "} else {\n",
    "    web3 = new Web3(new Web3.providers.HttpProvider(\"http://localhost:8345\"));\n",
    "}\n",
    "\n",
    "var _abi = [{\"inputs\":[],\"stateMutability\":\"nonpayable\",\"type\":\"constructor\"},{\"inputs\":[{\"internalType\":\"uint256\",\"name\":\"amount\",\"type\":\"uint256\"}],\"name\":\"deposit\",\"outputs\":[],\"stateMutability\":\"payable\",\"type\":\"function\"},{\"inputs\":[{\"internalType\":\"address payable\",\"name\":\"_receiver\",\"type\":\"address\"}],\"name\":\"forwardTo\",\"outputs\":[],\"stateMutability\":\"payable\",\"type\":\"function\"},{\"inputs\":[],\"name\":\"getBalance\",\"outputs\":[{\"internalType\":\"uint256\",\"name\":\"\",\"type\":\"uint256\"},{\"internalType\":\"uint256\",\"name\":\"\",\"type\":\"uint256\"}],\"stateMutability\":\"view\",\"type\":\"function\"},{\"inputs\":[],\"name\":\"withdrawAll\",\"outputs\":[],\"stateMutability\":\"nonpayable\",\"type\":\"function\"}];\n",
    "var _bin = \"608060405234801561001057600080fd5b50336000806101000a81548173ffffffffffffffffffffffffffffffffffffffff021916908373ffffffffffffffffffffffffffffffffffffffff16021790555047600181905550610247806100676000396000f3fe60806040526004361061003f5760003560e01c806312065fe01461004457806327d8ad8814610076578063853828b6146100ba578063b6b55f25146100d1575b600080fd5b34801561005057600080fd5b506100596100ff565b604051808381526020018281526020019250505060405180910390f35b6100b86004803603602081101561008c57600080fd5b81019080803573ffffffffffffffffffffffffffffffffffffffff16906020019092919050505061010e565b005b3480156100c657600080fd5b506100cf610170565b005b6100fd600480360360208110156100e757600080fd5b81019080803590602001909291905050506101f2565b005b60008047600154915091509091565b600061014d9050806001600082825403925050819055508173ffffffffffffffffffffffffffffffffffffffff166108fc829081150290604051600060405180830381858888f1935050505015801561016b573d6000803e3d6000fd5b505050565b60006001549050806001600082825403925050819055506000809054906101000a900473ffffffffffffffffffffffffffffffffffffffff1673ffffffffffffffffffffffffffffffffffffffff166108fc829081150290604051600060405180830381858888f193505050501580156101ee573d6000803e3d6000fd5b5050565b8034146101fe57600080fd5b806001600082825401925050819055505056fea264697066735822122039009b4f1f622ac28bb0f72f7543f30f04991eb9df2008362d5162ad93d2256364736f6c63430006040033\";\n",
    "var _contract = new web3.eth.Contract(_abi);\n",
    "\n",
    "_contract\n",
    "    .deploy({ data: \"0x\"+_bin })\n",
    "    .send({\n",
    "     from: '0x5723A0c574E487d8DA6FDAf9F66b65f7fe7D8a42',\n",
    "     gas: '1000000'\n",
    "    })\n",
    "    .then(function(newContractInstance){\n",
    "        console.log(\"contract address: \"+newContractInstance.options.address)\n",
    "    });"
   ]
  },
  {
   "cell_type": "code",
   "execution_count": 15,
   "id": "8332cf1b",
   "metadata": {},
   "outputs": [
    {
     "name": "stdout",
     "output_type": "stream",
     "text": [
      "contract address: 0xD2D284A449032906FE39c483c88CfB0a314cEE99\n"
     ]
    }
   ],
   "source": [
    "!node src/MyBankDeploy.js"
   ]
  },
  {
   "cell_type": "markdown",
   "id": "4ca4c893",
   "metadata": {},
   "source": [
    "## 4. 사용"
   ]
  },
  {
   "cell_type": "markdown",
   "id": "98130f02",
   "metadata": {},
   "source": [
    "### 1) 입금 11111 wei, 222 wei를 하고 잔고 11333 wei 출력"
   ]
  },
  {
   "cell_type": "code",
   "execution_count": 16,
   "id": "12ba6232",
   "metadata": {},
   "outputs": [
    {
     "name": "stdout",
     "output_type": "stream",
     "text": [
      "Writing src/MyBankUse1.js\n"
     ]
    }
   ],
   "source": [
    "%%writefile src/MyBankUse1.js\n",
    "var Web3 = require('web3');\n",
    "var web3 = new Web3(new Web3.providers.HttpProvider(\"http://localhost:8345\"));\n",
    "\n",
    "var _abi = [{\"inputs\":[],\"stateMutability\":\"nonpayable\",\"type\":\"constructor\"},{\"inputs\":[{\"internalType\":\"uint256\",\"name\":\"amount\",\"type\":\"uint256\"}],\"name\":\"deposit\",\"outputs\":[],\"stateMutability\":\"payable\",\"type\":\"function\"},{\"inputs\":[{\"internalType\":\"address payable\",\"name\":\"_receiver\",\"type\":\"address\"}],\"name\":\"forwardTo\",\"outputs\":[],\"stateMutability\":\"payable\",\"type\":\"function\"},{\"inputs\":[],\"name\":\"getBalance\",\"outputs\":[{\"internalType\":\"uint256\",\"name\":\"\",\"type\":\"uint256\"},{\"internalType\":\"uint256\",\"name\":\"\",\"type\":\"uint256\"}],\"stateMutability\":\"view\",\"type\":\"function\"},{\"inputs\":[],\"name\":\"withdrawAll\",\"outputs\":[],\"stateMutability\":\"nonpayable\",\"type\":\"function\"}];\n",
    "var bank = new web3.eth.Contract(_abi, \"0xD2D284A449032906FE39c483c88CfB0a314cEE99\");\n",
    "var coinbase = \"0x5723A0c574E487d8DA6FDAf9F66b65f7fe7D8a42\";\n",
    "\n",
    "bank.methods.deposit(11111).send({from:coinbase, gas:1000000, value:11111});\n",
    "bank.methods.deposit(222).send({from:coinbase, gas:1000000, value:222});"
   ]
  },
  {
   "cell_type": "code",
   "execution_count": 17,
   "id": "035f1df8",
   "metadata": {},
   "outputs": [
    {
     "name": "stdout",
     "output_type": "stream",
     "text": [
      "Writing src/MyBankUse-chk-contract.js\n"
     ]
    }
   ],
   "source": [
    "%%writefile src/MyBankUse-chk-contract.js\n",
    "var Web3 = require('web3');\n",
    "var web3 = new Web3(new Web3.providers.HttpProvider(\"http://localhost:8345\"));\n",
    "\n",
    "var _abi = [{\"inputs\":[],\"stateMutability\":\"nonpayable\",\"type\":\"constructor\"},{\"inputs\":[{\"internalType\":\"uint256\",\"name\":\"amount\",\"type\":\"uint256\"}],\"name\":\"deposit\",\"outputs\":[],\"stateMutability\":\"payable\",\"type\":\"function\"},{\"inputs\":[{\"internalType\":\"address payable\",\"name\":\"_receiver\",\"type\":\"address\"}],\"name\":\"forwardTo\",\"outputs\":[],\"stateMutability\":\"payable\",\"type\":\"function\"},{\"inputs\":[],\"name\":\"getBalance\",\"outputs\":[{\"internalType\":\"uint256\",\"name\":\"\",\"type\":\"uint256\"},{\"internalType\":\"uint256\",\"name\":\"\",\"type\":\"uint256\"}],\"stateMutability\":\"view\",\"type\":\"function\"},{\"inputs\":[],\"name\":\"withdrawAll\",\"outputs\":[],\"stateMutability\":\"nonpayable\",\"type\":\"function\"}];\n",
    "var bank = new web3.eth.Contract(_abi, \"0xD2D284A449032906FE39c483c88CfB0a314cEE99\");\n",
    "var coinbase = \"0x5723A0c574E487d8DA6FDAf9F66b65f7fe7D8a42\";\n",
    "\n",
    "bank.methods.getBalance().call().then(console.log);"
   ]
  },
  {
   "cell_type": "code",
   "execution_count": 18,
   "id": "3bb2a02a",
   "metadata": {},
   "outputs": [],
   "source": [
    "!node src/MyBankUse1.js"
   ]
  },
  {
   "cell_type": "code",
   "execution_count": 19,
   "id": "c7c2f050",
   "metadata": {},
   "outputs": [
    {
     "name": "stdout",
     "output_type": "stream",
     "text": [
      "Result { '0': '11333', '1': '11333' }\n"
     ]
    }
   ],
   "source": [
    "!node src/MyBankUse-chk-contract.js"
   ]
  },
  {
   "cell_type": "markdown",
   "id": "9de594bb",
   "metadata": {},
   "source": [
    "## 2) 자신의 2번째 계정으로 계좌이체 333 wei하고 컨트랙 잔고 11000 wei 출력, 자신의 2번째 계정 잔고 증가분 (+333 wei) 출력"
   ]
  },
  {
   "cell_type": "code",
   "execution_count": 20,
   "id": "4f2bbe8f",
   "metadata": {},
   "outputs": [
    {
     "name": "stdout",
     "output_type": "stream",
     "text": [
      "Writing src/MyBankUse2-chk.js\n"
     ]
    }
   ],
   "source": [
    "%%writefile src/MyBankUse2-chk.js\n",
    "var Web3 = require('web3');\n",
    "var web3 = new Web3(new Web3.providers.HttpProvider(\"http://localhost:8345\"));\n",
    "\n",
    "var _abi = [{\"inputs\":[],\"stateMutability\":\"nonpayable\",\"type\":\"constructor\"},{\"inputs\":[{\"internalType\":\"uint256\",\"name\":\"amount\",\"type\":\"uint256\"}],\"name\":\"deposit\",\"outputs\":[],\"stateMutability\":\"payable\",\"type\":\"function\"},{\"inputs\":[{\"internalType\":\"address payable\",\"name\":\"_receiver\",\"type\":\"address\"}],\"name\":\"forwardTo\",\"outputs\":[],\"stateMutability\":\"payable\",\"type\":\"function\"},{\"inputs\":[],\"name\":\"getBalance\",\"outputs\":[{\"internalType\":\"uint256\",\"name\":\"\",\"type\":\"uint256\"},{\"internalType\":\"uint256\",\"name\":\"\",\"type\":\"uint256\"}],\"stateMutability\":\"view\",\"type\":\"function\"},{\"inputs\":[],\"name\":\"withdrawAll\",\"outputs\":[],\"stateMutability\":\"nonpayable\",\"type\":\"function\"}];\n",
    "var bank = new web3.eth.Contract(_abi, \"0xD2D284A449032906FE39c483c88CfB0a314cEE99\");\n",
    "var coinbase = \"0x5723A0c574E487d8DA6FDAf9F66b65f7fe7D8a42\";\n",
    "var receiver = \"0x27DEf991DE494718AEFCBFc829FA001643E48765\";\n",
    "\n",
    "web3.eth.getBalance(receiver).then(function(ret) {\n",
    "    console.log(\"receiver balance: \"+ret);\n",
    "})"
   ]
  },
  {
   "cell_type": "code",
   "execution_count": 21,
   "id": "10a9e4ca",
   "metadata": {},
   "outputs": [
    {
     "name": "stdout",
     "output_type": "stream",
     "text": [
      "receiver balance: 1000000000000000000000\n"
     ]
    }
   ],
   "source": [
    "!node src/MyBankUse2-chk.js"
   ]
  },
  {
   "cell_type": "code",
   "execution_count": 22,
   "id": "96fd96da",
   "metadata": {},
   "outputs": [
    {
     "name": "stdout",
     "output_type": "stream",
     "text": [
      "Writing src/MyBankUse2.js\n"
     ]
    }
   ],
   "source": [
    "%%writefile src/MyBankUse2.js\n",
    "var Web3 = require('web3');\n",
    "var web3 = new Web3(new Web3.providers.HttpProvider(\"http://localhost:8345\"));\n",
    "\n",
    "var _abi = [{\"inputs\":[],\"stateMutability\":\"nonpayable\",\"type\":\"constructor\"},{\"inputs\":[{\"internalType\":\"uint256\",\"name\":\"amount\",\"type\":\"uint256\"}],\"name\":\"deposit\",\"outputs\":[],\"stateMutability\":\"payable\",\"type\":\"function\"},{\"inputs\":[{\"internalType\":\"address payable\",\"name\":\"_receiver\",\"type\":\"address\"}],\"name\":\"forwardTo\",\"outputs\":[],\"stateMutability\":\"payable\",\"type\":\"function\"},{\"inputs\":[],\"name\":\"getBalance\",\"outputs\":[{\"internalType\":\"uint256\",\"name\":\"\",\"type\":\"uint256\"},{\"internalType\":\"uint256\",\"name\":\"\",\"type\":\"uint256\"}],\"stateMutability\":\"view\",\"type\":\"function\"},{\"inputs\":[],\"name\":\"withdrawAll\",\"outputs\":[],\"stateMutability\":\"nonpayable\",\"type\":\"function\"}];\n",
    "var bank = new web3.eth.Contract(_abi, \"0xD2D284A449032906FE39c483c88CfB0a314cEE99\");\n",
    "var coinbase = \"0x5723A0c574E487d8DA6FDAf9F66b65f7fe7D8a42\";\n",
    "var receiver = \"0x27DEf991DE494718AEFCBFc829FA001643E48765\";\n",
    "\n",
    "bank.methods.forwardTo(receiver).send({from:coinbase, gas:1000000});"
   ]
  },
  {
   "cell_type": "code",
   "execution_count": 23,
   "id": "d46f09c5",
   "metadata": {},
   "outputs": [],
   "source": [
    "!node src/MyBankUse2.js"
   ]
  },
  {
   "cell_type": "code",
   "execution_count": 24,
   "id": "115363f0",
   "metadata": {},
   "outputs": [
    {
     "name": "stdout",
     "output_type": "stream",
     "text": [
      "receiver balance: 1000000000000000000333\n"
     ]
    }
   ],
   "source": [
    "!node src/MyBankUse2-chk.js"
   ]
  },
  {
   "cell_type": "code",
   "execution_count": 25,
   "id": "f4f0a9ed",
   "metadata": {},
   "outputs": [
    {
     "name": "stdout",
     "output_type": "stream",
     "text": [
      "Result { '0': '11000', '1': '11000' }\n"
     ]
    }
   ],
   "source": [
    "!node src/MyBankUse-chk-contract.js"
   ]
  },
  {
   "cell_type": "markdown",
   "id": "480be474",
   "metadata": {},
   "source": [
    "## 3) 전액 인출하고 11000 wei, 자신의 잔고 증가분 출력 (+11000 wei)"
   ]
  },
  {
   "cell_type": "code",
   "execution_count": 26,
   "id": "b03af28a",
   "metadata": {},
   "outputs": [
    {
     "name": "stdout",
     "output_type": "stream",
     "text": [
      "Writing src/MyBankUse3-chk.js\n"
     ]
    }
   ],
   "source": [
    "%%writefile src/MyBankUse3-chk.js\n",
    "var Web3 = require('web3');\n",
    "var web3 = new Web3(new Web3.providers.HttpProvider(\"http://localhost:8345\"));\n",
    "\n",
    "var _abi = [{\"inputs\":[],\"stateMutability\":\"nonpayable\",\"type\":\"constructor\"},{\"inputs\":[{\"internalType\":\"uint256\",\"name\":\"amount\",\"type\":\"uint256\"}],\"name\":\"deposit\",\"outputs\":[],\"stateMutability\":\"payable\",\"type\":\"function\"},{\"inputs\":[{\"internalType\":\"address payable\",\"name\":\"_receiver\",\"type\":\"address\"}],\"name\":\"forwardTo\",\"outputs\":[],\"stateMutability\":\"payable\",\"type\":\"function\"},{\"inputs\":[],\"name\":\"getBalance\",\"outputs\":[{\"internalType\":\"uint256\",\"name\":\"\",\"type\":\"uint256\"},{\"internalType\":\"uint256\",\"name\":\"\",\"type\":\"uint256\"}],\"stateMutability\":\"view\",\"type\":\"function\"},{\"inputs\":[],\"name\":\"withdrawAll\",\"outputs\":[],\"stateMutability\":\"nonpayable\",\"type\":\"function\"}];\n",
    "var bank = new web3.eth.Contract(_abi, \"0xD2D284A449032906FE39c483c88CfB0a314cEE99\");\n",
    "var coinbase = \"0x5723A0c574E487d8DA6FDAf9F66b65f7fe7D8a42\";\n",
    "\n",
    "web3.eth.getBalance(coinbase).then(function(ret) {\n",
    "    console.log(\"coinbase balance: \"+ret);\n",
    "})"
   ]
  },
  {
   "cell_type": "code",
   "execution_count": 28,
   "id": "99f4d5d7",
   "metadata": {},
   "outputs": [
    {
     "name": "stdout",
     "output_type": "stream",
     "text": [
      "coinbase balance: 999999378493999988667\n"
     ]
    }
   ],
   "source": [
    "!node src/MyBankUse3-chk.js"
   ]
  },
  {
   "cell_type": "code",
   "execution_count": 31,
   "id": "82c70ba0",
   "metadata": {},
   "outputs": [
    {
     "name": "stdout",
     "output_type": "stream",
     "text": [
      "Overwriting src/MyBankUse3.js\n"
     ]
    }
   ],
   "source": [
    "%%writefile src/MyBankUse3.js\n",
    "var Web3 = require('web3');\n",
    "var web3 = new Web3(new Web3.providers.HttpProvider(\"http://localhost:8345\"));\n",
    "\n",
    "var _abi = [{\"inputs\":[],\"stateMutability\":\"nonpayable\",\"type\":\"constructor\"},{\"inputs\":[{\"internalType\":\"uint256\",\"name\":\"amount\",\"type\":\"uint256\"}],\"name\":\"deposit\",\"outputs\":[],\"stateMutability\":\"payable\",\"type\":\"function\"},{\"inputs\":[{\"internalType\":\"address payable\",\"name\":\"_receiver\",\"type\":\"address\"}],\"name\":\"forwardTo\",\"outputs\":[],\"stateMutability\":\"payable\",\"type\":\"function\"},{\"inputs\":[],\"name\":\"getBalance\",\"outputs\":[{\"internalType\":\"uint256\",\"name\":\"\",\"type\":\"uint256\"},{\"internalType\":\"uint256\",\"name\":\"\",\"type\":\"uint256\"}],\"stateMutability\":\"view\",\"type\":\"function\"},{\"inputs\":[],\"name\":\"withdrawAll\",\"outputs\":[],\"stateMutability\":\"nonpayable\",\"type\":\"function\"}];\n",
    "var bank = new web3.eth.Contract(_abi, \"0xD2D284A449032906FE39c483c88CfB0a314cEE99\");\n",
    "var coinbase = \"0x5723A0c574E487d8DA6FDAf9F66b65f7fe7D8a42\";\n",
    "\n",
    "bank.methods.withdrawAll().send({from:coinbase, gas:1000000});"
   ]
  },
  {
   "cell_type": "code",
   "execution_count": 32,
   "id": "828375db",
   "metadata": {},
   "outputs": [],
   "source": [
    "!node src/MyBankUse3.js"
   ]
  },
  {
   "cell_type": "code",
   "execution_count": 33,
   "id": "f9b4896a",
   "metadata": {},
   "outputs": [
    {
     "name": "stdout",
     "output_type": "stream",
     "text": [
      "coinbase balance: 999999317261999999667\n"
     ]
    }
   ],
   "source": [
    "!node src/MyBankUse3-chk.js"
   ]
  },
  {
   "cell_type": "code",
   "execution_count": 34,
   "id": "1b3b33ab",
   "metadata": {},
   "outputs": [
    {
     "name": "stdout",
     "output_type": "stream",
     "text": [
      "Result { '0': '0', '1': '0' }\n"
     ]
    }
   ],
   "source": [
    "!node src/MyBankUse-chk-contract.js"
   ]
  }
 ],
 "metadata": {
  "kernelspec": {
   "display_name": "Python 3",
   "language": "python",
   "name": "python3"
  },
  "language_info": {
   "codemirror_mode": {
    "name": "ipython",
    "version": 3
   },
   "file_extension": ".py",
   "mimetype": "text/x-python",
   "name": "python",
   "nbconvert_exporter": "python",
   "pygments_lexer": "ipython3",
   "version": "3.8.8"
  }
 },
 "nbformat": 4,
 "nbformat_minor": 5
}
