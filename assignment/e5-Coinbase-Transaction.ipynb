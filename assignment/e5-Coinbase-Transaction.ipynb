{
 "cells": [
  {
   "cell_type": "markdown",
   "id": "fbf03c9c",
   "metadata": {},
   "source": [
    "## 1-1: ganache를 백그라운드로 띄우고, node에서 연결하여, coinbase주소를 출력하세요."
   ]
  },
  {
   "cell_type": "code",
   "execution_count": 9,
   "id": "430525b8",
   "metadata": {},
   "outputs": [
    {
     "name": "stdout",
     "output_type": "stream",
     "text": [
      "Overwriting src/coinbaseCommend.js\n"
     ]
    }
   ],
   "source": [
    "%%writefile src/coinbaseCommend.js\n",
    "var Web3 = require('web3');\n",
    "var web3 = new Web3(\"http://127.0.0.1:8345\");\n",
    "var account;\n",
    "\n",
    "async function getAccount(){\n",
    "    accounts = await web3.eth.getAccounts();\n",
    "    account = accounts[0];\n",
    "    console.log(\"ganache-cil-coinbase: \"+account);\n",
    "}\n",
    "getAccount()"
   ]
  },
  {
   "cell_type": "code",
   "execution_count": 10,
   "id": "6ffc9649",
   "metadata": {},
   "outputs": [
    {
     "name": "stdout",
     "output_type": "stream",
     "text": [
      "ganache-cil-coinbase: 0x6D58A7ba1b9285ED2c464718A805169E25EA71D5\n"
     ]
    }
   ],
   "source": [
    "!node src/coinbaseCommend.js"
   ]
  },
  {
   "cell_type": "markdown",
   "id": "1f127c56",
   "metadata": {},
   "source": [
    "## 1-2: 문제 1-1을 geth를 띄우고 실행해보세요. geth에서의 coinbase를 출력하세요."
   ]
  },
  {
   "cell_type": "code",
   "execution_count": 11,
   "id": "511ed8a8",
   "metadata": {},
   "outputs": [
    {
     "name": "stdout",
     "output_type": "stream",
     "text": [
      "Overwriting src/getcoinbaseCommend.js\n"
     ]
    }
   ],
   "source": [
    "%%writefile src/getcoinbaseCommend.js\n",
    "var Web3 = require('web3');\n",
    "var web3 = new Web3(\"http://127.0.0.1:8445\");\n",
    "\n",
    "console.log(\"geth coinbase: \");\n",
    "web3.eth.getCoinbase().then(console.log);"
   ]
  },
  {
   "cell_type": "code",
   "execution_count": 12,
   "id": "11c8a559",
   "metadata": {},
   "outputs": [
    {
     "name": "stdout",
     "output_type": "stream",
     "text": [
      "geth coinbase: \n",
      "0x60c0ca8790e0177b4aedbd37a4079bca28e41375\n"
     ]
    }
   ],
   "source": [
    "!node src/getcoinbaseCommend.js"
   ]
  },
  {
   "cell_type": "markdown",
   "id": "11d33d33",
   "metadata": {},
   "source": [
    "## 1-3 : ganache의 coinbase에서 geth의 coinbase로 1 ether를 송금해 보세요. 송금 성공이면 잔고변화를 출력하고, 실패이면 그 이유를 간단히 설명하세요."
   ]
  },
  {
   "cell_type": "markdown",
   "id": "5bee153b",
   "metadata": {},
   "source": [
    "# 전!"
   ]
  },
  {
   "cell_type": "code",
   "execution_count": 3,
   "id": "c82f499e",
   "metadata": {},
   "outputs": [
    {
     "name": "stdout",
     "output_type": "stream",
     "text": [
      "Overwriting src/ganache-geth-trans.js\n"
     ]
    }
   ],
   "source": [
    "%%writefile src/ganache-geth-trans.js\n",
    "var Web3 = require('web3');\n",
    "var web3 = new Web3(\"http://127.0.0.1:8345\");\n",
    "\n",
    "var ganacheA = \"0x6D58A7ba1b9285ED2c464718A805169E25EA71D5\"        // ganache-cli coinbase\n",
    "var gethA = \"0x60c0ca8790e0177b4aedbd37a4079bca28e41375\";          // geth coinbase\n",
    "var trans = web3.utils.toWei('1', \"ether\");                       // 전송할 1 ether 값\n",
    "\n",
    "web3.eth.getBalance(gethA).then(function (ret) {\n",
    "    console.log(\"Before transaction. Coinbase Account = \" + ret);\n",
    "});\n",
    "web3.eth.personal.sendTransaction({from:ganacheA, to:gethA, value:trans});  // transaction"
   ]
  },
  {
   "cell_type": "markdown",
   "id": "de3e6b8b",
   "metadata": {},
   "source": [
    "* 5,6 : 각각 위에서 주소 정한것을 적어준다.\n",
    "* 7 : ether 전송\n",
    "* 12 : ganache가 geth에게 1이더만큰 보낸다."
   ]
  },
  {
   "cell_type": "code",
   "execution_count": 4,
   "id": "631f3c3a",
   "metadata": {},
   "outputs": [
    {
     "name": "stdout",
     "output_type": "stream",
     "text": [
      "Before transaction. Coinbase Account = 18000000000000000000\n"
     ]
    }
   ],
   "source": [
    "!node src/ganache-geth-trans.js"
   ]
  },
  {
   "cell_type": "markdown",
   "id": "04747dce",
   "metadata": {},
   "source": [
    "# 후!"
   ]
  },
  {
   "cell_type": "code",
   "execution_count": 5,
   "id": "55f13826",
   "metadata": {},
   "outputs": [
    {
     "name": "stdout",
     "output_type": "stream",
     "text": [
      "Overwriting src/ganache-geth-trans2.js\n"
     ]
    }
   ],
   "source": [
    "%%writefile src/ganache-geth-trans2.js\n",
    "var Web3 = require('web3');\n",
    "var web3 = new Web3(\"http://127.0.0.1:8345\");\n",
    "\n",
    "var ganacheA = \"0x6D58A7ba1b9285ED2c464718A805169E25EA71D5\"        // ganache-cli coinbase\n",
    "var gethA = \"0x60c0ca8790e0177b4aedbd37a4079bca28e41375\";          // geth coinbase\n",
    "\n",
    "web3.eth.getBalance(gethA).then(function (ret) {\n",
    "    console.log(\"After transaction. Coinbase Account = \"+ ret);\n",
    "});"
   ]
  },
  {
   "cell_type": "code",
   "execution_count": 6,
   "id": "ee70d8d2",
   "metadata": {},
   "outputs": [
    {
     "name": "stdout",
     "output_type": "stream",
     "text": [
      "After transaction. Coinbase Account = 19000000000000000000\n"
     ]
    }
   ],
   "source": [
    "!node src/ganache-geth-trans2.js"
   ]
  },
  {
   "cell_type": "markdown",
   "id": "b978c703",
   "metadata": {},
   "source": [
    "## 2-1 : ganache에 연결하고, 현재 coinbase의 잔고를 ether로 출력하세요."
   ]
  },
  {
   "cell_type": "code",
   "execution_count": 7,
   "id": "5be88719",
   "metadata": {},
   "outputs": [
    {
     "name": "stdout",
     "output_type": "stream",
     "text": [
      "Overwriting src/CoinbaseToEther.js\n"
     ]
    }
   ],
   "source": [
    "%%writefile src/CoinbaseToEther.js\n",
    "var Web3= require('web3');\n",
    "var web3= new Web3('http://localhost:8345'); \n",
    "\n",
    "let balance;\n",
    "async function checkBalance() {\n",
    "    try {\n",
    "        web3.eth.getBalance(\"0x6D58A7ba1b9285ED2c464718A805169E25EA71D5\").then((balanceInWei) => {\n",
    "            balance = web3.utils.fromWei(balanceInWei);\n",
    "            console.log(\"Balance in wei:\", balanceInWei);\n",
    "            console.log(\"Balance in ETH:\", balance);\n",
    "        });\n",
    "    } catch (error) {\n",
    "        console.log(error);\n",
    "    }\n",
    "}\n",
    "checkBalance();"
   ]
  },
  {
   "cell_type": "markdown",
   "id": "8a1fef14",
   "metadata": {},
   "source": [
    "* 8: 내 ganachi주소"
   ]
  },
  {
   "cell_type": "code",
   "execution_count": 8,
   "id": "cb2464fb",
   "metadata": {},
   "outputs": [
    {
     "name": "stdout",
     "output_type": "stream",
     "text": [
      "Balance in wei: 980998031317038713000\n",
      "Balance in ETH: 980.998031317038713\n"
     ]
    }
   ],
   "source": [
    "!node src/CoinbaseToEther.js"
   ]
  },
  {
   "cell_type": "markdown",
   "id": "30f19f72",
   "metadata": {},
   "source": [
    "## ## 2-2: 현재 거래소 환전가격을 구해서 한화로 계산하여 얼마인지 출력하세요. 환전가격은 거래소 가격을 읽어서 프로그램에 코딩한다."
   ]
  },
  {
   "cell_type": "code",
   "execution_count": 13,
   "id": "604fba8d",
   "metadata": {},
   "outputs": [
    {
     "name": "stdout",
     "output_type": "stream",
     "text": [
      "Overwriting src/Converting_Won.js\n"
     ]
    }
   ],
   "source": [
    "%%writefile src/Converting_Won.js\n",
    "var Web3= require('web3');\n",
    "var web3= new Web3('http://localhost:8345');\n",
    "var krw = 4042000;\n",
    "\n",
    "let bai;\n",
    "web3.eth.getBalance(\"0x6D58A7ba1b9285ED2c464718A805169E25EA71D5\").then((balanc) => {\n",
    "    bai = web3.utils.fromWei(balanc);\n",
    "    });\n",
    "\n",
    "web3.eth.getBalance(\"0x6D58A7ba1b9285ED2c464718A805169E25EA71D5\",function(error,result){\n",
    "    if(error){\n",
    "        conesole.log(error)\n",
    "    }\n",
    "    else{\n",
    "        console.log(bai+\" ether\")\n",
    "        console.log(\"...converting into market price 4,042,000 in Apr 2022\")\n",
    "        console.log(bai * krw +\" won\")\n",
    "    }\n",
    " })"
   ]
  },
  {
   "cell_type": "markdown",
   "id": "2570fb4f",
   "metadata": {},
   "source": [
    "* 7, 11 : ganachi 주소"
   ]
  },
  {
   "cell_type": "code",
   "execution_count": 14,
   "id": "5b689566",
   "metadata": {},
   "outputs": [
    {
     "name": "stdout",
     "output_type": "stream",
     "text": [
      "980.998031317038713 ether\n",
      "...converting into market price 4,042,000 in Apr 2022\n",
      "3965194042.5834703 won\n"
     ]
    }
   ],
   "source": [
    "!node src/Converting_Won.js"
   ]
  }
 ],
 "metadata": {
  "kernelspec": {
   "display_name": "Python 3",
   "language": "python",
   "name": "python3"
  },
  "language_info": {
   "codemirror_mode": {
    "name": "ipython",
    "version": 3
   },
   "file_extension": ".py",
   "mimetype": "text/x-python",
   "name": "python",
   "nbconvert_exporter": "python",
   "pygments_lexer": "ipython3",
   "version": "3.8.8"
  }
 },
 "nbformat": 4,
 "nbformat_minor": 5
}
