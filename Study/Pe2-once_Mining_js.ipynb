{
 "cells": [
  {
   "cell_type": "markdown",
   "id": "67bd2b68",
   "metadata": {},
   "source": [
    "# 마이닝 한 건에 얼마나 충전이 되었는지 알아보기\n",
    "* 1. 코인베이스 출력\n",
    "* 2. 코인베이스 잔고 출력\n",
    "* 3. 마이닝 1건 실행\n",
    "* 4. 잔고 증가분을 계산하여 출력"
   ]
  },
  {
   "cell_type": "code",
   "execution_count": 110,
   "id": "94de5a83",
   "metadata": {},
   "outputs": [
    {
     "name": "stdout",
     "output_type": "stream",
     "text": [
      "Overwriting src/how_once_mining.js\n"
     ]
    }
   ],
   "source": [
    "%%writefile src/how_once_mining.js\n",
    "//\n",
    "console.log('1. coinbase: ',eth.coinbase)\n",
    "var Before_CoinAcc = eth.getBalance(eth.coinbase)\n",
    "var Origin_Ether = web3.fromWei(Before_CoinAcc,\"ether\")\n",
    "//\n",
    "console.log('2. Origin coinbase Account: ',Origin_Ether)\n",
    "//\n",
    "miner.start(1);admin.sleepBlocks(1);miner.stop();\n",
    "var After_CoinAcc = eth.getBalance(eth.coinbase)\n",
    "var Mining_Ether = web3.fromWei(After_CoinAcc,\"ether\")\n",
    "console.log('3. mining coinbase Account: ',Mining_Ether)\n",
    "//\n",
    "console.log('4. how plus or minus: ', Mining_Ether - Origin_Ether)"
   ]
  },
  {
   "cell_type": "code",
   "execution_count": 111,
   "id": "f47054cf",
   "metadata": {},
   "outputs": [
    {
     "name": "stdout",
     "output_type": "stream",
     "text": [
      "1. coinbase:  0x60c0ca8790e0177b4aedbd37a4079bca28e41375\n",
      "2. Origin coinbase Account:  759.8437499999996855\n",
      "3. mining coinbase Account:  764.8437499999996855\n",
      "4. how plus or minus:  5\n",
      "true\n"
     ]
    }
   ],
   "source": [
    "!geth --exec \"loadScript('src/how_once_mining.js')\" attach http://localhost:8445"
   ]
  }
 ],
 "metadata": {
  "kernelspec": {
   "display_name": "Python 3",
   "language": "python",
   "name": "python3"
  },
  "language_info": {
   "codemirror_mode": {
    "name": "ipython",
    "version": 3
   },
   "file_extension": ".py",
   "mimetype": "text/x-python",
   "name": "python",
   "nbconvert_exporter": "python",
   "pygments_lexer": "ipython3",
   "version": "3.8.8"
  }
 },
 "nbformat": 4,
 "nbformat_minor": 5
}
