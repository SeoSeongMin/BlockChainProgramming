{
 "cells": [
  {
   "cell_type": "markdown",
   "id": "39b68a9e",
   "metadata": {},
   "source": [
    "# 1. 아래의 데이터에 대해 Merkle Root 값을 구하시오"
   ]
  },
  {
   "cell_type": "markdown",
   "id": "1e787219",
   "metadata": {},
   "source": [
    "* txA = 'Hello'\n",
    "\n",
    "* txB = 'How are you?'"
   ]
  },
  {
   "cell_type": "markdown",
   "id": "35b23686",
   "metadata": {},
   "source": [
    "### 1.1 txA, txB를 재해싱(더블 해싱)하세요 (_hA, _hB)"
   ]
  },
  {
   "cell_type": "code",
   "execution_count": 11,
   "id": "3fb99755",
   "metadata": {},
   "outputs": [],
   "source": [
    "import hashlib\n",
    "txA = 'Hello'\n",
    "txB = 'How are you?'\n",
    "\n",
    "_hA = hashlib.sha256(hashlib.sha256(txA.encode()).digest()).hexdigest() #재해싱된 값\n",
    "_hB = hashlib.sha256(hashlib.sha256(txB.encode()).digest()).hexdigest()"
   ]
  },
  {
   "cell_type": "markdown",
   "id": "752c26e5",
   "metadata": {},
   "source": [
    "### 1.2 _hA, _hB를 바이트교환 하세요 (hA, hB)"
   ]
  },
  {
   "cell_type": "code",
   "execution_count": 13,
   "id": "951096c0",
   "metadata": {},
   "outputs": [
    {
     "name": "stdout",
     "output_type": "stream",
     "text": [
      "바이트 교환 전 A = 70bc18bef5ae66b72d1995f8db90a583a60d77b4066e4653f1cead613025861c\n",
      "바이트 교환 전 B = 1027ce357faf49fc632d35908db181ae951aa3df9060595d94fb33769d71e7d0\n",
      "바이트 교환 후 A = 1c86253061adcef153466e06b4770da683a590dbf895192db766aef5be18bc70\n",
      "바이트 교환 후 B = d0e7719d7633fb945d596090dfa31a95ae81b18d90352d63fc49af7f35ce2710\n"
     ]
    }
   ],
   "source": [
    "print(\"바이트 교환 전 A = \" + _hA) #바이트 교환 전\n",
    "print(\"바이트 교환 전 B = \" + _hB)\n",
    "\n",
    "hA = \"\".join(reversed([_hA[i:i+2] for i in range(0, hashlib.sha256(txA.encode()).digest_size*2, 2)]))\n",
    "hB = \"\".join(reversed([_hB[i:i+2] for i in range(0, hashlib.sha256(txB.encode()).digest_size*2, 2)]))\n",
    "\n",
    "print(\"바이트 교환 후 A = \" + hA) #바이트 교환 후\n",
    "print(\"바이트 교환 후 B = \" + hB)"
   ]
  },
  {
   "cell_type": "markdown",
   "id": "a8b9bc46",
   "metadata": {},
   "source": [
    "### 1.3 hA + hB를 하고 (_hAhB) 재해싱하세요 (_hAB)."
   ]
  },
  {
   "cell_type": "code",
   "execution_count": 14,
   "id": "63eb2454",
   "metadata": {},
   "outputs": [],
   "source": [
    "_hAhB = hA + hB\n",
    "\n",
    "_hAB = hashlib.sha256(hashlib.sha256(_hAhB.encode()).digest()).hexdigest()"
   ]
  },
  {
   "cell_type": "markdown",
   "id": "65a4a5b6",
   "metadata": {},
   "source": [
    "### 1.4 _hAB를 바이트교환 하세요.(hAB)"
   ]
  },
  {
   "cell_type": "code",
   "execution_count": 15,
   "id": "a4eb3fd0",
   "metadata": {},
   "outputs": [
    {
     "name": "stdout",
     "output_type": "stream",
     "text": [
      "Merkle Root 값은 = 032916ba0fc9c63fc5440a3b20069370da1b5d3c605797b28ac1a5a5876dc7e0\n"
     ]
    }
   ],
   "source": [
    "hAB = \"\".join(reversed([_hAB[i:i+2] for i in range(0, hashlib.sha256(_hAhB.encode()).digest_size*2, 2)]))\n",
    "print(\"Merkle Root 값은 = \" + hAB)"
   ]
  },
  {
   "cell_type": "markdown",
   "id": "8c9198e2",
   "metadata": {},
   "source": [
    "# 2. 친구에게  주소를 구하고, 그 주소로 송금해 보자. 송금이 되지 않으면 왜 안되는지 이유를 알아보자."
   ]
  },
  {
   "cell_type": "code",
   "execution_count": 16,
   "id": "33cff589",
   "metadata": {},
   "outputs": [
    {
     "name": "stdout",
     "output_type": "stream",
     "text": [
      "[\"0x60c0ca8790e0177b4aedbd37a4079bca28e41375\", \"0x2c647c0376a1123d89d07a4fa494acd44b3d2975\", \"0x474c4efb8e4b7fbbf2642029f1825898a2c3fa54\", \"0x1dad809e9812e5c4bf22445241cb6c434243c952\", \"0xd66e3df975c2599b98f607e49c48954bf1beb3d8\"]\n"
     ]
    }
   ],
   "source": [
    "!geth --exec \"eth.accounts\" attach http://localhost:8445"
   ]
  },
  {
   "cell_type": "code",
   "execution_count": 55,
   "id": "42b016fa",
   "metadata": {},
   "outputs": [
    {
     "name": "stdout",
     "output_type": "stream",
     "text": [
      "Overwriting src/sameAccount-tran.js\n"
     ]
    }
   ],
   "source": [
    "%%writefile src/sameAccount-tran.js\n",
    "var peer = \"0x2c647c0376a1123d89d07a4fa494acd44b3d2975\"\n",
    "var bal1 = eth.getBalance(eth.coinbase);\n",
    "var bal2 = eth.getBalance(peer);\n",
    "console.log('my account balance in ether: ', web3.fromWei(bal1, \"ether\"));\n",
    "console.log('peer balance in ether: ', web3.fromWei(bal2, \"ether\"));\n",
    "console.log('block number: ', eth.blockNumber);\n",
    "console.log('transaction count: ', eth.getTransactionCount(eth.coinbase));\n",
    "\n",
    "var h = eth.sendTransaction({from:eth.coinbase, to:peer, value:10000});\n",
    "console.log(\"\\n...mining start\");\n",
    "miner.start();admin.sleepBlocks(1);miner.stop();\n",
    "console.log(\"mining done...\\n\");\n",
    "var bal1new = eth.getBalance(eth.coinbase);\n",
    "var bal2new = eth.getBalance(eth.accounts[1]);\n",
    "console.log('my account balance in ether: ', web3.fromWei(bal1new, \"ether\"));\n",
    "console.log('peer balance in ether: ', web3.fromWei(bal2new, \"ether\"));\n",
    "console.log('block number: ', eth.blockNumber);\n",
    "console.log('transaction count: ', eth.getTransactionCount(eth.coinbase));\n",
    "\n",
    "console.log(\"\\n\\nincreased balance: \", bal2new - bal2);\n",
    "console.log(\"gasUsed: \", eth.getTransactionReceipt(h).gasUsed);"
   ]
  },
  {
   "cell_type": "code",
   "execution_count": 56,
   "id": "48c46fd9",
   "metadata": {},
   "outputs": [
    {
     "name": "stdout",
     "output_type": "stream",
     "text": [
      "my account balance in ether:  696.4062499999997055\n",
      "peer balance in ether:  285.000000000000271\n",
      "block number:  246\n",
      "transaction count:  20\n",
      "\n",
      "...mining start\n",
      "mining done...\n",
      "\n",
      "my account balance in ether:  714.8437499999996855\n",
      "peer balance in ether:  285.000000000000291\n",
      "block number:  248\n",
      "transaction count:  22\n",
      "\n",
      "\n",
      "increased balance:  32768\n",
      "gasUsed:  21000\n",
      "true\n"
     ]
    }
   ],
   "source": [
    "!geth --exec \"loadScript('src/sameAccount-tran.js')\" attach http://localhost:8445"
   ]
  },
  {
   "cell_type": "markdown",
   "id": "4b8d7a08",
   "metadata": {},
   "source": [
    "# 3. 마이닝\n",
    "해시는 100미만의 양수로 정해진다고 하자.\n",
    "\n",
    "NONCE는 반복회수로만 쓰이고 무작위 수를 생성하는데 입력되지는 않는다.\n",
    "\n",
    "목표해시는 난이도에 따라 결정이 된다고 하자.\n",
    "\n",
    "마이닝을 해서, 목표 해시를 찾아보자."
   ]
  },
  {
   "cell_type": "markdown",
   "id": "521c27a0",
   "metadata": {},
   "source": [
    "### 3.1 90을 목표해시로 잡고 몇 회만에 마이닝 성공하는지 출력"
   ]
  },
  {
   "cell_type": "code",
   "execution_count": 57,
   "id": "c5a0d670",
   "metadata": {},
   "outputs": [
    {
     "name": "stdout",
     "output_type": "stream",
     "text": [
      "NONCE:  1 guessHash:  88\n",
      "Solved NONCE:  1 guessHash:  88\n",
      "90을 목표해시로 정했을 경우 1 회 만에 마이닝에 성공\n"
     ]
    }
   ],
   "source": [
    "import hashlib\n",
    "import random\n",
    "\n",
    "found = False\n",
    "NONCE = 0\n",
    "\n",
    "while found == False:\n",
    "    guessHash = random.randint(1, 99)\n",
    "    if (guessHash < 90):\n",
    "        found = True\n",
    "    NONCE += 1\n",
    "    print(\"NONCE: \",NONCE, \"guessHash: \",guessHash)\n",
    "print(\"Solved NONCE: \", NONCE, \"guessHash: \", guessHash)\n",
    "print(\"90을 목표해시로 정했을 경우\", NONCE, \"회 만에 마이닝에 성공\")"
   ]
  },
  {
   "cell_type": "markdown",
   "id": "30294494",
   "metadata": {},
   "source": [
    "### 3.2 10을 목표해시로 잡고 몇 회만에 마이닝 성공하는지 출력"
   ]
  },
  {
   "cell_type": "code",
   "execution_count": 58,
   "id": "8000b8ec",
   "metadata": {},
   "outputs": [
    {
     "name": "stdout",
     "output_type": "stream",
     "text": [
      "NONCE:  1 guessHash:  48\n",
      "NONCE:  2 guessHash:  40\n",
      "NONCE:  3 guessHash:  44\n",
      "NONCE:  4 guessHash:  28\n",
      "NONCE:  5 guessHash:  6\n",
      "Solved NONCE:  5 guessHash:  6\n",
      "10을 목표해시로 정했을 경우 5 회 만에 마이닝에 성공\n"
     ]
    }
   ],
   "source": [
    "found = False\n",
    "NONCE = 0\n",
    "\n",
    "while found == False:\n",
    "    guessHash = random.randint(1, 99)\n",
    "    if (guessHash < 10):\n",
    "        found = True\n",
    "    NONCE += 1\n",
    "    print(\"NONCE: \",NONCE, \"guessHash: \",guessHash)\n",
    "print(\"Solved NONCE: \", NONCE, \"guessHash: \", guessHash)\n",
    "print(\"10을 목표해시로 정했을 경우\", NONCE, \"회 만에 마이닝에 성공\")"
   ]
  },
  {
   "cell_type": "markdown",
   "id": "bf5e6b2f",
   "metadata": {},
   "source": [
    "### 3.3 찾고자 하는 해시가 0000으로 시작하면 몇 회만에 찾는지 출력"
   ]
  },
  {
   "cell_type": "code",
   "execution_count": 59,
   "id": "f89287b2",
   "metadata": {},
   "outputs": [
    {
     "name": "stdout",
     "output_type": "stream",
     "text": [
      "Solved  NONCE:  94280 guessHash:  000043ce4a61d02bff0e68ba18a7daf448cb3b93691fdd4850f6cd3f85b7a13f\n"
     ]
    }
   ],
   "source": [
    "import hashlib\n",
    "ntry=1   #시도 횟수\n",
    "found=False  #bollen type\n",
    "blockNumber=54 # hex 임의\n",
    "NONCE=0\n",
    "data='Hello'\n",
    "previousHash='5d7c7ba21cbbcd75d14800b100252d5b428e5b1213d27c385bc141ca6b47989e'\n",
    "#이전 블록 헤더의 해쉬값\n",
    "while found==False: #발견할 동안 Ture가 될 동안 반복\n",
    "    z=str(blockNumber)+str(NONCE)+data+previousHash #1) 블록헤더\n",
    "    guessHash=hashlib.sha256(z.encode('utf-8')).hexdigest()#2)재해싱\n",
    "    if guessHash[:4]=='0000':#3) Target Hash와 비교\n",
    "        found=True\n",
    "    NONCE+=1 #안되면 난스값 하나 추가해서 다시 한번더\n",
    "    if(NONCE%10000000==0):   #print guessHash every 10000000\n",
    "        print(\"NONCE: \",NONCE, guessHash) #이 시기마다 한 번씩 추출력해서 확인\n",
    "print(\"Solved \", \"NONCE: \", NONCE, \"guessHash: \", guessHash)"
   ]
  },
  {
   "cell_type": "markdown",
   "id": "f4ef561c",
   "metadata": {},
   "source": [
    "### 3.4 찾고자 하는 해시가 00000으로 시작하면 몇 회만에 찾는지 출력"
   ]
  },
  {
   "cell_type": "code",
   "execution_count": 60,
   "id": "f4776efb",
   "metadata": {},
   "outputs": [
    {
     "name": "stdout",
     "output_type": "stream",
     "text": [
      "Solved  NONCE:  315753 guessHash:  000007f9f69a43f1bb6ab92672d873b93d6bafaa2007e44b6151bd19efadf4d1\n"
     ]
    }
   ],
   "source": [
    "import hashlib\n",
    "ntry=1\n",
    "found=False\n",
    "blockNumber=54 # hex\n",
    "NONCE=0\n",
    "data='Hello'\n",
    "previousHash='5d7c7ba21cbbcd75d14800b100252d5b428e5b1213d27c385bc141ca6b47989e'\n",
    "while found==False:\n",
    "    z=str(blockNumber)+str(NONCE)+data+previousHash\n",
    "    guessHash=hashlib.sha256(z.encode('utf-8')).hexdigest()\n",
    "    if guessHash[:5]=='00000':\n",
    "        found=True\n",
    "    NONCE+=1\n",
    "    if(NONCE%10000000==0):   #print guessHash every 10000000\n",
    "        print(\"NONCE: \",NONCE, guessHash)\n",
    "print(\"Solved \", \"NONCE: \", NONCE, \"guessHash: \", guessHash)"
   ]
  },
  {
   "cell_type": "markdown",
   "id": "e16a02cf",
   "metadata": {},
   "source": [
    "### 3.5 찾고자 하는 해시가 000000으로 시작하면 몇 회만에 찾는지 출력"
   ]
  },
  {
   "cell_type": "code",
   "execution_count": 61,
   "id": "32988e43",
   "metadata": {},
   "outputs": [
    {
     "name": "stdout",
     "output_type": "stream",
     "text": [
      "NONCE:  10000000 660b9e057377381579f5c54347901cf462fce656c069a4d0f26bdd4cf1e05e66\n",
      "NONCE:  20000000 c31d3ddd7bb92312bcc2a88263d92e94c6d17a641ac9e59ac262c775c7f58925\n",
      "NONCE:  30000000 236077716f4ce428ec83f12bf74fb7ab76450bad60bc3f21d924e200c39a9fa4\n",
      "NONCE:  40000000 5b07929bd7088f11d6caf0e65a6f44ab3b7f82d32900430cc7c7244b2917e04d\n",
      "Solved  NONCE:  45576417 guessHash:  0000003d02b95604bb1ec436ff20e08168dd339f2ec0f9941bfc58bad039994e\n"
     ]
    }
   ],
   "source": [
    "import hashlib\n",
    "ntry=1\n",
    "found=False\n",
    "blockNumber=54 # hex\n",
    "NONCE=0\n",
    "data='Hello'\n",
    "previousHash='5d7c7ba21cbbcd75d14800b100252d5b428e5b1213d27c385bc141ca6b47989e'\n",
    "while found==False:\n",
    "    z=str(blockNumber)+str(NONCE)+data+previousHash\n",
    "    guessHash=hashlib.sha256(z.encode('utf-8')).hexdigest()\n",
    "    if guessHash[:6]=='000000':\n",
    "        found=True\n",
    "    NONCE+=1\n",
    "    if(NONCE%10000000==0):   #print guessHash every 10000000\n",
    "        print(\"NONCE: \",NONCE, guessHash)\n",
    "print(\"Solved \", \"NONCE: \", NONCE, \"guessHash: \", guessHash)"
   ]
  },
  {
   "cell_type": "code",
   "execution_count": null,
   "id": "0f3fcda6",
   "metadata": {},
   "outputs": [],
   "source": []
  }
 ],
 "metadata": {
  "kernelspec": {
   "display_name": "Python 3",
   "language": "python",
   "name": "python3"
  },
  "language_info": {
   "codemirror_mode": {
    "name": "ipython",
    "version": 3
   },
   "file_extension": ".py",
   "mimetype": "text/x-python",
   "name": "python",
   "nbconvert_exporter": "python",
   "pygments_lexer": "ipython3",
   "version": "3.8.8"
  }
 },
 "nbformat": 4,
 "nbformat_minor": 5
}
