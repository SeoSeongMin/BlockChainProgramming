{
 "cells": [
  {
   "cell_type": "markdown",
   "id": "439d831c",
   "metadata": {},
   "source": [
    "# 컨트랙 간의 관련\n",
    "## 관련의 구분\n",
    " * 컨트랙이 2개 이상의 경우 결합이 필요하다. solidity는 객체지향언이므로 \"is-a\", \"has-a\"구현 가능하다\n",
    " * 1) Dependency, 2) association, 3) aggregation, 4) composition\n",
    " \n",
    "### Dependency는 제한 시간 동안의 has-a 관계\n",
    " * 함수 밖에선 끊어진다.\n",
    " \n",
    "### association은 장기간의 has-a 관계\n",
    " * 고객과 주문 등 지속적으로 상호작용 하는 경우\n",
    " \n",
    "### aggregation은 전체와 부분의 관계\n",
    " * \"has - a\"관계, 배열과 같은 구성\n",
    " * 학생은 강의를 구성하는 요소지만 그 자체로도 존재할 수 있다.\n",
    " \n",
    "### composition은 전체와 부분이고 전체가 부분을 소유한다.\n",
    " * 체가 부분을 해제하면 그 자체로 존재하지 못하는 것\n",
    " \n",
    "```\n",
    "\n",
    "\n",
    "```\n",
    "\n",
    "## 상대측 컨트랙 객체의 생성\n",
    "* 대상 컨트랙의 배포여부에 따라 구분된다.\n",
    "\n",
    "### 동일한 파일의 컨트랙과 결합\n",
    "```\n",
    "contract Customer {\n",
    "}\n",
    "contract Order {\n",
    "    Customer c = new Customer(); //객체를 처음부터 생성\n",
    "    Order() public {\n",
    "    }\n",
    "}\n",
    "```\n",
    "\n",
    "```\n",
    "contract Customer {\n",
    "}\n",
    "contract Order {\n",
    "    Customer c;\n",
    "    Order() public {\n",
    "        c = new Customer(); //필요한 시점에 객체를 생성\n",
    "    }\n",
    "}\n",
    "```\n",
    "\n",
    "### 다른 파일의 컨트랙과 결합\n",
    "* import <<filename>>로 불러온다.\n",
    "\n",
    "### 이미 배포된 컨트랙과 결합\n",
    "* 주소를 통해 전달한다 (new 필요 x)\n",
    "```\n",
    "C1 c1 = C1(_addressOfC1);\n",
    "```\n",
    "\n",
    "## 함수의 호출\n",
    "```\n",
    "상대측 객체를 만들고 나면, 함수를 호출한다. 함수는 객체지향에서 하는 방식으로 점연산자 dot operator를 사용하면 된다.\n",
    "\n",
    "<instance>.functionMethod()\n",
    "```\n",
    "    \n",
    "* 다른 컨트랙을 호출하는 경우 gas 비용이 infinite라고 계산된다. 그 이유는 다른 컨트랙이 얼마나 gas를 사용하게 될지 모르기 때문이다. gas비용은 전송측에서 차감이 된다는 점에 주의하자."
   ]
  },
  {
   "cell_type": "markdown",
   "id": "f4cf504a",
   "metadata": {},
   "source": [
    "# ----------------------------------------------------------------------------"
   ]
  },
  {
   "cell_type": "markdown",
   "id": "74927c36",
   "metadata": {},
   "source": [
    "# 실습 : new 명령어로 컨트랙 조립 composition"
   ]
  },
  {
   "cell_type": "markdown",
   "id": "c248eb4a",
   "metadata": {},
   "source": [
    "new() 명령어로 컨트랙을 생성하려면 컴파일 시점에 그 소스코드를 가쟈올 수 있어야 한다. 즉, 상대 컨트랙이 동일한 파일에 존재하거나 import문으로 상대 컨트랙이 포함되는 경우가 해당이 된다. 그러면 상대 컨트랙이 컴퍼일되어 바이트코드가 포함되게 된다."
   ]
  },
  {
   "cell_type": "markdown",
   "id": "db0d9311",
   "metadata": {},
   "source": [
    "## 1단계 컨트랙 개발\n",
    "* C1과 C2는 서로 강한 관계를 가지고 있다. \n",
    "* C2 생성자에서 C1을 가지고 있다. 또는 set() 함수를 만들어 생성 후에 필요한 시점에 C1과의 연관을 만들고 있다."
   ]
  },
  {
   "cell_type": "code",
   "execution_count": 1,
   "id": "b05a14f3",
   "metadata": {},
   "outputs": [
    {
     "name": "stdout",
     "output_type": "stream",
     "text": [
      "Overwriting src/C1C2.sol\n"
     ]
    }
   ],
   "source": [
    "%%writefile src/C1C2.sol\n",
    "//SPDX-License-Identifier: GPL-3.0-or-later\n",
    "pragma solidity ^0.6.4;\n",
    "\n",
    "contract C1 {\n",
    "    uint128 v1;\n",
    "    function set(uint128 _v1) public {\n",
    "        v1=_v1;\n",
    "    }\n",
    "    function get() public view returns(uint128) {\n",
    "        return v1;\n",
    "    }\n",
    "    function get7() public pure returns(uint128) {\n",
    "        return 7;\n",
    "    }\n",
    "}\n",
    "\n",
    "contract C2 {\n",
    "    C1 c1;\n",
    "    constructor() public {   \n",
    "        c1=new C1();\n",
    "    }\n",
    "    function set(uint128 _v1) public {\n",
    "        c1.set(_v1);\n",
    "    }\n",
    "    function get() public view returns(uint128) {\n",
    "        return c1.get();\n",
    "    }\n",
    "    function get7() public view returns(uint128) {\n",
    "        return c1.get7();\n",
    "    }\n",
    "    function getC1Address() public view returns(address) {\n",
    "        return address(c1);\n",
    "    }\n",
    "}"
   ]
  },
  {
   "cell_type": "markdown",
   "id": "3d1101b2",
   "metadata": {},
   "source": [
    "## 2단계 컴파일"
   ]
  },
  {
   "cell_type": "code",
   "execution_count": 2,
   "id": "ad509449",
   "metadata": {},
   "outputs": [],
   "source": [
    "!solc src/C1C2.sol --combined-json abi,bin > src/C1C2.json"
   ]
  },
  {
   "cell_type": "markdown",
   "id": "94f044d8",
   "metadata": {},
   "source": [
    "## 3단계 배포\n",
    "* 컴파일 하면 C1, C2 모두 abi, bin이 생성된다. 그 중 C2의 abi, bin을 가져와서 배포를 한다. \n",
    "* 여기서는 파일 라이브러리에서 제공하는 fs.readFileSync() 함수를 사용해서 JSON파일을 읽어온다."
   ]
  },
  {
   "cell_type": "code",
   "execution_count": 3,
   "id": "3009378b",
   "metadata": {},
   "outputs": [
    {
     "name": "stdout",
     "output_type": "stream",
     "text": [
      "Overwriting src/C1C2Deploy.js\n"
     ]
    }
   ],
   "source": [
    "%%writefile src/C1C2Deploy.js\n",
    "var Web3=require('web3');\n",
    "var web3=new Web3(new Web3.providers.HttpProvider(\"http://localhost:8345\"));\n",
    "var fs=require('fs');\n",
    "var _str = fs.readFileSync(\"src/C1C2.json\");\n",
    "var _json=JSON.parse(_str)\n",
    "\n",
    "var _abiArray=JSON.parse(_json.contracts[\"src/C1C2.sol:C2\"].abi);\n",
    "var _bin=\"0x\"+_json.contracts[\"src/C1C2.sol:C2\"].bin;\n",
    "\n",
    "\n",
    "async function deploy() {\n",
    "    const accounts = await web3.eth.getAccounts();\n",
    "    console.log(\"Deploying the contract from \" + accounts[0]);\n",
    "    var deployed = await new web3.eth.Contract(_abiArray)\n",
    "        .deploy({data: _bin})\n",
    "        .send({from: accounts[0], gas: 1000000})\n",
    "        .on('transactionHash', function(hash){\n",
    "            console.log(\">>> transactionHash\"+hash);\n",
    "        })\n",
    "        .on('receipt', function(receipt){\n",
    "            console.log(\">>> RECEPIT hash: \" + receipt.transactionHash + \"\\n>>> address:\" + receipt.contractAddress);\n",
    "        })\n",
    "        .on('error', function(error, receipt) {\n",
    "            console.log(\">>> ERROR \"+error);\n",
    "        });\n",
    "    console.log(\"---> The contract deployed to: \" + deployed.options.address)\n",
    "}\n",
    "deploy()"
   ]
  },
  {
   "cell_type": "code",
   "execution_count": 4,
   "id": "fa83bd4b",
   "metadata": {},
   "outputs": [
    {
     "name": "stdout",
     "output_type": "stream",
     "text": [
      "Deploying the contract from 0x6D7f1aB42e1Ea2E20198398fFAbB10C0ee6fE2AF\n",
      ">>> transactionHash0x3b303cf17bad2c3d1b1ea775fc70361963c6da99aa48b6556085f5f747b7a9ba\n",
      ">>> RECEPIT hash: 0x3b303cf17bad2c3d1b1ea775fc70361963c6da99aa48b6556085f5f747b7a9ba\n",
      ">>> address:0x6E28af3cA12a6B688b6EB36e4D1ED921813cA576\n",
      "---> The contract deployed to: 0x6E28af3cA12a6B688b6EB36e4D1ED921813cA576\n"
     ]
    }
   ],
   "source": [
    "!node src/C1C2Deploy.js"
   ]
  },
  {
   "cell_type": "markdown",
   "id": "fdbd52d1",
   "metadata": {},
   "source": [
    "## 4단계 사용"
   ]
  },
  {
   "cell_type": "code",
   "execution_count": 6,
   "id": "9f5e6356",
   "metadata": {},
   "outputs": [
    {
     "name": "stdout",
     "output_type": "stream",
     "text": [
      "Overwriting src/C1C2Use.js\n"
     ]
    }
   ],
   "source": [
    "%%writefile src/C1C2Use.js\n",
    "var Web3=require('web3');\n",
    "var web3=new Web3(new Web3.providers.HttpProvider(\"http://localhost:8345\"));\n",
    "var fs=require('fs');\n",
    "var _str = fs.readFileSync(\"src/C1C2.json\");\n",
    "var _json=JSON.parse(_str)\n",
    "\n",
    "var _abiArray=JSON.parse(_json.contracts[\"src/C1C2.sol:C2\"].abi);\n",
    "var c2 = new web3.eth.Contract(_abiArray, \"0x6E28af3cA12a6B688b6EB36e4D1ED921813cA576\");\n",
    "\n",
    "async function doIt() {\n",
    "    const accounts = await web3.eth.getAccounts();\n",
    "    console.log(\"Account: \" + accounts[0]);\n",
    "    const balanceBefore = await web3.eth.getBalance(accounts[0]);\n",
    "    console.log(\"\\nBalance before: \" + balanceBefore);\n",
    "    c2.methods.get7().call().then(function(res) {console.log(\"C1 get7(): \" + res)});\n",
    "    await c2.methods.set(9).send({from: accounts[0],gas:50000}, function(err,res) {\n",
    "        console.log(\"setting 9...\"+res);\n",
    "    });\n",
    "    c2.methods.get().call().then(function(res) {console.log(\"C1 get(): \" + res)});\n",
    "    const balanceAfter = await web3.eth.getBalance(accounts[0]);\n",
    "    console.log(\"\\nBalance after: \" + balanceAfter);\n",
    "    console.log(\"Balance diff: \" + (balanceBefore - balanceAfter));\n",
    "}\n",
    "\n",
    "doIt()"
   ]
  },
  {
   "cell_type": "code",
   "execution_count": 7,
   "id": "ddb37b17",
   "metadata": {
    "scrolled": true
   },
   "outputs": [
    {
     "name": "stdout",
     "output_type": "stream",
     "text": [
      "Account: 0x6D7f1aB42e1Ea2E20198398fFAbB10C0ee6fE2AF\n",
      "\n",
      "Balance before: 999990171110000000000\n",
      "C1 get7(): 7\n",
      "setting 9...0x998c2758d7b0bd33fc1273fe2582cc7b79ff815e717ae56a316ad3420e81b0ac\n",
      "\n",
      "Balance after: 999990073396000000000\n",
      "Balance diff: 97713999970304\n",
      "C1 get(): 9\n"
     ]
    }
   ],
   "source": [
    "!node src/C1C2Use.js"
   ]
  },
  {
   "cell_type": "markdown",
   "id": "88ef927a",
   "metadata": {},
   "source": [
    "# ----------------------------------------------------------------------------"
   ]
  },
  {
   "cell_type": "markdown",
   "id": "16c88b48",
   "metadata": {},
   "source": [
    "# 실습: 컨트랙의 주소를 사용하여 컨트랙 결합 association\n",
    "* 앞서 new() 명령어는 소스코드를 포함할 수 있는 경우에 사용하였다. 이번에는 이미 배포된 컨트랙을 결합하여 보자. 그렇다면 C2에 C1의 주소를 넘겨주어야 한다. 즉 C1을 배포하고 그 주소를 알야야 한다.\n",
    "\n"
   ]
  },
  {
   "cell_type": "markdown",
   "id": "3fdaf7e2",
   "metadata": {},
   "source": [
    "# C1을 배포하고 주소를 구하기\n",
    "* 컨트랙 개발(C1)"
   ]
  },
  {
   "cell_type": "code",
   "execution_count": 8,
   "id": "8840e2e9",
   "metadata": {},
   "outputs": [
    {
     "name": "stdout",
     "output_type": "stream",
     "text": [
      "Overwriting src/C1.sol\n"
     ]
    }
   ],
   "source": [
    "%%writefile src/C1.sol\n",
    "//SPDX-License-Identifier: GPL-3.0-or-later\n",
    "pragma solidity ^0.6.4;\n",
    "\n",
    "contract C1 {\n",
    "    uint128 v1;\n",
    "    function set(uint128 _v1) public {\n",
    "        v1=_v1;\n",
    "    }\n",
    "    function get() public view returns(uint128) {\n",
    "        return v1;\n",
    "    }\n",
    "    function get7() public pure returns(uint128) {\n",
    "        return 7;\n",
    "    }\n",
    "}"
   ]
  },
  {
   "cell_type": "markdown",
   "id": "afccc1a4",
   "metadata": {},
   "source": [
    "* 컴파일(C1)"
   ]
  },
  {
   "cell_type": "code",
   "execution_count": 9,
   "id": "d507920d",
   "metadata": {},
   "outputs": [],
   "source": [
    "!solc src/C1.sol --combined-json abi,bin > src/C1.json"
   ]
  },
  {
   "cell_type": "markdown",
   "id": "576696ce",
   "metadata": {},
   "source": [
    "* 배포(C1)"
   ]
  },
  {
   "cell_type": "code",
   "execution_count": 10,
   "id": "261ec98c",
   "metadata": {},
   "outputs": [
    {
     "name": "stdout",
     "output_type": "stream",
     "text": [
      "Overwriting src/C1Deploy.js\n"
     ]
    }
   ],
   "source": [
    "%%writefile src/C1Deploy.js\n",
    "var Web3 = require('web3');\n",
    "var web3 = new Web3(new Web3.providers.HttpProvider(\"http://localhost:8345\"));\n",
    "var fs=require('fs');\n",
    "var _str = fs.readFileSync(\"src/C1.json\");\n",
    "var _json = JSON.parse(_str)\n",
    "\n",
    "var _abiArray = JSON.parse(_json.contracts[\"src/C1.sol:C1\"].abi);\n",
    "var _bin = \"0x\"+_json.contracts[\"src/C1.sol:C1\"].bin;\n",
    "\n",
    "async function deploy() {\n",
    "    const accounts = await web3.eth.getAccounts();\n",
    "    console.log(\"Deploying the contract from \" + accounts[0]);\n",
    "    var deployed = await new web3.eth.Contract(_abiArray)\n",
    "        .deploy({data: _bin})\n",
    "        .send({from: accounts[0], gas: 1000000})\n",
    "        .on('transactionHash', function(hash){\n",
    "            console.log(\">>> transactionHash\" + hash);\n",
    "        })\n",
    "        .on('receipt', function(receipt){\n",
    "            console.log(\">>> RECEPIT hash: \" + receipt.transactionHash + \"\\n>>> address:\" + receipt.contractAddress);\n",
    "        })\n",
    "        .on('error', function(error, receipt) {\n",
    "            console.log(\">>> ERROR \" + error);\n",
    "        });\n",
    "    console.log(\"---> The contract deployed to: \" + deployed.options.address)\n",
    "}\n",
    "deploy()"
   ]
  },
  {
   "cell_type": "code",
   "execution_count": 11,
   "id": "4934381f",
   "metadata": {},
   "outputs": [
    {
     "name": "stdout",
     "output_type": "stream",
     "text": [
      "Deploying the contract from 0x6D7f1aB42e1Ea2E20198398fFAbB10C0ee6fE2AF\n",
      ">>> transactionHash0x0dcee5c368e919ddb8098416707e96bb71e1339e192e9a1c36e4daaf7f3abe62\n",
      ">>> RECEPIT hash: 0x0dcee5c368e919ddb8098416707e96bb71e1339e192e9a1c36e4daaf7f3abe62\n",
      ">>> address:0xde2f24A82B8A97b41e5d1C5FB642755EeFBaDf55\n",
      "---> The contract deployed to: 0xde2f24A82B8A97b41e5d1C5FB642755EeFBaDf55\n"
     ]
    }
   ],
   "source": [
    "!node src/C1Deploy.js"
   ]
  },
  {
   "cell_type": "markdown",
   "id": "023dec8c",
   "metadata": {},
   "source": [
    "* 사용(C1)"
   ]
  },
  {
   "cell_type": "code",
   "execution_count": 14,
   "id": "4f9a9995",
   "metadata": {},
   "outputs": [
    {
     "name": "stdout",
     "output_type": "stream",
     "text": [
      "Overwriting src/C1Use.js\n"
     ]
    }
   ],
   "source": [
    "%%writefile src/C1Use.js\n",
    "var Web3 = require('web3');\n",
    "var web3 = new Web3(new Web3.providers.HttpProvider(\"http://localhost:8345\"));\n",
    "var fs=require('fs');\n",
    "var _str = fs.readFileSync(\"src/C1.json\");\n",
    "var _json = JSON.parse(_str)\n",
    "\n",
    "var _abiArray = JSON.parse(_json.contracts[\"src/C1.sol:C1\"].abi);\n",
    "\n",
    "var c1 = new web3.eth.Contract(_abiArray, \"0xde2f24A82B8A97b41e5d1C5FB642755EeFBaDf55\");\n",
    "async function doIt() {\n",
    "    const accounts = await web3.eth.getAccounts();\n",
    "    console.log(\"Account: \" + accounts[0]);\n",
    "    const balanceBefore = await web3.eth.getBalance(accounts[0]);\n",
    "    console.log(\"Balance before: \" + balanceBefore);\n",
    "    c1.methods.get7().call().then(console.log);\n",
    "    await c1.methods.set(9).send({from: accounts[0],gas:50000});\n",
    "    c1.methods.get().call().then(console.log);\n",
    "    const balanceAfter = await web3.eth.getBalance(accounts[0]);\n",
    "    console.log(\"\\nBalance after: \" + balanceAfter);\n",
    "    console.log(\"Balance diff: \" + (balanceBefore - balanceAfter));\n",
    "}\n",
    "\n",
    "doIt()"
   ]
  },
  {
   "cell_type": "code",
   "execution_count": 15,
   "id": "0ceae923",
   "metadata": {},
   "outputs": [
    {
     "name": "stdout",
     "output_type": "stream",
     "text": [
      "Account: 0x6D7f1aB42e1Ea2E20198398fFAbB10C0ee6fE2AF\n",
      "Balance before: 999989695940000000000\n",
      "7\n",
      "\n",
      "Balance after: 999989648530000000000\n",
      "Balance diff: 47409999904768\n",
      "9\n"
     ]
    }
   ],
   "source": [
    "!node src/C1Use.js"
   ]
  },
  {
   "cell_type": "markdown",
   "id": "ad4933c9",
   "metadata": {},
   "source": [
    "## 1단계 컨트랙 개발(C2)\n",
    "* C1과 C2를 결합하는 소스코드를 구현해보자. \n",
    "* C1은 이미 배포가 되었고, 그 주소를 받을 수 있는 기능이 필요하다. \n",
    "* 이 경우 C1의 ABI를 모르면 C2를 컴파일을 할 수 없다. ABI는 함수의 호출방식을 정의하고 있어서 예를 들어 C1의 함수 c1.get7()의 ABI를 모르면, C2의 get7()을 컴파일할 수 없게 된다.\n",
    "\n",
    "* 앞서 C1.sol, C2.sol을 한 파일 안에 적어주지 않고, import문으로 C1을 포함한다. \n",
    "```\n",
    "import \".\\C1.sol\"\n",
    "```"
   ]
  },
  {
   "cell_type": "code",
   "execution_count": 16,
   "id": "9d0c46d5",
   "metadata": {},
   "outputs": [
    {
     "name": "stdout",
     "output_type": "stream",
     "text": [
      "Overwriting src/C2.sol\n"
     ]
    }
   ],
   "source": [
    "%%writefile src/C2.sol\n",
    "//SPDX-License-Identifier: GPL-3.0-or-later\n",
    "pragma solidity ^0.6.4;\n",
    "import \"./C1.sol\";\n",
    "\n",
    "contract C2 {\n",
    "    C1 c1;\n",
    "    constructor() public {    //0.6 constructor\n",
    "        c1=new C1();\n",
    "    }\n",
    "    function setC1(address _addressOfC1) public {\n",
    "        c1 = C1(_addressOfC1);\n",
    "    }\n",
    "    function set(uint128 _v1) public {\n",
    "        c1.set(_v1);\n",
    "    }\n",
    "    function get() public view returns(uint128) {\n",
    "        return c1.get();\n",
    "    }\n",
    "    function get7() public view returns(uint128) {\n",
    "        return c1.get7();\n",
    "    }\n",
    "    function getC1Address() public view returns(address) {\n",
    "        return address(c1);\n",
    "    }\n",
    "}"
   ]
  },
  {
   "cell_type": "markdown",
   "id": "ac9b2029",
   "metadata": {},
   "source": [
    "## 2단계 컴파일(C2)"
   ]
  },
  {
   "cell_type": "code",
   "execution_count": 17,
   "id": "c68cf329",
   "metadata": {},
   "outputs": [],
   "source": [
    "!solc src/C2.sol --combined-json abi,bin > src/C2.json"
   ]
  },
  {
   "cell_type": "markdown",
   "id": "aa738cb6",
   "metadata": {},
   "source": [
    "## 3단계 배포"
   ]
  },
  {
   "cell_type": "code",
   "execution_count": 24,
   "id": "b8734399",
   "metadata": {},
   "outputs": [
    {
     "name": "stdout",
     "output_type": "stream",
     "text": [
      "Overwriting src/C2Deploy.js\n"
     ]
    }
   ],
   "source": [
    "%%writefile src/C2Deploy.js\n",
    "var Web3 = require('web3');\n",
    "var web3 = new Web3(new Web3.providers.HttpProvider(\"http://localhost:8345\"));\n",
    "var fs=require('fs');\n",
    "var _str = fs.readFileSync(\"src/C2.json\");\n",
    "var _json = JSON.parse(_str)\n",
    "\n",
    "var _abiArray = JSON.parse(_json.contracts[\"src/C2.sol:C2\"].abi);\n",
    "var _bin = \"0x\"+_json.contracts[\"src/C2.sol:C2\"].bin;\n",
    "\n",
    "\n",
    "async function deploy() {\n",
    "    const accounts = await web3.eth.getAccounts();\n",
    "    console.log(\"Deploying the contract from \" + accounts[0]);\n",
    "    var deployed = await new web3.eth.Contract(_abiArray)\n",
    "        .deploy({data: _bin})\n",
    "        .send({from: accounts[0], gas: 1000000})\n",
    "        .on('transactionHash', function(hash){\n",
    "            console.log(\">>> transactionHash\" + hash);\n",
    "        })\n",
    "        .on('receipt', function(receipt){\n",
    "            console.log(\">>> RECEPIT hash: \" + receipt.transactionHash + \"\\n>>> address:\" + receipt.contractAddress);\n",
    "        })\n",
    "        .on('error', function(error, receipt) {\n",
    "            console.log(\">>> ERROR \" + error);\n",
    "        });\n",
    "    console.log(\"---> The contract deployed to: \" + deployed.options.address)\n",
    "}\n",
    "deploy()"
   ]
  },
  {
   "cell_type": "code",
   "execution_count": 25,
   "id": "03ea91f9",
   "metadata": {},
   "outputs": [
    {
     "name": "stdout",
     "output_type": "stream",
     "text": [
      "Deploying the contract from 0x6D7f1aB42e1Ea2E20198398fFAbB10C0ee6fE2AF\n",
      ">>> transactionHash0x745c87480adbe6c23f982f1302f76573350ceff680d7a204e284e8675fa8c24f\n",
      ">>> RECEPIT hash: 0x745c87480adbe6c23f982f1302f76573350ceff680d7a204e284e8675fa8c24f\n",
      ">>> address:0xbe7A2cE9Ea551E560613A9E4649B8e0FfcBF074c\n",
      "---> The contract deployed to: 0xbe7A2cE9Ea551E560613A9E4649B8e0FfcBF074c\n"
     ]
    }
   ],
   "source": [
    "!node src/C2Deploy.js"
   ]
  },
  {
   "cell_type": "markdown",
   "id": "ab83760c",
   "metadata": {},
   "source": [
    "## 4단계 사용"
   ]
  },
  {
   "cell_type": "code",
   "execution_count": 26,
   "id": "df565f9f",
   "metadata": {},
   "outputs": [
    {
     "name": "stdout",
     "output_type": "stream",
     "text": [
      "Overwriting src/C2Use.js\n"
     ]
    }
   ],
   "source": [
    "%%writefile src/C2Use.js\n",
    "var Web3 = require('web3');\n",
    "var web3 = new Web3(new Web3.providers.HttpProvider(\"http://localhost:8345\"));\n",
    "var fs=require('fs');\n",
    "var _str = fs.readFileSync(\"src/C2.json\");\n",
    "var _json = JSON.parse(_str)\n",
    "\n",
    "var _abiArray = JSON.parse(_json.contracts[\"src/C2.sol:C2\"].abi);\n",
    "\n",
    "var c2 = new web3.eth.Contract(_abiArray, \"0xbe7A2cE9Ea551E560613A9E4649B8e0FfcBF074c\");\n",
    "async function doIt() {\n",
    "    const accounts = await web3.eth.getAccounts();\n",
    "    console.log(\"Account: \" + accounts[0]);\n",
    "    const balanceBefore = await web3.eth.getBalance(accounts[0]);\n",
    "    console.log(\"Balance before: \" + balanceBefore);\n",
    "    console.log(\"\\n--- new C1 ---\");\n",
    "    await c2.methods.getC1Address().call(function(err, c1addr) {\n",
    "        if(!err) console.log(\"c1 address by 'new': \"+c1addr);\n",
    "    });\n",
    "    c2.methods.get7().call().then(function(res) { console.log(\"get7(): \"+res) });\n",
    "    console.log(\"\\n--- set the above deployed address of C1 ---\");\n",
    "    await c2.methods.setC1(\"0xde2f24A82B8A97b41e5d1C5FB642755EeFBaDf55\").send({from:accounts[0], gas:50000});\n",
    "    await c2.methods.getC1Address().call(function(err, c1addr) {\n",
    "        if(!err) console.log(\"c1 address by 'setC1()': \"+c1addr);\n",
    "    });\n",
    "    c2.methods.get7().call().then(console.log);\n",
    "    await c2.methods.set(222).send({from: accounts[0],gas:50000});\n",
    "    c2.methods.get().call().then(console.log);\n",
    "    const balanceAfter = await web3.eth.getBalance(accounts[0]);\n",
    "    console.log(\"Balance after: \" + balanceAfter);\n",
    "    console.log(\"Balance diff: \" + (balanceBefore - balanceAfter));\n",
    "}\n",
    "\n",
    "doIt()"
   ]
  },
  {
   "cell_type": "markdown",
   "id": "b0541db7",
   "metadata": {},
   "source": [
    "* 17: 생성자에서 new 명령어로 생성된 C1의 주소를 출력. 단, C2를 배포하고 첫 회 실행할 때만 유효하고, 2회부터는 이전에 실행된 setC1()의 결과인 이전 C1의 주소가 출력된다.\n",
    "* 22: 생성자에서 설정한 C1을 제거하고, 위에서 블록체인에 배포한 C1의 주소를 사용하여 교체한다."
   ]
  },
  {
   "cell_type": "code",
   "execution_count": 27,
   "id": "d62e1554",
   "metadata": {},
   "outputs": [
    {
     "name": "stdout",
     "output_type": "stream",
     "text": [
      "Account: 0x6D7f1aB42e1Ea2E20198398fFAbB10C0ee6fE2AF\n",
      "Balance before: 999987661506000000000\n",
      "\n",
      "--- new C1 ---\n",
      "c1 address by 'new': 0x8f8d53425c89d2eB9672f789B53791D017189103\n",
      "\n",
      "--- set the above deployed address of C1 ---\n",
      "get7(): 7\n",
      "c1 address by 'setC1()': 0xde2f24A82B8A97b41e5d1C5FB642755EeFBaDf55\n",
      "7\n",
      "Balance after: 999987550038000000000\n",
      "Balance diff: 111468000051200\n",
      "222\n"
     ]
    }
   ],
   "source": [
    "!node src/C2Use.js"
   ]
  },
  {
   "cell_type": "markdown",
   "id": "7f2bea45",
   "metadata": {},
   "source": [
    "* 현재 c1 주소가 다르다. 하지만 2회를 실행하면 같아진다."
   ]
  },
  {
   "cell_type": "code",
   "execution_count": 28,
   "id": "2ded558c",
   "metadata": {},
   "outputs": [
    {
     "name": "stdout",
     "output_type": "stream",
     "text": [
      "Account: 0x6D7f1aB42e1Ea2E20198398fFAbB10C0ee6fE2AF\n",
      "Balance before: 999987550038000000000\n",
      "\n",
      "--- new C1 ---\n",
      "c1 address by 'new': 0xde2f24A82B8A97b41e5d1C5FB642755EeFBaDf55\n",
      "\n",
      "--- set the above deployed address of C1 ---\n",
      "get7(): 7\n",
      "c1 address by 'setC1()': 0xde2f24A82B8A97b41e5d1C5FB642755EeFBaDf55\n",
      "7\n",
      "Balance after: 999987444170000000000\n",
      "Balance diff: 105867999969280\n",
      "222\n"
     ]
    }
   ],
   "source": [
    "!node src/C2Use.js"
   ]
  },
  {
   "cell_type": "markdown",
   "id": "8b613f6e",
   "metadata": {},
   "source": [
    "* 2회부터는 이전에 실행된 setC1()의 결과인 이전 C1의 주소로 설정되어 출력된다.\n",
    "* 생성자가 최초에만 호출되기 때문이다.\n",
    "\n",
    "* 다시 생성자를 호출하여 C1의 주소를 설정하려면, C2를 다시 배포한 후 그 주소로 C2Use.js를 실행하면 된다."
   ]
  },
  {
   "cell_type": "markdown",
   "id": "a45c934c",
   "metadata": {},
   "source": [
    "# ----------------------------------------------------------------------------"
   ]
  },
  {
   "cell_type": "markdown",
   "id": "0be11306",
   "metadata": {},
   "source": [
    "# 실습: 자동차와 엔진의 조립 - new 명령어 사용\n",
    "* 동일한 파일에 2개의 컨트랙을 넣어서 개발해 보자."
   ]
  },
  {
   "cell_type": "markdown",
   "id": "85e2aecf",
   "metadata": {},
   "source": [
    "## 1단계 컨트랙 개발"
   ]
  },
  {
   "cell_type": "code",
   "execution_count": 29,
   "id": "7fa3dd0b",
   "metadata": {},
   "outputs": [
    {
     "name": "stdout",
     "output_type": "stream",
     "text": [
      "Overwriting src/Car.sol\n"
     ]
    }
   ],
   "source": [
    "%%writefile src/Car.sol\n",
    "//SPDX-License-Identifier: GPL-3.0-or-later\n",
    "pragma solidity ^0.6.4;\n",
    "\n",
    "contract Car {\n",
    "    Engine engineObj;\n",
    "    string private color;\n",
    "    event PrintLog(address sender, string msg);\n",
    "\n",
    "    constructor() public {\n",
    "        engineObj = new Engine();\n",
    "    }\n",
    "    function setColor(string memory _color) public {\n",
    "        color=_color;\n",
    "    }\n",
    "    function getColor() public view returns(string memory) {\n",
    "        return color;\n",
    "    }\n",
    "    function getSpeed() public view returns(uint) {\n",
    "        return engineObj.getSpeed();\n",
    "    }\n",
    "    function speedUpBy10() public {\n",
    "        engineObj.setSpeedUpBy(10);\n",
    "    }\n",
    "    function speedDownBy10() public {\n",
    "        engineObj.setSpeedDownBy(10);   \n",
    "    }\n",
    "    function start() public {\n",
    "        engineObj.on();\n",
    "        string memory engineStateStr=engineObj.getEngineState()? \"on\" : \"off\";\n",
    "        emit PrintLog(msg.sender, engineStateStr);\n",
    "    }\n",
    "}\n",
    "\n",
    "contract Engine {\n",
    "    uint constant private MAXSPEED = 200;\n",
    "    uint private speed;\n",
    "    bool private engineState;\n",
    "\n",
    "    constructor() public {\n",
    "        speed = 0;\n",
    "        off();\n",
    "    }\n",
    "    function on() public {\n",
    "        engineState = true;\n",
    "    }\n",
    "    function off() public {\n",
    "        engineState = false;\n",
    "    }\n",
    "    function getEngineState() public view returns(bool){\n",
    "        return engineState;\n",
    "    }\n",
    "    function setSpeedUpBy(uint _speed) public {\n",
    "        if(speed < (MAXSPEED - 10) && engineState == true)\n",
    "            speed += _speed;\n",
    "    }\n",
    "    function setSpeedDownBy(uint _speed) public {\n",
    "        if((speed - 10) > 0  && engineState == true)\n",
    "            speed -= _speed;\n",
    "    }\n",
    "    function getSpeed() public view returns(uint) {\n",
    "        return speed;\n",
    "    }\n",
    "}"
   ]
  },
  {
   "cell_type": "markdown",
   "id": "a01cae63",
   "metadata": {},
   "source": [
    "## 2단계 컴파일"
   ]
  },
  {
   "cell_type": "code",
   "execution_count": 30,
   "id": "6817a0d3",
   "metadata": {},
   "outputs": [],
   "source": [
    "!solc src/Car.sol --combined-json abi,bin > src/Car.json"
   ]
  },
  {
   "cell_type": "markdown",
   "id": "96c45ca7",
   "metadata": {},
   "source": [
    "## 3단계 배포"
   ]
  },
  {
   "cell_type": "code",
   "execution_count": 31,
   "id": "92befb13",
   "metadata": {},
   "outputs": [
    {
     "name": "stdout",
     "output_type": "stream",
     "text": [
      "Overwriting src/carDeploy.js\n"
     ]
    }
   ],
   "source": [
    "%%writefile src/carDeploy.js\n",
    "var Web3=require('web3');\n",
    "var web3=new Web3(new Web3.providers.HttpProvider(\"http://localhost:8345\"));\n",
    "var fs=require('fs');\n",
    "var _str = fs.readFileSync(\"src/Car.json\");\n",
    "var _json=JSON.parse(_str)\n",
    "\n",
    "var _abiArray=JSON.parse(_json.contracts[\"src/Car.sol:Car\"].abi);\n",
    "var _bin=\"0x\"+_json.contracts[\"src/Car.sol:Car\"].bin;\n",
    "\n",
    "async function deploy() {\n",
    "    const accounts = await web3.eth.getAccounts();\n",
    "    console.log(\"Deploying the contract from \" + accounts[0]);\n",
    "    var deployed = await new web3.eth.Contract(_abiArray)\n",
    "        .deploy({data: _bin})\n",
    "        .send({from: accounts[0], gas: 1000000})\n",
    "        .on('transactionHash', function(hash){\n",
    "            console.log(\">>> transactionHash\"+hash);\n",
    "        })\n",
    "        .on('receipt', function(receipt){\n",
    "            console.log(\">>> RECEPIT hash: \" + receipt.transactionHash + \"\\n>>> address:\" + receipt.contractAddress);\n",
    "        })\n",
    "        .on('error', function(error, receipt) {\n",
    "            console.log(\">>> ERROR \"+error);\n",
    "        });\n",
    "    console.log(\"---> The contract deployed to: \" + deployed.options.address)\n",
    "}\n",
    "deploy()"
   ]
  },
  {
   "cell_type": "code",
   "execution_count": 32,
   "id": "7d58614c",
   "metadata": {},
   "outputs": [
    {
     "name": "stdout",
     "output_type": "stream",
     "text": [
      "Deploying the contract from 0x6D7f1aB42e1Ea2E20198398fFAbB10C0ee6fE2AF\n",
      ">>> transactionHash0xa3c6fd8325ccfc400441ac7e270dadcfc2f7e69e7dc36a5d6a4c796d988bdc7e\n",
      ">>> RECEPIT hash: 0xa3c6fd8325ccfc400441ac7e270dadcfc2f7e69e7dc36a5d6a4c796d988bdc7e\n",
      ">>> address:0xCD66098Abd76b091b9278C9117d8292270DBA294\n",
      "---> The contract deployed to: 0xCD66098Abd76b091b9278C9117d8292270DBA294\n"
     ]
    }
   ],
   "source": [
    "!node src/carDeploy.js"
   ]
  },
  {
   "cell_type": "markdown",
   "id": "d2936acf",
   "metadata": {},
   "source": [
    "## 4단계 사용 (웹소켓)"
   ]
  },
  {
   "cell_type": "code",
   "execution_count": 33,
   "id": "d238ed32",
   "metadata": {},
   "outputs": [
    {
     "name": "stdout",
     "output_type": "stream",
     "text": [
      "Overwriting src/carUse.js\n"
     ]
    }
   ],
   "source": [
    "%%writefile src/carUse.js\n",
    "var Web3=require('web3');\n",
    "var web3 = new Web3(new Web3.providers.WebsocketProvider(\"ws://localhost:8345\"));\n",
    "var fs=require('fs');\n",
    "var _str = fs.readFileSync(\"src/Car.json\");\n",
    "var _json=JSON.parse(_str)\n",
    "\n",
    "var _abiArray=JSON.parse(_json.contracts[\"src/Car.sol:Car\"].abi);\n",
    "\n",
    "async function doIt() {\n",
    "    var car = new web3.eth.Contract(_abiArray, \"0xCD66098Abd76b091b9278C9117d8292270DBA294\");\n",
    "    car.events.PrintLog({fromBlock: 'latest', toBlock:'pending'}, function (error, event) {\n",
    "            console.log(\">>> Event fired: \" + JSON.stringify(event.returnValues));\n",
    "        }).on('>> data', function(event){\n",
    "            console.log(event); // same results as the optional callback above\n",
    "        }).on('>> changed', function(event){\n",
    "            console.log(event); // remove event from local database\n",
    "        }).on('>> error', console.error);\n",
    "\n",
    "    var speed;\n",
    "    const accounts = await web3.eth.getAccounts();\n",
    "    console.log(\"Account: \" + accounts[0]);\n",
    "    const balanceBefore = await web3.eth.getBalance(accounts[0]);\n",
    "    console.log(\"Balance before: \" + balanceBefore);\n",
    "    car.methods.setColor(\"RED\").send({from: accounts[0], gas:100000});\n",
    "    car.methods.getColor().call().then(console.log);\n",
    "    await car.methods.start().send({from: accounts[0], gas:100000})\n",
    "    await car.methods.speedUpBy10().send({from: accounts[0], gas:100000})\n",
    "    car.methods.getSpeed().call().then(function(speed) { console.log(\"-> speed: \" + speed) });\n",
    "    await car.methods.start().send({from: accounts[0], gas:100000})\n",
    "    await car.methods.speedUpBy10().send({from: accounts[0], gas:100000})\n",
    "    car.methods.getSpeed().call().then(function(speed) { console.log(\"-> speed: \" + speed) });\n",
    "    await car.methods.speedDownBy10().send({from: accounts[0], gas:100000})\n",
    "    car.methods.getSpeed().call().then(function(speed) { console.log(\"-> speed: \" + speed) });\n",
    "    const balanceAfter = await web3.eth.getBalance(accounts[0]);\n",
    "    console.log(\"Balance after: \" + balanceAfter);\n",
    "    console.log(\"Balance diff: \" + (balanceBefore - balanceAfter));\n",
    "    process.exit(1); //force exit -> may terminate some functions (speedDownBy10, getSpeed)\n",
    "}\n",
    "\n",
    "doIt()"
   ]
  },
  {
   "cell_type": "markdown",
   "id": "df8ceb4b",
   "metadata": {},
   "source": [
    "* 웹소켓은 계속 이벤트가 발생하는지 지켜보기 때문에 프로세스가 종료하지 않을 수 있다. 마지막에 적은 process.exit(1)로 인해 3번째 speedDownBy10() 호출이 실행하지 않고 강제 종료되고 있다."
   ]
  },
  {
   "cell_type": "code",
   "execution_count": 34,
   "id": "572f877a",
   "metadata": {},
   "outputs": [
    {
     "name": "stdout",
     "output_type": "stream",
     "text": [
      "Account: 0x6D7f1aB42e1Ea2E20198398fFAbB10C0ee6fE2AF\n",
      "Balance before: 999986130200000000000\n",
      "\n",
      ">>> Event fired: {\"0\":\"0x6D7f1aB42e1Ea2E20198398fFAbB10C0ee6fE2AF\",\"1\":\"on\",\"sender\":\"0x6D7f1aB42e1Ea2E20198398fFAbB10C0ee6fE2AF\",\"msg\":\"on\"}\n",
      "-> speed: 10\n",
      ">>> Event fired: {\"0\":\"0x6D7f1aB42e1Ea2E20198398fFAbB10C0ee6fE2AF\",\"1\":\"on\",\"sender\":\"0x6D7f1aB42e1Ea2E20198398fFAbB10C0ee6fE2AF\",\"msg\":\"on\"}\n",
      "-> speed: 20\n",
      "Balance after: 999985636456000000000\n",
      "Balance diff: 493743999942656\n"
     ]
    }
   ],
   "source": [
    "!node src/carUse.js"
   ]
  },
  {
   "cell_type": "code",
   "execution_count": 35,
   "id": "831dcb41",
   "metadata": {
    "scrolled": true
   },
   "outputs": [
    {
     "name": "stdout",
     "output_type": "stream",
     "text": [
      "Account: 0x6D7f1aB42e1Ea2E20198398fFAbB10C0ee6fE2AF\n",
      "Balance before: 999985636456000000000\n",
      "RED\n",
      ">>> Event fired: {\"0\":\"0x6D7f1aB42e1Ea2E20198398fFAbB10C0ee6fE2AF\",\"1\":\"on\",\"sender\":\"0x6D7f1aB42e1Ea2E20198398fFAbB10C0ee6fE2AF\",\"msg\":\"on\"}\n",
      "-> speed: 20\n",
      ">>> Event fired: {\"0\":\"0x6D7f1aB42e1Ea2E20198398fFAbB10C0ee6fE2AF\",\"1\":\"on\",\"sender\":\"0x6D7f1aB42e1Ea2E20198398fFAbB10C0ee6fE2AF\",\"msg\":\"on\"}\n",
      "-> speed: 30\n",
      "Balance after: 999985251998000000000\n",
      "Balance diff: 384458000039936\n"
     ]
    }
   ],
   "source": [
    "!node src/carUse.js"
   ]
  },
  {
   "cell_type": "markdown",
   "id": "4f20f12e",
   "metadata": {},
   "source": [
    "# ----------------------------------------------------------------------------"
   ]
  },
  {
   "cell_type": "markdown",
   "id": "d528d177",
   "metadata": {},
   "source": [
    "# 실습: 사각형과 면적의 조립 - new 명령으로 사각형 생성하고 주소 출력\n",
    "* 정사각형은 한 변의 길이만 가지면 충분하다. 그리고 각도는 당연하지만 90도를 반환하도록 구현한다. 그리고 별도의 '면적' 컨트랙을 구현하여, 이 정사각형을 조립관계로 가지고, 면적을 계산한다"
   ]
  },
  {
   "cell_type": "markdown",
   "id": "826d24e3",
   "metadata": {},
   "source": [
    "## 1단계 컨트랙 개발\n",
    "* getAddressOfSquare() 정사각형의 주소를 출력하는 함수를 구현한다. Square, Area 두 개의 컨트랙이 한 파일에 있고 우리는 Area 컨트랙만 배포한다. 그럼에도 불구하고 Square의 주소를 획득할 수 있다는 점을 유의하자.\n",
    "* changeSquare(address _addressOfSquare) 별도로 사각형을 배포한 후, 그 사각형의 주소로 변경할 수 있다."
   ]
  },
  {
   "cell_type": "code",
   "execution_count": 36,
   "id": "a5886155",
   "metadata": {},
   "outputs": [
    {
     "name": "stdout",
     "output_type": "stream",
     "text": [
      "Overwriting src/SquareArea.sol\n"
     ]
    }
   ],
   "source": [
    "%%writefile src/SquareArea.sol\n",
    "//SPDX-License-Identifier: GPL-3.0-or-later\n",
    "pragma solidity ^0.6.4;\n",
    "\n",
    "contract Square {\n",
    "    uint128 length;\n",
    "    function getLength() public view returns(uint128) {\n",
    "        return length;\n",
    "    }\n",
    "    function setLength(uint128 _length) public {\n",
    "        length=_length;\n",
    "    }\n",
    "    function getDegree() public pure returns(uint128) {\n",
    "        return 90;\n",
    "    }\n",
    "}\n",
    "\n",
    "contract Area {\n",
    "    Square s;\n",
    "    address owner;\n",
    "    constructor() public {\n",
    "        s = new Square();\n",
    "        owner = msg.sender;\n",
    "    }\n",
    "    function changeSquare(address _addressOfSquare) public {\n",
    "        s=Square(_addressOfSquare);\n",
    "    }\n",
    "    function calcArea() view public returns(uint128) {\n",
    "        uint128 length = s.getLength();\n",
    "        uint128 area = length*length;\n",
    "        return area;\n",
    "    }\n",
    "    function setLength(uint128 _length) public {\n",
    "        s.setLength(_length);\n",
    "    }\n",
    "    function getLength() public view returns(uint128) {\n",
    "        return s.getLength();\n",
    "    }\n",
    "    function getDegree() public view returns(uint128) {\n",
    "        return s.getDegree();\n",
    "    }\n",
    "    function getAddressOfSquare() public view returns(address) {\n",
    "        return address(s);\n",
    "    }\n",
    "}"
   ]
  },
  {
   "cell_type": "markdown",
   "id": "ce2bcd46",
   "metadata": {},
   "source": [
    "## 2단계 컴파일"
   ]
  },
  {
   "cell_type": "code",
   "execution_count": 37,
   "id": "7b4f8079",
   "metadata": {},
   "outputs": [],
   "source": [
    "!solc src/SquareArea.sol --combined-json abi,bin > src/SquareArea.json"
   ]
  },
  {
   "cell_type": "markdown",
   "id": "6deb77a3",
   "metadata": {},
   "source": [
    "## 3단계 컨트랙 배포"
   ]
  },
  {
   "cell_type": "code",
   "execution_count": 38,
   "id": "ff3b6034",
   "metadata": {},
   "outputs": [
    {
     "name": "stdout",
     "output_type": "stream",
     "text": [
      "Overwriting src/SquareAreaDeploy.js\n"
     ]
    }
   ],
   "source": [
    "%%writefile src/SquareAreaDeploy.js\n",
    "var Web3 = require('web3');\n",
    "var web3 = new Web3(new Web3.providers.HttpProvider(\"http://localhost:8345\"));\n",
    "var fs=require('fs');\n",
    "var _str = fs.readFileSync(\"src/SquareArea.json\");\n",
    "var _json=JSON.parse(_str)\n",
    "\n",
    "var _abiArray = JSON.parse(_json.contracts[\"src/SquareArea.sol:Area\"].abi);\n",
    "var _bin = \"0x\" + _json.contracts[\"src/SquareArea.sol:Area\"].bin;\n",
    "\n",
    "async function deploy() {\n",
    "    const accounts = await web3.eth.getAccounts();\n",
    "    console.log(\"Deploying the contract from \" + accounts[0]);\n",
    "    var deployed = await new web3.eth.Contract(_abiArray)\n",
    "        .deploy({data: _bin})\n",
    "        .send({from: accounts[0], gas: 1000000})\n",
    "        .on('transactionHash', function(hash){\n",
    "            console.log(\">>> transactionHash\"+hash);\n",
    "        })\n",
    "        .on('receipt', function(receipt){\n",
    "            console.log(\">>> RECEPIT hash: \" + receipt.transactionHash + \"\\n>>> address:\" + receipt.contractAddress);\n",
    "        })\n",
    "        .on('error', function(error, receipt) {\n",
    "            console.log(\">>> ERROR \"+error);\n",
    "        });\n",
    "    console.log(\"---> The contract deployed to: \" + deployed.options.address)\n",
    "}\n",
    "\n",
    "deploy()"
   ]
  },
  {
   "cell_type": "code",
   "execution_count": 39,
   "id": "15943795",
   "metadata": {},
   "outputs": [
    {
     "name": "stdout",
     "output_type": "stream",
     "text": [
      "Deploying the contract from 0x6D7f1aB42e1Ea2E20198398fFAbB10C0ee6fE2AF\n",
      ">>> transactionHash0xcbf248b1bfa5f1b424331100bab26397d63bd9c0e3687bacbab8a77f0714bded\n",
      ">>> RECEPIT hash: 0xcbf248b1bfa5f1b424331100bab26397d63bd9c0e3687bacbab8a77f0714bded\n",
      ">>> address:0xEd991B6B8D57e57fec47F41694e6781Fc1c57960\n",
      "---> The contract deployed to: 0xEd991B6B8D57e57fec47F41694e6781Fc1c57960\n"
     ]
    }
   ],
   "source": [
    "!node src/SquareAreaDeploy.js"
   ]
  },
  {
   "cell_type": "markdown",
   "id": "716b4fca",
   "metadata": {},
   "source": [
    "## 4단계 사용"
   ]
  },
  {
   "cell_type": "code",
   "execution_count": 40,
   "id": "6bd36746",
   "metadata": {},
   "outputs": [
    {
     "name": "stdout",
     "output_type": "stream",
     "text": [
      "Overwriting src/SquareAreaUse.js\n"
     ]
    }
   ],
   "source": [
    "%%writefile src/SquareAreaUse.js\n",
    "var Web3 = require('web3');\n",
    "var web3 = new Web3(new Web3.providers.WebsocketProvider(\"ws://localhost:8345\"));\n",
    "var fs=require('fs');\n",
    "var _str = fs.readFileSync(\"src/SquareArea.json\");\n",
    "var _json = JSON.parse(_str)\n",
    "\n",
    "var _abiArray = JSON.parse(_json.contracts[\"src/SquareArea.sol:Area\"].abi);\n",
    "\n",
    "async function doIt() {\n",
    "    var area = new web3.eth.Contract(_abiArray, \"0xEd991B6B8D57e57fec47F41694e6781Fc1c57960\");\n",
    "    var speed;\n",
    "    const accounts = await web3.eth.getAccounts();\n",
    "    console.log(\"Account: \" + accounts[0]);\n",
    "    const balanceBefore = await web3.eth.getBalance(accounts[0]);\n",
    "    console.log(\"Balance before: \" + balanceBefore);\n",
    "    area.methods.getDegree().call().then(console.log);\n",
    "    \n",
    "    await area.methods.setLength(9).send({from: accounts[0]});\n",
    "    area.methods.getLength().call().then(console.log);\n",
    "    area.methods.calcArea().call().then(console.log);\n",
    "    area.methods.getAddressOfSquare().call().then(function(address) {\n",
    "        console.log(\"Square Address: \" + address);\n",
    "    });\n",
    "    \n",
    "    const balanceAfter = await web3.eth.getBalance(accounts[0]);\n",
    "    console.log(\"Balance after: \" + balanceAfter);\n",
    "    console.log(\"Balance diff: \" + (balanceBefore - balanceAfter));\n",
    "    process.exit(1); //force exit -> may terminate some functions (speedDownBy10, getSpeed)  \n",
    "}\n",
    "\n",
    "doIt()"
   ]
  },
  {
   "cell_type": "markdown",
   "id": "f64332a7",
   "metadata": {},
   "source": [
    "* 웹 소켓으로 실행시\n",
    "```\n",
    "process.exit(1)\n",
    "```. 은 필수"
   ]
  },
  {
   "cell_type": "markdown",
   "id": "56e57741",
   "metadata": {},
   "source": [
    "* 처음 실행하면 길이는 0이다. 그 다음 실행하면 9가 된다. 그 이유는 async방식이라 마이닝하지 않고 연달아 시행하면 마이닝 전의 결과가 나오기 때문에 그렇다."
   ]
  },
  {
   "cell_type": "code",
   "execution_count": 41,
   "id": "bac7f9bc",
   "metadata": {
    "scrolled": true
   },
   "outputs": [
    {
     "name": "stdout",
     "output_type": "stream",
     "text": [
      "Account: 0x6D7f1aB42e1Ea2E20198398fFAbB10C0ee6fE2AF\n",
      "Balance before: 999984211772000000000\n",
      "90\n",
      "Balance after: 999984114014000000000\n",
      "Balance diff: 97758000054272\n"
     ]
    }
   ],
   "source": [
    "!node src/SquareAreaUse.js"
   ]
  },
  {
   "cell_type": "markdown",
   "id": "8b7ebfec",
   "metadata": {},
   "source": [
    "* 즉 process.exit(1) 때문에 \n",
    "```\n",
    "Account: 0x0A2aca05EB30707F09C883A4b1881F775ACA4Fa8\n",
    "Balance before: 99973924640000000000\n",
    "90\n",
    "9\n",
    "81\n",
    "Square Address: 0x748929714418AaF173Cc14cB269BA246573a71eD\n",
    "Balance after: 99973043860000000000\n",
    "Balance diff: 880780000002048\n",
    "```\n",
    "* 이렇게 안나온다."
   ]
  },
  {
   "cell_type": "markdown",
   "id": "065d6564",
   "metadata": {},
   "source": [
    "* 아래에서 구한 Square의 주소는 다음 문제에서 changeSquare(address _addressOfSquare)에 설정하여 사용해보자. process.exit(1)으로 일부 명령문이 실행되지 못하고 중단될 수 있다. 명령창에서 실행하고 모든 명령이 실행되면, Ctrl-C를 눌러 강제로 종료하도록 한다."
   ]
  },
  {
   "cell_type": "markdown",
   "id": "6d30d728",
   "metadata": {},
   "source": [
    "# ----------------------------------------------------------------------------"
   ]
  },
  {
   "cell_type": "markdown",
   "id": "4ceb509f",
   "metadata": {},
   "source": [
    "# 실습: 사각형과 면적의 조립 - import문으로 사각형 포함, 이미 배포된 사각형 컨트랙으로 교체해보기\n",
    "* Square.sol을 구현\n",
    "* Area.sol을 구현\n",
    "    * import문을 사용하여 Square.sol을 포함\n",
    "    * changeSquare(address _addressOfSquare) 함수를 호출하여, 앞서 획득한 Square.sol의 주소로 '중도에' 교체해보자."
   ]
  },
  {
   "cell_type": "markdown",
   "id": "0a0e9cae",
   "metadata": {},
   "source": [
    "## 1단계 컨트랙 개발\n",
    "### Square\n",
    "```\n",
    "Square.sol은 별도로 로컬 파일에 저장해서, Area.sol에서 포함하도록 한다. Square.sol은 컴파일하지 않는다.\n",
    "```."
   ]
  },
  {
   "cell_type": "code",
   "execution_count": 43,
   "id": "1ffb9fa4",
   "metadata": {},
   "outputs": [
    {
     "name": "stdout",
     "output_type": "stream",
     "text": [
      "Writing src/Square.sol\n"
     ]
    }
   ],
   "source": [
    "%%writefile src/Square.sol\n",
    "//SPDX-License-Identifie\n",
    "pragma solidity ^0.6.4;\n",
    "\n",
    "contract Square{\n",
    "    uint128 length;\n",
    "    function getLength() public view returns(uint128){\n",
    "        return length;\n",
    "    }\n",
    "    function setLength(uint128 _length) public{\n",
    "        length = _length;\n",
    "    }\n",
    "    function getDegree() public pure returns(uint128){\n",
    "        return 90;\n",
    "    }\n",
    "}"
   ]
  },
  {
   "cell_type": "markdown",
   "id": "c3b375b7",
   "metadata": {},
   "source": [
    "### Area \n",
    "```\n",
    "import \"./Square.sol\"\n",
    "```."
   ]
  },
  {
   "cell_type": "markdown",
   "id": "954d37c8",
   "metadata": {},
   "source": [
    "* Square를 import할 때는 컴파일하는 Area.sol 기준으로 상대 경로"
   ]
  },
  {
   "cell_type": "code",
   "execution_count": 48,
   "id": "951e8ab2",
   "metadata": {},
   "outputs": [
    {
     "name": "stdout",
     "output_type": "stream",
     "text": [
      "Overwriting src/Area.sol\n"
     ]
    }
   ],
   "source": [
    "%%writefile src/Area.sol\n",
    "//SPDX-License-Identifier: GPL-3.0-or-later\n",
    "pragma solidity ^0.6.4;\n",
    "\n",
    "import \"src/Square.sol\";\n",
    "\n",
    "contract Area{\n",
    "    Square s;\n",
    "    address owner;\n",
    "    \n",
    "    constructor() public {\n",
    "        s = new Square();\n",
    "        owner = msg.sender;\n",
    "    }\n",
    "    function changeSquare(address _addressOfSquare) public {\n",
    "        s = Square(_addressOfSquare);\n",
    "    }\n",
    "    function calcArea() view public returns(uint128){\n",
    "        uint128 length = s.getLength();\n",
    "        uint128 area = length * length;\n",
    "        return area;\n",
    "    }\n",
    "    function setLength(uint128 _length) public{\n",
    "        s.setLength(_length);\n",
    "    }\n",
    "    function getLength() public view returns(uint128){\n",
    "        return s.getLength();\n",
    "    }\n",
    "    function getDegree() public view returns(uint128){\n",
    "        return s.getDegree();\n",
    "    }\n",
    "    function getAddressOfSquare() public view returns(address){\n",
    "        return address(s);\n",
    "    }\n",
    "}"
   ]
  },
  {
   "cell_type": "markdown",
   "id": "0f1b99ef",
   "metadata": {},
   "source": [
    "## 2단계 컴파일\n",
    "* import 문으로 포함했으니, Square를 컴파일해서 abi, bin를 필요로 하지 않는다."
   ]
  },
  {
   "cell_type": "code",
   "execution_count": 49,
   "id": "957e680a",
   "metadata": {},
   "outputs": [],
   "source": [
    "!solc src/Area.sol --combined-json abi,bin > src/Area.json"
   ]
  },
  {
   "cell_type": "markdown",
   "id": "8006bac2",
   "metadata": {},
   "source": [
    "## 3단계 컨트랙 배포\n",
    "* 컴파일하고 Area.sol의 abi, bin만을 넣어준다. Square.sol의 abi,bin은 무시한다."
   ]
  },
  {
   "cell_type": "code",
   "execution_count": 57,
   "id": "e01c4b5d",
   "metadata": {},
   "outputs": [
    {
     "name": "stdout",
     "output_type": "stream",
     "text": [
      "Overwriting src/AreaDeploy.js\n"
     ]
    }
   ],
   "source": [
    "%%writefile src/AreaDeploy.js\n",
    "var Web3 = require('web3');\n",
    "var web3 = new Web3(new Web3.providers.HttpProvider(\"http://localhost:8345\"));\n",
    "var fs = require('fs');\n",
    "var _str = fs.readFileSync(\"src/Area.json\");\n",
    "var _json = JSON.parse(_str)\n",
    "\n",
    "var _abiArray = JSON.parse(_json.contracts[\"src/Area.sol:Area\"].abi);\n",
    "var _bin = \"0x\" + _json.contracts[\"src/Area.sol:Area\"].bin;\n",
    "\n",
    "async function deploy() {\n",
    "    const accounts = await web3.eth.getAccounts();\n",
    "    console.log(\"Deploying the contract from \" + accounts[0]);\n",
    "    var deployed = await new web3.eth.Contract(_abiArray)\n",
    "        .deploy({data: _bin})\n",
    "        .send({from: accounts[0], gas: 1000000}, function(err, transactionHash) {\n",
    "            if(!err) console.log(\"hash: \" + transactionHash); \n",
    "        })\n",
    "    console.log(\"---> The contract deployed to: \" + deployed.options.address)\n",
    "}\n",
    "\n",
    "deploy()"
   ]
  },
  {
   "cell_type": "code",
   "execution_count": 58,
   "id": "5824f88e",
   "metadata": {},
   "outputs": [
    {
     "name": "stdout",
     "output_type": "stream",
     "text": [
      "Deploying the contract from 0x6D7f1aB42e1Ea2E20198398fFAbB10C0ee6fE2AF\n",
      "hash: 0x1322d519095f80395e4b8904731d7f94a1e213829a425b68549b4cd56a264c9a\n",
      "---> The contract deployed to: 0x1dEe4aE1a09255d1200b52a7a6c4A10f155d69D9\n"
     ]
    }
   ],
   "source": [
    "!node src/AreaDeploy.js"
   ]
  },
  {
   "cell_type": "markdown",
   "id": "5d6826ac",
   "metadata": {},
   "source": [
    "## 4단계 사용"
   ]
  },
  {
   "cell_type": "code",
   "execution_count": 59,
   "id": "dd41c7c2",
   "metadata": {},
   "outputs": [
    {
     "name": "stdout",
     "output_type": "stream",
     "text": [
      "Overwriting src/AreaUse.js\n"
     ]
    }
   ],
   "source": [
    "%%writefile src/AreaUse.js\n",
    "var Web3=require('web3');\n",
    "var web3=new Web3(new Web3.providers.HttpProvider(\"http://localhost:8345\"));       //nok\n",
    "//var web3 = new Web3(new Web3.providers.WebsocketProvider(\"http://117.16.44.45:8345\"));  //ok\n",
    "//var web3 = new Web3(new Web3.providers.WebsocketProvider(\"ws://117.16.44.45:8345\"));  //ok\n",
    "var fs=require('fs');\n",
    "var _str = fs.readFileSync(\"src/Area.json\");\n",
    "var _json = JSON.parse(_str)\n",
    "\n",
    "var _abiArray = JSON.parse(_json.contracts[\"src/Area.sol:Area\"].abi);\n",
    "\n",
    "async function doIt() {\n",
    "    var hello = new web3.eth.Contract(_abiArray, \"0x1dEe4aE1a09255d1200b52a7a6c4A10f155d69D9\");\n",
    "    const accounts = await web3.eth.getAccounts();\n",
    "    console.log(\"Account: \" + accounts[0]);\n",
    "    const balanceBefore = await web3.eth.getBalance(accounts[0]);\n",
    "    console.log(\"\\nBalance before: \" + balanceBefore);\n",
    "    // do by the Square address as set in the constructor\n",
    "    hello.methods.getAddressOfSquare().call(function(err, c1addr) {\n",
    "        if(!err) console.log(\"\\n>> Square address by 'new': \"+c1addr);\n",
    "    });\n",
    "    await hello.methods.setLength(10).send({from: accounts[0]});\n",
    "    hello.methods.getLength().call().then(console.log);\n",
    "    hello.methods.calcArea().call().then(console.log);\n",
    "    hello.methods.getDegree().call().then(console.log);\n",
    "    hello.methods.getAddressOfSquare().call().then(console.log);\n",
    "    //redo by the Square address as changed by changeSquare()\n",
    "    await hello.methods.changeSquare('0xEd991B6B8D57e57fec47F41694e6781Fc1c57960').send({from: accounts[0]});\n",
    "    hello.methods.getAddressOfSquare().call(function(err, c1addr) {\n",
    "        if(!err) console.log(\"\\n>> Square address by 'changeSquare: \"+c1addr);\n",
    "    });\n",
    "    await hello.methods.setLength(10).send({from: accounts[0]});\n",
    "    hello.methods.getLength().call().then(console.log);\n",
    "    hello.methods.calcArea().call().then(console.log);\n",
    "    hello.methods.getDegree().call().then(console.log);\n",
    "    hello.methods.getAddressOfSquare().call().then(console.log);\n",
    "    const balanceAfter = await web3.eth.getBalance(accounts[0]);\n",
    "    console.log(\"\\n Balance after: \" + balanceAfter);\n",
    "    console.log(\"Balance diff: \" + (balanceBefore - balanceAfter));\n",
    "}\n",
    "\n",
    "doIt()"
   ]
  },
  {
   "cell_type": "markdown",
   "id": "73d5d3b6",
   "metadata": {},
   "source": [
    "* 3: 이벤트를 출력하는 것은 이미 해보았고, 여기서는 사각형 주소 교체가 주목적이므로 그냥 Http를 사용하자.\n",
    "* 19: 생성자에서 할당된 Square 주소, 즉 import ./Square.sol에서 가져온 new Square()의 주소. 주소 없이 new Square()라고 해도 문제없이 실행이 된다. 즉, import문을 사용하면 주소없이 컨트랙을 생성해서 사용할 수 있다는 의미이다.\n",
    "* 22: 길이 설정 후에\n",
    "* 24: 설정된 길이로 면적을 계산\n",
    "* 28: SquareArea.sol의 배포 주소\n",
    " * 첫 번째 getAddressOfSquare() 함수는 new 명령어로 생성된 사각형의 주소를 출력한다.\n",
    " * changeSquare() 후 두 번째 getAddressOfSquare()는 web3에서 주입한 사각형의 주소(앞의 예제에서 획득)를 출력한다."
   ]
  },
  {
   "cell_type": "code",
   "execution_count": 60,
   "id": "9f94a48f",
   "metadata": {},
   "outputs": [
    {
     "name": "stdout",
     "output_type": "stream",
     "text": [
      "Account: 0x6D7f1aB42e1Ea2E20198398fFAbB10C0ee6fE2AF\n",
      "\n",
      "Balance before: 999981565092000000000\n",
      "\n",
      ">> Square address by 'new': 0x46B418C2DDfB86016Ef924BE39995fC58bb6AcD9\n",
      "0x46B418C2DDfB86016Ef924BE39995fC58bb6AcD9\n",
      "90\n",
      "10\n",
      "100\n",
      "\n",
      ">> Square address by 'changeSquare: 0xEd991B6B8D57e57fec47F41694e6781Fc1c57960\n",
      "\n",
      " Balance after: 999981345186000000000\n",
      "Balance diff: 219906000027648\n",
      "0xEd991B6B8D57e57fec47F41694e6781Fc1c57960\n",
      "90\n",
      "10\n",
      "100\n"
     ]
    }
   ],
   "source": [
    "!node src/AreaUse.js"
   ]
  },
  {
   "cell_type": "code",
   "execution_count": null,
   "id": "a1b81492",
   "metadata": {},
   "outputs": [],
   "source": []
  }
 ],
 "metadata": {
  "kernelspec": {
   "display_name": "Python 3",
   "language": "python",
   "name": "python3"
  },
  "language_info": {
   "codemirror_mode": {
    "name": "ipython",
    "version": 3
   },
   "file_extension": ".py",
   "mimetype": "text/x-python",
   "name": "python",
   "nbconvert_exporter": "python",
   "pygments_lexer": "ipython3",
   "version": "3.8.8"
  }
 },
 "nbformat": 4,
 "nbformat_minor": 5
}
