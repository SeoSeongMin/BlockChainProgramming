{
 "cells": [
  {
   "cell_type": "markdown",
   "id": "5cc0f1b8",
   "metadata": {},
   "source": [
    "## 연결작업"
   ]
  },
  {
   "cell_type": "code",
   "execution_count": 20,
   "id": "0bc130fe",
   "metadata": {},
   "outputs": [],
   "source": [
    "from web3 import Web3\n",
    "import json"
   ]
  },
  {
   "cell_type": "markdown",
   "id": "f49e154f",
   "metadata": {},
   "source": [
    "## 1) 다양한 문법 정리"
   ]
  },
  {
   "cell_type": "code",
   "execution_count": 73,
   "id": "28a8804e",
   "metadata": {},
   "outputs": [
    {
     "name": "stdout",
     "output_type": "stream",
     "text": [
      "Overwriting src/organize.js\n"
     ]
    }
   ],
   "source": [
    "%%writefile src/organize.js\n",
    "var Web3 = require('web3');\n",
    "var web3 = new Web3(new Web3.providers.HttpProvider(\"http://localhost:8345\"))\n",
    "var account;\n",
    "\n",
    "async function sendEth(){\n",
    "    ac = await web3.eth.getAccounts();\n",
    "    \n",
    "    // 1) Ganachi 계정 주소 출력\n",
    "    console.log(\"1) Ganachi account address\");\n",
    "    console.log(\" ac0 : \" + ac[0]);\n",
    "    console.log(\" ac1 : \" + ac[1]);\n",
    "    \n",
    "    // 2) Ganachi 계정 금액 출력\n",
    "    var balac0 = await web3.eth.getBalance(ac[0]);\n",
    "    var balac1 = await web3.eth.getBalance(ac[1]);\n",
    "    console.log(\"\\n 2) Ganachi account bal\");\n",
    "    console.log(\"bal of ac0 : \" + balac0);\n",
    "    console.log(\"bal of ac1 : \" + balac1);\n",
    "    \n",
    "    // 3) 0번째 계정에서 1번째 계정으로 1111 wei 만큼송금(callback 함수에서)\n",
    "    var hashObj = await web3.eth.sendTransaction({from:ac[0], to:ac[1], value:1111}, function(err, hash){\n",
    "        console.log(\"\\n 3) Account ac[0] -> ac[1] transaction\");\n",
    "        console.log(\"callback sending ac0 -> ac1 hash: \" + hash);\n",
    "    });\n",
    "    \n",
    "    // 4) 송금했던 Hash 출력\n",
    "    console.log(\"\\n4) Hash Obj\");\n",
    "    console.log(\"transactionHash: \"+hashObj.transactionHash);\n",
    "    \n",
    "    // 5) Gas costs 출력\n",
    "    var trObj = await web3.eth.getTransaction(hashObj.transactionHash);\n",
    "    console.log(\"\\n 5) gas costs\");\n",
    "    console.log(\"gas costs : \" + trObj.gas * trObj.gasPrice);\n",
    "    \n",
    "    // 6) nonce 값 출력\n",
    "    console.log(\"\\n 6) nonce \");\n",
    "    console.log(\"nonce : \"+trObj.nonce);\n",
    "    \n",
    "    // 7) 금액차이 출력\n",
    "    var balDiff0 = balac0 - await web3.eth.getBalance(ac[0]);\n",
    "    console.log(\"\\n 7) bal diff\");\n",
    "    console.log(\"bal diff : \"+balDiff0);\n",
    "    \n",
    "    // 8) 잔고의 합계를 더하는 과정 출력\n",
    "    var sum = 0;\n",
    "    console.log(\"\\n 8) adding balance\");\n",
    "    for(let i=0; i<ac.length; i++){\n",
    "        bal = await web3.eth.getBalance(ac[i]);\n",
    "        console.log(\"sum: \"+ sum +\"adding \" + i + \"bal:\" + bal);\n",
    "        sum += parseInt(bal);\n",
    "    }\n",
    "    \n",
    "    // 9) 잔고 합계 출력\n",
    "    console.log(\"\\n 9) total account Balance\");\n",
    "    console.log(\"balance total: \" + sum);\n",
    "    \n",
    "    // 10) block 출력\n",
    "    var tr = await web3.eth.getTransaction(hashObj.transactionHash);\n",
    "    console.log(\"\\n 10) Block Infomation \");\n",
    "    console.log(tr);\n",
    "} \n",
    "\n",
    "sendEth()"
   ]
  },
  {
   "cell_type": "code",
   "execution_count": 74,
   "id": "78520845",
   "metadata": {},
   "outputs": [
    {
     "name": "stdout",
     "output_type": "stream",
     "text": [
      "1) Ganachi account address\n",
      " ac0 : 0xfcd386EABDd83dD20c6845BF9d3FA1d26AFf8454\n",
      " ac1 : 0xA5FdD9252E8ccB4F7F2524eEF53B3958a33Fea99\n",
      "\n",
      " 2) Ganachi account bal\n",
      "bal of ac0 : 999999663999999991112\n",
      "bal of ac1 : 1000000000000000008888\n",
      "\n",
      " 3) Account ac[0] -> ac[1] transaction\n",
      "callback sending ac0 -> ac1 hash: 0x2241eee7dda71003d8cbf1299987b4f678d135567f5ac8eebc5e72a776c4fd97\n",
      "\n",
      "4) Hash Obj\n",
      "transactionHash: 0x2241eee7dda71003d8cbf1299987b4f678d135567f5ac8eebc5e72a776c4fd97\n",
      "\n",
      " 5) gas costs\n",
      "gas costs : 180000000000000\n",
      "\n",
      " 6) nonce \n",
      "nonce : 8\n",
      "\n",
      " 7) bal diff\n",
      "bal diff : 41999999959040\n",
      "\n",
      " 8) adding balance\n",
      "sum: 0adding 0bal:999999621999999990001\n",
      "sum: 999999622000000000000adding 1bal:1000000000000000009999\n",
      "sum: 1.999999622e+21adding 2bal:1000000000000000000000\n",
      "sum: 2.999999622e+21adding 3bal:1000000000000000000000\n",
      "sum: 3.999999622e+21adding 4bal:1000000000000000000000\n",
      "sum: 4.999999622e+21adding 5bal:1000000000000000000000\n",
      "sum: 5.999999622e+21adding 6bal:1000000000000000000000\n",
      "sum: 6.999999622e+21adding 7bal:1000000000000000000000\n",
      "sum: 7.999999622e+21adding 8bal:1000000000000000000000\n",
      "sum: 8.999999622e+21adding 9bal:1000000000000000000000\n",
      "\n",
      " 9) total account Balance\n",
      "balance total: 9.999999622e+21\n",
      "\n",
      " 10) Block Infomation \n",
      "{\n",
      "  hash: '0x2241eee7dda71003d8cbf1299987b4f678d135567f5ac8eebc5e72a776c4fd97',\n",
      "  type: '0x0',\n",
      "  nonce: 8,\n",
      "  blockHash: '0xf493dfa55228c4ec646757b20c1cbc23a63fa0cf0c683f7d1b814813f966b520',\n",
      "  blockNumber: 9,\n",
      "  transactionIndex: 0,\n",
      "  from: '0xfcd386EABDd83dD20c6845BF9d3FA1d26AFf8454',\n",
      "  to: '0xA5FdD9252E8ccB4F7F2524eEF53B3958a33Fea99',\n",
      "  value: '1111',\n",
      "  gas: 90000,\n",
      "  gasPrice: '2000000000',\n",
      "  input: '0x',\n",
      "  v: '0xa96',\n",
      "  r: '0x20cd002a1306a7c6315a378ad547b5674b1fb8294e5d832d810d7fc948d3fb11',\n",
      "  s: '0x1e16cdfe52576523f8e4993b632c02dd8e04249f725993cbb9e59324aaa6bcd1'\n",
      "}\n"
     ]
    }
   ],
   "source": [
    "!node src/organize.js"
   ]
  },
  {
   "cell_type": "code",
   "execution_count": null,
   "id": "0e4a4011",
   "metadata": {},
   "outputs": [],
   "source": []
  }
 ],
 "metadata": {
  "kernelspec": {
   "display_name": "Python 3",
   "language": "python",
   "name": "python3"
  },
  "language_info": {
   "codemirror_mode": {
    "name": "ipython",
    "version": 3
   },
   "file_extension": ".py",
   "mimetype": "text/x-python",
   "name": "python",
   "nbconvert_exporter": "python",
   "pygments_lexer": "ipython3",
   "version": "3.8.8"
  }
 },
 "nbformat": 4,
 "nbformat_minor": 5
}
