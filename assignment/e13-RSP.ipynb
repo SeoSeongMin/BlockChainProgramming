{
 "cells": [
  {
   "cell_type": "markdown",
   "id": "05f464bc",
   "metadata": {},
   "source": [
    "# 연습문제 Rsp"
   ]
  },
  {
   "cell_type": "markdown",
   "id": "b70bfc88",
   "metadata": {},
   "source": [
    "A, B 2인의 가위바위보 후 내기금액을 이긴 사람에게 지급하는 게임을 블록체인에 개발하세요.\n",
    "\n",
    "게임 컨트랙은 Rsp, 구현할 함수는 다음과 같다. 그 외 필요로 하는 함수는 추가할 수 있다.\n",
    "\n",
    "* setA : \t무작위로 가위, 바위, 보를 생성하고, 설정한다. 1000 wei씩 금액을 건다.\n",
    "* setB\t: 외부에서 직접 입력하여 설정한다. 1000 wei씩 금액을 건다.\n",
    "* play :\t가위, 바위, 보의 승패를 정한다.\n",
    "* distributeBetAmount : \t이긴 측에게 내기 금액을 분배한다. A가 이기면 B의 내기 금액 1000 wei를 가지게 된다.\n",
    "* getMatchResult()\t: \"A wins\", \"B wins\", \"tie\" 결과를 출력"
   ]
  },
  {
   "cell_type": "markdown",
   "id": "e82f5e17",
   "metadata": {},
   "source": [
    "ganache@8345에서 게임을 다음과 같이 진행하세요.\n",
    "\n",
    "* 게임 전의 A잔고, B잔고, 컨트랙 잔고 출력\n",
    "\n",
    "* A가 내기금액 걸고, 컴퓨터에서 무작위로 선택한 가위바위보\n",
    "\n",
    "* B가 내기금액 걸고, 사용자가 입력한 가위바위보\n",
    "\n",
    "* 승부내기\n",
    "\n",
    "* 누가 이겼는지 출력\n",
    "\n",
    "* 게임 끝나고 A잔고, B잔고, 컨트랙 잔고 출력"
   ]
  },
  {
   "cell_type": "markdown",
   "id": "50ea6f89",
   "metadata": {},
   "source": [
    "## 1단계 개발"
   ]
  },
  {
   "cell_type": "code",
   "execution_count": 4,
   "id": "e81ce99c",
   "metadata": {},
   "outputs": [
    {
     "name": "stdout",
     "output_type": "stream",
     "text": [
      "Overwriting src/Rsp.sol\n"
     ]
    }
   ],
   "source": [
    "%%writefile src/Rsp.sol\n",
    "pragma solidity >= 0.6.4;\n",
    "\n",
    "contract Rsp{\n",
    "    address owner; //A player\n",
    "    address addrB; //B player\n",
    "    uint8 rspA;    //0:rock 1:scissors 2:paper\n",
    "    uint8 rspB;    //0:rock 1:scissors 2:paper\n",
    "    int8 result;   //0:tie  1:A wins   2:B wins\n",
    "    uint betting;\n",
    "    \n",
    "    mapping(address=>uint) balanceOf;\n",
    "    constructor() public{\n",
    "        owner = msg.sender; //owner account\n",
    "        betting = 0;        //betting counting\n",
    "        result = -1;        //strat is mius, this game result\n",
    "    }\n",
    "    \n",
    "    function deposit(uint amount, address _addrB) payable public onlyOwner{\n",
    "        require(msg.value == amount); //if owner account == amount\n",
    "        balanceOf[owner] += amount;   //continue plus\n",
    "        addrB = _addrB;               //Player B's account\n",
    "        balanceOf[addrB] += amount;\n",
    "    }\n",
    "    function getBalanceAll() view public returns(uint, uint, uint){\n",
    "        return (balanceOf[owner], balanceOf[addrB], address(this).balance);//return all player account\n",
    "    }\n",
    "    function setA(uint amount) public onlyOwner{\n",
    "        require(balanceOf[owner] >= amount);\n",
    "        rspA = uint8(uint256(keccak256(abi.encodePacked(block.timestamp, block.difficulty)))%3); //0 or 1 or 2\n",
    "        balanceOf[owner] -= amount; //owner's account amount, mius\n",
    "        betting += amount;          //betting's all money\n",
    "     }\n",
    "    function setB(uint8 _rsp, uint amount) public onlyOwner{\n",
    "        require(balanceOf[addrB] >= amount);\n",
    "        rspB = _rsp;\n",
    "        balanceOf[addrB] -= amount;\n",
    "        betting += amount;\n",
    "    }\n",
    "    function play() public{\n",
    "        if (rspA == rspB){\n",
    "            result = 0; //tie\n",
    "        }\n",
    "        else if ((rspA==0 && rspB==1) || (rspA==1 && rspB==2) || (rspA==2 && rspB==0)){\n",
    "            result = 1; //A wins\n",
    "        }\n",
    "        else{\n",
    "            result = 2; //B wins\n",
    "        }\n",
    "    }\n",
    "    function distributeBetAmount() payable public{\n",
    "        if (result == 1){      // A wins\n",
    "            balanceOf[owner] += betting;\n",
    "        }\n",
    "        else if(result == 2){ // B wins\n",
    "            balanceOf[addrB] += betting;\n",
    "        }\n",
    "        else{                  // tie\n",
    "            balanceOf[owner] += betting/2;\n",
    "            balanceOf[addrB] += betting/2;\n",
    "        }\n",
    "        betting = 0;\n",
    "    }\n",
    "    function getMatchResult() view public returns(string memory){\n",
    "        string memory ret = \"\";\n",
    "        \n",
    "        if(result == 0){\n",
    "            ret = \"tie\";\n",
    "        }\n",
    "        else if(result == 1){\n",
    "            ret = \"A wins\";\n",
    "        }\n",
    "        else if(result == 2){\n",
    "            ret = \"B wins\";\n",
    "        }\n",
    "        return ret;\n",
    "    }\n",
    "    modifier onlyOwner{\n",
    "        require(msg.sender == owner);\n",
    "        _;\n",
    "    }\n",
    "}"
   ]
  },
  {
   "cell_type": "markdown",
   "id": "ce9d4ddc",
   "metadata": {},
   "source": [
    "## 2단계 컴파일"
   ]
  },
  {
   "cell_type": "code",
   "execution_count": 5,
   "id": "a1eb72a1",
   "metadata": {},
   "outputs": [
    {
     "name": "stdout",
     "output_type": "stream",
     "text": [
      "\n",
      "======= src/Rsp.sol:Rsp =======\n",
      "Gas estimation:\n",
      "construction:\n",
      "   47469 + 628400 = 675869\n",
      "external:\n",
      "   deposit(uint256,address):\t65539\n",
      "   distributeBetAmount():\t52170\n",
      "   getBalanceAll():\t3780\n",
      "   getMatchResult():\tinfinite\n",
      "   play():\t28418\n",
      "   setA(uint256):\t66616\n",
      "   setB(uint8,uint256):\t66438\n",
      "Binary:\n",
      "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\n",
      "Contract JSON ABI\n",
      "[{\"inputs\":[],\"stateMutability\":\"nonpayable\",\"type\":\"constructor\"},{\"inputs\":[{\"internalType\":\"uint256\",\"name\":\"amount\",\"type\":\"uint256\"},{\"internalType\":\"address\",\"name\":\"_addrB\",\"type\":\"address\"}],\"name\":\"deposit\",\"outputs\":[],\"stateMutability\":\"payable\",\"type\":\"function\"},{\"inputs\":[],\"name\":\"distributeBetAmount\",\"outputs\":[],\"stateMutability\":\"payable\",\"type\":\"function\"},{\"inputs\":[],\"name\":\"getBalanceAll\",\"outputs\":[{\"internalType\":\"uint256\",\"name\":\"\",\"type\":\"uint256\"},{\"internalType\":\"uint256\",\"name\":\"\",\"type\":\"uint256\"},{\"internalType\":\"uint256\",\"name\":\"\",\"type\":\"uint256\"}],\"stateMutability\":\"view\",\"type\":\"function\"},{\"inputs\":[],\"name\":\"getMatchResult\",\"outputs\":[{\"internalType\":\"string\",\"name\":\"\",\"type\":\"string\"}],\"stateMutability\":\"view\",\"type\":\"function\"},{\"inputs\":[],\"name\":\"play\",\"outputs\":[],\"stateMutability\":\"nonpayable\",\"type\":\"function\"},{\"inputs\":[{\"internalType\":\"uint256\",\"name\":\"amount\",\"type\":\"uint256\"}],\"name\":\"setA\",\"outputs\":[],\"stateMutability\":\"nonpayable\",\"type\":\"function\"},{\"inputs\":[{\"internalType\":\"uint8\",\"name\":\"_rsp\",\"type\":\"uint8\"},{\"internalType\":\"uint256\",\"name\":\"amount\",\"type\":\"uint256\"}],\"name\":\"setB\",\"outputs\":[],\"stateMutability\":\"nonpayable\",\"type\":\"function\"}]\n"
     ]
    }
   ],
   "source": [
    "!solc --abi --bin --gas src/Rsp.sol"
   ]
  },
  {
   "cell_type": "markdown",
   "id": "94cee146",
   "metadata": {},
   "source": [
    "## 3단계 배포"
   ]
  },
  {
   "cell_type": "code",
   "execution_count": 6,
   "id": "21c2227d",
   "metadata": {},
   "outputs": [
    {
     "name": "stdout",
     "output_type": "stream",
     "text": [
      "Writing src/RspDeploy.js\n"
     ]
    }
   ],
   "source": [
    "%%writefile src/RspDeploy.js\n",
    "var Web3 = require('web3');\n",
    "var web3;\n",
    "if(typeof web3 != 'undefined'){\n",
    "    web3 = new Web3(web3.currentProvider);\n",
    "}\n",
    "else{\n",
    "    web3 = new Web3(new Web3.providers.HttpProvider(\"http://localhost:8345\"));\n",
    "}\n",
    "\n",
    "var _abi = [{\"inputs\":[],\"stateMutability\":\"nonpayable\",\"type\":\"constructor\"},{\"inputs\":[{\"internalType\":\"uint256\",\"name\":\"amount\",\"type\":\"uint256\"},{\"internalType\":\"address\",\"name\":\"_addrB\",\"type\":\"address\"}],\"name\":\"deposit\",\"outputs\":[],\"stateMutability\":\"payable\",\"type\":\"function\"},{\"inputs\":[],\"name\":\"distributeBetAmount\",\"outputs\":[],\"stateMutability\":\"payable\",\"type\":\"function\"},{\"inputs\":[],\"name\":\"getBalanceAll\",\"outputs\":[{\"internalType\":\"uint256\",\"name\":\"\",\"type\":\"uint256\"},{\"internalType\":\"uint256\",\"name\":\"\",\"type\":\"uint256\"},{\"internalType\":\"uint256\",\"name\":\"\",\"type\":\"uint256\"}],\"stateMutability\":\"view\",\"type\":\"function\"},{\"inputs\":[],\"name\":\"getMatchResult\",\"outputs\":[{\"internalType\":\"string\",\"name\":\"\",\"type\":\"string\"}],\"stateMutability\":\"view\",\"type\":\"function\"},{\"inputs\":[],\"name\":\"play\",\"outputs\":[],\"stateMutability\":\"nonpayable\",\"type\":\"function\"},{\"inputs\":[{\"internalType\":\"uint256\",\"name\":\"amount\",\"type\":\"uint256\"}],\"name\":\"setA\",\"outputs\":[],\"stateMutability\":\"nonpayable\",\"type\":\"function\"},{\"inputs\":[{\"internalType\":\"uint8\",\"name\":\"_rsp\",\"type\":\"uint8\"},{\"internalType\":\"uint256\",\"name\":\"amount\",\"type\":\"uint256\"}],\"name\":\"setB\",\"outputs\":[],\"stateMutability\":\"nonpayable\",\"type\":\"function\"}];\n",
    "var _bin = \"0x\"+\"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\";\n",
    "\n",
    "async function deploy(){\n",
    "    const accounts = await web3.eth.getAccounts();              //web3's all accounts\n",
    "    console.log(\"Deploying the contract from: \" + accounts[0]); //fisrt account\n",
    "    var deployed = await new web3.eth.Contract(_abi)\n",
    "        .deploy({data:_bin})\n",
    "        .send({from:accounts[0], gas:1000000}, function(err, transactionHash){\n",
    "            if(!err){\n",
    "                console.log(\"hash: \"+transactionHash);\n",
    "            }\n",
    "        });\n",
    "    console.log(\"The contract deployed to: \"+deployed.options.address)\n",
    "}\n",
    "deploy()"
   ]
  },
  {
   "cell_type": "code",
   "execution_count": 7,
   "id": "c8e4e655",
   "metadata": {},
   "outputs": [
    {
     "name": "stdout",
     "output_type": "stream",
     "text": [
      "Deploying the contract from: 0x6D7f1aB42e1Ea2E20198398fFAbB10C0ee6fE2AF\n",
      "hash: 0x174a0f0f49da76455440d8a6dae9104150baf4710ad6ea00b3cc026c745b601c\n",
      "The contract deployed to: 0x0cAA5152F22c847b4F6366959E5bEB5fdA997215\n"
     ]
    }
   ],
   "source": [
    "!node src/RspDeploy.js"
   ]
  },
  {
   "cell_type": "markdown",
   "id": "6cdcba5b",
   "metadata": {},
   "source": [
    "## 4단계 사용"
   ]
  },
  {
   "cell_type": "code",
   "execution_count": 17,
   "id": "34e78f73",
   "metadata": {
    "scrolled": true
   },
   "outputs": [
    {
     "name": "stdout",
     "output_type": "stream",
     "text": [
      "Overwriting src/RspUse.js\n"
     ]
    }
   ],
   "source": [
    "%%writefile src/RspUse.js\n",
    "var Web3 = require('web3');\n",
    "var web3 = new Web3(new Web3.providers.HttpProvider(\"http://localhost:8345\"));\n",
    "\n",
    "var _abi = [{\"inputs\":[],\"stateMutability\":\"nonpayable\",\"type\":\"constructor\"},{\"inputs\":[{\"internalType\":\"uint256\",\"name\":\"amount\",\"type\":\"uint256\"},{\"internalType\":\"address\",\"name\":\"_addrB\",\"type\":\"address\"}],\"name\":\"deposit\",\"outputs\":[],\"stateMutability\":\"payable\",\"type\":\"function\"},{\"inputs\":[],\"name\":\"distributeBetAmount\",\"outputs\":[],\"stateMutability\":\"payable\",\"type\":\"function\"},{\"inputs\":[],\"name\":\"getBalanceAll\",\"outputs\":[{\"internalType\":\"uint256\",\"name\":\"\",\"type\":\"uint256\"},{\"internalType\":\"uint256\",\"name\":\"\",\"type\":\"uint256\"},{\"internalType\":\"uint256\",\"name\":\"\",\"type\":\"uint256\"}],\"stateMutability\":\"view\",\"type\":\"function\"},{\"inputs\":[],\"name\":\"getMatchResult\",\"outputs\":[{\"internalType\":\"string\",\"name\":\"\",\"type\":\"string\"}],\"stateMutability\":\"view\",\"type\":\"function\"},{\"inputs\":[],\"name\":\"play\",\"outputs\":[],\"stateMutability\":\"nonpayable\",\"type\":\"function\"},{\"inputs\":[{\"internalType\":\"uint256\",\"name\":\"amount\",\"type\":\"uint256\"}],\"name\":\"setA\",\"outputs\":[],\"stateMutability\":\"nonpayable\",\"type\":\"function\"},{\"inputs\":[{\"internalType\":\"uint8\",\"name\":\"_rsp\",\"type\":\"uint8\"},{\"internalType\":\"uint256\",\"name\":\"amount\",\"type\":\"uint256\"}],\"name\":\"setB\",\"outputs\":[],\"stateMutability\":\"nonpayable\",\"type\":\"function\"}];\n",
    "var _rsp = new web3.eth.Contract(_abi, \"0x0cAA5152F22c847b4F6366959E5bEB5fdA997215\");\n",
    "\n",
    "async function dolt(){\n",
    "    const accounts = await web3.eth.getAccounts();  //ganache's all accounts\n",
    "    \n",
    "    // player A,B : setting 5000wei\n",
    "    await _rsp.methods.deposit(5000, accounts[1]).send({from:accounts[0], gas:100000, value:5000});\n",
    "    \n",
    "    // Before game : A, B's contract Accounts balanceOf print\n",
    "    _rsp.methods.getBalanceAll().call().then(function(v) {\n",
    "        console.log(\"Before play\\nA: \"+v[0]+\"  B: \"+v[1]+\"  contract: \"+v[2]+\"\\n\")\n",
    "    });\n",
    "                                             \n",
    "    // setA(betting amount) -> 1000\n",
    "    await _rsp.methods.setA(1000).send({from:accounts[0], gas:100000});\n",
    "    \n",
    "    // setB(select rsp && betting amount)\n",
    "    // rsp(0:rock, 1:scissors, 2:paper)\n",
    "    await _rsp.methods.setB(1, 1000).send({from:accounts[0], gas:100000});\n",
    "    \n",
    "    // winner or loser\n",
    "    await _rsp.methods.play().send({from:accounts[0], gas:100000});\n",
    "    \n",
    "    // print result\n",
    "    _rsp.methods.getMatchResult().call().then(console.log);\n",
    "    \n",
    "    // betting amount distribute\n",
    "    await _rsp.methods.distributeBetAmount().send({from:accounts[0], gas:100000});\n",
    "    \n",
    "    // After game : A,B's contract Accounts balanceOf print\n",
    "    _rsp.methods.getBalanceAll().call().then(function(v) {\n",
    "        console.log(\"\\nAfter play\\nA: \"+v[0]+\"  B: \"+v[1]+\"  contract: \"+v[2]+\"\\n\")\n",
    "    });\n",
    "}\n",
    "dolt()"
   ]
  },
  {
   "cell_type": "markdown",
   "id": "f286bbab",
   "metadata": {},
   "source": [
    "* A가 이겼을 때"
   ]
  },
  {
   "cell_type": "code",
   "execution_count": 18,
   "id": "10769603",
   "metadata": {
    "scrolled": true
   },
   "outputs": [
    {
     "name": "stdout",
     "output_type": "stream",
     "text": [
      "Before play\n",
      "A: 23000  B: 27000  contract: 25000\n",
      "\n",
      "A wins\n",
      "\n",
      "After play\n",
      "A: 24000  B: 26000  contract: 25000\n",
      "\n"
     ]
    }
   ],
   "source": [
    "!node src/RspUse.js"
   ]
  },
  {
   "cell_type": "markdown",
   "id": "36e25a35",
   "metadata": {},
   "source": [
    "* B가 이겼을 때"
   ]
  },
  {
   "cell_type": "code",
   "execution_count": 19,
   "id": "5f1650bf",
   "metadata": {},
   "outputs": [
    {
     "name": "stdout",
     "output_type": "stream",
     "text": [
      "Before play\n",
      "A: 29000  B: 31000  contract: 30000\n",
      "\n",
      "B wins\n",
      "\n",
      "After play\n",
      "A: 28000  B: 32000  contract: 30000\n",
      "\n"
     ]
    }
   ],
   "source": [
    "!node src/RspUse.js"
   ]
  },
  {
   "cell_type": "markdown",
   "id": "49458e2c",
   "metadata": {},
   "source": [
    "* 비겼을 때"
   ]
  },
  {
   "cell_type": "code",
   "execution_count": 20,
   "id": "67a4592b",
   "metadata": {
    "scrolled": true
   },
   "outputs": [
    {
     "name": "stdout",
     "output_type": "stream",
     "text": [
      "Before play\n",
      "A: 33000  B: 37000  contract: 35000\n",
      "\n",
      "tie\n",
      "\n",
      "After play\n",
      "A: 33000  B: 37000  contract: 35000\n",
      "\n"
     ]
    }
   ],
   "source": [
    "!node src/RspUse.js"
   ]
  },
  {
   "cell_type": "code",
   "execution_count": null,
   "id": "4c6bf556",
   "metadata": {},
   "outputs": [],
   "source": []
  }
 ],
 "metadata": {
  "kernelspec": {
   "display_name": "Python 3",
   "language": "python",
   "name": "python3"
  },
  "language_info": {
   "codemirror_mode": {
    "name": "ipython",
    "version": 3
   },
   "file_extension": ".py",
   "mimetype": "text/x-python",
   "name": "python",
   "nbconvert_exporter": "python",
   "pygments_lexer": "ipython3",
   "version": "3.8.8"
  }
 },
 "nbformat": 4,
 "nbformat_minor": 5
}
