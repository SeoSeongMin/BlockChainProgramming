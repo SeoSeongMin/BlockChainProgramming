{
 "cells": [
  {
   "cell_type": "code",
   "execution_count": 5,
   "id": "3b497e70",
   "metadata": {},
   "outputs": [
    {
     "name": "stdout",
     "output_type": "stream",
     "text": [
      "[\n",
      "  '0xc2D01E55fcC3A71785849921612F249d8f4bc5E9',\n",
      "  '0xF9519dAbA7946C6fD38F31E087cb97cd339dF056',\n",
      "  '0xCaC0837A3332d7575A1B35c4FDa34FbA8D51624D',\n",
      "  '0x01542C089919484708C5ccC431bbE66d9CB191e7',\n",
      "  '0xE08d97e1369a66B08C2C3C0311e2cFB8891dC8F8',\n",
      "  '0xbB085C8AD9Ead6e939aC109b64B5b4d8DD4825ce',\n",
      "  '0x28c3Ed393D2D2E539B04997D90C5c3851D875cE4',\n",
      "  '0x94c8470B620cCd0959614377f86bC8E1DD59c83D',\n",
      "  '0x63043959c7Cf24E5d6dfbA8F05CDcF27CD06d0B1',\n",
      "  '0x6Ff545b73669f5ab93E9f918C0Dd568FacD3e16f'\n",
      "]\n"
     ]
    }
   ],
   "source": [
    "!node src/getMyAddr.js"
   ]
  },
  {
   "cell_type": "markdown",
   "id": "4fce7aff",
   "metadata": {},
   "source": [
    "# 간단한 계수기\n",
    "* 1증감"
   ]
  },
  {
   "cell_type": "markdown",
   "id": "d9f8eadb",
   "metadata": {},
   "source": [
    "## 1단계 컨트랙 개발"
   ]
  },
  {
   "cell_type": "code",
   "execution_count": 3,
   "id": "b1139409",
   "metadata": {},
   "outputs": [
    {
     "name": "stdout",
     "output_type": "stream",
     "text": [
      "Writing src/PCounter.sol\n"
     ]
    }
   ],
   "source": [
    "%%writefile src/PCounter.sol\n",
    "pragma solidity ^0.4.25;\n",
    "contract Counter{\n",
    "    uint256 counter = 0;\n",
    "    \n",
    "    function add() public{\n",
    "        counter ++;\n",
    "    }\n",
    "    function subtract() public{\n",
    "        counter --;\n",
    "    }\n",
    "    function getCounter() public view returns (uint256){\n",
    "        return counter;\n",
    "    }\n",
    "}"
   ]
  },
  {
   "cell_type": "markdown",
   "id": "43d25cec",
   "metadata": {},
   "source": [
    "# 2단계 컴파일"
   ]
  },
  {
   "cell_type": "code",
   "execution_count": 4,
   "id": "75072666",
   "metadata": {},
   "outputs": [
    {
     "name": "stdout",
     "output_type": "stream",
     "text": [
      "\n",
      "======= src/PCounter.sol:Counter =======\n",
      "Gas estimation:\n",
      "construction:\n",
      "   5111 + 52000 = 57111\n",
      "external:\n",
      "   add():\t20370\n",
      "   getCounter():\t446\n",
      "   subtract():\t20395\n",
      "Binary: \n",
      "60806040526000805534801561001457600080fd5b50610104806100246000396000f3006080604052600436106053576000357c0100000000000000000000000000000000000000000000000000000000900463ffffffff1680634f2be91f1460585780636deebae314606c5780638ada066e146080575b600080fd5b348015606357600080fd5b50606a60a8565b005b348015607757600080fd5b50607e60bb565b005b348015608b57600080fd5b50609260cf565b6040518082815260200191505060405180910390f35b6000808154809291906001019190505550565b600080815480929190600190039190505550565b600080549050905600a165627a7a723058203ce0230f9965c333043756176663ae4f3041809c8ef474bb85bfb56c19b7c36f0029\n",
      "Contract JSON ABI \n",
      "[{\"constant\":false,\"inputs\":[],\"name\":\"add\",\"outputs\":[],\"payable\":false,\"stateMutability\":\"nonpayable\",\"type\":\"function\"},{\"constant\":false,\"inputs\":[],\"name\":\"subtract\",\"outputs\":[],\"payable\":false,\"stateMutability\":\"nonpayable\",\"type\":\"function\"},{\"constant\":true,\"inputs\":[],\"name\":\"getCounter\",\"outputs\":[{\"name\":\"\",\"type\":\"uint256\"}],\"payable\":false,\"stateMutability\":\"view\",\"type\":\"function\"}]\n"
     ]
    }
   ],
   "source": [
    "!solc --abi --bin --gas src/PCounter.sol"
   ]
  },
  {
   "cell_type": "markdown",
   "id": "dd2eed85",
   "metadata": {},
   "source": [
    "## 3단계 배포"
   ]
  },
  {
   "cell_type": "code",
   "execution_count": 7,
   "id": "e1f7f35e",
   "metadata": {},
   "outputs": [
    {
     "name": "stdout",
     "output_type": "stream",
     "text": [
      "Writing src/PCounterDeploy.js\n"
     ]
    }
   ],
   "source": [
    "%%writefile src/PCounterDeploy.js\n",
    "var Web3 = require('web3');\n",
    "var web3;\n",
    "if(typeof web3 !== 'undefined'){\n",
    "    web3 = new Web3(web3.currentProvider);\n",
    "}else{\n",
    "    web3 = new Web3(new Web3.providers.HttpProvider(\"http://localhost:8345\"));\n",
    "}\n",
    "\n",
    "var _abiArray=[{\"inputs\":[],\"name\":\"add\",\"outputs\":[],\"stateMutability\":\"nonpayable\",\"type\":\"function\"},{\"inputs\":[],\"name\":\"getCounter\",\"outputs\":[{\"internalType\":\"uint256\",\"name\":\"\",\"type\":\"uint256\"}],\"stateMutability\":\"view\",\"type\":\"function\"},{\"inputs\":[],\"name\":\"subtract\",\"outputs\":[],\"stateMutability\":\"nonpayable\",\"type\":\"function\"}];\n",
    "var _bin=\"60806040526000805534801561001457600080fd5b5060d3806100236000396000f3fe6080604052348015600f57600080fd5b5060043610603c5760003560e01c80634f2be91f1460415780636deebae31460495780638ada066e146051575b600080fd5b6047606d565b005b604f6080565b005b60576094565b6040518082815260200191505060405180910390f35b6000808154809291906001019190505550565b600080815480929190600190039190505550565b6000805490509056fea2646970667358221220a19d7e0374295c3c6dd75807d6b2bb20a12deb6f736a4ad98c0065f0d9d4bf5764736f6c63430006010033\";\n",
    "var _contract = new web3.eth.Contract(_abiArray);\n",
    "\n",
    "_contract\n",
    "    .deploy({data:\"0x\"+_bin})\n",
    "    .send({from: \"0xc2D01E55fcC3A71785849921612F249d8f4bc5E9\", gas: 364124, gasPrice: '1000000000'})\n",
    "    .then(function(newContractInstance){\n",
    "        console.log(newContractInstance.options.address) // instance with the new contract address\n",
    "    });"
   ]
  },
  {
   "cell_type": "code",
   "execution_count": 8,
   "id": "9a3a813b",
   "metadata": {},
   "outputs": [
    {
     "name": "stdout",
     "output_type": "stream",
     "text": [
      "0xA0Aa6B914De90C0b04fDBc582d93A012865C01a0\n"
     ]
    }
   ],
   "source": [
    "!node src/PCounterDeploy.js"
   ]
  },
  {
   "cell_type": "markdown",
   "id": "40148e30",
   "metadata": {},
   "source": [
    "## 4단계 사용"
   ]
  },
  {
   "cell_type": "code",
   "execution_count": 12,
   "id": "870761a3",
   "metadata": {},
   "outputs": [
    {
     "name": "stdout",
     "output_type": "stream",
     "text": [
      "Overwriting src/PCounterUse.js\n"
     ]
    }
   ],
   "source": [
    "%%writefile src/PCounterUse.js\n",
    "var Web3=require('web3');\n",
    "var web3 = new Web3(new Web3.providers.HttpProvider(\"http://localhost:8345\"));\n",
    "var abi =[{\"constant\":false,\"inputs\":[],\"name\":\"add\",\"outputs\":[],\"payable\":false,\"stateMutability\":\"nonpayable\",\"type\":\"function\"},{\"constant\":false,\"inputs\":[],\"name\":\"subtract\",\"outputs\":[],\"payable\":false,\"stateMutability\":\"nonpayable\",\"type\":\"function\"},{\"constant\":true,\"inputs\":[],\"name\":\"getCounter\",\"outputs\":[{\"name\":\"\",\"type\":\"uint256\"}],\"payable\":false,\"stateMutability\":\"view\",\"type\":\"function\"}];\n",
    "var addr = \"0xA0Aa6B914De90C0b04fDBc582d93A012865C01a0\";\n",
    "var counter = new web3.eth.Contract(abi,addr);\n",
    "\n",
    "counter.methods.getCounter().call().then(function(str) {console.log(str);});\n",
    "//counter.methods.subtract().send({from:\"0xc2D01E55fcC3A71785849921612F249d8f4bc5E9\",gas:100000});\n",
    "counter.methods.add().send({from:\"0xc2D01E55fcC3A71785849921612F249d8f4bc5E9\",gas:100000});\n",
    "counter.methods.add().send({from:\"0xc2D01E55fcC3A71785849921612F249d8f4bc5E9\",gas:100000});\n",
    "counter.methods.getCounter().call().then(function(str) {console.log(str);});"
   ]
  },
  {
   "cell_type": "code",
   "execution_count": 14,
   "id": "cde2fa01",
   "metadata": {},
   "outputs": [
    {
     "name": "stdout",
     "output_type": "stream",
     "text": [
      "4\n",
      "4\n"
     ]
    },
    {
     "name": "stderr",
     "output_type": "stream",
     "text": [
      "C:\\Users\\tjtjd\\Code\\201710933\\node_modules\\web3-core-helpers\\src\\errors.js:29\n",
      "        return new Error('Returned error: ' + message);\n",
      "               ^\n",
      "\n",
      "Error: Returned error: VM Exception while processing transaction: the tx doesn't have the correct nonce. account has nonce of: 9 tx has nonce of: 8 (vm hf=london -> block -> tx)\n",
      "    at Object.ErrorResponse (C:\\Users\\tjtjd\\Code\\201710933\\node_modules\\web3-core-helpers\\src\\errors.js:29:16)\n",
      "    at C:\\Users\\tjtjd\\Code\\201710933\\node_modules\\web3-core-requestmanager\\src\\index.js:140:36\n",
      "    at XMLHttpRequest.request.onreadystatechange (C:\\Users\\tjtjd\\Code\\201710933\\node_modules\\web3-providers-http\\src\\index.js:110:13)\n",
      "    at XMLHttpRequestEventTarget.dispatchEvent (C:\\Users\\tjtjd\\Code\\201710933\\node_modules\\xhr2-cookies\\dist\\xml-http-request-event-target.js:34:22)\n",
      "    at XMLHttpRequest._setReadyState (C:\\Users\\tjtjd\\Code\\201710933\\node_modules\\xhr2-cookies\\dist\\xml-http-request.js:208:14)\n",
      "    at XMLHttpRequest._onHttpResponseEnd (C:\\Users\\tjtjd\\Code\\201710933\\node_modules\\xhr2-cookies\\dist\\xml-http-request.js:318:14)\n",
      "    at IncomingMessage.<anonymous> (C:\\Users\\tjtjd\\Code\\201710933\\node_modules\\xhr2-cookies\\dist\\xml-http-request.js:289:61)\n",
      "    at IncomingMessage.emit (node:events:538:35)\n",
      "    at endReadableNT (node:internal/streams/readable:1345:12)\n",
      "    at processTicksAndRejections (node:internal/process/task_queues:83:21)\n"
     ]
    }
   ],
   "source": [
    "!node src/PCounterUse.js"
   ]
  },
  {
   "cell_type": "code",
   "execution_count": null,
   "id": "be006341",
   "metadata": {},
   "outputs": [],
   "source": []
  }
 ],
 "metadata": {
  "kernelspec": {
   "display_name": "Python 3",
   "language": "python",
   "name": "python3"
  },
  "language_info": {
   "codemirror_mode": {
    "name": "ipython",
    "version": 3
   },
   "file_extension": ".py",
   "mimetype": "text/x-python",
   "name": "python",
   "nbconvert_exporter": "python",
   "pygments_lexer": "ipython3",
   "version": "3.8.8"
  }
 },
 "nbformat": 4,
 "nbformat_minor": 5
}
